{
 "cells": [
  {
   "cell_type": "markdown",
   "metadata": {},
   "source": [
    "## Chap 10 - One-Sample Tests of Hypothesis"
   ]
  },
  {
   "cell_type": "code",
   "execution_count": 1,
   "metadata": {
    "ExecuteTime": {
     "end_time": "2019-10-20T15:35:34.854679Z",
     "start_time": "2019-10-20T15:35:33.414452Z"
    }
   },
   "outputs": [],
   "source": [
    "import pandas as pd\n",
    "import itertools\n",
    "import matplotlib.pyplot as plt\n",
    "import seaborn as sns\n",
    "import scipy as sp\n",
    "sns.set()\n",
    "\n",
    "import warnings\n",
    "warnings.simplefilter(action='ignore', category=FutureWarning)\n",
    "warnings.simplefilter(action='ignore', category=UserWarning)"
   ]
  },
  {
   "cell_type": "markdown",
   "metadata": {},
   "source": [
    "### 10.2\n",
    "\n",
    "<div class=\"alert alert-info\">\n",
    "<ul>\n",
    "<li>**HYPOTHESIS** - In statistical analyiss, a hypotheisis is a statement about a population parameter, subject to verification</li>\n",
    "</ul>\n",
    "</div>"
   ]
  },
  {
   "cell_type": "markdown",
   "metadata": {},
   "source": [
    "### 10.3\n",
    "\n",
    "<div class=\"alert alert-info\">\n",
    "<ul>\n",
    "<li>**HYPOTHESIS TESTING** - A procedure based on sample evidence and probability theory to determine whether the hypothesis is a reasonable statement.</li>\n",
    "</ul>\n",
    "</div>"
   ]
  },
  {
   "cell_type": "markdown",
   "metadata": {},
   "source": [
    "### 10.4\n",
    "\n",
    "Steps for testing a hypothesis:\n",
    "\n",
    "<p>1.State the null hypothesis, $H_0$. State the alternate hypothesis, $H_1$.</p>\n",
    "\n",
    "<div class=\"alert alert-info\">\n",
    "<ul>\n",
    "<li>**NULL HYPOTHESIS ($H_0$)** A statement about the value of a population parameter developed for the purpose of testing numerical evidence.</li>\n",
    "<li>**ALTERNATIVE HYPOTHESIS ($H_1$ or $H_A$)** A statement that is accepted if the sample data provide sufficient evidence that the null hypothesis is rejected.</li>\n",
    "</ul>\n",
    "</div>\n",
    "\n",
    "<p>2. Select a level of significance</p>\n",
    "\n",
    "<div class=\"alert alert-info\">\n",
    "<ul>\n",
    "<li>**LEVEL OF SIGNIFICANCE, $\\alpha$** The probability of rejecting the null hypothesis when it is true.</li>\n",
    "</ul>\n",
    "</div>\n",
    "<p>3. Identify the test statistic</p>\n",
    "<p>4. Formulate a decision rule</p>\n",
    "<p>5. Collect data, decide to reject $H_0$ based on the decision rule</p>\n",
    "\n",
    "<div class=\"alert alert-info\">\n",
    "<ul>\n",
    "<li>**TYPE I ERROR** - Rejecting the null hypothesis ($H_0$), when it is true.</li>\n",
    "<li>**TYPE II ERROR** - Not rejecting the null hypothesis ($H_0$), when it is false.</li>\n",
    "</ul>\n",
    "</div>"
   ]
  },
  {
   "cell_type": "markdown",
   "metadata": {},
   "source": [
    "In summary, the following are the possible outcomes of a statistical test:\n",
    "\n",
    "|Outcome (right) / <br/>Decision (down)| $H_0$ True | $H_0$ False\n",
    "|---|---|--\n",
    "|reject $H_0$ |Type I Error|OK\n",
    "|do not reject $H_0$ |OK|Type II Error"
   ]
  },
  {
   "cell_type": "markdown",
   "metadata": {
    "ExecuteTime": {
     "end_time": "2019-10-20T14:22:39.108668Z",
     "start_time": "2019-10-20T14:22:39.102367Z"
    }
   },
   "source": [
    "<div class=\"alert alert-success\">\n",
    "<p>**TESTING A MEAN, $\\sigma$ KNOWN**</p>\n",
    "<p>The test statistic, $z$ is computed by:\n",
    "$$z = \\frac{\\bar X - \\mu}{\\frac{\\sigma}{\\sqrt n}}$$\n",
    "where $\\bar X$ is the sample mean, $\\mu$ is the population mean, $\\sigma$ is the population standard deviation and $n$ is the no. of samples.\n",
    "</p>\n",
    "</div>\n",
    "\n",
    "In other words, we find the difference $\\bar X - \\mu$ and determine if it is statistically significant by calculating how many standard deviations is the size of this difference."
   ]
  },
  {
   "cell_type": "markdown",
   "metadata": {},
   "source": [
    "Reject if $z$ is less than the critical value\n",
    "<div class=\"alert alert-info\">\n",
    "<ul>\n",
    "<li>**CRITICAL VALUE** - The point that separates the decision rule of rejecting $H_0$ and not rejecting $H_0$ in favour of $H_1$.</li>\n",
    "</ul>\n",
    "</div>"
   ]
  },
  {
   "cell_type": "markdown",
   "metadata": {},
   "source": [
    "### 10.5\n",
    "\n",
    "In different business scenarios, a one-tailed test or a two-tailed test is employed. In one-tailed tests, the definition for $H_0$ and $H_1$ are:\n",
    "\n",
    "\\begin{align*}\n",
    " \\text{H}_0\\text{: }\\mu \\leq \\mu_0 \\text{ and } \\text{H}_\\text{1}\\text{: } \\mu > \\mu_0\\\\\n",
    " \\text{H}_0\\text{: }\\mu \\geq \\mu_0 \\text{ and } \\text{H}_\\text{1}\\text{: } \\mu < \\mu_0\n",
    "\\end{align*}\n",
    "\n",
    "and for two-tailed tests\n",
    "\n",
    "\\begin{align*}\n",
    " \\text{H}_0\\text{: }\\mu = \\mu_0 \\text{ and } \\text{H}_\\text{1}\\text{: } \\mu \\neq \\mu_0\n",
    "\\end{align*}\n",
    "\n",
    "Given $\\alpha$, it is important to determine the rejection region as they are all different.\n",
    "\n",
    "### 10.6"
   ]
  },
  {
   "cell_type": "markdown",
   "metadata": {},
   "source": [
    "#### Self Review 10.1\n",
    "\n",
    "Given that $X\\sim N(\\mu=16, \\sigma=0.15)$. A sample $n=50$ is taken and $\\bar X=16.017$.\n",
    "\n",
    "a) The null hypothesis $H_0: \\mu=16$ and the alternative hypothesis $H_a: \\mu \\neq 16$\n",
    "\n",
    "b) It is the given level of significance, $\\alpha=0.05$\n",
    "\n",
    "c) The formula for the test statistic is $z=\\frac{\\bar X - \\mu}{\\frac{\\sigma}{\\sqrt n}}$\n",
    "\n",
    "d) "
   ]
  },
  {
   "cell_type": "code",
   "execution_count": 2,
   "metadata": {
    "ExecuteTime": {
     "end_time": "2019-10-20T15:35:34.862553Z",
     "start_time": "2019-10-20T15:35:34.857051Z"
    }
   },
   "outputs": [
    {
     "name": "stdout",
     "output_type": "stream",
     "text": [
      "1.959963984540054\n"
     ]
    }
   ],
   "source": [
    "d1 = sp.stats.norm.ppf(0.975)\n",
    "print(d1)"
   ]
  },
  {
   "cell_type": "markdown",
   "metadata": {},
   "source": [
    "The decision rule is to reject $H_0$ if the calculated $z$-value is in the rejection region: $z>1.96$ or $z<-1.96$\n",
    "\n",
    "e) "
   ]
  },
  {
   "cell_type": "code",
   "execution_count": 3,
   "metadata": {
    "ExecuteTime": {
     "end_time": "2019-10-20T15:35:34.876352Z",
     "start_time": "2019-10-20T15:35:34.865135Z"
    }
   },
   "outputs": [
    {
     "name": "stdout",
     "output_type": "stream",
     "text": [
      "0.8013876853447285\n"
     ]
    }
   ],
   "source": [
    "mu1, sigma1 = 16, 0.15\n",
    "x_bar1, n1 = 16.017, 50\n",
    "z1 = (x_bar1-mu1)/(sigma1/n1**0.5)\n",
    "print(z1)"
   ]
  },
  {
   "cell_type": "markdown",
   "metadata": {},
   "source": [
    "The value of the test statistic is $0.801$\n",
    "\n",
    "f) Do not reject the null in favour of the alternate hypothesis\n",
    "\n",
    "g) We cannot conclude that the sample mean is significantly different from $16$.\n",
    "\n",
    "$\\diamond$"
   ]
  },
  {
   "cell_type": "markdown",
   "metadata": {},
   "source": [
    "Hypothesis testing is related to confidence intervals. In the example, it is given that $X \\sim N(\\mu=200, \\sigma=16)$. The sample mean for $n=50$ samples is $203.5$. The $z$-value is computed as:"
   ]
  },
  {
   "cell_type": "code",
   "execution_count": 4,
   "metadata": {
    "ExecuteTime": {
     "end_time": "2019-10-20T15:35:34.889445Z",
     "start_time": "2019-10-20T15:35:34.880774Z"
    }
   },
   "outputs": [
    {
     "name": "stdout",
     "output_type": "stream",
     "text": [
      "1.5467960838455728\n"
     ]
    }
   ],
   "source": [
    "mu_e5, sigma_e5 = 200, 16\n",
    "n_e5, xbar_e5 = 50, 203.5\n",
    "z_e5 = sp.stats.norm.ppf(0.995)\n",
    "calc_ze5 = (xbar_e5-mu_e5)/(sigma_e5/n_e5**0.5)\n",
    "print(calc_ze5)"
   ]
  },
  {
   "cell_type": "markdown",
   "metadata": {},
   "source": [
    "and so we don't reject the null with $\\alpha=0.01$. Also, take note that for this sample, the confidence interval is:"
   ]
  },
  {
   "cell_type": "code",
   "execution_count": 5,
   "metadata": {
    "ExecuteTime": {
     "end_time": "2019-10-20T15:35:34.897986Z",
     "start_time": "2019-10-20T15:35:34.891906Z"
    }
   },
   "outputs": [
    {
     "name": "stdout",
     "output_type": "stream",
     "text": [
      "[197.67156362330095, 209.32843637669905]\n"
     ]
    }
   ],
   "source": [
    "# X_bar +/- z * sigma/sqrt(n)\n",
    "intv_5 = z_e5*(sigma_e5/n_e5**0.5)\n",
    "print([xbar_e5 - intv_5, xbar_e5 + intv_5])"
   ]
  },
  {
   "cell_type": "markdown",
   "metadata": {},
   "source": [
    "and $\\mu=200$ is in the confidence interval. Hence, we can conclude that the population parameter is in reasonably $200$. Generally, $H_0$ is rejected if the confidence interval does not contain the hypothesized value."
   ]
  },
  {
   "cell_type": "markdown",
   "metadata": {
    "ExecuteTime": {
     "end_time": "2019-10-20T15:22:38.360639Z",
     "start_time": "2019-10-20T15:22:38.357470Z"
    }
   },
   "source": [
    "### 10.7\n",
    "\n",
    "<div class=\"alert alert-info\">\n",
    "<ul>\n",
    "<li>**$p$-value** - The probability of observing a sample as extreme as or more extreme than the value observed, given that the null hypothesis is true.</li>\n",
    "</ul>\n",
    "</div>"
   ]
  },
  {
   "cell_type": "markdown",
   "metadata": {},
   "source": [
    "#### Self Review 10.2\n",
    "\n",
    "a) Now, the null hypothesis $H_0: \\mu \\leq 16$ and the alternative hypothesis $H_a: \\mu > 16$\n",
    "\n",
    "b)"
   ]
  },
  {
   "cell_type": "code",
   "execution_count": 6,
   "metadata": {
    "ExecuteTime": {
     "end_time": "2019-10-20T15:35:34.906799Z",
     "start_time": "2019-10-20T15:35:34.901018Z"
    }
   },
   "outputs": [
    {
     "name": "stdout",
     "output_type": "stream",
     "text": [
      "1.6448536269514722\n"
     ]
    }
   ],
   "source": [
    "z2 = sp.stats.norm.ppf(0.95)\n",
    "print(z2)"
   ]
  },
  {
   "cell_type": "markdown",
   "metadata": {},
   "source": [
    "With $\\alpha=0.05$, the rejection region is $z > 1.645$. \n",
    "\n",
    "c) The new $z$-value is"
   ]
  },
  {
   "cell_type": "code",
   "execution_count": 7,
   "metadata": {
    "ExecuteTime": {
     "end_time": "2019-10-20T15:35:34.916971Z",
     "start_time": "2019-10-20T15:35:34.910335Z"
    }
   },
   "outputs": [
    {
     "name": "stdout",
     "output_type": "stream",
     "text": [
      "1.8856180831640867\n"
     ]
    }
   ],
   "source": [
    "x_bar2 = 16.040\n",
    "z2 = (x_bar2-mu1)/(sigma1/n1**0.5)\n",
    "print(z2)"
   ]
  },
  {
   "cell_type": "markdown",
   "metadata": {},
   "source": [
    "The value of the test statistic is $1.886$\n",
    "\n",
    "d) Reject the null in favour of the alternative hypothesis\n",
    "\n",
    "e) The mean amount dispensed is greater than 16.\n",
    "\n",
    "f) "
   ]
  },
  {
   "cell_type": "code",
   "execution_count": 8,
   "metadata": {
    "ExecuteTime": {
     "end_time": "2019-10-20T15:35:34.936118Z",
     "start_time": "2019-10-20T15:35:34.920454Z"
    }
   },
   "outputs": [
    {
     "data": {
      "text/plain": [
       "0.029673219395962642"
      ]
     },
     "execution_count": 8,
     "metadata": {},
     "output_type": "execute_result"
    }
   ],
   "source": [
    "sp.stats.norm.sf(z2)"
   ]
  },
  {
   "cell_type": "markdown",
   "metadata": {},
   "source": [
    "The $p$-value is $0.030$ and so reject the null in favour of the alternative at $\\alpha=0.05$. The conclusion is the same.\n",
    "\n",
    "$\\diamond$"
   ]
  },
  {
   "cell_type": "markdown",
   "metadata": {},
   "source": [
    "### 10.8\n",
    "\n",
    "<div class=\"alert alert-success\">\n",
    "<p>**TESTING A MEAN, $\\sigma$ UNKNOWN**</p>\n",
    "<p>The test statistic, now $t$ is computed by:\n",
    "$$t = \\frac{\\bar X - \\mu}{\\frac{\\s}{\\sqrt n}}$$\n",
    "where $\\bar X$ is the sample mean, $\\mu$ is the population mean, $s$ is the sample standard deviation and $n$ is the no. of samples.\n",
    "With $n-1$ degrees of freedom (df)\n",
    "</p>\n",
    "</div>"
   ]
  },
  {
   "cell_type": "markdown",
   "metadata": {},
   "source": [
    "#### Self Review 10.3"
   ]
  },
  {
   "cell_type": "code",
   "execution_count": null,
   "metadata": {},
   "outputs": [],
   "source": []
  },
  {
   "cell_type": "markdown",
   "metadata": {
    "ExecuteTime": {
     "end_time": "2019-10-19T06:47:13.019197Z",
     "start_time": "2019-10-19T06:47:13.011745Z"
    }
   },
   "source": [
    "**References:**\n",
    "\n",
    "Lind, Marchal, Wathen (2012). Statistical Techniques in Business and Economics (McGraw-Hill)"
   ]
  }
 ],
 "metadata": {
  "kernelspec": {
   "display_name": "Python 3",
   "language": "python",
   "name": "python3"
  },
  "language_info": {
   "codemirror_mode": {
    "name": "ipython",
    "version": 3
   },
   "file_extension": ".py",
   "mimetype": "text/x-python",
   "name": "python",
   "nbconvert_exporter": "python",
   "pygments_lexer": "ipython3",
   "version": "3.6.5"
  }
 },
 "nbformat": 4,
 "nbformat_minor": 2
}
