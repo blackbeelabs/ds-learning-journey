{
 "cells": [
  {
   "cell_type": "markdown",
   "metadata": {},
   "source": [
    "## Chap 10 - One-Sample Tests of Hypothesis"
   ]
  },
  {
   "cell_type": "code",
   "execution_count": 1,
   "metadata": {
    "ExecuteTime": {
     "end_time": "2019-10-21T16:32:27.381500Z",
     "start_time": "2019-10-21T16:32:26.387564Z"
    }
   },
   "outputs": [],
   "source": [
    "import pandas as pd\n",
    "import numpy as np\n",
    "import itertools\n",
    "import matplotlib.pyplot as plt\n",
    "import seaborn as sns\n",
    "import scipy as sp\n",
    "sns.set()\n",
    "\n",
    "import warnings\n",
    "warnings.simplefilter(action='ignore', category=FutureWarning)\n",
    "warnings.simplefilter(action='ignore', category=UserWarning)"
   ]
  },
  {
   "cell_type": "markdown",
   "metadata": {},
   "source": [
    "### 10.2\n",
    "\n",
    "<div class=\"alert alert-info\">\n",
    "<ul>\n",
    "<li>**HYPOTHESIS** - In statistical analyiss, a hypotheisis is a statement about a population parameter, subject to verification</li>\n",
    "</ul>\n",
    "</div>"
   ]
  },
  {
   "cell_type": "markdown",
   "metadata": {},
   "source": [
    "### 10.3\n",
    "\n",
    "<div class=\"alert alert-info\">\n",
    "<ul>\n",
    "<li>**HYPOTHESIS TESTING** - A procedure based on sample evidence and probability theory to determine whether the hypothesis is a reasonable statement.</li>\n",
    "</ul>\n",
    "</div>"
   ]
  },
  {
   "cell_type": "markdown",
   "metadata": {},
   "source": [
    "### 10.4\n",
    "\n",
    "Steps for testing a hypothesis:\n",
    "\n",
    "<p>1.State the null hypothesis, $H_0$. State the alternate hypothesis, $H_1$.</p>\n",
    "\n",
    "<div class=\"alert alert-info\">\n",
    "<ul>\n",
    "<li>**NULL HYPOTHESIS ($H_0$)** A statement about the value of a population parameter developed for the purpose of testing numerical evidence.</li>\n",
    "<li>**ALTERNATIVE HYPOTHESIS ($H_1$ or $H_A$)** A statement that is accepted if the sample data provide sufficient evidence that the null hypothesis is rejected.</li>\n",
    "</ul>\n",
    "</div>\n",
    "\n",
    "<p>2. Select a level of significance</p>\n",
    "\n",
    "<div class=\"alert alert-info\">\n",
    "<ul>\n",
    "<li>**LEVEL OF SIGNIFICANCE, $\\alpha$** The probability of rejecting the null hypothesis when it is true.</li>\n",
    "</ul>\n",
    "</div>\n",
    "<p>3. Identify the test statistic</p>\n",
    "<p>4. Formulate a decision rule</p>\n",
    "<p>5. Collect data, decide to reject $H_0$ based on the decision rule</p>\n",
    "\n",
    "<div class=\"alert alert-info\">\n",
    "<ul>\n",
    "<li>**TYPE I ERROR** - Rejecting the null hypothesis ($H_0$), when it is true.</li>\n",
    "<li>**TYPE II ERROR** - Not rejecting the null hypothesis ($H_0$), when it is false.</li>\n",
    "</ul>\n",
    "</div>"
   ]
  },
  {
   "cell_type": "markdown",
   "metadata": {},
   "source": [
    "In summary, the following are the possible outcomes of a statistical test:\n",
    "\n",
    "|Outcome (right) / <br/>Decision (down)| $H_0$ True | $H_0$ False\n",
    "|---|---|--\n",
    "|reject $H_0$ |Type I Error|OK\n",
    "|do not reject $H_0$ |OK|Type II Error"
   ]
  },
  {
   "cell_type": "markdown",
   "metadata": {
    "ExecuteTime": {
     "end_time": "2019-10-20T14:22:39.108668Z",
     "start_time": "2019-10-20T14:22:39.102367Z"
    }
   },
   "source": [
    "<div class=\"alert alert-success\">\n",
    "<p>**TESTING A MEAN, $\\sigma$ KNOWN**</p>\n",
    "<p>The test statistic, $z$ is computed by:\n",
    "$$z = \\frac{\\bar X - \\mu}{\\frac{\\sigma}{\\sqrt n}}$$\n",
    "where $\\bar X$ is the sample mean, $\\mu$ is the population mean, $\\sigma$ is the population standard deviation and $n$ is the no. of samples.\n",
    "</p>\n",
    "</div>\n",
    "\n",
    "In other words, we find the difference $\\bar X - \\mu$ and determine if it is statistically significant by calculating how many standard deviations is the size of this difference."
   ]
  },
  {
   "cell_type": "markdown",
   "metadata": {},
   "source": [
    "Reject if $z$ is less than the critical value\n",
    "<div class=\"alert alert-info\">\n",
    "<ul>\n",
    "<li>**CRITICAL VALUE** - The point that separates the decision rule of rejecting $H_0$ and not rejecting $H_0$ in favour of $H_1$.</li>\n",
    "</ul>\n",
    "</div>"
   ]
  },
  {
   "cell_type": "markdown",
   "metadata": {},
   "source": [
    "### 10.5\n",
    "\n",
    "In different business scenarios, a one-tailed test or a two-tailed test is employed. In one-tailed tests, the definition for $H_0$ and $H_1$ are:\n",
    "\n",
    "\\begin{align*}\n",
    " \\text{H}_0\\text{: }\\mu \\leq \\mu_0 \\text{ and } \\text{H}_\\text{1}\\text{: } \\mu > \\mu_0\\\\\n",
    " \\text{H}_0\\text{: }\\mu \\geq \\mu_0 \\text{ and } \\text{H}_\\text{1}\\text{: } \\mu < \\mu_0\n",
    "\\end{align*}\n",
    "\n",
    "and for two-tailed tests\n",
    "\n",
    "\\begin{align*}\n",
    " \\text{H}_0\\text{: }\\mu = \\mu_0 \\text{ and } \\text{H}_\\text{1}\\text{: } \\mu \\neq \\mu_0\n",
    "\\end{align*}\n",
    "\n",
    "Given $\\alpha$, it is important to determine the rejection region as they are all different.\n",
    "\n",
    "### 10.6"
   ]
  },
  {
   "cell_type": "markdown",
   "metadata": {},
   "source": [
    "#### Self Review 10.1\n",
    "\n",
    "Given that $X\\sim N(\\mu=16, \\sigma=0.15)$. A sample $n=50$ is taken and $\\bar X=16.017$.\n",
    "\n",
    "a) The null hypothesis $H_0: \\mu=16$ and the alternative hypothesis $H_a: \\mu \\neq 16$\n",
    "\n",
    "b) It is the given level of significance, $\\alpha=0.05$\n",
    "\n",
    "c) The formula for the test statistic is $z=\\frac{\\bar X - \\mu}{\\frac{\\sigma}{\\sqrt n}}$\n",
    "\n",
    "d) "
   ]
  },
  {
   "cell_type": "code",
   "execution_count": 2,
   "metadata": {
    "ExecuteTime": {
     "end_time": "2019-10-21T16:32:27.393407Z",
     "start_time": "2019-10-21T16:32:27.385181Z"
    }
   },
   "outputs": [
    {
     "name": "stdout",
     "output_type": "stream",
     "text": [
      "1.959963984540054\n"
     ]
    }
   ],
   "source": [
    "d1 = sp.stats.norm.ppf(0.975)\n",
    "print(d1)"
   ]
  },
  {
   "cell_type": "markdown",
   "metadata": {},
   "source": [
    "The decision rule is to reject $H_0$ if the calculated $z$-value is in the rejection region: $z>1.96$ or $z<-1.96$\n",
    "\n",
    "e) "
   ]
  },
  {
   "cell_type": "code",
   "execution_count": 3,
   "metadata": {
    "ExecuteTime": {
     "end_time": "2019-10-21T16:32:27.404031Z",
     "start_time": "2019-10-21T16:32:27.396739Z"
    }
   },
   "outputs": [
    {
     "name": "stdout",
     "output_type": "stream",
     "text": [
      "0.8013876853447285\n"
     ]
    }
   ],
   "source": [
    "mu1, sigma1 = 16, 0.15\n",
    "x_bar1, n1 = 16.017, 50\n",
    "z1 = (x_bar1-mu1)/(sigma1/n1**0.5)\n",
    "print(z1)"
   ]
  },
  {
   "cell_type": "markdown",
   "metadata": {},
   "source": [
    "The value of the test statistic is $0.801$\n",
    "\n",
    "f) Do not reject the null in favour of the alternate hypothesis\n",
    "\n",
    "g) We cannot conclude that the sample mean is significantly different from $16$.\n",
    "\n",
    "$\\diamond$"
   ]
  },
  {
   "cell_type": "markdown",
   "metadata": {},
   "source": [
    "Hypothesis testing is related to confidence intervals. In the example, it is given that $X \\sim N(\\mu=200, \\sigma=16)$. The sample mean for $n=50$ samples is $203.5$. The $z$-value is computed as:"
   ]
  },
  {
   "cell_type": "code",
   "execution_count": 4,
   "metadata": {
    "ExecuteTime": {
     "end_time": "2019-10-21T16:32:27.417910Z",
     "start_time": "2019-10-21T16:32:27.408417Z"
    }
   },
   "outputs": [
    {
     "name": "stdout",
     "output_type": "stream",
     "text": [
      "1.5467960838455728\n"
     ]
    }
   ],
   "source": [
    "mu_e5, sigma_e5 = 200, 16\n",
    "n_e5, xbar_e5 = 50, 203.5\n",
    "z_e5 = sp.stats.norm.ppf(0.995)\n",
    "calc_ze5 = (xbar_e5-mu_e5)/(sigma_e5/n_e5**0.5)\n",
    "print(calc_ze5)"
   ]
  },
  {
   "cell_type": "markdown",
   "metadata": {},
   "source": [
    "and so we don't reject the null with $\\alpha=0.01$. Also, take note that for this sample, the confidence interval is:"
   ]
  },
  {
   "cell_type": "code",
   "execution_count": 5,
   "metadata": {
    "ExecuteTime": {
     "end_time": "2019-10-21T16:32:27.431691Z",
     "start_time": "2019-10-21T16:32:27.422648Z"
    }
   },
   "outputs": [
    {
     "name": "stdout",
     "output_type": "stream",
     "text": [
      "[197.67156362330095, 209.32843637669905]\n"
     ]
    }
   ],
   "source": [
    "# X_bar +/- z * sigma/sqrt(n)\n",
    "intv_5 = z_e5*(sigma_e5/n_e5**0.5)\n",
    "print([xbar_e5 - intv_5, xbar_e5 + intv_5])"
   ]
  },
  {
   "cell_type": "markdown",
   "metadata": {},
   "source": [
    "and $\\mu=200$ is in the confidence interval. Hence, we can conclude that the population parameter is in reasonably $200$. Generally, $H_0$ is rejected if the confidence interval does not contain the hypothesized value."
   ]
  },
  {
   "cell_type": "markdown",
   "metadata": {
    "ExecuteTime": {
     "end_time": "2019-10-20T15:22:38.360639Z",
     "start_time": "2019-10-20T15:22:38.357470Z"
    }
   },
   "source": [
    "### 10.7\n",
    "\n",
    "<div class=\"alert alert-info\">\n",
    "<ul>\n",
    "<li>**$p$-value** - The probability of observing a sample as extreme as or more extreme than the value observed, given that the null hypothesis is true.</li>\n",
    "</ul>\n",
    "</div>"
   ]
  },
  {
   "cell_type": "markdown",
   "metadata": {},
   "source": [
    "#### Self Review 10.2\n",
    "\n",
    "a) Now, the null hypothesis $H_0: \\mu \\leq 16$ and the alternative hypothesis $H_a: \\mu > 16$\n",
    "\n",
    "b)"
   ]
  },
  {
   "cell_type": "code",
   "execution_count": 6,
   "metadata": {
    "ExecuteTime": {
     "end_time": "2019-10-21T16:32:27.445399Z",
     "start_time": "2019-10-21T16:32:27.434388Z"
    }
   },
   "outputs": [
    {
     "name": "stdout",
     "output_type": "stream",
     "text": [
      "1.6448536269514722\n"
     ]
    }
   ],
   "source": [
    "z2 = sp.stats.norm.ppf(0.95)\n",
    "print(z2)"
   ]
  },
  {
   "cell_type": "markdown",
   "metadata": {},
   "source": [
    "With $\\alpha=0.05$, the rejection region is $z > 1.645$. \n",
    "\n",
    "c) The new $z$-value is"
   ]
  },
  {
   "cell_type": "code",
   "execution_count": 7,
   "metadata": {
    "ExecuteTime": {
     "end_time": "2019-10-21T16:32:27.457103Z",
     "start_time": "2019-10-21T16:32:27.447824Z"
    }
   },
   "outputs": [
    {
     "name": "stdout",
     "output_type": "stream",
     "text": [
      "1.8856180831640867\n"
     ]
    }
   ],
   "source": [
    "x_bar2 = 16.040\n",
    "z2 = (x_bar2-mu1)/(sigma1/n1**0.5)\n",
    "print(z2)"
   ]
  },
  {
   "cell_type": "markdown",
   "metadata": {},
   "source": [
    "The value of the test statistic is $1.886$\n",
    "\n",
    "d) Reject the null in favour of the alternative hypothesis\n",
    "\n",
    "e) The mean amount dispensed is greater than 16.\n",
    "\n",
    "f) "
   ]
  },
  {
   "cell_type": "code",
   "execution_count": 8,
   "metadata": {
    "ExecuteTime": {
     "end_time": "2019-10-21T16:32:27.486315Z",
     "start_time": "2019-10-21T16:32:27.462011Z"
    }
   },
   "outputs": [
    {
     "data": {
      "text/plain": [
       "0.029673219395962642"
      ]
     },
     "execution_count": 8,
     "metadata": {},
     "output_type": "execute_result"
    }
   ],
   "source": [
    "sp.stats.norm.sf(z2)"
   ]
  },
  {
   "cell_type": "markdown",
   "metadata": {},
   "source": [
    "The $p$-value is $0.030$ and so reject the null in favour of the alternative at $\\alpha=0.05$. The conclusion is the same.\n",
    "\n",
    "$\\diamond$"
   ]
  },
  {
   "cell_type": "markdown",
   "metadata": {},
   "source": [
    "### 10.8\n",
    "\n",
    "<div class=\"alert alert-success\">\n",
    "<p>**TESTING A MEAN, $\\sigma$ UNKNOWN**</p>\n",
    "<p>The test statistic, now $t$ is computed by:\n",
    "$$t = \\frac{\\bar X - \\mu}{\\frac{s}{\\sqrt n}}$$\n",
    "where $\\bar X$ is the sample mean, $\\mu$ is the population mean, $s$ is the sample standard deviation and $n$ is the no. of samples.\n",
    "With $n-1$ degrees of freedom (df)\n",
    "</p>\n",
    "</div>"
   ]
  },
  {
   "cell_type": "markdown",
   "metadata": {},
   "source": [
    "#### Self Review 10.3"
   ]
  },
  {
   "cell_type": "markdown",
   "metadata": {},
   "source": [
    "Given that $X \\sim N(\\mu =305)$, a sample $n=20$ is taken and the measurements are $\\bar X = 311$ and $s=12$.\n",
    "\n",
    "a) $H_0: \\mu<=305$ and $H_1: \\mu>305$\n",
    "\n",
    "b) Using $\\alpha=0.05$"
   ]
  },
  {
   "cell_type": "code",
   "execution_count": 9,
   "metadata": {
    "ExecuteTime": {
     "end_time": "2019-10-21T16:32:27.939832Z",
     "start_time": "2019-10-21T16:32:27.495988Z"
    },
    "scrolled": true
   },
   "outputs": [
    {
     "name": "stdout",
     "output_type": "stream",
     "text": [
      "1.729132811521367\n"
     ]
    },
    {
     "data": {
      "image/png": "[encoded data removed]",
      "text/plain": [
       "<Figure size 864x288 with 1 Axes>"
      ]
     },
     "metadata": {},
     "output_type": "display_data"
    }
   ],
   "source": [
    "mu3 = 305\n",
    "n3, x_bar3, s3 = 20, 311, 12\n",
    "x = np.linspace(-4, 4, 100)\n",
    "y = sp.stats.t.pdf(x, df=n3-1)\n",
    "y2 = sp.stats.norm.pdf(x,)\n",
    "fig, ax = plt.subplots(figsize=(12,4))\n",
    "ax.plot(x, y, color='olive')\n",
    "# Just added the normal to compare between normal and t distribution\n",
    "ax.plot(x, y2, color='grey')\n",
    "t_095= sp.stats.t.ppf(0.95, df=n3-1)\n",
    "print(t_095)\n",
    "# Shaded region is rejection region\n",
    "ax.fill_between(x, y, where = x>t_095, color='forestgreen')\n",
    "plt.show()"
   ]
  },
  {
   "cell_type": "markdown",
   "metadata": {},
   "source": [
    "c)"
   ]
  },
  {
   "cell_type": "code",
   "execution_count": 10,
   "metadata": {
    "ExecuteTime": {
     "end_time": "2019-10-21T16:32:27.963181Z",
     "start_time": "2019-10-21T16:32:27.948382Z"
    }
   },
   "outputs": [
    {
     "data": {
      "text/plain": [
       "2.23606797749979"
      ]
     },
     "execution_count": 10,
     "metadata": {},
     "output_type": "execute_result"
    }
   ],
   "source": [
    "t = (x_bar3-mu3)/(s3/n3**0.5)\n",
    "t"
   ]
  },
  {
   "cell_type": "markdown",
   "metadata": {},
   "source": [
    "Reject the null in favour of the alternative. The modification indeed increased the mean life of the battery.\n",
    "\n",
    "$\\diamond$"
   ]
  },
  {
   "cell_type": "markdown",
   "metadata": {},
   "source": [
    "#### Self Review 10.4\n",
    "\n",
    "Given that $\\mu=9.0$ and the following sample"
   ]
  },
  {
   "cell_type": "code",
   "execution_count": 11,
   "metadata": {
    "ExecuteTime": {
     "end_time": "2019-10-21T16:32:27.972095Z",
     "start_time": "2019-10-21T16:32:27.965699Z"
    }
   },
   "outputs": [
    {
     "name": "stdout",
     "output_type": "stream",
     "text": [
      "8\n"
     ]
    }
   ],
   "source": [
    "mu4 = 9.0\n",
    "X4 = [9.2,8.7,8.9,8.6,8.8,8.5,8.7,9.0]\n",
    "n4 = len(X4)\n",
    "print(n4)"
   ]
  },
  {
   "cell_type": "markdown",
   "metadata": {},
   "source": [
    "a) $H_0: \\mu >=9.0$, $H_1: \\mu < 9.0$\n",
    "\n",
    "b) df = $n-1=7$\n",
    "\n",
    "c) "
   ]
  },
  {
   "cell_type": "code",
   "execution_count": 12,
   "metadata": {
    "ExecuteTime": {
     "end_time": "2019-10-21T16:32:27.982054Z",
     "start_time": "2019-10-21T16:32:27.975512Z"
    }
   },
   "outputs": [
    {
     "name": "stdout",
     "output_type": "stream",
     "text": [
      "-2.9979515668685286\n"
     ]
    }
   ],
   "source": [
    "t_001 = sp.stats.t.ppf(0.01, df=n4-1)\n",
    "print(t_001)"
   ]
  },
  {
   "cell_type": "markdown",
   "metadata": {},
   "source": [
    "Reject if $t<-2.998$\n",
    "\n",
    "d) "
   ]
  },
  {
   "cell_type": "code",
   "execution_count": 13,
   "metadata": {
    "ExecuteTime": {
     "end_time": "2019-10-21T16:32:28.004978Z",
     "start_time": "2019-10-21T16:32:27.986587Z"
    }
   },
   "outputs": [
    {
     "name": "stdout",
     "output_type": "stream",
     "text": [
      "[8.8, 0.2267786838055363]\n",
      "-2.494438257849286\n"
     ]
    }
   ],
   "source": [
    "series4 = pd.Series(X4)\n",
    "xbar4, s4 = series4.mean(), series4.std()\n",
    "print([xbar4, s4])\n",
    "t4= (xbar4-mu4)/(s4/n4**0.5)\n",
    "print(t4)"
   ]
  },
  {
   "cell_type": "markdown",
   "metadata": {},
   "source": [
    "$t=-2.49$ means do not reject the null in favour of the alternate."
   ]
  },
  {
   "cell_type": "code",
   "execution_count": 14,
   "metadata": {
    "ExecuteTime": {
     "end_time": "2019-10-21T16:32:28.020330Z",
     "start_time": "2019-10-21T16:32:28.012963Z"
    }
   },
   "outputs": [
    {
     "name": "stdout",
     "output_type": "stream",
     "text": [
      "0.020663609269207794\n"
     ]
    }
   ],
   "source": [
    "p4 = sp.stats.t.cdf(t4, df=n4-1)\n",
    "print(p4)"
   ]
  },
  {
   "cell_type": "markdown",
   "metadata": {},
   "source": [
    "### 10.9\n",
    "\n",
    "<div class=\"alert alert-success\">\n",
    "<p>**TEST OF HYPOTHESIS, ONE PROPORTION**</p>\n",
    "<p>The test statistic, $Z$ is computed by:\n",
    "$$Z = \\frac{\\rho-\\pi}{\\sqrt {\\frac{\\pi (1-\\pi)}{n}}}$$\n",
    "where $\\pi$ is is the population proportion, $\\rho$ is the sample proportion and $n$ is the sample size\n",
    "</p>\n",
    "</div>"
   ]
  },
  {
   "cell_type": "markdown",
   "metadata": {
    "ExecuteTime": {
     "end_time": "2019-10-19T06:47:13.019197Z",
     "start_time": "2019-10-19T06:47:13.011745Z"
    }
   },
   "source": [
    "**References:**\n",
    "\n",
    "Lind, Marchal, Wathen (2012). Statistical Techniques in Business and Economics (McGraw-Hill)"
   ]
  }
 ],
 "metadata": {
  "kernelspec": {
   "display_name": "Python 3",
   "language": "python",
   "name": "python3"
  },
  "language_info": {
   "codemirror_mode": {
    "name": "ipython",
    "version": 3
   },
   "file_extension": ".py",
   "mimetype": "text/x-python",
   "name": "python",
   "nbconvert_exporter": "python",
   "pygments_lexer": "ipython3",
   "version": "3.6.5"
  }
 },
 "nbformat": 4,
 "nbformat_minor": 2
}
