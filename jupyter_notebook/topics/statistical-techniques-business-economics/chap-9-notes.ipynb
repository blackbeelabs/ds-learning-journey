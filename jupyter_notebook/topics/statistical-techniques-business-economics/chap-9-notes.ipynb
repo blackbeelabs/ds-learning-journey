{
 "cells": [
  {
   "cell_type": "markdown",
   "metadata": {},
   "source": [
    "## Chap 9 - Estimation and Confidence Intervals"
   ]
  },
  {
   "cell_type": "code",
   "execution_count": 1,
   "metadata": {
    "ExecuteTime": {
     "end_time": "2019-10-19T08:48:02.123271Z",
     "start_time": "2019-10-19T08:48:01.243453Z"
    }
   },
   "outputs": [],
   "source": [
    "import pandas as pd\n",
    "import itertools\n",
    "import matplotlib.pyplot as plt\n",
    "import seaborn as sns\n",
    "import scipy as sp\n",
    "sns.set()\n",
    "\n",
    "import warnings\n",
    "warnings.simplefilter(action='ignore', category=FutureWarning)\n",
    "warnings.simplefilter(action='ignore', category=UserWarning)"
   ]
  },
  {
   "cell_type": "markdown",
   "metadata": {},
   "source": [
    "### 9.2 - Point Estimate for a Population mean\n",
    "\n",
    "<div class=\"alert alert-info\">\n",
    "<ul>\n",
    "<li>**POINT ESTIMATE** - The statistic, computed from sample information that estimates the population parameter</li>\n",
    "</ul>\n",
    "</div>"
   ]
  },
  {
   "cell_type": "markdown",
   "metadata": {},
   "source": [
    "### 9.3 - Confidence Intervals for a Population mean\n",
    "\n",
    "<div class=\"alert alert-info\">\n",
    "<ul>\n",
    "<li>**CONFIDENCE INTERVAL** - A range of values constructed from sample data such that the population parameter is likely to occur within that range at a specified probability. The probability is the *level of confidence*</li>\n",
    "</ul>\n",
    "</div>\n",
    "\n",
    "E.g. After sampling annual salary data, we obtain a point estimate of \\$85000, and we are 90% sure that the annual salary of workers is between \\$81000 and \\$89000.\n",
    "\n",
    "For a population with known standard deviation $\\sigma$, given a level of confidence, $z$, the confidence interval is \n",
    "<div class=\"alert alert-success\">\n",
    "**CONFIDENCE INTERVAL FOR POPULATION MEAN WITH $\\sigma$ KNOWN**\n",
    "$$\\bar X \\pm z \\frac {\\sigma} {\\sqrt n}$$\n",
    "</div>\n",
    "\n",
    "Typical values of $z$ and their corresponding $p$ are:"
   ]
  },
  {
   "cell_type": "code",
   "execution_count": 2,
   "metadata": {
    "ExecuteTime": {
     "end_time": "2019-10-19T08:48:02.136585Z",
     "start_time": "2019-10-19T08:48:02.125582Z"
    }
   },
   "outputs": [
    {
     "name": "stdout",
     "output_type": "stream",
     "text": [
      "1.6448536269514722\n",
      "1.959963984540054\n",
      "2.5758293035489004\n"
     ]
    }
   ],
   "source": [
    "# For 90% level of confidence, \n",
    "print(sp.stats.norm.ppf(0.950))\n",
    "# use z = 1.645\n",
    "\n",
    "# For 95% level of confidence, \n",
    "print(sp.stats.norm.ppf(0.975))\n",
    "# use z = 1.960\n",
    "\n",
    "# For 99% level of confidence, \n",
    "print(sp.stats.norm.ppf(0.995))\n",
    "# use z = 2.576"
   ]
  },
  {
   "cell_type": "markdown",
   "metadata": {},
   "source": [
    "#### Self Review 9.1\n",
    "Given that restaurant daily sales, $X \\sim (\\mu, \\sigma=3000)$. For a sample $n=40$, the mean sales $\\bar X = 20000$\n",
    "\n",
    "a) The population mean, $\\mu$ is unknown\n",
    "\n",
    "b) The best estimate of the population mean is $\\mu = \\hat \\mu=20000$. This is the point estimate of the unknown mean.\n",
    "\n",
    "c)"
   ]
  },
  {
   "cell_type": "code",
   "execution_count": 3,
   "metadata": {
    "ExecuteTime": {
     "end_time": "2019-10-19T08:48:02.153951Z",
     "start_time": "2019-10-19T08:48:02.142460Z"
    },
    "scrolled": true
   },
   "outputs": [
    {
     "name": "stdout",
     "output_type": "stream",
     "text": [
      "1222.0\n",
      "21222.0\n",
      "18778.0\n"
     ]
    }
   ],
   "source": [
    "mu_hat = 20000\n",
    "z = sp.stats.norm.ppf(0.995)\n",
    "print(round(z*3000/(40**0.5)))\n",
    "print(mu_hat + round(z*3000/(40**0.5)))\n",
    "print(mu_hat - round(z*3000/(40**0.5)))"
   ]
  },
  {
   "cell_type": "markdown",
   "metadata": {},
   "source": [
    "The 99% CI of the population mean is $\\begin{bmatrix} 18778, 21222\\end{bmatrix}$\n",
    "\n",
    "d) With a 99% level of confidence, the mean of sales falls between \\$18878 and \\$21222. About 99% of similarly constructed intervals will contain the population mean. If you simulate sampling the same way, you can be 99% confident that the population mean falls within this confidence interval.\n",
    "\n",
    "$\\diamond$"
   ]
  },
  {
   "cell_type": "markdown",
   "metadata": {},
   "source": [
    "For a population with unknown standard deviation, the confidence interval is now:\n",
    "<div class=\"alert alert-success\">\n",
    "**CONFIDENCE INTERVAL FOR POPULATION MEAN WITH $\\sigma$ UNKNOWN**\n",
    "$$\\bar X \\pm t \\frac {s} {\\sqrt n}$$\n",
    "</div>"
   ]
  },
  {
   "cell_type": "markdown",
   "metadata": {},
   "source": [
    "#### Self Review 9.2\n",
    "\n",
    "a)"
   ]
  },
  {
   "cell_type": "code",
   "execution_count": 4,
   "metadata": {
    "ExecuteTime": {
     "end_time": "2019-10-19T08:48:02.165836Z",
     "start_time": "2019-10-19T08:48:02.158656Z"
    }
   },
   "outputs": [
    {
     "name": "stdout",
     "output_type": "stream",
     "text": [
      "[1.8, 1.1352924243950933]\n"
     ]
    }
   ],
   "source": [
    "a = pd.Series([4, 1, 2, 2, 1, 2, 2, 1, 0, 3])\n",
    "print([a.mean(), a.std()])"
   ]
  },
  {
   "cell_type": "markdown",
   "metadata": {
    "ExecuteTime": {
     "end_time": "2019-10-19T08:28:54.025042Z",
     "start_time": "2019-10-19T08:28:54.018162Z"
    }
   },
   "source": [
    "The mean and the standard deviatino of the sample is $1.8$ and $1.135$ respectively.\n",
    "\n",
    "b) The population mean, $\\mu$ is unknown and is estimated using the sample mean, $\\bar X = 1.8$\n",
    "\n",
    "c) Since $\\sigma$ is unknown, use $t$-distribution with `df=10-1`:"
   ]
  },
  {
   "cell_type": "code",
   "execution_count": 5,
   "metadata": {
    "ExecuteTime": {
     "end_time": "2019-10-19T08:48:02.177145Z",
     "start_time": "2019-10-19T08:48:02.168871Z"
    }
   },
   "outputs": [
    {
     "name": "stdout",
     "output_type": "stream",
     "text": [
      "[0.9878607239333317, 2.612139276066668]\n"
     ]
    }
   ],
   "source": [
    "t_value = sp.stats.t.ppf(0.975, df=(a.count()-1))\n",
    "i2 = t_value*(a.std()/(a.count()**0.5))\n",
    "print([a.mean()-i2, a.mean()+i2])"
   ]
  },
  {
   "cell_type": "markdown",
   "metadata": {},
   "source": [
    "The 95% confidence interval is $\\begin{bmatrix}0.990, 2.612\\end{bmatrix}$\n",
    "\n",
    "d) The $t$-distribution is used because the population standard deviation is unknown.\n",
    "\n",
    "e) No. 95% of the samples drawn this way do not contain the population parameter $0$.\n",
    "\n",
    "$\\diamond$"
   ]
  },
  {
   "cell_type": "markdown",
   "metadata": {
    "ExecuteTime": {
     "end_time": "2019-10-19T06:47:13.019197Z",
     "start_time": "2019-10-19T06:47:13.011745Z"
    }
   },
   "source": [
    "**References:**\n",
    "\n",
    "Lind, Marchal, Wathen (2012). Statistical Techniques in Business and Economics (McGraw-Hill)"
   ]
  }
 ],
 "metadata": {
  "kernelspec": {
   "display_name": "Python 3",
   "language": "python",
   "name": "python3"
  },
  "language_info": {
   "codemirror_mode": {
    "name": "ipython",
    "version": 3
   },
   "file_extension": ".py",
   "mimetype": "text/x-python",
   "name": "python",
   "nbconvert_exporter": "python",
   "pygments_lexer": "ipython3",
   "version": "3.6.5"
  }
 },
 "nbformat": 4,
 "nbformat_minor": 2
}
