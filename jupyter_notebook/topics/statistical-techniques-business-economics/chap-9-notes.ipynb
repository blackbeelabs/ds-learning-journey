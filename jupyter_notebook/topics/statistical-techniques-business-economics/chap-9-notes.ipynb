{
 "cells": [
  {
   "cell_type": "markdown",
   "metadata": {},
   "source": [
    "## Chap 9 - Estimation and Confidence Intervals"
   ]
  },
  {
   "cell_type": "code",
   "execution_count": 1,
   "metadata": {
    "ExecuteTime": {
     "end_time": "2019-10-20T09:20:59.486158Z",
     "start_time": "2019-10-20T09:20:58.604866Z"
    }
   },
   "outputs": [],
   "source": [
    "import pandas as pd\n",
    "import itertools\n",
    "import matplotlib.pyplot as plt\n",
    "import seaborn as sns\n",
    "import scipy as sp\n",
    "sns.set()\n",
    "\n",
    "import warnings\n",
    "warnings.simplefilter(action='ignore', category=FutureWarning)\n",
    "warnings.simplefilter(action='ignore', category=UserWarning)"
   ]
  },
  {
   "cell_type": "markdown",
   "metadata": {},
   "source": [
    "### 9.2 - Point Estimate for a Population mean\n",
    "\n",
    "<div class=\"alert alert-info\">\n",
    "<ul>\n",
    "<li>**POINT ESTIMATE** - The statistic, computed from sample information that estimates the population parameter</li>\n",
    "</ul>\n",
    "</div>"
   ]
  },
  {
   "cell_type": "markdown",
   "metadata": {},
   "source": [
    "### 9.3 - Confidence Intervals for a Population mean\n",
    "\n",
    "<div class=\"alert alert-info\">\n",
    "<ul>\n",
    "<li>**CONFIDENCE INTERVAL** - A range of values constructed from sample data such that the population parameter is likely to occur within that range at a specified probability. The probability is the *level of confidence*</li>\n",
    "</ul>\n",
    "</div>\n",
    "\n",
    "E.g. After sampling annual salary data, we obtain a point estimate of \\$85000, and we are 90% sure that the annual salary of workers is between \\$81000 and \\$89000.\n",
    "\n",
    "For a population with known standard deviation $\\sigma$, given a level of confidence, $z$, the confidence interval is \n",
    "<div class=\"alert alert-success\">\n",
    "**CONFIDENCE INTERVAL FOR POPULATION MEAN WITH $\\sigma$ KNOWN**\n",
    "$$\\bar X \\pm z \\frac {\\sigma} {\\sqrt n}$$\n",
    "</div>\n",
    "\n",
    "Typical values of $z$ and their corresponding $p$ are:"
   ]
  },
  {
   "cell_type": "code",
   "execution_count": 2,
   "metadata": {
    "ExecuteTime": {
     "end_time": "2019-10-20T09:20:59.495263Z",
     "start_time": "2019-10-20T09:20:59.488585Z"
    }
   },
   "outputs": [
    {
     "name": "stdout",
     "output_type": "stream",
     "text": [
      "1.6448536269514722\n",
      "1.959963984540054\n",
      "2.5758293035489004\n"
     ]
    }
   ],
   "source": [
    "# For 90% level of confidence, \n",
    "print(sp.stats.norm.ppf(0.950))\n",
    "# use z = 1.645\n",
    "\n",
    "# For 95% level of confidence, \n",
    "print(sp.stats.norm.ppf(0.975))\n",
    "# use z = 1.960\n",
    "\n",
    "# For 99% level of confidence, \n",
    "print(sp.stats.norm.ppf(0.995))\n",
    "# use z = 2.576"
   ]
  },
  {
   "cell_type": "markdown",
   "metadata": {},
   "source": [
    "#### Self Review 9.1\n",
    "Given that restaurant daily sales, $X \\sim (\\mu, \\sigma=3000)$. For a sample $n=40$, the mean sales $\\bar X = 20000$\n",
    "\n",
    "a) The population mean, $\\mu$ is unknown\n",
    "\n",
    "b) The best estimate of the population mean is $\\mu = \\hat \\mu=20000$. This is the point estimate of the unknown mean.\n",
    "\n",
    "c)"
   ]
  },
  {
   "cell_type": "code",
   "execution_count": 3,
   "metadata": {
    "ExecuteTime": {
     "end_time": "2019-10-20T09:20:59.507758Z",
     "start_time": "2019-10-20T09:20:59.499261Z"
    },
    "scrolled": true
   },
   "outputs": [
    {
     "name": "stdout",
     "output_type": "stream",
     "text": [
      "1222.0\n",
      "21222.0\n",
      "18778.0\n"
     ]
    }
   ],
   "source": [
    "mu_hat = 20000\n",
    "z = sp.stats.norm.ppf(0.995)\n",
    "print(round(z*3000/(40**0.5)))\n",
    "print(mu_hat + round(z*3000/(40**0.5)))\n",
    "print(mu_hat - round(z*3000/(40**0.5)))"
   ]
  },
  {
   "cell_type": "markdown",
   "metadata": {},
   "source": [
    "The 99% CI of the population mean is $\\begin{bmatrix} 18778, 21222\\end{bmatrix}$\n",
    "\n",
    "d) With a 99% level of confidence, the mean of sales falls between \\$18878 and \\$21222. About 99% of similarly constructed intervals will contain the population mean. If you simulate sampling the same way, you can be 99% confident that the population mean falls within this confidence interval.\n",
    "\n",
    "$\\diamond$"
   ]
  },
  {
   "cell_type": "markdown",
   "metadata": {},
   "source": [
    "For a population with unknown standard deviation, the confidence interval is now:\n",
    "<div class=\"alert alert-success\">\n",
    "**CONFIDENCE INTERVAL FOR POPULATION MEAN WITH $\\sigma$ UNKNOWN**\n",
    "$$\\bar X \\pm t \\frac {s} {\\sqrt n}$$\n",
    "</div>"
   ]
  },
  {
   "cell_type": "markdown",
   "metadata": {},
   "source": [
    "#### Self Review 9.2\n",
    "\n",
    "a)"
   ]
  },
  {
   "cell_type": "code",
   "execution_count": 4,
   "metadata": {
    "ExecuteTime": {
     "end_time": "2019-10-20T09:20:59.519931Z",
     "start_time": "2019-10-20T09:20:59.512125Z"
    }
   },
   "outputs": [
    {
     "name": "stdout",
     "output_type": "stream",
     "text": [
      "[1.8, 1.1352924243950933]\n"
     ]
    }
   ],
   "source": [
    "a = pd.Series([4, 1, 2, 2, 1, 2, 2, 1, 0, 3])\n",
    "print([a.mean(), a.std()])"
   ]
  },
  {
   "cell_type": "markdown",
   "metadata": {
    "ExecuteTime": {
     "end_time": "2019-10-19T08:28:54.025042Z",
     "start_time": "2019-10-19T08:28:54.018162Z"
    }
   },
   "source": [
    "The mean and the standard deviatino of the sample is $1.8$ and $1.135$ respectively.\n",
    "\n",
    "b) The population mean, $\\mu$ is unknown and is estimated using the sample mean, $\\bar X = 1.8$\n",
    "\n",
    "c) Since $\\sigma$ is unknown, use $t$-distribution with `df=10-1`:"
   ]
  },
  {
   "cell_type": "code",
   "execution_count": 5,
   "metadata": {
    "ExecuteTime": {
     "end_time": "2019-10-20T09:20:59.531554Z",
     "start_time": "2019-10-20T09:20:59.523139Z"
    }
   },
   "outputs": [
    {
     "name": "stdout",
     "output_type": "stream",
     "text": [
      "[0.9878607239333317, 2.612139276066668]\n"
     ]
    }
   ],
   "source": [
    "t_value = sp.stats.t.ppf(0.975, df=(a.count()-1))\n",
    "i2 = t_value*(a.std()/(a.count()**0.5))\n",
    "print([a.mean()-i2, a.mean()+i2])"
   ]
  },
  {
   "cell_type": "markdown",
   "metadata": {},
   "source": [
    "The 95% confidence interval is $\\begin{bmatrix}0.990, 2.612\\end{bmatrix}$\n",
    "\n",
    "d) The $t$-distribution is used because the population standard deviation is unknown.\n",
    "\n",
    "e) No. 95% of the samples drawn this way do not contain the population parameter $0$.\n",
    "\n",
    "$\\diamond$"
   ]
  },
  {
   "cell_type": "markdown",
   "metadata": {},
   "source": [
    "### 9.4 A Confidence Interval for a Proportion"
   ]
  },
  {
   "cell_type": "markdown",
   "metadata": {},
   "source": [
    "<div class=\"alert alert-info\">\n",
    "**PROPORTION** - The fraction / ratio / percent indicating the part of the sample / population having a particular trait of interest\n",
    "</div>\n",
    "\n",
    "<div class=\"alert alert-success\">\n",
    "**SAMPLE PROPORTION**, $p$, where $X$ is the number of \"successes\", $n$ is the number of items sampled, is:\n",
    "$$p = \\frac X n$$\n",
    "\n",
    "Note that the population proportion is denoted as $\\pi$\n",
    "</div>\n",
    "\n",
    "Note that for the CLT and subsequently the normal distribution to be used, the values $n\\pi$ and $n (1-\\pi)$ must be greater than $5$. "
   ]
  },
  {
   "cell_type": "markdown",
   "metadata": {},
   "source": [
    "Letting $p$ be the point estimate of $\\pi$, the confidence interval of $\\pi$ is:\n",
    "<div class=\"alert alert-success\">\n",
    "**CONFIDENCE INTERVAL FOR POPULATION PROPORTION**, \n",
    "\n",
    "$$p \\pm z\\sqrt{\\frac{p(1-p)}{n}}$$\n",
    "</div>"
   ]
  },
  {
   "cell_type": "markdown",
   "metadata": {},
   "source": [
    "#### Self Review 9.3\n",
    "\n",
    "a)"
   ]
  },
  {
   "cell_type": "code",
   "execution_count": 6,
   "metadata": {
    "ExecuteTime": {
     "end_time": "2019-10-20T09:20:59.543608Z",
     "start_time": "2019-10-20T09:20:59.534821Z"
    }
   },
   "outputs": [
    {
     "name": "stdout",
     "output_type": "stream",
     "text": [
      "0.3\n"
     ]
    }
   ],
   "source": [
    "n3, x3 = 1400, 420\n",
    "p3 = x3/n3\n",
    "print(p3)"
   ]
  },
  {
   "cell_type": "markdown",
   "metadata": {},
   "source": [
    "$p = 0.3$\n",
    "\n",
    "b) For a 99% CI,"
   ]
  },
  {
   "cell_type": "code",
   "execution_count": 7,
   "metadata": {
    "ExecuteTime": {
     "end_time": "2019-10-20T09:20:59.560589Z",
     "start_time": "2019-10-20T09:20:59.550006Z"
    }
   },
   "outputs": [
    {
     "name": "stdout",
     "output_type": "stream",
     "text": [
      "2.5758293035489004\n",
      "0.03154733729101684\n",
      "[0.26845266270898316, 0.3315473372910168]\n"
     ]
    }
   ],
   "source": [
    "z3 = sp.stats.norm.ppf(0.995)\n",
    "print(z3)\n",
    "intv3 = z3*(p3 * (1-p3)/n3)**0.5\n",
    "print(intv3)\n",
    "print([p3-intv3, p3+intv3])"
   ]
  },
  {
   "cell_type": "markdown",
   "metadata": {},
   "source": [
    "The 99% confidence interval is $\\begin{bmatrix}0.268, 0.331\\end{bmatrix}$\n",
    "\n",
    "c) 99% of samples drawn this way will likely contain the population mean in this region.\n",
    "\n",
    "$\\diamond$"
   ]
  },
  {
   "cell_type": "markdown",
   "metadata": {},
   "source": [
    "### 9.5 Choosing an Appropriate Sample Size\n",
    "\n",
    "Selecting a sample size is determined by the:\n",
    "\n",
    "- Margin of error the researcher can tolerate\n",
    "- The level of confidence desired, e.g. 95% or 99%\n",
    "- The variation or dispersion of the population being studied\n",
    "\n",
    "The margin error, $E$ is the amount that is added & subtracted from the sample mean / proportion. There is a trade off between margin of error and sample size. A small margin of error requires a larger sample size and vice versa.\n",
    "\n",
    "A larger sample size is required for a higher level of confidence.\n",
    "\n",
    "<div class=\"alert alert-success\">\n",
    "**SAMPLE SIZE FOR ESTIMATING POPULATION MEAN**\n",
    "<p>\n",
    "Solving for $n$ in $E=z\\frac {\\sigma} {\\sqrt n}$,\n",
    "$$n = \\begin{pmatrix}\\frac{z\\sigma}{E}\\end{pmatrix}^2$$\n",
    "\n",
    "where $n$ is the size of the sample, $z$ is the standard normal value corresponding to the level of confidence, $\\sigma$ is the population standard deviation and $E$ is the maximum allowable error.</p>\n",
    "</div>\n",
    "\n",
    "<div class=\"alert alert-success\">\n",
    "**SAMPLE SIZE FOR ESTIMATING POPULATION PROPORTION**\n",
    "<p>\n",
    "Solving for $n$ in $E=z\\sqrt{\\frac {\\pi (1-\\pi)} {n}}$,\n",
    "$$n = \\pi (1-\\pi)\\begin{pmatrix}\\frac{z}{E}\\end{pmatrix}^2$$\n",
    "\n",
    "where $n$ is the size of the sample, $z$ is the standard normal value corresponding to the level of confidcne, $\\pi$ is the population proportion and $E$ is the maximum allowable error.</p>\n",
    "</div>"
   ]
  },
  {
   "cell_type": "markdown",
   "metadata": {},
   "source": [
    "#### Self Review 9.4\n",
    "\n",
    "Given that $E=0.05$, $\\pi(1-\\pi)=0.279$ and $z=2.576$"
   ]
  },
  {
   "cell_type": "code",
   "execution_count": 8,
   "metadata": {
    "ExecuteTime": {
     "end_time": "2019-10-20T09:20:59.577791Z",
     "start_time": "2019-10-20T09:20:59.563532Z"
    }
   },
   "outputs": [
    {
     "name": "stdout",
     "output_type": "stream",
     "text": [
      "2.5758293035489004\n",
      "740.4544606739674\n"
     ]
    }
   ],
   "source": [
    "E4, z4 = 0.05, sp.stats.norm.ppf(0.995)\n",
    "print(z4)\n",
    "n4 = 0.279*(z4/E4)**2\n",
    "print(n4)"
   ]
  },
  {
   "cell_type": "markdown",
   "metadata": {},
   "source": [
    "The minimum number is 741.\n",
    "\n",
    "$\\diamond$"
   ]
  },
  {
   "cell_type": "markdown",
   "metadata": {
    "ExecuteTime": {
     "end_time": "2019-10-19T06:47:13.019197Z",
     "start_time": "2019-10-19T06:47:13.011745Z"
    }
   },
   "source": [
    "**References:**\n",
    "\n",
    "Lind, Marchal, Wathen (2012). Statistical Techniques in Business and Economics (McGraw-Hill)"
   ]
  }
 ],
 "metadata": {
  "kernelspec": {
   "display_name": "Python 3",
   "language": "python",
   "name": "python3"
  },
  "language_info": {
   "codemirror_mode": {
    "name": "ipython",
    "version": 3
   },
   "file_extension": ".py",
   "mimetype": "text/x-python",
   "name": "python",
   "nbconvert_exporter": "python",
   "pygments_lexer": "ipython3",
   "version": "3.6.5"
  }
 },
 "nbformat": 4,
 "nbformat_minor": 2
}
