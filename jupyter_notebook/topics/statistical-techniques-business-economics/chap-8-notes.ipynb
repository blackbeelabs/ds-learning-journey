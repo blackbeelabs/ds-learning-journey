{
 "cells": [
  {
   "cell_type": "markdown",
   "metadata": {},
   "source": [
    "## Chap 8 - Sampling Methods and the Central Limit Theorem"
   ]
  },
  {
   "cell_type": "code",
   "execution_count": 1,
   "metadata": {
    "ExecuteTime": {
     "end_time": "2019-10-19T06:47:33.790676Z",
     "start_time": "2019-10-19T06:47:32.922616Z"
    }
   },
   "outputs": [],
   "source": [
    "import pandas as pd\n",
    "import itertools\n",
    "import matplotlib.pyplot as plt\n",
    "import seaborn as sns\n",
    "import scipy as sp\n",
    "sns.set()\n",
    "\n",
    "import warnings\n",
    "warnings.simplefilter(action='ignore', category=FutureWarning)\n",
    "warnings.simplefilter(action='ignore', category=UserWarning)"
   ]
  },
  {
   "cell_type": "markdown",
   "metadata": {},
   "source": [
    "### 8.2\n",
    "\n",
    "Methods to select a sample include:\n",
    "\n",
    "<div class=\"alert alert-info\">\n",
    "<ul>\n",
    "<li>**SIMPLE RANDOM SAMPLE** - A sample selected so that each item or person in the population has the same chance of being included.</li>\n",
    "\n",
    "<li>**SYSTEMATIC RANDOM SAMPLE** - A random starting point is selected, and then every kth member of the population is selected.</li>\n",
    "\n",
    "<li>**STRATIFIED RANDOM SAMPLE** - A population is divided into subgroups, called strata, and a sample is randomly selected from each stratum.</li>\n",
    "\n",
    "<li>**CLUSTER SAMPLE** - A population is divided into clusters using naturally occurring geographic or other boundaries. Then, clusters are randomly selected and a sample is collected by randomly selecting from each cluster.</li>\n",
    "</ul>\n",
    "</div>"
   ]
  },
  {
   "cell_type": "markdown",
   "metadata": {},
   "source": [
    "#### Self Review 8.1\n",
    "\n",
    "a) The students are `PRICE, MARY LYNETTE`, `DETLEY, BRIAN HANS` and  3. `MOLTER, KRISTI MARIE`\n",
    "\n",
    "b) Assume numbers are uniformly distributed. For a randomly drawn value $x$, calculate the modulus $(x\\mod 46)$ and map that value to the student drawn. The following is the results of the first 140 values of $x$ and their modulus value."
   ]
  },
  {
   "cell_type": "code",
   "execution_count": 2,
   "metadata": {
    "ExecuteTime": {
     "end_time": "2019-10-19T06:47:33.801790Z",
     "start_time": "2019-10-19T06:47:33.793326Z"
    },
    "scrolled": true
   },
   "outputs": [
    {
     "name": "stdout",
     "output_type": "stream",
     "text": [
      "[(0, 0), (1, 1), (2, 2), (3, 3), (4, 4)]\n",
      "[(5, 5), (6, 6), (7, 7), (8, 8), (9, 9)]\n",
      "[(10, 10), (11, 11), (12, 12), (13, 13), (14, 14)]\n",
      "[(15, 15), (16, 16), (17, 17), (18, 18), (19, 19)]\n",
      "[(20, 20), (21, 21), (22, 22), (23, 23), (24, 24)]\n",
      "[(25, 25), (26, 26), (27, 27), (28, 28), (29, 29)]\n",
      "[(30, 30), (31, 31), (32, 32), (33, 33), (34, 34)]\n",
      "[(35, 35), (36, 36), (37, 37), (38, 38), (39, 39)]\n",
      "[(40, 40), (41, 41), (42, 42), (43, 43), (44, 44)]\n",
      "[(45, 45), (46, 0), (47, 1), (48, 2), (49, 3)]\n",
      "[(50, 4), (51, 5), (52, 6), (53, 7), (54, 8)]\n",
      "[(55, 9), (56, 10), (57, 11), (58, 12), (59, 13)]\n",
      "[(60, 14), (61, 15), (62, 16), (63, 17), (64, 18)]\n",
      "[(65, 19), (66, 20), (67, 21), (68, 22), (69, 23)]\n",
      "[(70, 24), (71, 25), (72, 26), (73, 27), (74, 28)]\n",
      "[(75, 29), (76, 30), (77, 31), (78, 32), (79, 33)]\n",
      "[(80, 34), (81, 35), (82, 36), (83, 37), (84, 38)]\n",
      "[(85, 39), (86, 40), (87, 41), (88, 42), (89, 43)]\n",
      "[(90, 44), (91, 45), (92, 0), (93, 1), (94, 2)]\n",
      "[(95, 3), (96, 4), (97, 5), (98, 6), (99, 7)]\n",
      "[(100, 8), (101, 9), (102, 10), (103, 11), (104, 12)]\n",
      "[(105, 13), (106, 14), (107, 15), (108, 16), (109, 17)]\n",
      "[(110, 18), (111, 19), (112, 20), (113, 21), (114, 22)]\n",
      "[(115, 23), (116, 24), (117, 25), (118, 26), (119, 27)]\n",
      "[(120, 28), (121, 29), (122, 30), (123, 31), (124, 32)]\n",
      "[(125, 33), (126, 34), (127, 35), (128, 36), (129, 37)]\n",
      "[(130, 38), (131, 39), (132, 40), (133, 41), (134, 42)]\n",
      "[(135, 43), (136, 44), (137, 45), (138, 0), (139, 1)]\n",
      "[(140, 2)]\n"
     ]
    }
   ],
   "source": [
    "picker = list()\n",
    "for i in range(141):\n",
    "    picker.append((i,(i % 46)))\n",
    "for c in range(29):\n",
    "    print(picker[c*5:(c+1)*5])"
   ]
  },
  {
   "cell_type": "markdown",
   "metadata": {
    "ExecuteTime": {
     "end_time": "2019-10-19T05:53:02.893889Z",
     "start_time": "2019-10-19T05:53:02.888330Z"
    }
   },
   "source": [
    "In this case, pick students `43 - WILLIAMS, WENDY A`, `40 - WALASINSKI, MICHAEL` and `10 - EDINGER, SUSAN KEE`."
   ]
  },
  {
   "cell_type": "code",
   "execution_count": 3,
   "metadata": {
    "ExecuteTime": {
     "end_time": "2019-10-19T06:47:33.815066Z",
     "start_time": "2019-10-19T06:47:33.805240Z"
    }
   },
   "outputs": [
    {
     "name": "stdout",
     "output_type": "stream",
     "text": [
      "43 40 10\n"
     ]
    }
   ],
   "source": [
    "print((2711 % 46), (8182 % 46), (79866 % 46))"
   ]
  },
  {
   "cell_type": "markdown",
   "metadata": {},
   "source": [
    "c) Calculate $59 \\mod 46 = 13$ and pick `13 - GAGHEN, PAMELA LYNN`"
   ]
  },
  {
   "cell_type": "code",
   "execution_count": 4,
   "metadata": {
    "ExecuteTime": {
     "end_time": "2019-10-19T06:47:33.825854Z",
     "start_time": "2019-10-19T06:47:33.821481Z"
    }
   },
   "outputs": [
    {
     "name": "stdout",
     "output_type": "stream",
     "text": [
      "13\n"
     ]
    }
   ],
   "source": [
    "print((59 % 46))"
   ]
  },
  {
   "cell_type": "markdown",
   "metadata": {},
   "source": [
    "$\\diamond$"
   ]
  },
  {
   "cell_type": "markdown",
   "metadata": {},
   "source": [
    "#### Self Review 8.2"
   ]
  },
  {
   "cell_type": "code",
   "execution_count": 5,
   "metadata": {
    "ExecuteTime": {
     "end_time": "2019-10-19T06:47:33.836179Z",
     "start_time": "2019-10-19T06:47:33.829278Z"
    },
    "scrolled": true
   },
   "outputs": [
    {
     "name": "stdout",
     "output_type": "stream",
     "text": [
      "[3, 12, 21, 30, 39]\n"
     ]
    }
   ],
   "source": [
    "x = 4\n",
    "l = []\n",
    "for i in range(45//9):\n",
    "    l.append(x + 9*i-1)\n",
    "print(l)"
   ]
  },
  {
   "cell_type": "markdown",
   "metadata": {},
   "source": [
    "The students are `03 - BERRY, CHRISTOPHER G`, `12 - FRANCIS, JAMES P`, `21 - KOPP, BRIDGETTE ANN`, `30 - POTEAU, KRIS E`, `39 - SWETYE, LYNN MICHELE`.\n",
    "\n",
    "$\\diamond$"
   ]
  },
  {
   "cell_type": "markdown",
   "metadata": {},
   "source": [
    "### 8.3\n",
    "\n",
    "<div class=\"alert alert-info\">\n",
    "**SAMPLING ERROR** - The difference between a sample statistic and its corresponding population parameter.\n",
    "</div>"
   ]
  },
  {
   "cell_type": "markdown",
   "metadata": {},
   "source": [
    "### 8.4\n",
    "<div class=\"alert alert-info\">\n",
    "**SAMPLING DISTRIBUTION OF THE SAMPLE MEAN** - A probability distribution of all possible sample means of a given sample size.\n",
    "</div>"
   ]
  },
  {
   "cell_type": "markdown",
   "metadata": {
    "ExecuteTime": {
     "end_time": "2019-10-17T13:09:36.103832Z",
     "start_time": "2019-10-17T13:09:36.098713Z"
    }
   },
   "source": [
    "#### Self Review 8.3"
   ]
  },
  {
   "cell_type": "code",
   "execution_count": 6,
   "metadata": {
    "ExecuteTime": {
     "end_time": "2019-10-19T06:47:33.878527Z",
     "start_time": "2019-10-19T06:47:33.839935Z"
    }
   },
   "outputs": [
    {
     "data": {
      "text/html": [
       "<div>\n",
       "<style scoped>\n",
       "    .dataframe tbody tr th:only-of-type {\n",
       "        vertical-align: middle;\n",
       "    }\n",
       "\n",
       "    .dataframe tbody tr th {\n",
       "        vertical-align: top;\n",
       "    }\n",
       "\n",
       "    .dataframe thead th {\n",
       "        text-align: right;\n",
       "    }\n",
       "</style>\n",
       "<table border=\"1\" class=\"dataframe\">\n",
       "  <thead>\n",
       "    <tr style=\"text-align: right;\">\n",
       "      <th></th>\n",
       "      <th>Name</th>\n",
       "      <th>Years</th>\n",
       "    </tr>\n",
       "  </thead>\n",
       "  <tbody>\n",
       "    <tr>\n",
       "      <th>0</th>\n",
       "      <td>Mr. Snow</td>\n",
       "      <td>20</td>\n",
       "    </tr>\n",
       "    <tr>\n",
       "      <th>1</th>\n",
       "      <td>Ms. Tolson</td>\n",
       "      <td>22</td>\n",
       "    </tr>\n",
       "    <tr>\n",
       "      <th>2</th>\n",
       "      <td>Mr. Kraft</td>\n",
       "      <td>26</td>\n",
       "    </tr>\n",
       "    <tr>\n",
       "      <th>3</th>\n",
       "      <td>Ms. Irwin</td>\n",
       "      <td>24</td>\n",
       "    </tr>\n",
       "    <tr>\n",
       "      <th>4</th>\n",
       "      <td>Mr. Jones</td>\n",
       "      <td>28</td>\n",
       "    </tr>\n",
       "  </tbody>\n",
       "</table>\n",
       "</div>"
      ],
      "text/plain": [
       "         Name  Years\n",
       "0    Mr. Snow     20\n",
       "1  Ms. Tolson     22\n",
       "2   Mr. Kraft     26\n",
       "3   Ms. Irwin     24\n",
       "4   Mr. Jones     28"
      ]
     },
     "metadata": {},
     "output_type": "display_data"
    }
   ],
   "source": [
    "x = ([('Mr. Snow', 20), ('Ms. Tolson', 22), ('Mr. Kraft', 26), \n",
    "      ('Ms. Irwin', 24), ('Mr. Jones', 28)])\n",
    "x_df = pd.DataFrame(x, columns=['Name', 'Years'])\n",
    "x_df['Years'] = x_df['Years'].astype(int)\n",
    "display(x_df)"
   ]
  },
  {
   "cell_type": "markdown",
   "metadata": {},
   "source": [
    "a) The number of possible samples $={5\\choose 2} = \\frac{5!}{2!\\,3!} =  \\frac{120} {12} = 10$ \n",
    "\n",
    "b) To find all the possible samples and the mean of `Years` for each sample,"
   ]
  },
  {
   "cell_type": "code",
   "execution_count": 7,
   "metadata": {
    "ExecuteTime": {
     "end_time": "2019-10-19T06:47:33.917146Z",
     "start_time": "2019-10-19T06:47:33.885628Z"
    }
   },
   "outputs": [
    {
     "data": {
      "text/html": [
       "<div>\n",
       "<style scoped>\n",
       "    .dataframe tbody tr th:only-of-type {\n",
       "        vertical-align: middle;\n",
       "    }\n",
       "\n",
       "    .dataframe tbody tr th {\n",
       "        vertical-align: top;\n",
       "    }\n",
       "\n",
       "    .dataframe thead th {\n",
       "        text-align: right;\n",
       "    }\n",
       "</style>\n",
       "<table border=\"1\" class=\"dataframe\">\n",
       "  <thead>\n",
       "    <tr style=\"text-align: right;\">\n",
       "      <th></th>\n",
       "      <th>Name1</th>\n",
       "      <th>Name2</th>\n",
       "      <th>Years</th>\n",
       "      <th>YearsMean</th>\n",
       "    </tr>\n",
       "  </thead>\n",
       "  <tbody>\n",
       "    <tr>\n",
       "      <th>0</th>\n",
       "      <td>Mr. Snow</td>\n",
       "      <td>Ms. Tolson</td>\n",
       "      <td>20 , 22</td>\n",
       "      <td>21.0</td>\n",
       "    </tr>\n",
       "    <tr>\n",
       "      <th>1</th>\n",
       "      <td>Mr. Snow</td>\n",
       "      <td>Mr. Kraft</td>\n",
       "      <td>20 , 26</td>\n",
       "      <td>23.0</td>\n",
       "    </tr>\n",
       "    <tr>\n",
       "      <th>2</th>\n",
       "      <td>Mr. Snow</td>\n",
       "      <td>Ms. Irwin</td>\n",
       "      <td>20 , 24</td>\n",
       "      <td>22.0</td>\n",
       "    </tr>\n",
       "    <tr>\n",
       "      <th>3</th>\n",
       "      <td>Mr. Snow</td>\n",
       "      <td>Mr. Jones</td>\n",
       "      <td>20 , 28</td>\n",
       "      <td>24.0</td>\n",
       "    </tr>\n",
       "    <tr>\n",
       "      <th>4</th>\n",
       "      <td>Ms. Tolson</td>\n",
       "      <td>Mr. Kraft</td>\n",
       "      <td>22 , 26</td>\n",
       "      <td>24.0</td>\n",
       "    </tr>\n",
       "    <tr>\n",
       "      <th>5</th>\n",
       "      <td>Ms. Tolson</td>\n",
       "      <td>Ms. Irwin</td>\n",
       "      <td>22 , 24</td>\n",
       "      <td>23.0</td>\n",
       "    </tr>\n",
       "    <tr>\n",
       "      <th>6</th>\n",
       "      <td>Ms. Tolson</td>\n",
       "      <td>Mr. Jones</td>\n",
       "      <td>22 , 28</td>\n",
       "      <td>25.0</td>\n",
       "    </tr>\n",
       "    <tr>\n",
       "      <th>7</th>\n",
       "      <td>Mr. Kraft</td>\n",
       "      <td>Ms. Irwin</td>\n",
       "      <td>26 , 24</td>\n",
       "      <td>25.0</td>\n",
       "    </tr>\n",
       "    <tr>\n",
       "      <th>8</th>\n",
       "      <td>Mr. Kraft</td>\n",
       "      <td>Mr. Jones</td>\n",
       "      <td>26 , 28</td>\n",
       "      <td>27.0</td>\n",
       "    </tr>\n",
       "    <tr>\n",
       "      <th>9</th>\n",
       "      <td>Ms. Irwin</td>\n",
       "      <td>Mr. Jones</td>\n",
       "      <td>24 , 28</td>\n",
       "      <td>26.0</td>\n",
       "    </tr>\n",
       "  </tbody>\n",
       "</table>\n",
       "</div>"
      ],
      "text/plain": [
       "        Name1       Name2    Years  YearsMean\n",
       "0    Mr. Snow  Ms. Tolson  20 , 22       21.0\n",
       "1    Mr. Snow   Mr. Kraft  20 , 26       23.0\n",
       "2    Mr. Snow   Ms. Irwin  20 , 24       22.0\n",
       "3    Mr. Snow   Mr. Jones  20 , 28       24.0\n",
       "4  Ms. Tolson   Mr. Kraft  22 , 26       24.0\n",
       "5  Ms. Tolson   Ms. Irwin  22 , 24       23.0\n",
       "6  Ms. Tolson   Mr. Jones  22 , 28       25.0\n",
       "7   Mr. Kraft   Ms. Irwin  26 , 24       25.0\n",
       "8   Mr. Kraft   Mr. Jones  26 , 28       27.0\n",
       "9   Ms. Irwin   Mr. Jones  24 , 28       26.0"
      ]
     },
     "metadata": {},
     "output_type": "display_data"
    }
   ],
   "source": [
    "# Find all samples of size 2\n",
    "d_values = [k[0] + k[1] for k in itertools.combinations(x,2)]\n",
    "# Create a new df with each sample and calculate its mean\n",
    "s_df = pd.DataFrame(d_values, \n",
    "                    columns = ['Name1', 'Years1', 'Name2', 'Years2'])\n",
    "s_df['Years'] = s_df['Years1'].astype(str) + ' , ' + s_df['Years2'].astype(str)\n",
    "s_df['YearsMean'] = s_df[['Years1', 'Years2']].mean(axis=1)\n",
    "display(s_df[['Name1', 'Name2', 'Years', 'YearsMean']])"
   ]
  },
  {
   "cell_type": "markdown",
   "metadata": {},
   "source": [
    "c) To create the sampling distribution,"
   ]
  },
  {
   "cell_type": "code",
   "execution_count": 8,
   "metadata": {
    "ExecuteTime": {
     "end_time": "2019-10-19T06:47:33.961395Z",
     "start_time": "2019-10-19T06:47:33.920654Z"
    }
   },
   "outputs": [
    {
     "data": {
      "text/html": [
       "<div>\n",
       "<style scoped>\n",
       "    .dataframe tbody tr th:only-of-type {\n",
       "        vertical-align: middle;\n",
       "    }\n",
       "\n",
       "    .dataframe tbody tr th {\n",
       "        vertical-align: top;\n",
       "    }\n",
       "\n",
       "    .dataframe thead th {\n",
       "        text-align: right;\n",
       "    }\n",
       "</style>\n",
       "<table border=\"1\" class=\"dataframe\">\n",
       "  <thead>\n",
       "    <tr style=\"text-align: right;\">\n",
       "      <th></th>\n",
       "      <th>YearsMean</th>\n",
       "      <th>n</th>\n",
       "      <th>p</th>\n",
       "    </tr>\n",
       "  </thead>\n",
       "  <tbody>\n",
       "    <tr>\n",
       "      <th>0</th>\n",
       "      <td>21</td>\n",
       "      <td>1</td>\n",
       "      <td>0.1</td>\n",
       "    </tr>\n",
       "    <tr>\n",
       "      <th>1</th>\n",
       "      <td>22</td>\n",
       "      <td>1</td>\n",
       "      <td>0.1</td>\n",
       "    </tr>\n",
       "    <tr>\n",
       "      <th>2</th>\n",
       "      <td>23</td>\n",
       "      <td>2</td>\n",
       "      <td>0.2</td>\n",
       "    </tr>\n",
       "    <tr>\n",
       "      <th>3</th>\n",
       "      <td>24</td>\n",
       "      <td>2</td>\n",
       "      <td>0.2</td>\n",
       "    </tr>\n",
       "    <tr>\n",
       "      <th>4</th>\n",
       "      <td>25</td>\n",
       "      <td>2</td>\n",
       "      <td>0.2</td>\n",
       "    </tr>\n",
       "    <tr>\n",
       "      <th>5</th>\n",
       "      <td>26</td>\n",
       "      <td>1</td>\n",
       "      <td>0.1</td>\n",
       "    </tr>\n",
       "    <tr>\n",
       "      <th>6</th>\n",
       "      <td>27</td>\n",
       "      <td>1</td>\n",
       "      <td>0.1</td>\n",
       "    </tr>\n",
       "    <tr>\n",
       "      <th>7</th>\n",
       "      <td>Total</td>\n",
       "      <td>10</td>\n",
       "      <td>1.0</td>\n",
       "    </tr>\n",
       "  </tbody>\n",
       "</table>\n",
       "</div>"
      ],
      "text/plain": [
       "  YearsMean   n    p\n",
       "0        21   1  0.1\n",
       "1        22   1  0.1\n",
       "2        23   2  0.2\n",
       "3        24   2  0.2\n",
       "4        25   2  0.2\n",
       "5        26   1  0.1\n",
       "6        27   1  0.1\n",
       "7     Total  10  1.0"
      ]
     },
     "metadata": {},
     "output_type": "display_data"
    }
   ],
   "source": [
    "s_mean_count = s_df.groupby(['YearsMean']).size().reset_index(name='n')\n",
    "s_mean_count['p'] = s_mean_count['n']/s_mean_count['n'].sum()\n",
    "s_mean_count.loc[7] = ['Total',s_mean_count['n'].sum(),s_mean_count['p'].sum()]\n",
    "display(s_mean_count)"
   ]
  },
  {
   "cell_type": "markdown",
   "metadata": {},
   "source": [
    "d)"
   ]
  },
  {
   "cell_type": "code",
   "execution_count": 9,
   "metadata": {
    "ExecuteTime": {
     "end_time": "2019-10-19T06:47:33.972583Z",
     "start_time": "2019-10-19T06:47:33.965025Z"
    }
   },
   "outputs": [
    {
     "name": "stdout",
     "output_type": "stream",
     "text": [
      "24.0\n",
      "24.0\n"
     ]
    }
   ],
   "source": [
    "popn_mean = x_df['Years'].mean()\n",
    "print(popn_mean)\n",
    "sampling_mean = s_df['YearsMean'].mean()\n",
    "print(sampling_mean)"
   ]
  },
  {
   "cell_type": "markdown",
   "metadata": {},
   "source": [
    "The population mean, $\\mu$ and the sampling mean, $\\mu_{\\bar{X}}$ are the same.\n",
    "\n",
    "e) "
   ]
  },
  {
   "cell_type": "code",
   "execution_count": 10,
   "metadata": {
    "ExecuteTime": {
     "end_time": "2019-10-19T06:47:33.984807Z",
     "start_time": "2019-10-19T06:47:33.976365Z"
    }
   },
   "outputs": [
    {
     "name": "stdout",
     "output_type": "stream",
     "text": [
      "[20 22 24 26 28]\n",
      "[21. 22. 23. 24. 25. 26. 27.]\n"
     ]
    }
   ],
   "source": [
    "print(x_df['Years'].sort_values().unique())\n",
    "print(s_df['YearsMean'].sort_values().unique())"
   ]
  },
  {
   "cell_type": "markdown",
   "metadata": {},
   "source": [
    "The populations take values from 20 to 28 while the values of the sample mean are from 21 to 27. (Which is smaller than that of the population values).\n",
    "\n",
    "f) No.\n",
    "\n",
    "g) "
   ]
  },
  {
   "cell_type": "code",
   "execution_count": 11,
   "metadata": {
    "ExecuteTime": {
     "end_time": "2019-10-19T06:47:34.270656Z",
     "start_time": "2019-10-19T06:47:33.987576Z"
    }
   },
   "outputs": [
    {
     "data": {
      "image/png": "[encoded data removed]",
      "text/plain": [
       "<Figure size 864x288 with 1 Axes>"
      ]
     },
     "metadata": {},
     "output_type": "display_data"
    }
   ],
   "source": [
    "fig, ax = plt.subplots(figsize=(12,4))\n",
    "s_mean_count[:-1].plot(kind='bar', x='YearsMean',\n",
    "                  y='n', color='grey', ax=ax)\n",
    "plt.show()"
   ]
  },
  {
   "cell_type": "markdown",
   "metadata": {},
   "source": [
    "Yes.\n",
    "\n",
    "$\\diamond$"
   ]
  },
  {
   "cell_type": "markdown",
   "metadata": {},
   "source": [
    "### 8.5\n",
    "\n",
    "<div class=\"alert alert-info\">\n",
    "<p>**CENTRAL LIMIT THEOREM** - If all samples of a particular size are selected from any population, the sampling distribution of the sample mean is approximately a normal distribution. This approximation improves with larger samples.</p>\n",
    "</div>\n",
    "\n",
    "<div class=\"alert alert-success\">\n",
    "<p>**STANDARD ERROR OF THE MEAN** - Standard deviation of the sampling distribution of the sample mean. It is calculated as:</p>\n",
    "\n",
    "$$\\sigma_{\\bar{X}} = \\frac{\\sigma}{\\sqrt X}$$\n",
    "</div>\n"
   ]
  },
  {
   "cell_type": "markdown",
   "metadata": {},
   "source": [
    "#### Self Review 8.4"
   ]
  },
  {
   "cell_type": "code",
   "execution_count": 12,
   "metadata": {
    "ExecuteTime": {
     "end_time": "2019-10-19T06:47:34.762633Z",
     "start_time": "2019-10-19T06:47:34.273602Z"
    },
    "scrolled": false
   },
   "outputs": [
    {
     "name": "stdout",
     "output_type": "stream",
     "text": [
      "[3.8, 3.0, 6.0, 7.4, 2.0, 2.6, 7.2, 4.6, 2.4, 7.0]\n"
     ]
    },
    {
     "data": {
      "image/png": "[encoded data removed]",
      "text/plain": [
       "<Figure size 864x576 with 2 Axes>"
      ]
     },
     "metadata": {},
     "output_type": "display_data"
    },
    {
     "name": "stdout",
     "output_type": "stream",
     "text": [
      "The mean of the 10 sample means is 4.600\n"
     ]
    }
   ],
   "source": [
    "svc_lengths = pd.Series([11, 4, 18, 2, 1, 2, 0, 2, 2, 4, 3, 4, 1, 2, 2, 3, 3, 19, 8, 3, 7, 1, 0, 2, 7, 0, 4, 5, 1, 14, 16, 8, 9, 1, 1, 2, 5, 10, 2, 3,])\n",
    "# Select 10 samples of 5 employees\n",
    "svc_samples = []\n",
    "num_samples = 10\n",
    "for i in range(num_samples):\n",
    "    svc_samples.append(svc_lengths.sample(5))\n",
    "# Mean of each sample\n",
    "means = []\n",
    "for spl in svc_samples:\n",
    "    means.append(spl.mean())\n",
    "means_series = pd.Series(means)\n",
    "print(list(means_series))\n",
    "fig = plt.figure(figsize=(12, 8))\n",
    "ax1, ax2 = fig.add_subplot(211), fig.add_subplot(212)\n",
    "sns.distplot(means_series, hist_kws=dict(edgecolor=\"k\", linewidth=2),\n",
    "            bins=7,ax=ax1)\n",
    "sns.swarmplot(means_series, ax=ax2)\n",
    "ax1.set_xlim(-6,12)\n",
    "ax2.set_xlim(-6,12)\n",
    "plt.show()\n",
    "print(\"The mean of the {:d} sample means is {:.3f}\".format(\n",
    "num_samples, means_series.mean()))"
   ]
  },
  {
   "cell_type": "markdown",
   "metadata": {},
   "source": [
    "$\\diamond$"
   ]
  },
  {
   "cell_type": "markdown",
   "metadata": {},
   "source": [
    "### 8.6\n",
    "\n",
    "The $z$-value is used to determine if the difference between the population parameter and the sample statistic is random sampling error and due to chance, or it is statistically significant.\n",
    "\n",
    "We now attempt to calculate the probability that a sample mean falls within a certain range. By leveraging on the formula to find the $z$-value, $z=\\frac{X-\\mu} \\sigma$, the modified formula for the sample mean is:\n",
    "\n",
    "<div class=\"alert alert-success\">\n",
    "**FINDING $z$-value of $\\bar X$ when POPULATION STANDARD DEVIATION IS KNOWN**:\n",
    "\n",
    "$$z = \\frac{\\bar X - \\mu}{\\frac{\\sigma}{\\sqrt n}}$$\n",
    "\n",
    "where $\\bar X$ is the sample mean, $\\mu$ is the population mean, $\\sigma$ is the population standard deviation and $n$ is the number of samples.\n",
    "</div>\n",
    "\n",
    "#### Example:\n",
    "For a manufacturing process, given $X \\sim (\\mu=31.2, \\sigma = 0.4)$, a sample $n=16$ is drawn and the sample mean $\\bar X = 31.38$. To determine if this is unlikely, calculate the $z$-value:"
   ]
  },
  {
   "cell_type": "code",
   "execution_count": 13,
   "metadata": {
    "ExecuteTime": {
     "end_time": "2019-10-19T06:47:34.774291Z",
     "start_time": "2019-10-19T06:47:34.766751Z"
    }
   },
   "outputs": [
    {
     "name": "stdout",
     "output_type": "stream",
     "text": [
      "1.7999999999999972\n",
      "0.03593031911292602\n"
     ]
    }
   ],
   "source": [
    "z = (31.38 - 31.2)/ (0.4/16**0.5)\n",
    "print(z)\n",
    "print(sp.stats.norm.sf(z))"
   ]
  },
  {
   "cell_type": "markdown",
   "metadata": {},
   "source": [
    "Since $\\Pr (Z>1.8) = 0.036$, it is unlikely that we select a sample that has $\\bar X>31.38$. We conclude that the process is putting too much soda in each bottle."
   ]
  },
  {
   "cell_type": "markdown",
   "metadata": {},
   "source": [
    "#### Self Review 8.5\n",
    "\n",
    "Given now that $\\bar X = 31.08$"
   ]
  },
  {
   "cell_type": "code",
   "execution_count": 14,
   "metadata": {
    "ExecuteTime": {
     "end_time": "2019-10-19T06:47:34.785160Z",
     "start_time": "2019-10-19T06:47:34.777379Z"
    }
   },
   "outputs": [
    {
     "name": "stdout",
     "output_type": "stream",
     "text": [
      "-1.20000000000001\n",
      "0.11506967022170633\n"
     ]
    }
   ],
   "source": [
    "z2 = (31.08-31.2) / (0.4/16**0.5)\n",
    "print(z2)\n",
    "print(sp.stats.norm.cdf(z2))"
   ]
  },
  {
   "cell_type": "markdown",
   "metadata": {},
   "source": [
    "$z$-value is $-1.20$, chance of $z$-value smaller than $-1.2$ is $11.5\\%$. It is unlikely that there are so many bottles underfilled.\n",
    "\n",
    "$\\diamond$"
   ]
  },
  {
   "cell_type": "markdown",
   "metadata": {
    "ExecuteTime": {
     "end_time": "2019-10-19T06:47:13.019197Z",
     "start_time": "2019-10-19T06:47:13.011745Z"
    }
   },
   "source": [
    "**References:**\n",
    "\n",
    "Lind, Marchal, Wathen (2012). Statistical Techniques in Business and Economics (McGraw-Hill)"
   ]
  }
 ],
 "metadata": {
  "kernelspec": {
   "display_name": "Python 3",
   "language": "python",
   "name": "python3"
  },
  "language_info": {
   "codemirror_mode": {
    "name": "ipython",
    "version": 3
   },
   "file_extension": ".py",
   "mimetype": "text/x-python",
   "name": "python",
   "nbconvert_exporter": "python",
   "pygments_lexer": "ipython3",
   "version": "3.6.5"
  }
 },
 "nbformat": 4,
 "nbformat_minor": 2
}
