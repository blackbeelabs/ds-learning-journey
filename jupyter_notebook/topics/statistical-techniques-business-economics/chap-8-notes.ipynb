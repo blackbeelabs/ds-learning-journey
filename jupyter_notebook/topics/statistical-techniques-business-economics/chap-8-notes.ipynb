{
 "cells": [
  {
   "cell_type": "markdown",
   "metadata": {},
   "source": [
    "## Chap 8 - Sampling Methods and the Central Limit Theorem"
   ]
  },
  {
   "cell_type": "code",
   "execution_count": 1,
   "metadata": {
    "ExecuteTime": {
     "end_time": "2019-10-17T17:20:02.597400Z",
     "start_time": "2019-10-17T17:20:01.744563Z"
    }
   },
   "outputs": [],
   "source": [
    "import pandas as pd\n",
    "import itertools\n",
    "import matplotlib.pyplot as plt\n",
    "import seaborn as sns\n",
    "import scipy as sp\n",
    "sns.set()\n",
    "\n",
    "import warnings\n",
    "warnings.simplefilter(action='ignore', category=FutureWarning)\n",
    "warnings.simplefilter(action='ignore', category=UserWarning)"
   ]
  },
  {
   "cell_type": "markdown",
   "metadata": {},
   "source": [
    "### 8.2\n",
    "\n",
    "<div class=\"alert alert-info\">\n",
    "**SIMPLE RANDOM SAMPLE** - A sample selected so that each item or person in the population has the same chance of being included.\n",
    "\n",
    "**SYSTEMATIC RANDOM SAMPLE** - A random starting point is selected, and then every kth member of the population is selected.\n",
    "\n",
    "**STRATIFIED RANDOM SAMPLE** - A population is divided into subgroups, called strata, and a sample is randomly selected from each stratum.\n",
    "\n",
    "**CLUSTER SAMPLE** - A population is divided into clusters using naturally occurring geographic or other boundaries. Then, clusters are randomly selected and a sample is collected by randomly selecting from each cluster.\n",
    "</div>\n",
    "<hr>"
   ]
  },
  {
   "cell_type": "markdown",
   "metadata": {},
   "source": [
    "<u>Self Review 8.1</u>\n",
    "\n",
    "a) PRICE, MARY LYNETTE, DETLEY, BRIAN HANS, MOLTER, KRISTI MARIE\n",
    "\n",
    "b) Use $(x\\mod 46) -1$ to pick the numbers, and then pick the students. This results in picking 42, 39, 9\n",
    "\n",
    "c) Calculate $(59\\mod 46) -1=12$ and pick student no. 12"
   ]
  },
  {
   "cell_type": "code",
   "execution_count": 2,
   "metadata": {
    "ExecuteTime": {
     "end_time": "2019-10-17T17:20:02.607070Z",
     "start_time": "2019-10-17T17:20:02.599744Z"
    }
   },
   "outputs": [
    {
     "name": "stdout",
     "output_type": "stream",
     "text": [
      "42\n",
      "39\n",
      "9\n",
      "\n",
      "12\n"
     ]
    }
   ],
   "source": [
    "print((2711 % 46)-1)\n",
    "print((8182 % 46)-1)\n",
    "print((79866 % 46)-1)\n",
    "print()\n",
    "print((59 % 46)-1)"
   ]
  },
  {
   "cell_type": "markdown",
   "metadata": {},
   "source": [
    "<u>Self Review 8.2</u>\n",
    "\n",
    "Students `03`, `12`, `21`, `30`, `39`"
   ]
  },
  {
   "cell_type": "code",
   "execution_count": 3,
   "metadata": {
    "ExecuteTime": {
     "end_time": "2019-10-17T17:20:02.635962Z",
     "start_time": "2019-10-17T17:20:02.610515Z"
    }
   },
   "outputs": [
    {
     "name": "stdout",
     "output_type": "stream",
     "text": [
      "[3, 12, 21, 30, 39]\n"
     ]
    }
   ],
   "source": [
    "x = 4\n",
    "l = []\n",
    "for i in range(45//9):\n",
    "    l.append(x + 9*i-1)\n",
    "print(l)"
   ]
  },
  {
   "cell_type": "markdown",
   "metadata": {},
   "source": [
    "### 8.3\n",
    "\n",
    "<div class=\"alert alert-info\">\n",
    "**SAMPLING ERROR** - The difference between a sample statistic and its corresponding population parameter.\n",
    "</div>"
   ]
  },
  {
   "cell_type": "markdown",
   "metadata": {},
   "source": [
    "### 8.4\n",
    "<div class=\"alert alert-info\">\n",
    "**SAMPLING DISTRIBUTION OF THE SAMPLE MEAN** - A probability distribution of all possible sample means of a given sample size.\n",
    "</div>"
   ]
  },
  {
   "cell_type": "markdown",
   "metadata": {
    "ExecuteTime": {
     "end_time": "2019-10-17T13:09:36.103832Z",
     "start_time": "2019-10-17T13:09:36.098713Z"
    }
   },
   "source": [
    "<u>Self Review 8.3</u>"
   ]
  },
  {
   "cell_type": "code",
   "execution_count": 4,
   "metadata": {
    "ExecuteTime": {
     "end_time": "2019-10-17T17:20:02.667124Z",
     "start_time": "2019-10-17T17:20:02.640314Z"
    }
   },
   "outputs": [
    {
     "data": {
      "text/html": [
       "<div>\n",
       "<style scoped>\n",
       "    .dataframe tbody tr th:only-of-type {\n",
       "        vertical-align: middle;\n",
       "    }\n",
       "\n",
       "    .dataframe tbody tr th {\n",
       "        vertical-align: top;\n",
       "    }\n",
       "\n",
       "    .dataframe thead th {\n",
       "        text-align: right;\n",
       "    }\n",
       "</style>\n",
       "<table border=\"1\" class=\"dataframe\">\n",
       "  <thead>\n",
       "    <tr style=\"text-align: right;\">\n",
       "      <th></th>\n",
       "      <th>Name</th>\n",
       "      <th>Years</th>\n",
       "    </tr>\n",
       "  </thead>\n",
       "  <tbody>\n",
       "    <tr>\n",
       "      <th>0</th>\n",
       "      <td>Mr. Snow</td>\n",
       "      <td>20.0</td>\n",
       "    </tr>\n",
       "    <tr>\n",
       "      <th>1</th>\n",
       "      <td>Ms. Tolson</td>\n",
       "      <td>22.0</td>\n",
       "    </tr>\n",
       "    <tr>\n",
       "      <th>2</th>\n",
       "      <td>Mr. Kraft</td>\n",
       "      <td>26.0</td>\n",
       "    </tr>\n",
       "    <tr>\n",
       "      <th>3</th>\n",
       "      <td>Ms. Irwin</td>\n",
       "      <td>24.0</td>\n",
       "    </tr>\n",
       "    <tr>\n",
       "      <th>4</th>\n",
       "      <td>Mr. Jones</td>\n",
       "      <td>28.0</td>\n",
       "    </tr>\n",
       "  </tbody>\n",
       "</table>\n",
       "</div>"
      ],
      "text/plain": [
       "         Name  Years\n",
       "0    Mr. Snow   20.0\n",
       "1  Ms. Tolson   22.0\n",
       "2   Mr. Kraft   26.0\n",
       "3   Ms. Irwin   24.0\n",
       "4   Mr. Jones   28.0"
      ]
     },
     "metadata": {},
     "output_type": "display_data"
    }
   ],
   "source": [
    "x = ([('Mr. Snow', 20), ('Ms. Tolson', 22), \n",
    "       ('Mr. Kraft', 26), ('Ms. Irwin', 24),\n",
    "       ('Mr. Jones', 28)])\n",
    "x_df = pd.DataFrame(x, columns=['Name', 'Years'])\n",
    "x_df['Years'] = x_df['Years'].astype(float)\n",
    "display(x_df)"
   ]
  },
  {
   "cell_type": "markdown",
   "metadata": {},
   "source": [
    "a) No. of possible samples $={5\\choose 2} = \\frac{5!}{2! \\cdot 3!} =  \\frac{120} {12} = 10$ \n",
    "\n",
    "b)\n"
   ]
  },
  {
   "cell_type": "code",
   "execution_count": 5,
   "metadata": {
    "ExecuteTime": {
     "end_time": "2019-10-17T17:20:02.689773Z",
     "start_time": "2019-10-17T17:20:02.670036Z"
    }
   },
   "outputs": [
    {
     "data": {
      "text/html": [
       "<div>\n",
       "<style scoped>\n",
       "    .dataframe tbody tr th:only-of-type {\n",
       "        vertical-align: middle;\n",
       "    }\n",
       "\n",
       "    .dataframe tbody tr th {\n",
       "        vertical-align: top;\n",
       "    }\n",
       "\n",
       "    .dataframe thead th {\n",
       "        text-align: right;\n",
       "    }\n",
       "</style>\n",
       "<table border=\"1\" class=\"dataframe\">\n",
       "  <thead>\n",
       "    <tr style=\"text-align: right;\">\n",
       "      <th></th>\n",
       "      <th>Name1</th>\n",
       "      <th>Years1</th>\n",
       "      <th>Name2</th>\n",
       "      <th>Years2</th>\n",
       "      <th>YearsMean</th>\n",
       "    </tr>\n",
       "  </thead>\n",
       "  <tbody>\n",
       "    <tr>\n",
       "      <th>0</th>\n",
       "      <td>Mr. Snow</td>\n",
       "      <td>20</td>\n",
       "      <td>Ms. Tolson</td>\n",
       "      <td>22</td>\n",
       "      <td>21.0</td>\n",
       "    </tr>\n",
       "    <tr>\n",
       "      <th>1</th>\n",
       "      <td>Mr. Snow</td>\n",
       "      <td>20</td>\n",
       "      <td>Mr. Kraft</td>\n",
       "      <td>26</td>\n",
       "      <td>23.0</td>\n",
       "    </tr>\n",
       "    <tr>\n",
       "      <th>2</th>\n",
       "      <td>Mr. Snow</td>\n",
       "      <td>20</td>\n",
       "      <td>Ms. Irwin</td>\n",
       "      <td>24</td>\n",
       "      <td>22.0</td>\n",
       "    </tr>\n",
       "    <tr>\n",
       "      <th>3</th>\n",
       "      <td>Mr. Snow</td>\n",
       "      <td>20</td>\n",
       "      <td>Mr. Jones</td>\n",
       "      <td>28</td>\n",
       "      <td>24.0</td>\n",
       "    </tr>\n",
       "    <tr>\n",
       "      <th>4</th>\n",
       "      <td>Ms. Tolson</td>\n",
       "      <td>22</td>\n",
       "      <td>Mr. Kraft</td>\n",
       "      <td>26</td>\n",
       "      <td>24.0</td>\n",
       "    </tr>\n",
       "    <tr>\n",
       "      <th>5</th>\n",
       "      <td>Ms. Tolson</td>\n",
       "      <td>22</td>\n",
       "      <td>Ms. Irwin</td>\n",
       "      <td>24</td>\n",
       "      <td>23.0</td>\n",
       "    </tr>\n",
       "    <tr>\n",
       "      <th>6</th>\n",
       "      <td>Ms. Tolson</td>\n",
       "      <td>22</td>\n",
       "      <td>Mr. Jones</td>\n",
       "      <td>28</td>\n",
       "      <td>25.0</td>\n",
       "    </tr>\n",
       "    <tr>\n",
       "      <th>7</th>\n",
       "      <td>Mr. Kraft</td>\n",
       "      <td>26</td>\n",
       "      <td>Ms. Irwin</td>\n",
       "      <td>24</td>\n",
       "      <td>25.0</td>\n",
       "    </tr>\n",
       "    <tr>\n",
       "      <th>8</th>\n",
       "      <td>Mr. Kraft</td>\n",
       "      <td>26</td>\n",
       "      <td>Mr. Jones</td>\n",
       "      <td>28</td>\n",
       "      <td>27.0</td>\n",
       "    </tr>\n",
       "    <tr>\n",
       "      <th>9</th>\n",
       "      <td>Ms. Irwin</td>\n",
       "      <td>24</td>\n",
       "      <td>Mr. Jones</td>\n",
       "      <td>28</td>\n",
       "      <td>26.0</td>\n",
       "    </tr>\n",
       "  </tbody>\n",
       "</table>\n",
       "</div>"
      ],
      "text/plain": [
       "        Name1  Years1       Name2  Years2  YearsMean\n",
       "0    Mr. Snow      20  Ms. Tolson      22       21.0\n",
       "1    Mr. Snow      20   Mr. Kraft      26       23.0\n",
       "2    Mr. Snow      20   Ms. Irwin      24       22.0\n",
       "3    Mr. Snow      20   Mr. Jones      28       24.0\n",
       "4  Ms. Tolson      22   Mr. Kraft      26       24.0\n",
       "5  Ms. Tolson      22   Ms. Irwin      24       23.0\n",
       "6  Ms. Tolson      22   Mr. Jones      28       25.0\n",
       "7   Mr. Kraft      26   Ms. Irwin      24       25.0\n",
       "8   Mr. Kraft      26   Mr. Jones      28       27.0\n",
       "9   Ms. Irwin      24   Mr. Jones      28       26.0"
      ]
     },
     "metadata": {},
     "output_type": "display_data"
    }
   ],
   "source": [
    "d_values = [k[0] + k[1] for k in itertools.combinations(x,2)]\n",
    "s_df = pd.DataFrame(d_values, columns = ['Name1', 'Years1', 'Name2', 'Years2'])\n",
    "s_df['YearsMean'] = s_df[['Years1', 'Years2']].mean(axis=1)\n",
    "display(s_df)"
   ]
  },
  {
   "cell_type": "markdown",
   "metadata": {},
   "source": [
    "c)"
   ]
  },
  {
   "cell_type": "code",
   "execution_count": 6,
   "metadata": {
    "ExecuteTime": {
     "end_time": "2019-10-17T17:20:02.700363Z",
     "start_time": "2019-10-17T17:20:02.692303Z"
    }
   },
   "outputs": [
    {
     "name": "stdout",
     "output_type": "stream",
     "text": [
      "YearsMean\n",
      "21.0    1\n",
      "22.0    1\n",
      "23.0    2\n",
      "24.0    2\n",
      "25.0    2\n",
      "26.0    1\n",
      "27.0    1\n",
      "dtype: int64\n"
     ]
    }
   ],
   "source": [
    "s_mean_count = s_df.groupby(['YearsMean']).size()\n",
    "print(s_mean_count)"
   ]
  },
  {
   "cell_type": "markdown",
   "metadata": {},
   "source": [
    "d)"
   ]
  },
  {
   "cell_type": "code",
   "execution_count": 7,
   "metadata": {
    "ExecuteTime": {
     "end_time": "2019-10-17T17:20:02.710373Z",
     "start_time": "2019-10-17T17:20:02.703471Z"
    }
   },
   "outputs": [
    {
     "name": "stdout",
     "output_type": "stream",
     "text": [
      "24.0\n",
      "24.0\n"
     ]
    }
   ],
   "source": [
    "popn_mean = x_df['Years'].mean()\n",
    "print(popn_mean)\n",
    "sampling_mean = s_df['YearsMean'].mean()\n",
    "print(sampling_mean)"
   ]
  },
  {
   "cell_type": "markdown",
   "metadata": {},
   "source": [
    "The population mean, $\\mu$ and the sampling mean, $\\mu_{\\bar{X}}$ are the same.\n",
    "\n",
    "e) "
   ]
  },
  {
   "cell_type": "code",
   "execution_count": 8,
   "metadata": {
    "ExecuteTime": {
     "end_time": "2019-10-17T17:20:02.720845Z",
     "start_time": "2019-10-17T17:20:02.714020Z"
    }
   },
   "outputs": [
    {
     "name": "stdout",
     "output_type": "stream",
     "text": [
      "10.0\n",
      "3.3333333333333335\n"
     ]
    }
   ],
   "source": [
    "print(x_df['Years'].var())\n",
    "print(s_df['YearsMean'].var())"
   ]
  },
  {
   "cell_type": "markdown",
   "metadata": {},
   "source": [
    "The distribution of the sample mean is smaller than that of the population dispersion.\n",
    "\n",
    "f) No.\n",
    "\n",
    "g) "
   ]
  },
  {
   "cell_type": "code",
   "execution_count": 9,
   "metadata": {
    "ExecuteTime": {
     "end_time": "2019-10-17T17:20:02.948775Z",
     "start_time": "2019-10-17T17:20:02.724215Z"
    }
   },
   "outputs": [
    {
     "data": {
      "text/plain": [
       "<matplotlib.axes._subplots.AxesSubplot at 0x11cd49518>"
      ]
     },
     "execution_count": 9,
     "metadata": {},
     "output_type": "execute_result"
    },
    {
     "data": {
      "image/png": "[encoded data removed]",
      "text/plain": [
       "<Figure size 432x288 with 1 Axes>"
      ]
     },
     "metadata": {},
     "output_type": "display_data"
    }
   ],
   "source": [
    "s_mean_count.reset_index(name='n').plot(kind='bar', x='YearsMean', \n",
    "                                          y='n', color='black')"
   ]
  },
  {
   "cell_type": "markdown",
   "metadata": {},
   "source": [
    "Yes."
   ]
  },
  {
   "cell_type": "markdown",
   "metadata": {},
   "source": [
    "### 8.5\n",
    "\n",
    "<div class=\"alert alert-info\">\n",
    "<p>**CENTRAL LIMIT THEOREM** - If all samples of a particular size are selected from any population, the sampling distribution of the sample mean is approximately a normal distribution. This approximation improves with larger samples.</p>\n",
    "<p>\n",
    "**STANDARD ERROR OF THE MEAN** - Standard deviation of the sampling distribution of the sample mean.</p>\n",
    "</div>\n",
    "\n",
    "<div class=\"alert alert-success\">\n",
    "**STANDARD ERROR OF THE MEAN**, \n",
    "$$\\sigma_{\\bar{X}} = \\frac{\\sigma}{\\sqrt X}$$\n",
    "</div>\n"
   ]
  },
  {
   "cell_type": "markdown",
   "metadata": {},
   "source": [
    "<u>Self Review 8.4</u>"
   ]
  },
  {
   "cell_type": "code",
   "execution_count": 10,
   "metadata": {
    "ExecuteTime": {
     "end_time": "2019-10-17T17:20:03.161396Z",
     "start_time": "2019-10-17T17:20:02.951874Z"
    }
   },
   "outputs": [
    {
     "name": "stdout",
     "output_type": "stream",
     "text": [
      "0    5.6\n",
      "1    5.0\n",
      "2    6.2\n",
      "3    2.8\n",
      "4    6.2\n",
      "5    8.4\n",
      "6    5.2\n",
      "7    1.6\n",
      "8    4.4\n",
      "9    4.6\n",
      "dtype: float64\n"
     ]
    },
    {
     "data": {
      "text/plain": [
       "<matplotlib.axes._subplots.AxesSubplot at 0x11ee63eb8>"
      ]
     },
     "execution_count": 10,
     "metadata": {},
     "output_type": "execute_result"
    },
    {
     "data": {
      "image/png": "[encoded data removed]",
      "text/plain": [
       "<Figure size 432x288 with 1 Axes>"
      ]
     },
     "metadata": {},
     "output_type": "display_data"
    }
   ],
   "source": [
    "svc_lengths = pd.Series([11, 4, 18, 2, 1, 2, 0, 2, 2, 4, 3, 4, 1, 2, 2, 3, 3, 19, 8, 3, 7, 1, 0, 2, 7, 0, 4, 5, 1, 14, 16, 8, 9, 1, 1, 2, 5, 10, 2, 3,])\n",
    "# Select 10 samples of 5 employees\n",
    "svc_samples = []\n",
    "for i in range(10):\n",
    "    svc_samples.append(svc_lengths.sample(5))\n",
    "# Mean of each sample\n",
    "means = []\n",
    "for spl in svc_samples:\n",
    "    means.append(spl.mean())\n",
    "means_series = pd.Series(means)\n",
    "print(means_series)\n",
    "sns.distplot(means_series)"
   ]
  },
  {
   "cell_type": "markdown",
   "metadata": {},
   "source": [
    "### 8.6\n",
    "\n",
    "<div class=\"alert alert-success\">\n",
    "**FINDING $z$-value of $\\bar X$ when POPULATION STANDARD DEVIATION IS KNOWN**:\n",
    "\n",
    "$$z = \\frac{\\bar X - \\mu}{\\frac{\\sigma}{\\sqrt n}}$$\n",
    "</div>"
   ]
  },
  {
   "cell_type": "markdown",
   "metadata": {},
   "source": [
    "<u>Self Review 8.5</u>"
   ]
  },
  {
   "cell_type": "code",
   "execution_count": 11,
   "metadata": {
    "ExecuteTime": {
     "end_time": "2019-10-17T17:20:03.170491Z",
     "start_time": "2019-10-17T17:20:03.164675Z"
    }
   },
   "outputs": [
    {
     "name": "stdout",
     "output_type": "stream",
     "text": [
      "-1.20000000000001\n",
      "0.11506967022170633\n"
     ]
    }
   ],
   "source": [
    "z = (31.08-31.2) / (0.4/16**0.5)\n",
    "print(z)\n",
    "print(sp.stats.norm.sf(abs(z)))"
   ]
  },
  {
   "cell_type": "markdown",
   "metadata": {},
   "source": [
    "$z$-value is $-1.20$, chance of $z$-value smaller than $-1.2$ is $11.5\\%$. It is unlikely that there are so many bottles underfilled. Hence, increase the amount filled in each bottle."
   ]
  }
 ],
 "metadata": {
  "kernelspec": {
   "display_name": "Python 3",
   "language": "python",
   "name": "python3"
  },
  "language_info": {
   "codemirror_mode": {
    "name": "ipython",
    "version": 3
   },
   "file_extension": ".py",
   "mimetype": "text/x-python",
   "name": "python",
   "nbconvert_exporter": "python",
   "pygments_lexer": "ipython3",
   "version": "3.6.5"
  }
 },
 "nbformat": 4,
 "nbformat_minor": 2
}
