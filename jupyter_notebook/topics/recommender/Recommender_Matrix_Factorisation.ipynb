{
 "cells": [
  {
   "cell_type": "markdown",
   "metadata": {},
   "source": [
    "# Matrix Factorization Techniques for Recommender Systems"
   ]
  },
  {
   "cell_type": "markdown",
   "metadata": {},
   "source": [
    "## Representation\n",
    "\n",
    "Assume a store has $N$ items and $M$ users. Map each user $u$ and an item $i$ to a **joint latent factor space** of dimensionality $f$, $p_u$ and $q_i$ respectively. Mathematically,\n",
    "\n",
    "$$\\text{item }q_i \\in \\mathbb{R}^f \\\\\n",
    "\\text{user }p_u \\in \\mathbb{R}^f$$\n",
    "\n",
    "Each element in $q_i$ represents if the item possesses the factor and each element in $p_u$ represents if the user is interested in items possessing the factor.\n",
    "\n",
    "### Example:\n",
    "\n",
    "$f=4$ and is represented as:\n",
    "\n",
    "$$q_i = \\begin{bmatrix} item\\_is\\_electronics\\\\item\\_is\\_home\\_living\\\\item\\_is\\_fashion\\\\item\\_is\\_fmcg \\end{bmatrix}$$\n",
    "\n",
    "$$p_u = \\begin{bmatrix} user\\_likes\\_electronics\\\\user\\_likes\\_home\\_living\\\\user\\_likes\\_fashion\\\\user\\_likes\\_fmcg \\end{bmatrix}$$"
   ]
  },
  {
   "cell_type": "markdown",
   "metadata": {},
   "source": [
    "## Ratings\n",
    "\n",
    "The resulting dot product $q_i^Tp_u$ captures the interaction between user $u$'s and item $i$ - the user's interest in the item's characteristics. This approximates the **observable** $u$'s rating of $i$, denoted by $r_{ui}$. This leads to the estimate\n",
    "\n",
    "$$\\hat{r}_{ui} = q_i^Tp_u \\cdots(1)$$\n",
    "\n",
    "The challenge is computing the **factor vectors** given the **rating matrix**."
   ]
  },
  {
   "cell_type": "markdown",
   "metadata": {},
   "source": [
    "Given the ratings by multiple users on multiple items, $S$, To learn the factor vectors, minimize the regularized squared error on the set of known ratings:\n",
    "\n",
    "$$\\begin{align}\\min_{q*,p*} &\\sum_{(u,i) \\in S} (r_{ui} - q_i^Tp_u)^2 + \\lambda (||q_i||^2 + ||p_u||^2)\\\\\n",
    "=\\min_{q*,p*} & \\sum_{(u,i) \\in S} r_{ui}^2 - 2r_{ui}q_i^Tp_u + (q_i^Tp_u)^2 + \\lambda ||q_i||^2 + \\lambda ||p_u||^2  \\cdots (2)\\end{align}$$"
   ]
  },
  {
   "cell_type": "markdown",
   "metadata": {},
   "source": [
    "## Stochastic Gradient Descent\n",
    "\n",
    "Predict $r_{ui}$ and compute the associated prediction error and computes the associated prediction error:\n",
    "\n",
    "$$e_{ui} = r_{ui} - q_i^Tp_u$$\n",
    "\n",
    "Then it modifies the parameters by a magnitude propotional to $\\gamma$ in the opposite direction of the gradient:\n",
    "\n",
    "$$\\begin{align}\n",
    "q_i \\leftarrow q_i + \\gamma \\cdot (e_{ui} \\cdot p_u - \\lambda \\cdot q_i)\\\\\n",
    "p_u \\leftarrow p_u + \\gamma \\cdot (e_{ui} \\cdot q_i - \\lambda \\cdot p_u)\n",
    "\\end{align}$$"
   ]
  },
  {
   "cell_type": "markdown",
   "metadata": {},
   "source": [
    "## Alternating Least Squares (ALS)\n",
    "\n",
    "We fix one of the unknowns, $q_i$ or $p_u$. Then $(2)$ now becomes a quadratic function and now can be solved optimally. ALS rotate between fixing the $q_i$s and the $p_u$s. Then all $p_u$s are fixed, recompute the $q_i$s by solving a least-squares problem and vice versa. Repeat until $(2)$ converges."
   ]
  },
  {
   "cell_type": "markdown",
   "metadata": {},
   "source": [
    "## Adding Biases\n",
    "\n",
    "Some users generally rate products better (or worse) than others and some items are generally better (or worse) than others. Hence, we cannot explain the full rating based on the interaction between $q_i$ and $p_u$. A first-order approximation of the bias involved in rating $r_{ui}$ is:\n",
    "\n",
    "$$b_{ui} = \\mu + b_i + b_u \\cdots (3)$$\n",
    "\n",
    "### Example\n",
    "\n",
    "The average rating for *all movies* is $3.7$ stars and Civil War is better-than-average and hence is rated $0.4$ stars above the global average. Jeremy is a critical user and gives $1$ star lower than the average and hence the estimate will be $(3.7 + 0.4 - 1.0) = 3.1$\n",
    "\n",
    "Biases extend $(1)$:\n",
    "\n",
    "$$\\hat{r}_{ui} = \\mu + b_i + b_u + q_i^Tp_u \\cdots(4)$$\n",
    "\n",
    "and hence the error function is now:\n",
    "\n",
    "$$\\begin{align}\\min_{q*,p*,b*} &\\sum_{(u,i) \\in S} (r_{ui} - \\mu - b_u - b_i - q_i^Tp_u)^2 + \\lambda (||q_i||^2 + ||p_u||^2 + b_u^2 + b_i^2) \\cdots (5)\\end{align}$$"
   ]
  },
  {
   "cell_type": "markdown",
   "metadata": {},
   "source": [
    "# Additional Readings\n",
    "\n",
    "### Additional Input Sources\n",
    "\n",
    "Extend $(4)$ to\n",
    "$$\\hat{r}_{ui} = \\mu + b_i + b_u + q_i^T\\begin{bmatrix}p_u + |N(u)|^{-0.5} \\sum_{i \\in N(u)} x_i + \\sum_{a\\in A(u)} y_a\\end{bmatrix} \\cdots(6)$$\n",
    "\n",
    "### Temporal Dynamics\n",
    "\n",
    "Extend $(4)$ to\n",
    "$$\\hat{r}_{ui}(t) = \\mu + b_i(t) + b_u(t) + q_i^Tp_u(t) \\cdots(7)$$\n",
    "\n",
    "### Varying Confidence Levels\n",
    "\n",
    "Extend $(4)$ to\n",
    "$$\\begin{align}\\min_{q*,p*,b*} &\\sum_{(u,i) \\in S} c_{ui}(r_{ui} - \\mu - b_u - b_i - q_i^Tp_u)^2 + \\lambda (||q_i||^2 + ||p_u||^2 + b_u^2 + b_i^2) \\cdots (8)\\end{align}$$"
   ]
  },
  {
   "cell_type": "markdown",
   "metadata": {},
   "source": [
    "**References**\n",
    "\n",
    "- https://datajobs.com/data-science-repo/Recommender-Systems-[Netflix].pdf\n",
    "\n",
    "**Additional Readings**\n",
    "- http://www.quuxlabs.com/blog/2010/09/matrix-factorization-a-simple-tutorial-and-implementation-in-python/"
   ]
  }
 ],
 "metadata": {
  "kernelspec": {
   "display_name": "Python 3",
   "language": "python",
   "name": "python3"
  },
  "language_info": {
   "codemirror_mode": {
    "name": "ipython",
    "version": 3
   },
   "file_extension": ".py",
   "mimetype": "text/x-python",
   "name": "python",
   "nbconvert_exporter": "python",
   "pygments_lexer": "ipython3",
   "version": "3.4.8"
  }
 },
 "nbformat": 4,
 "nbformat_minor": 2
}
