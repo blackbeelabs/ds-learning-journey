{
 "cells": [
  {
   "cell_type": "markdown",
   "metadata": {},
   "source": [
    "# Probability Distributions 1\n",
    "## Discrete Distributions"
   ]
  },
  {
   "cell_type": "markdown",
   "metadata": {},
   "source": [
    "### Binomial Distribution\n",
    "\n",
    "Parameterised by $p$ and $n$, where $0 < p < 1$, and $n$ is a positive integer, $f_X(x)$ is the probability of having $x$ successes in $n$ independent Bernoulli trials and is defined as:\n",
    "\n",
    "$$f_X(x) = \\begin{pmatrix}n\\\\x\\end{pmatrix}p^x(1-p)^{n-x}$$\n",
    "\n",
    "for $x = 0, 1, \\cdots, n$\n",
    "\n",
    "where $\\begin{pmatrix}n\\\\x\\end{pmatrix} = \\frac{n!}{x!(n-x)!}$. If $n=1$ then $f_X(x) $ is the Bernoulli Distribution and is defined as:\n",
    "\n",
    "$$f_X(x) = p^x(1-p)^{1-x}$$"
   ]
  },
  {
   "cell_type": "markdown",
   "metadata": {},
   "source": [
    "### Poisson Distribution\n",
    "\n",
    "Parameterised by $\\lambda$, $f_X(x)$ is the probability of observing $x$  arrivals in a certain period, and is defined by:\n",
    "\n",
    "$$f_X(x) = \\frac{\\lambda ^x e^{-\\lambda}}{x!}$$\n",
    "\n",
    "for $x = 0, 1, \\cdots$\n"
   ]
  },
  {
   "cell_type": "markdown",
   "metadata": {},
   "source": [
    "## Continuous Distributions"
   ]
  },
  {
   "cell_type": "markdown",
   "metadata": {},
   "source": [
    "### Exponential Distribution\n",
    "\n",
    "Parameterised by $\\lambda > 0$,\n",
    "\n",
    "$$f_X(x) = \\lambda e^{-\\lambda x}$$\n",
    "\n",
    "$$F_X(x) = 1 - e^{-\\lambda x}$$\n",
    "\n",
    "for $x \\geq 0$\n",
    "\n",
    "The exponential distribution is often used to describe the inter-arrival time of an event, and is related to the Poisson distribution. If the inter-arrival time of an event is distributed as an exponential random variable with parameter $\\lambda$ then the number of occurences in a unit time interval is distributed with parameter $\\lambda$."
   ]
  },
  {
   "cell_type": "markdown",
   "metadata": {},
   "source": [
    "### Uniform Distribution\n",
    "\n",
    "Parameterised by the minimum $a$ and maximum $b$, $-\\infty < a < b < \\infty$, the pdf is:\n",
    "\n",
    "$$f_X(x) = \\begin{cases}\\frac{1}{b-a} & \\text{if } x \\in [a,b]\\\\\n",
    "0 & \\text{otherwise}\\end{cases}$$"
   ]
  },
  {
   "cell_type": "markdown",
   "metadata": {},
   "source": [
    "### Normal Distribution\n",
    "\n",
    "Parameterised by the mean $\\mu$ and variance $\\sigma^2$, the pdf is:\n",
    "\n",
    "$$f_X(x) = \\frac{1}{\\sqrt {2\\pi}\\sigma}\\exp\\begin{bmatrix}\\frac{-(x-\\mu)^2}{2\\sigma^2}\\end{bmatrix}$$"
   ]
  },
  {
   "cell_type": "markdown",
   "metadata": {},
   "source": [
    "**References:**\n",
    "\n",
    "Nonlife Actuarial Models, Yiu (2009) - Chapter 1, 2, Appendix: Review of Statistics"
   ]
  },
  {
   "cell_type": "code",
   "execution_count": null,
   "metadata": {},
   "outputs": [],
   "source": []
  }
 ],
 "metadata": {
  "kernelspec": {
   "display_name": "Python 3",
   "language": "python",
   "name": "python3"
  },
  "language_info": {
   "codemirror_mode": {
    "name": "ipython",
    "version": 3
   },
   "file_extension": ".py",
   "mimetype": "text/x-python",
   "name": "python",
   "nbconvert_exporter": "python",
   "pygments_lexer": "ipython3",
   "version": "3.4.3"
  }
 },
 "nbformat": 4,
 "nbformat_minor": 2
}
