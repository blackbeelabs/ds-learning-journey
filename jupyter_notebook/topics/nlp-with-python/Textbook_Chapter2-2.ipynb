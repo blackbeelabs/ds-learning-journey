{
 "cells": [
  {
   "cell_type": "markdown",
   "metadata": {},
   "source": [
    "# Accessing Text Corpora and Lexical Resources\n",
    "\n",
    "## Conditional Frequency Distributions"
   ]
  },
  {
   "cell_type": "code",
   "execution_count": 9,
   "metadata": {
    "ExecuteTime": {
     "end_time": "2019-09-21T10:05:32.086029Z",
     "start_time": "2019-09-21T10:05:32.082290Z"
    }
   },
   "outputs": [],
   "source": [
    "import pandas as pd\n",
    "import matplotlib.pyplot as plt\n",
    "from nltk.tokenize import word_tokenize"
   ]
  },
  {
   "cell_type": "code",
   "execution_count": 10,
   "metadata": {
    "ExecuteTime": {
     "end_time": "2019-09-21T10:05:46.327744Z",
     "start_time": "2019-09-21T10:05:38.955144Z"
    }
   },
   "outputs": [
    {
     "data": {
      "text/html": [
       "<div>\n",
       "<style scoped>\n",
       "    .dataframe tbody tr th:only-of-type {\n",
       "        vertical-align: middle;\n",
       "    }\n",
       "\n",
       "    .dataframe tbody tr th {\n",
       "        vertical-align: top;\n",
       "    }\n",
       "\n",
       "    .dataframe thead th {\n",
       "        text-align: right;\n",
       "    }\n",
       "</style>\n",
       "<table border=\"1\" class=\"dataframe\">\n",
       "  <thead>\n",
       "    <tr style=\"text-align: right;\">\n",
       "      <th></th>\n",
       "      <th>category</th>\n",
       "      <th>text</th>\n",
       "      <th>num_chars</th>\n",
       "      <th>num_tokens</th>\n",
       "    </tr>\n",
       "  </thead>\n",
       "  <tbody>\n",
       "    <tr>\n",
       "      <th>0</th>\n",
       "      <td>tech</td>\n",
       "      <td>tv future in the hands of viewers with home th...</td>\n",
       "      <td>4333</td>\n",
       "      <td>773</td>\n",
       "    </tr>\n",
       "    <tr>\n",
       "      <th>1</th>\n",
       "      <td>business</td>\n",
       "      <td>worldcom boss  left books alone  former worldc...</td>\n",
       "      <td>1842</td>\n",
       "      <td>321</td>\n",
       "    </tr>\n",
       "    <tr>\n",
       "      <th>2</th>\n",
       "      <td>sport</td>\n",
       "      <td>tigers wary of farrell  gamble  leicester say ...</td>\n",
       "      <td>1342</td>\n",
       "      <td>257</td>\n",
       "    </tr>\n",
       "  </tbody>\n",
       "</table>\n",
       "</div>"
      ],
      "text/plain": [
       "   category                                               text  num_chars  \\\n",
       "0      tech  tv future in the hands of viewers with home th...       4333   \n",
       "1  business  worldcom boss  left books alone  former worldc...       1842   \n",
       "2     sport  tigers wary of farrell  gamble  leicester say ...       1342   \n",
       "\n",
       "   num_tokens  \n",
       "0         773  \n",
       "1         321  \n",
       "2         257  "
      ]
     },
     "metadata": {},
     "output_type": "display_data"
    }
   ],
   "source": [
    "df = pd.read_csv('dataset1-bbc-text.csv')\n",
    "df['num_chars'] = df['text'].apply(lambda x : len(x))\n",
    "df['num_tokens'] = df['text'].apply(lambda x : len(word_tokenize(x)))\n",
    "display(df.head(3))"
   ]
  },
  {
   "cell_type": "code",
   "execution_count": 18,
   "metadata": {
    "ExecuteTime": {
     "end_time": "2019-09-21T10:07:39.299217Z",
     "start_time": "2019-09-21T10:07:39.043417Z"
    }
   },
   "outputs": [
    {
     "data": {
      "text/html": [
       "<div>\n",
       "<style scoped>\n",
       "    .dataframe tbody tr th:only-of-type {\n",
       "        vertical-align: middle;\n",
       "    }\n",
       "\n",
       "    .dataframe tbody tr th {\n",
       "        vertical-align: top;\n",
       "    }\n",
       "\n",
       "    .dataframe thead th {\n",
       "        text-align: right;\n",
       "    }\n",
       "</style>\n",
       "<table border=\"1\" class=\"dataframe\">\n",
       "  <thead>\n",
       "    <tr style=\"text-align: right;\">\n",
       "      <th></th>\n",
       "      <th>category</th>\n",
       "      <th>n</th>\n",
       "    </tr>\n",
       "  </thead>\n",
       "  <tbody>\n",
       "    <tr>\n",
       "      <th>0</th>\n",
       "      <td>business</td>\n",
       "      <td>510</td>\n",
       "    </tr>\n",
       "    <tr>\n",
       "      <th>1</th>\n",
       "      <td>entertainment</td>\n",
       "      <td>386</td>\n",
       "    </tr>\n",
       "    <tr>\n",
       "      <th>2</th>\n",
       "      <td>politics</td>\n",
       "      <td>417</td>\n",
       "    </tr>\n",
       "    <tr>\n",
       "      <th>3</th>\n",
       "      <td>sport</td>\n",
       "      <td>511</td>\n",
       "    </tr>\n",
       "    <tr>\n",
       "      <th>4</th>\n",
       "      <td>tech</td>\n",
       "      <td>401</td>\n",
       "    </tr>\n",
       "  </tbody>\n",
       "</table>\n",
       "</div>"
      ],
      "text/plain": [
       "        category    n\n",
       "0       business  510\n",
       "1  entertainment  386\n",
       "2       politics  417\n",
       "3          sport  511\n",
       "4           tech  401"
      ]
     },
     "metadata": {},
     "output_type": "display_data"
    },
    {
     "data": {
      "text/plain": [
       "<matplotlib.axes._subplots.AxesSubplot at 0x1116cea58>"
      ]
     },
     "execution_count": 18,
     "metadata": {},
     "output_type": "execute_result"
    },
    {
     "data": {
      "image/png": "[encoded data removed]",
      "text/plain": [
       "<Figure size 432x288 with 1 Axes>"
      ]
     },
     "metadata": {},
     "output_type": "display_data"
    }
   ],
   "source": [
    "cat_count = df.groupby('category').size().reset_index(name='n')\n",
    "display(cat_count)\n",
    "cat_count.index = cat_count['category']\n",
    "cat_count.plot(kind='bar', figsize=())"
   ]
  },
  {
   "cell_type": "code",
   "execution_count": 3,
   "metadata": {
    "ExecuteTime": {
     "end_time": "2019-09-21T09:48:46.590102Z",
     "start_time": "2019-09-21T09:48:46.586549Z"
    }
   },
   "outputs": [],
   "source": [
    "from nltk.corpus import gutenberg"
   ]
  },
  {
   "cell_type": "code",
   "execution_count": 4,
   "metadata": {
    "ExecuteTime": {
     "end_time": "2019-09-21T09:48:46.603991Z",
     "start_time": "2019-09-21T09:48:46.593405Z"
    }
   },
   "outputs": [
    {
     "name": "stdout",
     "output_type": "stream",
     "text": [
      "['austen-emma.txt', 'austen-persuasion.txt', 'austen-sense.txt', 'bible-kjv.txt', 'blake-poems.txt', 'bryant-stories.txt', 'burgess-busterbrown.txt', 'carroll-alice.txt', 'chesterton-ball.txt', 'chesterton-brown.txt']\n"
     ]
    }
   ],
   "source": [
    "# Get the file identifiers of the corpus\n",
    "print(gutenberg.fileids()[:10])"
   ]
  },
  {
   "cell_type": "code",
   "execution_count": 5,
   "metadata": {
    "ExecuteTime": {
     "end_time": "2019-09-21T09:48:46.613946Z",
     "start_time": "2019-09-21T09:48:46.609273Z"
    },
    "scrolled": true
   },
   "outputs": [],
   "source": [
    "f = 'austen-sense.txt'"
   ]
  },
  {
   "cell_type": "code",
   "execution_count": 6,
   "metadata": {
    "ExecuteTime": {
     "end_time": "2019-09-21T09:48:46.626402Z",
     "start_time": "2019-09-21T09:48:46.617117Z"
    }
   },
   "outputs": [
    {
     "name": "stdout",
     "output_type": "stream",
     "text": [
      "[Sense and Sensibility by Jane Austen 1811]\n",
      "\n",
      "CHAPTER 1\n",
      "\n",
      "\n",
      "The family of Dashwood had long been settled in Sussex.\n",
      "Their estate was large, and their residence was at Norland Park,\n",
      "in the centre of their\n"
     ]
    }
   ],
   "source": [
    "# Get the raw text of Sense and Sensibility\n",
    "print(gutenberg.raw(f)[:200])"
   ]
  },
  {
   "cell_type": "code",
   "execution_count": 7,
   "metadata": {
    "ExecuteTime": {
     "end_time": "2019-09-21T09:48:46.891710Z",
     "start_time": "2019-09-21T09:48:46.630834Z"
    }
   },
   "outputs": [
    {
     "name": "stdout",
     "output_type": "stream",
     "text": [
      "['unintentional', 'comparatively', 'accommodations', 'reconciliation', 'affectionately', 'disinterestedness', 'demonstrations', 'mortification', 'distinguishing', 'consideration', 'insurmountable', 'administering', 'disagreements', 'disappointing', 'unexhilarating']\n"
     ]
    }
   ],
   "source": [
    "# Get the words of Sense and Sensibility\n",
    "wd = gutenberg.words(f)\n",
    "s = set(wd) # Get the vocabulary of the text\n",
    "print([w for w in s if len(w) > 12][:15]) # Find all words with 12 characters or more"
   ]
  },
  {
   "cell_type": "code",
   "execution_count": 8,
   "metadata": {
    "ExecuteTime": {
     "end_time": "2019-09-21T09:48:46.913275Z",
     "start_time": "2019-09-21T09:48:46.894637Z"
    }
   },
   "outputs": [
    {
     "name": "stdout",
     "output_type": "stream",
     "text": [
      "['[', 'Sense', 'and', 'Sensibility', 'by', 'Jane', 'Austen', '1811', ']']\n",
      "\n",
      "['CHAPTER', '1']\n",
      "\n",
      "['The', 'family', 'of', 'Dashwood', 'had', 'long', 'been', 'settled', 'in', 'Sussex', '.']\n",
      "\n",
      "['Their', 'estate', 'was', 'large', ',', 'and', 'their', 'residence', 'was', 'at', 'Norland', 'Park', ',', 'in', 'the', 'centre', 'of', 'their', 'property', ',', 'where', ',', 'for', 'many', 'generations', ',', 'they', 'had', 'lived', 'in', 'so', 'respectable', 'a', 'manner', 'as', 'to', 'engage', 'the', 'general', 'good', 'opinion', 'of', 'their', 'surrounding', 'acquaintance', '.']\n",
      "\n",
      "['The', 'late', 'owner', 'of', 'this', 'estate', 'was', 'a', 'single', 'man', ',', 'who', 'lived', 'to', 'a', 'very', 'advanced', 'age', ',', 'and', 'who', 'for', 'many', 'years', 'of', 'his', 'life', ',', 'had', 'a', 'constant', 'companion', 'and', 'housekeeper', 'in', 'his', 'sister', '.']\n",
      "\n"
     ]
    }
   ],
   "source": [
    "# Get the sentences of Sense and Sensibility\n",
    "for st in gutenberg.sents(f)[:5]:\n",
    "    print(st)\n",
    "    print()"
   ]
  },
  {
   "cell_type": "markdown",
   "metadata": {},
   "source": [
    "### Webtext Corpus"
   ]
  },
  {
   "cell_type": "code",
   "execution_count": 9,
   "metadata": {
    "ExecuteTime": {
     "end_time": "2019-09-21T09:48:46.921069Z",
     "start_time": "2019-09-21T09:48:46.916489Z"
    }
   },
   "outputs": [],
   "source": [
    "from nltk.corpus import webtext"
   ]
  },
  {
   "cell_type": "code",
   "execution_count": 10,
   "metadata": {
    "ExecuteTime": {
     "end_time": "2019-09-21T09:48:46.938576Z",
     "start_time": "2019-09-21T09:48:46.924744Z"
    }
   },
   "outputs": [
    {
     "name": "stdout",
     "output_type": "stream",
     "text": [
      "['firefox.txt', 'grail.txt', 'overheard.txt', 'pirates.txt', 'singles.txt', 'wine.txt']\n"
     ]
    }
   ],
   "source": [
    "# Get the fileids\n",
    "print(webtext.fileids())"
   ]
  },
  {
   "cell_type": "code",
   "execution_count": 11,
   "metadata": {
    "ExecuteTime": {
     "end_time": "2019-09-21T09:48:46.951021Z",
     "start_time": "2019-09-21T09:48:46.941607Z"
    }
   },
   "outputs": [
    {
     "name": "stdout",
     "output_type": "stream",
     "text": [
      "White guy: So, do you have any plans for this evening?\n",
      "Asian girl: Yeah, being angry!\n",
      "White guy: Oh, that sounds good.\n",
      "\n",
      "Guy #1: So this Jack guy is basically the luckiest man in the world.\n",
      "Guy #2: Why\n"
     ]
    }
   ],
   "source": [
    "f2 = 'overheard.txt'\n",
    "print(webtext.raw(f2)[:200])"
   ]
  },
  {
   "cell_type": "markdown",
   "metadata": {},
   "source": [
    "### NPS Chat"
   ]
  },
  {
   "cell_type": "code",
   "execution_count": 12,
   "metadata": {
    "ExecuteTime": {
     "end_time": "2019-09-21T09:48:46.959523Z",
     "start_time": "2019-09-21T09:48:46.954061Z"
    }
   },
   "outputs": [],
   "source": [
    "from nltk.corpus import nps_chat"
   ]
  },
  {
   "cell_type": "code",
   "execution_count": 13,
   "metadata": {
    "ExecuteTime": {
     "end_time": "2019-09-21T09:48:46.989888Z",
     "start_time": "2019-09-21T09:48:46.967126Z"
    }
   },
   "outputs": [
    {
     "data": {
      "text/plain": [
       "['10-19-20s_706posts.xml', '10-19-30s_705posts.xml', '10-19-40s_686posts.xml']"
      ]
     },
     "execution_count": 13,
     "metadata": {},
     "output_type": "execute_result"
    }
   ],
   "source": [
    "nps_chat.fileids()[:3]"
   ]
  },
  {
   "cell_type": "code",
   "execution_count": 14,
   "metadata": {
    "ExecuteTime": {
     "end_time": "2019-09-21T09:48:47.017788Z",
     "start_time": "2019-09-21T09:48:46.994482Z"
    }
   },
   "outputs": [
    {
     "name": "stdout",
     "output_type": "stream",
     "text": [
      "now im left with this gay name\n",
      ":P\n",
      "PART\n",
      "hey everyone\n",
      "ah well\n",
      "NICK : U7\n",
      "U7 is a gay name .\n",
      ". ACTION gives U121 a golf clap .\n",
      ":)\n",
      "JOIN\n",
      "hi U59\n",
      "26 / m / ky women that are nice please pm me\n",
      "JOIN\n",
      "PART\n",
      "there ya go U7\n"
     ]
    }
   ],
   "source": [
    "for p in nps_chat.posts('10-19-20s_706posts.xml')[:15]:\n",
    "    print(' '.join(p))"
   ]
  },
  {
   "cell_type": "markdown",
   "metadata": {},
   "source": [
    "### Brown Corpus"
   ]
  },
  {
   "cell_type": "code",
   "execution_count": 15,
   "metadata": {
    "ExecuteTime": {
     "end_time": "2019-09-21T09:48:47.028589Z",
     "start_time": "2019-09-21T09:48:47.023965Z"
    }
   },
   "outputs": [],
   "source": [
    "from nltk.corpus import brown"
   ]
  },
  {
   "cell_type": "code",
   "execution_count": 16,
   "metadata": {
    "ExecuteTime": {
     "end_time": "2019-09-21T09:48:47.040553Z",
     "start_time": "2019-09-21T09:48:47.032549Z"
    }
   },
   "outputs": [
    {
     "name": "stdout",
     "output_type": "stream",
     "text": [
      "['ca01', 'ca02', 'ca03', 'ca04', 'ca05', 'ca06', 'ca07', 'ca08', 'ca09', 'ca10', 'ca11', 'ca12', 'ca13', 'ca14', 'ca15', 'ca16', 'ca17', 'ca18', 'ca19', 'ca20']\n"
     ]
    }
   ],
   "source": [
    "# Get the files of the corpus\n",
    "print(brown.fileids()[:20])"
   ]
  },
  {
   "cell_type": "code",
   "execution_count": 17,
   "metadata": {
    "ExecuteTime": {
     "end_time": "2019-09-21T09:48:47.051267Z",
     "start_time": "2019-09-21T09:48:47.042467Z"
    }
   },
   "outputs": [
    {
     "name": "stdout",
     "output_type": "stream",
     "text": [
      "['adventure', 'belles_lettres', 'editorial', 'fiction', 'government', 'hobbies', 'humor', 'learned', 'lore', 'mystery', 'news', 'religion', 'reviews', 'romance', 'science_fiction']\n"
     ]
    }
   ],
   "source": [
    "# Get the categories of the corpus\n",
    "print(brown.categories())"
   ]
  },
  {
   "cell_type": "code",
   "execution_count": 18,
   "metadata": {
    "ExecuteTime": {
     "end_time": "2019-09-21T09:48:47.446624Z",
     "start_time": "2019-09-21T09:48:47.054362Z"
    }
   },
   "outputs": [
    {
     "name": "stdout",
     "output_type": "stream",
     "text": [
      "['The', 'Fulton', 'County', 'Grand', 'Jury', 'said', ...]\n",
      "100554\n",
      "['Does', 'our', 'society', 'have', 'a', 'runaway', ',', ...]\n",
      "2291\n"
     ]
    }
   ],
   "source": [
    "# Filter for all words in one / multiple category(ies)\n",
    "news_text = brown.words(categories=['news'])\n",
    "print(news_text[:])\n",
    "print(len(news_text))\n",
    "\n",
    "# Filter for all words in 1 document\n",
    "news_text2 = brown.words(fileids=['cg22'])\n",
    "print(news_text2[:])\n",
    "print(len(news_text2))"
   ]
  },
  {
   "cell_type": "markdown",
   "metadata": {},
   "source": [
    "### Reuters Corpus"
   ]
  },
  {
   "cell_type": "code",
   "execution_count": 19,
   "metadata": {
    "ExecuteTime": {
     "end_time": "2019-09-21T09:48:47.452551Z",
     "start_time": "2019-09-21T09:48:47.449189Z"
    }
   },
   "outputs": [],
   "source": [
    "from nltk.corpus import reuters"
   ]
  },
  {
   "cell_type": "code",
   "execution_count": 20,
   "metadata": {
    "ExecuteTime": {
     "end_time": "2019-09-21T09:48:47.734743Z",
     "start_time": "2019-09-21T09:48:47.455984Z"
    }
   },
   "outputs": [
    {
     "name": "stdout",
     "output_type": "stream",
     "text": [
      "['test/14826', 'test/14828', 'test/14829', 'test/14832', 'test/14833', 'test/14839', 'test/14840', 'test/14841', 'test/14842', 'test/14843', 'test/14844', 'test/14849', 'test/14852', 'test/14854', 'test/14858', 'test/14859', 'test/14860', 'test/14861', 'test/14862', 'test/14863']\n"
     ]
    }
   ],
   "source": [
    "# Get the files of the corpus\n",
    "print(reuters.fileids()[:20])"
   ]
  },
  {
   "cell_type": "code",
   "execution_count": 21,
   "metadata": {
    "ExecuteTime": {
     "end_time": "2019-09-21T09:48:48.799973Z",
     "start_time": "2019-09-21T09:48:47.738279Z"
    }
   },
   "outputs": [
    {
     "name": "stdout",
     "output_type": "stream",
     "text": [
      "['gas', 'lead']\n"
     ]
    }
   ],
   "source": [
    "# Get all categories of a document\n",
    "print(reuters.categories(['test/14863']))"
   ]
  },
  {
   "cell_type": "code",
   "execution_count": 22,
   "metadata": {
    "ExecuteTime": {
     "end_time": "2019-09-21T09:48:48.805909Z",
     "start_time": "2019-09-21T09:48:48.802385Z"
    }
   },
   "outputs": [],
   "source": [
    "#Print a concordance for word with the specified context window. Word matching is not case-sensitive.\n",
    "#https://stackoverflow.com/questions/29110950/python-concordance-command-in-nltk\n",
    "# emma_text.concordance(\"surprize\")"
   ]
  },
  {
   "cell_type": "code",
   "execution_count": 23,
   "metadata": {
    "ExecuteTime": {
     "end_time": "2019-09-21T09:48:48.812956Z",
     "start_time": "2019-09-21T09:48:48.809229Z"
    }
   },
   "outputs": [],
   "source": [
    "# from nltk.corpus import gutenberg\n",
    "# #Get the sentences of a corpus using the sentence tokeniser\n",
    "# gutenberg.sents('austen-sense.txt')"
   ]
  },
  {
   "cell_type": "code",
   "execution_count": 24,
   "metadata": {
    "ExecuteTime": {
     "end_time": "2019-09-21T09:48:48.820665Z",
     "start_time": "2019-09-21T09:48:48.816834Z"
    }
   },
   "outputs": [],
   "source": [
    "# from nltk.corpus import brown\n",
    "# #use brown.words to get the words in a particular corpus\n",
    "# news_text = brown.words(categories='news')\n",
    "# #use nltk.FreqDist to get the frequency of words in a corpus\n",
    "# fdist = nltk.FreqDist([w.lower() for w in news_text])\n",
    "# #Count the number of modals in the corpus\n",
    "# modals = ['can', 'could', 'may', 'might', 'must', 'will']\n",
    "# for m in modals:\n",
    "#     print(\"%s : %d\" % (m, fdist[m]))"
   ]
  },
  {
   "cell_type": "code",
   "execution_count": 25,
   "metadata": {
    "ExecuteTime": {
     "end_time": "2019-09-21T09:48:48.828664Z",
     "start_time": "2019-09-21T09:48:48.823541Z"
    }
   },
   "outputs": [],
   "source": [
    "# # from nltk.corpus import reuters\n",
    "# #Use corpus.fileids() to get all the files in the corpus\n",
    "# #reuters.fileids()\n",
    "# #Use corpus.categories() to get all categories of the corpus\n",
    "# reuters.categories()[0:7]"
   ]
  }
 ],
 "metadata": {
  "kernelspec": {
   "display_name": "Python 3",
   "language": "python",
   "name": "python3"
  },
  "language_info": {
   "codemirror_mode": {
    "name": "ipython",
    "version": 3
   },
   "file_extension": ".py",
   "mimetype": "text/x-python",
   "name": "python",
   "nbconvert_exporter": "python",
   "pygments_lexer": "ipython3",
   "version": "3.6.5"
  }
 },
 "nbformat": 4,
 "nbformat_minor": 2
}
