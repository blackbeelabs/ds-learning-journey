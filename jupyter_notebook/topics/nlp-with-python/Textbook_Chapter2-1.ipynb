{
 "cells": [
  {
   "cell_type": "markdown",
   "metadata": {},
   "source": [
    "# Accessing Text Corpora and Lexical Resources\n",
    "\n",
    "## Accessing Text Corpora"
   ]
  },
  {
   "cell_type": "code",
   "execution_count": 1,
   "metadata": {
    "ExecuteTime": {
     "end_time": "2019-09-21T10:02:04.198189Z",
     "start_time": "2019-09-21T10:02:03.370201Z"
    }
   },
   "outputs": [],
   "source": [
    "import nltk"
   ]
  },
  {
   "cell_type": "code",
   "execution_count": 2,
   "metadata": {
    "ExecuteTime": {
     "end_time": "2019-09-21T10:02:04.204431Z",
     "start_time": "2019-09-21T10:02:04.200558Z"
    }
   },
   "outputs": [],
   "source": [
    "# nltk.download('gutenberg')\n",
    "# nltk.download('webtext')\n",
    "# nltk.download('nps_chat')\n",
    "# nltk.download('brown')\n",
    "# nltk.download('reuters')"
   ]
  },
  {
   "cell_type": "markdown",
   "metadata": {},
   "source": [
    "### Gutenberg Corpus"
   ]
  },
  {
   "cell_type": "code",
   "execution_count": 3,
   "metadata": {
    "ExecuteTime": {
     "end_time": "2019-09-21T10:02:04.212220Z",
     "start_time": "2019-09-21T10:02:04.208206Z"
    }
   },
   "outputs": [],
   "source": [
    "from nltk.corpus import gutenberg"
   ]
  },
  {
   "cell_type": "code",
   "execution_count": 4,
   "metadata": {
    "ExecuteTime": {
     "end_time": "2019-09-21T10:02:04.225616Z",
     "start_time": "2019-09-21T10:02:04.216583Z"
    }
   },
   "outputs": [
    {
     "name": "stdout",
     "output_type": "stream",
     "text": [
      "['austen-emma.txt', 'austen-persuasion.txt', 'austen-sense.txt', 'bible-kjv.txt', 'blake-poems.txt', 'bryant-stories.txt', 'burgess-busterbrown.txt', 'carroll-alice.txt', 'chesterton-ball.txt', 'chesterton-brown.txt']\n"
     ]
    }
   ],
   "source": [
    "# Get the file identifiers of the corpus\n",
    "print(gutenberg.fileids()[:10])"
   ]
  },
  {
   "cell_type": "code",
   "execution_count": 5,
   "metadata": {
    "ExecuteTime": {
     "end_time": "2019-09-21T10:02:04.232700Z",
     "start_time": "2019-09-21T10:02:04.228994Z"
    },
    "scrolled": true
   },
   "outputs": [],
   "source": [
    "f = 'austen-sense.txt'"
   ]
  },
  {
   "cell_type": "code",
   "execution_count": 6,
   "metadata": {
    "ExecuteTime": {
     "end_time": "2019-09-21T10:02:04.245227Z",
     "start_time": "2019-09-21T10:02:04.235676Z"
    }
   },
   "outputs": [
    {
     "name": "stdout",
     "output_type": "stream",
     "text": [
      "[Sense and Sensibility by Jane Austen 1811]\n",
      "\n",
      "CHAPTER 1\n",
      "\n",
      "\n",
      "The family of Dashwood had long been settled in Sussex.\n",
      "Their estate was large, and their residence was at Norland Park,\n",
      "in the centre of their\n"
     ]
    }
   ],
   "source": [
    "# Get the raw text of Sense and Sensibility\n",
    "print(gutenberg.raw(f)[:200])"
   ]
  },
  {
   "cell_type": "code",
   "execution_count": 7,
   "metadata": {
    "ExecuteTime": {
     "end_time": "2019-09-21T10:02:04.488545Z",
     "start_time": "2019-09-21T10:02:04.249098Z"
    }
   },
   "outputs": [
    {
     "name": "stdout",
     "output_type": "stream",
     "text": [
      "['aggrandizement', 'protestations', 'acknowledgment', 'prepossession', 'disproportion', 'prepossessing', 'acknowledging', 'connoisseurship', 'impertinently', 'unfortunately', 'congratulated', 'communicating', 'representations', 'INconvenience', 'expeditiously']\n"
     ]
    }
   ],
   "source": [
    "# Get the words of Sense and Sensibility\n",
    "wd = gutenberg.words(f)\n",
    "s = set(wd) # Get the vocabulary of the text\n",
    "print([w for w in s if len(w) > 12][:15]) # Find all words with 12 characters or more"
   ]
  },
  {
   "cell_type": "code",
   "execution_count": 8,
   "metadata": {
    "ExecuteTime": {
     "end_time": "2019-09-21T10:02:04.516215Z",
     "start_time": "2019-09-21T10:02:04.491366Z"
    }
   },
   "outputs": [
    {
     "name": "stdout",
     "output_type": "stream",
     "text": [
      "['[', 'Sense', 'and', 'Sensibility', 'by', 'Jane', 'Austen', '1811', ']']\n",
      "\n",
      "['CHAPTER', '1']\n",
      "\n",
      "['The', 'family', 'of', 'Dashwood', 'had', 'long', 'been', 'settled', 'in', 'Sussex', '.']\n",
      "\n",
      "['Their', 'estate', 'was', 'large', ',', 'and', 'their', 'residence', 'was', 'at', 'Norland', 'Park', ',', 'in', 'the', 'centre', 'of', 'their', 'property', ',', 'where', ',', 'for', 'many', 'generations', ',', 'they', 'had', 'lived', 'in', 'so', 'respectable', 'a', 'manner', 'as', 'to', 'engage', 'the', 'general', 'good', 'opinion', 'of', 'their', 'surrounding', 'acquaintance', '.']\n",
      "\n",
      "['The', 'late', 'owner', 'of', 'this', 'estate', 'was', 'a', 'single', 'man', ',', 'who', 'lived', 'to', 'a', 'very', 'advanced', 'age', ',', 'and', 'who', 'for', 'many', 'years', 'of', 'his', 'life', ',', 'had', 'a', 'constant', 'companion', 'and', 'housekeeper', 'in', 'his', 'sister', '.']\n",
      "\n"
     ]
    }
   ],
   "source": [
    "# Get the sentences of Sense and Sensibility\n",
    "for st in gutenberg.sents(f)[:5]:\n",
    "    print(st)\n",
    "    print()"
   ]
  },
  {
   "cell_type": "markdown",
   "metadata": {},
   "source": [
    "### Webtext Corpus"
   ]
  },
  {
   "cell_type": "code",
   "execution_count": 9,
   "metadata": {
    "ExecuteTime": {
     "end_time": "2019-09-21T10:02:04.530649Z",
     "start_time": "2019-09-21T10:02:04.521819Z"
    }
   },
   "outputs": [],
   "source": [
    "from nltk.corpus import webtext"
   ]
  },
  {
   "cell_type": "code",
   "execution_count": 10,
   "metadata": {
    "ExecuteTime": {
     "end_time": "2019-09-21T10:02:04.545973Z",
     "start_time": "2019-09-21T10:02:04.535639Z"
    }
   },
   "outputs": [
    {
     "name": "stdout",
     "output_type": "stream",
     "text": [
      "['firefox.txt', 'grail.txt', 'overheard.txt', 'pirates.txt', 'singles.txt', 'wine.txt']\n"
     ]
    }
   ],
   "source": [
    "# Get the fileids\n",
    "print(webtext.fileids())"
   ]
  },
  {
   "cell_type": "code",
   "execution_count": 11,
   "metadata": {
    "ExecuteTime": {
     "end_time": "2019-09-21T10:02:04.564196Z",
     "start_time": "2019-09-21T10:02:04.552146Z"
    }
   },
   "outputs": [
    {
     "name": "stdout",
     "output_type": "stream",
     "text": [
      "White guy: So, do you have any plans for this evening?\n",
      "Asian girl: Yeah, being angry!\n",
      "White guy: Oh, that sounds good.\n",
      "\n",
      "Guy #1: So this Jack guy is basically the luckiest man in the world.\n",
      "Guy #2: Why\n"
     ]
    }
   ],
   "source": [
    "f2 = 'overheard.txt'\n",
    "print(webtext.raw(f2)[:200])"
   ]
  },
  {
   "cell_type": "markdown",
   "metadata": {},
   "source": [
    "### NPS Chat"
   ]
  },
  {
   "cell_type": "code",
   "execution_count": 12,
   "metadata": {
    "ExecuteTime": {
     "end_time": "2019-09-21T10:02:04.574573Z",
     "start_time": "2019-09-21T10:02:04.568681Z"
    }
   },
   "outputs": [],
   "source": [
    "from nltk.corpus import nps_chat"
   ]
  },
  {
   "cell_type": "code",
   "execution_count": 13,
   "metadata": {
    "ExecuteTime": {
     "end_time": "2019-09-21T10:02:04.619170Z",
     "start_time": "2019-09-21T10:02:04.587588Z"
    }
   },
   "outputs": [
    {
     "data": {
      "text/plain": [
       "['10-19-20s_706posts.xml', '10-19-30s_705posts.xml', '10-19-40s_686posts.xml']"
      ]
     },
     "execution_count": 13,
     "metadata": {},
     "output_type": "execute_result"
    }
   ],
   "source": [
    "nps_chat.fileids()[:3]"
   ]
  },
  {
   "cell_type": "code",
   "execution_count": 14,
   "metadata": {
    "ExecuteTime": {
     "end_time": "2019-09-21T10:02:04.640207Z",
     "start_time": "2019-09-21T10:02:04.624684Z"
    }
   },
   "outputs": [
    {
     "name": "stdout",
     "output_type": "stream",
     "text": [
      "now im left with this gay name\n",
      ":P\n",
      "PART\n",
      "hey everyone\n",
      "ah well\n",
      "NICK : U7\n",
      "U7 is a gay name .\n",
      ". ACTION gives U121 a golf clap .\n",
      ":)\n",
      "JOIN\n",
      "hi U59\n",
      "26 / m / ky women that are nice please pm me\n",
      "JOIN\n",
      "PART\n",
      "there ya go U7\n"
     ]
    }
   ],
   "source": [
    "for p in nps_chat.posts('10-19-20s_706posts.xml')[:15]:\n",
    "    print(' '.join(p))"
   ]
  },
  {
   "cell_type": "markdown",
   "metadata": {},
   "source": [
    "### Brown Corpus"
   ]
  },
  {
   "cell_type": "code",
   "execution_count": 15,
   "metadata": {
    "ExecuteTime": {
     "end_time": "2019-09-21T10:02:04.658127Z",
     "start_time": "2019-09-21T10:02:04.650330Z"
    }
   },
   "outputs": [],
   "source": [
    "from nltk.corpus import brown"
   ]
  },
  {
   "cell_type": "code",
   "execution_count": 16,
   "metadata": {
    "ExecuteTime": {
     "end_time": "2019-09-21T10:02:04.671764Z",
     "start_time": "2019-09-21T10:02:04.662937Z"
    }
   },
   "outputs": [
    {
     "name": "stdout",
     "output_type": "stream",
     "text": [
      "['ca01', 'ca02', 'ca03', 'ca04', 'ca05', 'ca06', 'ca07', 'ca08', 'ca09', 'ca10', 'ca11', 'ca12', 'ca13', 'ca14', 'ca15', 'ca16', 'ca17', 'ca18', 'ca19', 'ca20']\n"
     ]
    }
   ],
   "source": [
    "# Get the files of the corpus\n",
    "print(brown.fileids()[:20])"
   ]
  },
  {
   "cell_type": "code",
   "execution_count": 17,
   "metadata": {
    "ExecuteTime": {
     "end_time": "2019-09-21T10:02:04.694416Z",
     "start_time": "2019-09-21T10:02:04.674297Z"
    }
   },
   "outputs": [
    {
     "name": "stdout",
     "output_type": "stream",
     "text": [
      "['adventure', 'belles_lettres', 'editorial', 'fiction', 'government', 'hobbies', 'humor', 'learned', 'lore', 'mystery', 'news', 'religion', 'reviews', 'romance', 'science_fiction']\n"
     ]
    }
   ],
   "source": [
    "# Get the categories of the corpus\n",
    "print(brown.categories())"
   ]
  },
  {
   "cell_type": "code",
   "execution_count": 18,
   "metadata": {
    "ExecuteTime": {
     "end_time": "2019-09-21T10:02:05.105665Z",
     "start_time": "2019-09-21T10:02:04.698263Z"
    }
   },
   "outputs": [
    {
     "name": "stdout",
     "output_type": "stream",
     "text": [
      "['The', 'Fulton', 'County', 'Grand', 'Jury', 'said', ...]\n",
      "100554\n",
      "['Does', 'our', 'society', 'have', 'a', 'runaway', ',', ...]\n",
      "2291\n"
     ]
    }
   ],
   "source": [
    "# Filter for all words in one / multiple category(ies)\n",
    "news_text = brown.words(categories=['news'])\n",
    "print(news_text[:])\n",
    "print(len(news_text))\n",
    "\n",
    "# Filter for all words in 1 document\n",
    "news_text2 = brown.words(fileids=['cg22'])\n",
    "print(news_text2[:])\n",
    "print(len(news_text2))"
   ]
  },
  {
   "cell_type": "markdown",
   "metadata": {},
   "source": [
    "### Reuters Corpus"
   ]
  },
  {
   "cell_type": "code",
   "execution_count": 19,
   "metadata": {
    "ExecuteTime": {
     "end_time": "2019-09-21T10:02:05.112918Z",
     "start_time": "2019-09-21T10:02:05.109258Z"
    }
   },
   "outputs": [],
   "source": [
    "from nltk.corpus import reuters"
   ]
  },
  {
   "cell_type": "code",
   "execution_count": 20,
   "metadata": {
    "ExecuteTime": {
     "end_time": "2019-09-21T10:02:05.428679Z",
     "start_time": "2019-09-21T10:02:05.116083Z"
    }
   },
   "outputs": [
    {
     "name": "stdout",
     "output_type": "stream",
     "text": [
      "['test/14826', 'test/14828', 'test/14829', 'test/14832', 'test/14833', 'test/14839', 'test/14840', 'test/14841', 'test/14842', 'test/14843', 'test/14844', 'test/14849', 'test/14852', 'test/14854', 'test/14858', 'test/14859', 'test/14860', 'test/14861', 'test/14862', 'test/14863']\n"
     ]
    }
   ],
   "source": [
    "# Get the files of the corpus\n",
    "print(reuters.fileids()[:20])"
   ]
  },
  {
   "cell_type": "code",
   "execution_count": 21,
   "metadata": {
    "ExecuteTime": {
     "end_time": "2019-09-21T10:02:06.531052Z",
     "start_time": "2019-09-21T10:02:05.431562Z"
    }
   },
   "outputs": [
    {
     "name": "stdout",
     "output_type": "stream",
     "text": [
      "['gas', 'lead']\n"
     ]
    }
   ],
   "source": [
    "# Get all categories of a document\n",
    "print(reuters.categories(['test/14863']))"
   ]
  }
 ],
 "metadata": {
  "kernelspec": {
   "display_name": "Python 3",
   "language": "python",
   "name": "python3"
  },
  "language_info": {
   "codemirror_mode": {
    "name": "ipython",
    "version": 3
   },
   "file_extension": ".py",
   "mimetype": "text/x-python",
   "name": "python",
   "nbconvert_exporter": "python",
   "pygments_lexer": "ipython3",
   "version": "3.6.5"
  }
 },
 "nbformat": 4,
 "nbformat_minor": 2
}
