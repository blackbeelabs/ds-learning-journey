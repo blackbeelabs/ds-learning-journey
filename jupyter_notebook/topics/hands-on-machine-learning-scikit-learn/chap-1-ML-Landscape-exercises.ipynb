{
 "cells": [
  {
   "cell_type": "markdown",
   "metadata": {},
   "source": [
    "### Chapter 1 - The Machine Learning Landscape\n",
    "\n",
    "#### Exercises"
   ]
  },
  {
   "cell_type": "markdown",
   "metadata": {
    "ExecuteTime": {
     "end_time": "2019-08-13T15:47:53.317553Z",
     "start_time": "2019-08-13T15:47:52.901148Z"
    }
   },
   "source": [
    "1. How would you define Machine Learning\n",
    "2. Can you name four types of problems where it shines?\n",
    "3. What is a labeled training set?\n",
    "4. What are the two most common supervised tasks?\n",
    "5. Can you name four common unsupervised tasks?\n",
    "6. What type of ML algorithm would you use to allow a robot to walk in various unknown terrains?\n",
    "7. What type of algorithm would you use to segment your customers into multiple groups?\n",
    "8. Would you frame the problem of span tetection as a supervised learning problem or an unsupervised learning problem?\n",
    "9. What is an online learning system?\n",
    "10. What is out-of-core-learning?\n",
    "11. What type of learning algorithm relies on a similarity measure to make predictions?\n",
    "12. What is the dfference between a model parameter and a learning algorithm's hyperparameter?\n",
    "13. What do model-based learning algorithms search for? What is the most common strategy they use to succeed? How do they make predictions?\n",
    "14. Can you name four of the main challenges in Machine Learning?\n",
    "15. If your model performs great on the training data but generalizes poorly to new instances, what is happening? Can you name three possible solutions?\n",
    "16. What is a test set and why would you want to use it?\n",
    "17. What is the purpose of a validation set?\n",
    "18. What can go wrong if you tune hyperparameters using the test set?\n",
    "19. What is cross-validation and why would you prefer it to a validation set?"
   ]
  },
  {
   "cell_type": "markdown",
   "metadata": {},
   "source": [
    "### Q1 - Q5\n",
    "1\\. \n",
    "\n",
    "Machine learning is the ability for computers to run/execute tasks without being explicitly programmed.\n",
    "\n",
    "2\\.\n",
    "\n",
    "Prediction of prices, search / matching / recommendations, Spam filtering / automated routing of chatbot topics, search\n",
    "\n",
    "*(Question poorly worded. Ans: ML is good when there is no algorithmic solution to the problem / requires many defined rules for the program to output a decision)*\n",
    "\n",
    "3\\.\n",
    "\n",
    "Every sample in a labelled training set has the target variable provided, be it a value or a class\n",
    "\n",
    "4\\.\n",
    "\n",
    "Linear Regression, Naïve Bayes classification\n",
    "\n",
    "*(Requires more general answer - regression, classification)*\n",
    "\n",
    "5\\.\n",
    "\n",
    "k-nn, k-means clustering, NMF, PCA\n",
    "\n",
    "*(Requires more general answer - clustering, dimensionality reduction)*"
   ]
  },
  {
   "cell_type": "markdown",
   "metadata": {},
   "source": [
    "### Q6 - Q10\n",
    "6\\. \n",
    "\n",
    "Reinforcement Learning\n",
    "\n",
    "7\\.\n",
    "\n",
    "Unsupervised learning algorithm\n",
    "\n",
    "8\\.\n",
    "\n",
    "Supervised learning problem\n",
    "\n",
    "*(Requires more general answer - supervised learning problem if training set has labels, unsupervised learning if the training set has no labels)*\n",
    "\n",
    "9\\.\n",
    "\n",
    "Model learns on the fly, improving with small batches of data provided to it.\n",
    "\n",
    "*(Keywords missing - learns incrementally, adapts rapidly to changing data)*\n",
    "\n",
    "10\\.\n",
    "\n",
    "Algorithm / dataset requires memory beyond the hardware requirements and needs to use storage to perform calculations"
   ]
  },
  {
   "cell_type": "markdown",
   "metadata": {},
   "source": [
    "### Q11 - Q15\n",
    "11\\. \n",
    "\n",
    "(Not sure what the question is asking)\n",
    "\n",
    "*(Not doing)*\n",
    "\n",
    "12\\.\n",
    "\n",
    "Model parameters are what the model tunes based on the training data. A hyperparameter is a setting / value given to the model before training and can be controlled by the modeller. A hyperparameter is usually introduced to restrict the model in some ways (degrees of freedom etc.)\n",
    "\n",
    "13\\.\n",
    "\n",
    "Search for an optimal solution based on some measure e.g. $r^2$, accuracy. \n",
    "\n",
    "*(More details - search for an optimal value so model can generalise well to new instances.)*\n",
    "\n",
    "14\\.\n",
    "\n",
    "Overfitting, underfitting, sampling bias, curse of dimensionality\n",
    "\n",
    "*(poor data quality, nonrepresentive data (sampling bias), uninformative features (curse of dimensionality))*\n",
    "\n",
    "15\\.\n",
    "\n",
    "Overfitting on training set. Regularisation, better sampling of training set, feature engineering / select better model"
   ]
  },
  {
   "cell_type": "markdown",
   "metadata": {},
   "source": [
    "### Q16 - Q19\n",
    "16\\. \n",
    "\n",
    "Given a model built using the training set, a test set is used to evaluate how good the model generalises to samples it has never seen before.\n",
    "\n",
    "17\\.\n",
    "\n",
    "A validation set is used to evaluate the predictive power of multiple candidate models.\n",
    "\n",
    "18\\.\n",
    "\n",
    "Overfitting on the test set.\n",
    "\n",
    "19\\.\n",
    "\n",
    "Used when the sample size is small and the modeller wishes to perform more tests to evaluate if the robustness of the model (model is not biased towards a particular subset of the sample).\n",
    "\n",
    "*(More details - without the specific need for a validation set)*"
   ]
  },
  {
   "cell_type": "markdown",
   "metadata": {},
   "source": [
    "**References:**\n",
    "\n",
    "Géron (2017). Hands-On Machine Learning with Scikit-Learn & TensorFlow"
   ]
  }
 ],
 "metadata": {
  "kernelspec": {
   "display_name": "Python 3",
   "language": "python",
   "name": "python3"
  },
  "language_info": {
   "codemirror_mode": {
    "name": "ipython",
    "version": 3
   },
   "file_extension": ".py",
   "mimetype": "text/x-python",
   "name": "python",
   "nbconvert_exporter": "python",
   "pygments_lexer": "ipython3",
   "version": "3.6.5"
  }
 },
 "nbformat": 4,
 "nbformat_minor": 2
}
