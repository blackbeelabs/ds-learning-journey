{
 "cells": [
  {
   "cell_type": "markdown",
   "metadata": {},
   "source": [
    "# Chapter 11 - Time Series"
   ]
  },
  {
   "cell_type": "markdown",
   "metadata": {},
   "source": [
    "## 11.2 - Time Series Basics"
   ]
  },
  {
   "cell_type": "code",
   "execution_count": 1,
   "metadata": {
    "ExecuteTime": {
     "end_time": "2019-09-25T10:55:03.608545Z",
     "start_time": "2019-09-25T10:55:03.264815Z"
    }
   },
   "outputs": [],
   "source": [
    "from datetime import datetime as dt\n",
    "from dateutil.parser import parse\n",
    "import pandas as pd"
   ]
  },
  {
   "cell_type": "markdown",
   "metadata": {},
   "source": [
    "The basic time series object in `pandas` is a `Series` index."
   ]
  },
  {
   "cell_type": "code",
   "execution_count": 2,
   "metadata": {
    "ExecuteTime": {
     "end_time": "2019-09-25T10:55:03.650317Z",
     "start_time": "2019-09-25T10:55:03.611075Z"
    },
    "scrolled": true
   },
   "outputs": [
    {
     "data": {
      "text/plain": [
       "[datetime.datetime(2019, 1, 1, 0, 0),\n",
       " datetime.datetime(2019, 4, 1, 0, 0),\n",
       " datetime.datetime(2019, 7, 1, 0, 0),\n",
       " datetime.datetime(2019, 10, 1, 0, 0)]"
      ]
     },
     "metadata": {},
     "output_type": "display_data"
    },
    {
     "data": {
      "text/plain": [
       "2019-01-01    10\n",
       "2019-04-01    20\n",
       "2019-07-01    30\n",
       "2019-10-01    40\n",
       "dtype: int64"
      ]
     },
     "metadata": {},
     "output_type": "display_data"
    }
   ],
   "source": [
    "qs1 = []\n",
    "for i in range(1,13, 3):\n",
    "    t = dt(2019, i, 1)\n",
    "    qs1.append(t)\n",
    "display(qs1)\n",
    "s1 = pd.Series([10,20,30,40], index=qs1)\n",
    "display(s1)"
   ]
  },
  {
   "cell_type": "markdown",
   "metadata": {},
   "source": [
    "Under the hood, the `datetime` objects are stored as a `DateTimeIndex`."
   ]
  },
  {
   "cell_type": "code",
   "execution_count": 3,
   "metadata": {
    "ExecuteTime": {
     "end_time": "2019-09-25T10:55:03.664602Z",
     "start_time": "2019-09-25T10:55:03.654448Z"
    },
    "scrolled": true
   },
   "outputs": [
    {
     "data": {
      "text/plain": [
       "DatetimeIndex(['2019-01-01', '2019-04-01', '2019-07-01', '2019-10-01'], dtype='datetime64[ns]', freq=None)"
      ]
     },
     "metadata": {},
     "output_type": "display_data"
    },
    {
     "name": "stdout",
     "output_type": "stream",
     "text": [
      "<class 'pandas.core.indexes.datetimes.DatetimeIndex'>\n"
     ]
    }
   ],
   "source": [
    "display(s1.index)\n",
    "print(type(s1.index))"
   ]
  },
  {
   "cell_type": "markdown",
   "metadata": {},
   "source": [
    "Like other `Series`, arithmetic operations on two `Series` objects are aligned on the dates."
   ]
  },
  {
   "cell_type": "code",
   "execution_count": 4,
   "metadata": {
    "ExecuteTime": {
     "end_time": "2019-09-25T10:55:03.726336Z",
     "start_time": "2019-09-25T10:55:03.668454Z"
    },
    "scrolled": true
   },
   "outputs": [
    {
     "data": {
      "text/plain": [
       "2019-01-01    25\n",
       "2019-04-01    45\n",
       "2019-07-01    65\n",
       "dtype: int64"
      ]
     },
     "metadata": {},
     "output_type": "display_data"
    },
    {
     "data": {
      "text/plain": [
       "2019-01-01    35.0\n",
       "2019-04-01    65.0\n",
       "2019-07-01    95.0\n",
       "2019-10-01     NaN\n",
       "dtype: float64"
      ]
     },
     "metadata": {},
     "output_type": "display_data"
    }
   ],
   "source": [
    "qs2 = [parse('2019-01-01'), parse('2019-04-01'), parse('2019-07-01')]\n",
    "s2 = pd.Series([25,45,65], index=qs2)\n",
    "display(s2)\n",
    "display(s1+s2) # There is no value for 2019-10-01 so resultant of sum is NaN"
   ]
  },
  {
   "cell_type": "markdown",
   "metadata": {},
   "source": [
    "You can use the date as the index to pull out its value. Different date formats are permitted."
   ]
  },
  {
   "cell_type": "code",
   "execution_count": 5,
   "metadata": {
    "ExecuteTime": {
     "end_time": "2019-09-25T10:55:03.739295Z",
     "start_time": "2019-09-25T10:55:03.728679Z"
    }
   },
   "outputs": [
    {
     "name": "stdout",
     "output_type": "stream",
     "text": [
      "25\n",
      "65\n"
     ]
    }
   ],
   "source": [
    "print(s2['20190101'])\n",
    "print(s2['07/01/2019'])"
   ]
  },
  {
   "cell_type": "markdown",
   "metadata": {},
   "source": [
    "Use `pd.date_range` to automatically generate dates with a start date and number of periods."
   ]
  },
  {
   "cell_type": "code",
   "execution_count": 6,
   "metadata": {
    "ExecuteTime": {
     "end_time": "2019-09-25T10:55:03.809856Z",
     "start_time": "2019-09-25T10:55:03.742171Z"
    }
   },
   "outputs": [
    {
     "data": {
      "text/plain": [
       "2018-07-01    0\n",
       "2018-07-02    1\n",
       "2018-07-03    2\n",
       "2018-07-04    3\n",
       "2018-07-05    4\n",
       "2018-07-06    5\n",
       "2018-07-07    6\n",
       "2018-07-08    7\n",
       "2018-07-09    8\n",
       "2018-07-10    9\n",
       "Freq: D, dtype: int64"
      ]
     },
     "metadata": {},
     "output_type": "display_data"
    },
    {
     "data": {
      "text/plain": [
       "2019-07-01    0\n",
       "2019-07-02    1\n",
       "2019-07-03    2\n",
       "2019-07-04    3\n",
       "2019-07-05    4\n",
       "2019-07-06    5\n",
       "2019-07-07    6\n",
       "2019-07-08    7\n",
       "2019-07-09    8\n",
       "2019-07-10    9\n",
       "Freq: D, dtype: int64"
      ]
     },
     "metadata": {},
     "output_type": "display_data"
    }
   ],
   "source": [
    "d1 = pd.Series(range(0,20), pd.date_range('2018/07/01', periods=20))\n",
    "display(d1.head(10))\n",
    "\n",
    "d2 = pd.Series(range(0,400), pd.date_range('20190701', periods=400))\n",
    "display(d2.head(10))"
   ]
  },
  {
   "cell_type": "markdown",
   "metadata": {},
   "source": [
    "Now, filtering can be performed on the `DateTimeIndex`."
   ]
  },
  {
   "cell_type": "code",
   "execution_count": 7,
   "metadata": {
    "ExecuteTime": {
     "end_time": "2019-09-25T10:55:03.893848Z",
     "start_time": "2019-09-25T10:55:03.814097Z"
    },
    "scrolled": true
   },
   "outputs": [
    {
     "data": {
      "text/plain": [
       "2019-07-01    0\n",
       "2019-07-02    1\n",
       "2019-07-03    2\n",
       "2019-07-04    3\n",
       "2019-07-05    4\n",
       "Freq: D, dtype: int64"
      ]
     },
     "metadata": {},
     "output_type": "display_data"
    },
    {
     "data": {
      "text/plain": [
       "2019-09-01    62\n",
       "2019-09-02    63\n",
       "2019-09-03    64\n",
       "2019-09-04    65\n",
       "2019-09-05    66\n",
       "Freq: D, dtype: int64"
      ]
     },
     "metadata": {},
     "output_type": "display_data"
    },
    {
     "data": {
      "text/plain": [
       "2019-10-03    94\n",
       "2019-10-04    95\n",
       "2019-10-05    96\n",
       "2019-10-06    97\n",
       "2019-10-07    98\n",
       "Freq: D, dtype: int64"
      ]
     },
     "metadata": {},
     "output_type": "display_data"
    }
   ],
   "source": [
    "display(d2['2019'].iloc[:5]) # Filter by year\n",
    "display(d2['2019-09'].iloc[:5]) # Filter by year & month\n",
    "display(d2[dt(2019,10, 3):].iloc[:5]) # Filter by datetime"
   ]
  },
  {
   "cell_type": "markdown",
   "metadata": {},
   "source": [
    "Filtering can also be done using truncating"
   ]
  },
  {
   "cell_type": "code",
   "execution_count": 8,
   "metadata": {
    "ExecuteTime": {
     "end_time": "2019-09-25T10:55:03.935049Z",
     "start_time": "2019-09-25T10:55:03.896869Z"
    }
   },
   "outputs": [
    {
     "data": {
      "text/plain": [
       "2019-08-01    31\n",
       "2019-08-02    32\n",
       "2019-08-03    33\n",
       "2019-08-04    34\n",
       "2019-08-05    35\n",
       "2019-08-06    36\n",
       "2019-08-07    37\n",
       "2019-08-08    38\n",
       "2019-08-09    39\n",
       "2019-08-10    40\n",
       "Freq: D, dtype: int64"
      ]
     },
     "execution_count": 8,
     "metadata": {},
     "output_type": "execute_result"
    }
   ],
   "source": [
    "# Truncate (remove) all values before 1 Aug 2019\n",
    "d2.truncate(before='2019-08-01').iloc[:10]"
   ]
  },
  {
   "cell_type": "code",
   "execution_count": 9,
   "metadata": {
    "ExecuteTime": {
     "end_time": "2019-09-25T10:55:03.969536Z",
     "start_time": "2019-09-25T10:55:03.939350Z"
    }
   },
   "outputs": [
    {
     "data": {
      "text/plain": [
       "2019-07-01    0\n",
       "2019-07-02    1\n",
       "2019-07-03    2\n",
       "2019-07-04    3\n",
       "2019-07-05    4\n",
       "Freq: D, dtype: int64"
      ]
     },
     "execution_count": 9,
     "metadata": {},
     "output_type": "execute_result"
    }
   ],
   "source": [
    "# Truncate (Remove) all values after 5 Jul\n",
    "d2.truncate(after='2019-07-05')"
   ]
  },
  {
   "cell_type": "markdown",
   "metadata": {},
   "source": [
    "**References:**\n",
    "\n",
    "Python for Data Analysis, 2nd Edition, McKinney (2017)"
   ]
  }
 ],
 "metadata": {
  "kernelspec": {
   "display_name": "Python 3",
   "language": "python",
   "name": "python3"
  },
  "language_info": {
   "codemirror_mode": {
    "name": "ipython",
    "version": 3
   },
   "file_extension": ".py",
   "mimetype": "text/x-python",
   "name": "python",
   "nbconvert_exporter": "python",
   "pygments_lexer": "ipython3",
   "version": "3.6.5"
  }
 },
 "nbformat": 4,
 "nbformat_minor": 2
}
