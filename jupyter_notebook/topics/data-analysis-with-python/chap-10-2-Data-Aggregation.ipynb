{
 "cells": [
  {
   "cell_type": "markdown",
   "metadata": {},
   "source": [
    "# Chapter 10 - Data Aggregation and Group Operations"
   ]
  },
  {
   "cell_type": "markdown",
   "metadata": {},
   "source": [
    "## Data Aggregation"
   ]
  },
  {
   "cell_type": "code",
   "execution_count": 1,
   "metadata": {
    "ExecuteTime": {
     "end_time": "2019-08-10T15:28:54.015915Z",
     "start_time": "2019-08-10T15:28:53.495227Z"
    }
   },
   "outputs": [],
   "source": [
    "import pandas as pd"
   ]
  },
  {
   "cell_type": "code",
   "execution_count": 2,
   "metadata": {
    "ExecuteTime": {
     "end_time": "2019-08-10T15:28:54.054970Z",
     "start_time": "2019-08-10T15:28:54.018366Z"
    },
    "scrolled": false
   },
   "outputs": [
    {
     "data": {
      "text/html": [
       "<div>\n",
       "<style scoped>\n",
       "    .dataframe tbody tr th:only-of-type {\n",
       "        vertical-align: middle;\n",
       "    }\n",
       "\n",
       "    .dataframe tbody tr th {\n",
       "        vertical-align: top;\n",
       "    }\n",
       "\n",
       "    .dataframe thead th {\n",
       "        text-align: right;\n",
       "    }\n",
       "</style>\n",
       "<table border=\"1\" class=\"dataframe\">\n",
       "  <thead>\n",
       "    <tr style=\"text-align: right;\">\n",
       "      <th></th>\n",
       "      <th>id</th>\n",
       "      <th>funded_amount</th>\n",
       "      <th>term</th>\n",
       "      <th>interest_rate</th>\n",
       "      <th>grade</th>\n",
       "      <th>employee_length</th>\n",
       "      <th>home_ownership</th>\n",
       "      <th>annual_income</th>\n",
       "      <th>purpose</th>\n",
       "      <th>title</th>\n",
       "    </tr>\n",
       "  </thead>\n",
       "  <tbody>\n",
       "    <tr>\n",
       "      <th>0</th>\n",
       "      <td>721751</td>\n",
       "      <td>7000.0</td>\n",
       "      <td>36 months</td>\n",
       "      <td>14.91</td>\n",
       "      <td>D</td>\n",
       "      <td>2 years</td>\n",
       "      <td>RENT</td>\n",
       "      <td>46000.0</td>\n",
       "      <td>debt_consolidation</td>\n",
       "      <td>Debt Removal</td>\n",
       "    </tr>\n",
       "    <tr>\n",
       "      <th>1</th>\n",
       "      <td>40277218</td>\n",
       "      <td>16800.0</td>\n",
       "      <td>60 months</td>\n",
       "      <td>16.49</td>\n",
       "      <td>D</td>\n",
       "      <td>4 years</td>\n",
       "      <td>RENT</td>\n",
       "      <td>45500.0</td>\n",
       "      <td>home_improvement</td>\n",
       "      <td>Home improvement</td>\n",
       "    </tr>\n",
       "    <tr>\n",
       "      <th>2</th>\n",
       "      <td>68416017</td>\n",
       "      <td>1500.0</td>\n",
       "      <td>36 months</td>\n",
       "      <td>9.17</td>\n",
       "      <td>B</td>\n",
       "      <td>10+ years</td>\n",
       "      <td>MORTGAGE</td>\n",
       "      <td>83000.0</td>\n",
       "      <td>major_purchase</td>\n",
       "      <td>Major purchase</td>\n",
       "    </tr>\n",
       "    <tr>\n",
       "      <th>3</th>\n",
       "      <td>59481461</td>\n",
       "      <td>8000.0</td>\n",
       "      <td>36 months</td>\n",
       "      <td>12.29</td>\n",
       "      <td>C</td>\n",
       "      <td>2 years</td>\n",
       "      <td>RENT</td>\n",
       "      <td>74000.0</td>\n",
       "      <td>debt_consolidation</td>\n",
       "      <td>Debt consolidation</td>\n",
       "    </tr>\n",
       "    <tr>\n",
       "      <th>4</th>\n",
       "      <td>73003</td>\n",
       "      <td>3200.0</td>\n",
       "      <td>36 months</td>\n",
       "      <td>9.96</td>\n",
       "      <td>B</td>\n",
       "      <td>&lt; 1 year</td>\n",
       "      <td>MORTGAGE</td>\n",
       "      <td>150000.0</td>\n",
       "      <td>other</td>\n",
       "      <td>New Bathroom</td>\n",
       "    </tr>\n",
       "    <tr>\n",
       "      <th>5</th>\n",
       "      <td>55917749</td>\n",
       "      <td>5000.0</td>\n",
       "      <td>36 months</td>\n",
       "      <td>12.29</td>\n",
       "      <td>C</td>\n",
       "      <td>10+ years</td>\n",
       "      <td>MORTGAGE</td>\n",
       "      <td>55000.0</td>\n",
       "      <td>home_improvement</td>\n",
       "      <td>Home improvement</td>\n",
       "    </tr>\n",
       "    <tr>\n",
       "      <th>6</th>\n",
       "      <td>1149328</td>\n",
       "      <td>11500.0</td>\n",
       "      <td>36 months</td>\n",
       "      <td>16.29</td>\n",
       "      <td>C</td>\n",
       "      <td>2 years</td>\n",
       "      <td>MORTGAGE</td>\n",
       "      <td>68000.0</td>\n",
       "      <td>credit_card</td>\n",
       "      <td>Credit Card</td>\n",
       "    </tr>\n",
       "    <tr>\n",
       "      <th>7</th>\n",
       "      <td>1614457</td>\n",
       "      <td>6000.0</td>\n",
       "      <td>36 months</td>\n",
       "      <td>15.80</td>\n",
       "      <td>C</td>\n",
       "      <td>5 years</td>\n",
       "      <td>MORTGAGE</td>\n",
       "      <td>36000.0</td>\n",
       "      <td>debt_consolidation</td>\n",
       "      <td>Debt consolidation</td>\n",
       "    </tr>\n",
       "  </tbody>\n",
       "</table>\n",
       "</div>"
      ],
      "text/plain": [
       "         id  funded_amount        term  interest_rate grade employee_length  \\\n",
       "0    721751         7000.0   36 months          14.91     D         2 years   \n",
       "1  40277218        16800.0   60 months          16.49     D         4 years   \n",
       "2  68416017         1500.0   36 months           9.17     B       10+ years   \n",
       "3  59481461         8000.0   36 months          12.29     C         2 years   \n",
       "4     73003         3200.0   36 months           9.96     B        < 1 year   \n",
       "5  55917749         5000.0   36 months          12.29     C       10+ years   \n",
       "6   1149328        11500.0   36 months          16.29     C         2 years   \n",
       "7   1614457         6000.0   36 months          15.80     C         5 years   \n",
       "\n",
       "  home_ownership  annual_income             purpose               title  \n",
       "0           RENT        46000.0  debt_consolidation        Debt Removal  \n",
       "1           RENT        45500.0    home_improvement    Home improvement  \n",
       "2       MORTGAGE        83000.0      major_purchase      Major purchase  \n",
       "3           RENT        74000.0  debt_consolidation  Debt consolidation  \n",
       "4       MORTGAGE       150000.0               other        New Bathroom  \n",
       "5       MORTGAGE        55000.0    home_improvement    Home improvement  \n",
       "6       MORTGAGE        68000.0         credit_card         Credit Card  \n",
       "7       MORTGAGE        36000.0  debt_consolidation  Debt consolidation  "
      ]
     },
     "metadata": {},
     "output_type": "display_data"
    }
   ],
   "source": [
    "# DATA PREPARATION STEP\n",
    "\n",
    "# Read from CSV file\n",
    "df = pd.read_csv('dataset-A3-loans.csv')\n",
    "display(df.head(8))"
   ]
  },
  {
   "cell_type": "markdown",
   "metadata": {},
   "source": [
    "A summary of all the built-in aggregation functions after using `.groupby()` are:\n",
    "\n",
    "- `count()`, `sum()`, `mean()`, `std()`, `var()`, `min()`, `max()`"
   ]
  },
  {
   "cell_type": "code",
   "execution_count": 3,
   "metadata": {
    "ExecuteTime": {
     "end_time": "2019-08-10T15:28:54.063974Z",
     "start_time": "2019-08-10T15:28:54.057857Z"
    }
   },
   "outputs": [],
   "source": [
    "df_by_grade_grouped = df.groupby('grade')[['funded_amount']]"
   ]
  },
  {
   "cell_type": "code",
   "execution_count": 4,
   "metadata": {
    "ExecuteTime": {
     "end_time": "2019-08-10T15:28:54.079200Z",
     "start_time": "2019-08-10T15:28:54.067901Z"
    }
   },
   "outputs": [
    {
     "name": "stdout",
     "output_type": "stream",
     "text": [
      "       funded_amount\n",
      "grade               \n",
      "A                  6\n",
      "B                 21\n",
      "C                 15\n",
      "D                  4\n",
      "E                  3\n",
      "F                  1\n"
     ]
    }
   ],
   "source": [
    "print(df_by_grade_grouped.count())"
   ]
  },
  {
   "cell_type": "code",
   "execution_count": 5,
   "metadata": {
    "ExecuteTime": {
     "end_time": "2019-08-10T15:28:54.096307Z",
     "start_time": "2019-08-10T15:28:54.082292Z"
    }
   },
   "outputs": [
    {
     "name": "stdout",
     "output_type": "stream",
     "text": [
      "       funded_amount\n",
      "grade               \n",
      "A       12083.333333\n",
      "B       12517.857143\n",
      "C       10670.000000\n",
      "D       12568.750000\n",
      "E       18683.333333\n",
      "F       25000.000000\n",
      "       funded_amount\n",
      "grade               \n",
      "A       11416.902674\n",
      "B        7915.602247\n",
      "C        7982.728007\n",
      "D        8447.222793\n",
      "E       13381.921885\n",
      "F                NaN\n",
      "       funded_amount\n",
      "grade               \n",
      "A       1.303457e+08\n",
      "B       6.265676e+07\n",
      "C       6.372395e+07\n",
      "D       7.135557e+07\n",
      "E       1.790758e+08\n",
      "F                NaN\n"
     ]
    }
   ],
   "source": [
    "print(df_by_grade_grouped.mean())\n",
    "print(df_by_grade_grouped.std())\n",
    "print(df_by_grade_grouped.var())"
   ]
  },
  {
   "cell_type": "code",
   "execution_count": 6,
   "metadata": {
    "ExecuteTime": {
     "end_time": "2019-08-10T15:28:54.111959Z",
     "start_time": "2019-08-10T15:28:54.099737Z"
    },
    "scrolled": true
   },
   "outputs": [
    {
     "name": "stdout",
     "output_type": "stream",
     "text": [
      "       funded_amount\n",
      "grade               \n",
      "A             4000.0\n",
      "B             1500.0\n",
      "C             1000.0\n",
      "D             4175.0\n",
      "E             4800.0\n",
      "F            25000.0\n",
      "       funded_amount\n",
      "grade               \n",
      "A            34000.0\n",
      "B            35000.0\n",
      "C            26000.0\n",
      "D            22300.0\n",
      "E            31500.0\n",
      "F            25000.0\n"
     ]
    }
   ],
   "source": [
    "print(df_by_grade_grouped.min())\n",
    "print(df_by_grade_grouped.max())"
   ]
  },
  {
   "cell_type": "markdown",
   "metadata": {},
   "source": [
    "While `.quantile()` is not explicitly implemented for `groupby()`, it is a `Series` method and thus available for use. Internally, GroupBy efficiently slices up the Series, calls `chunk.quantile(0.9)` for each `chunk`, and then assembles those results together into the final output. The same goes for `.median()`."
   ]
  },
  {
   "cell_type": "code",
   "execution_count": 7,
   "metadata": {
    "ExecuteTime": {
     "end_time": "2019-08-10T15:28:54.131406Z",
     "start_time": "2019-08-10T15:28:54.114895Z"
    },
    "scrolled": true
   },
   "outputs": [
    {
     "name": "stdout",
     "output_type": "stream",
     "text": [
      "term\n",
      " 36 months     4800.0\n",
      " 60 months    17500.0\n",
      "Name: funded_amount, dtype: float64\n",
      "term\n",
      " 36 months     6500.0\n",
      " 60 months    20375.0\n",
      "Name: funded_amount, dtype: float64\n",
      "term\n",
      " 36 months    11075.0\n",
      " 60 months    22950.0\n",
      "Name: funded_amount, dtype: float64\n"
     ]
    }
   ],
   "source": [
    "df_by_term = df.groupby('term')['funded_amount']\n",
    "\n",
    "print(df_by_term.quantile(0.25))\n",
    "print(df_by_term.median())\n",
    "print(df_by_term.quantile(0.75))"
   ]
  },
  {
   "cell_type": "markdown",
   "metadata": {},
   "source": [
    "To create custom aggregation functions, pass any function that aggregates an array. Use the `.agg()` method for it."
   ]
  },
  {
   "cell_type": "code",
   "execution_count": 8,
   "metadata": {
    "ExecuteTime": {
     "end_time": "2019-08-10T15:28:54.138999Z",
     "start_time": "2019-08-10T15:28:54.134460Z"
    }
   },
   "outputs": [],
   "source": [
    "def diff_top_x(s):\n",
    "    std = s.sort_values()\n",
    "    return std.tail(3).sum() - std.head(3).sum()"
   ]
  },
  {
   "cell_type": "code",
   "execution_count": 9,
   "metadata": {
    "ExecuteTime": {
     "end_time": "2019-08-10T15:28:54.157680Z",
     "start_time": "2019-08-10T15:28:54.142242Z"
    },
    "scrolled": true
   },
   "outputs": [
    {
     "data": {
      "text/plain": [
       "grade\n",
       "A     65000.0\n",
       "B    330000.0\n",
       "C    153000.0\n",
       "D     63250.0\n",
       "E         0.0\n",
       "F         0.0\n",
       "Name: annual_income, dtype: float64"
      ]
     },
     "execution_count": 9,
     "metadata": {},
     "output_type": "execute_result"
    }
   ],
   "source": [
    "df.groupby('grade')['annual_income'].agg(diff_top_x)"
   ]
  },
  {
   "cell_type": "markdown",
   "metadata": {},
   "source": [
    "Since `.describe()` is a `Series` function, it can be used too following a `.groupby()`."
   ]
  },
  {
   "cell_type": "code",
   "execution_count": 10,
   "metadata": {
    "ExecuteTime": {
     "end_time": "2019-08-10T15:28:54.192755Z",
     "start_time": "2019-08-10T15:28:54.160887Z"
    }
   },
   "outputs": [
    {
     "data": {
      "text/html": [
       "<div>\n",
       "<style scoped>\n",
       "    .dataframe tbody tr th:only-of-type {\n",
       "        vertical-align: middle;\n",
       "    }\n",
       "\n",
       "    .dataframe tbody tr th {\n",
       "        vertical-align: top;\n",
       "    }\n",
       "\n",
       "    .dataframe thead th {\n",
       "        text-align: right;\n",
       "    }\n",
       "</style>\n",
       "<table border=\"1\" class=\"dataframe\">\n",
       "  <thead>\n",
       "    <tr style=\"text-align: right;\">\n",
       "      <th></th>\n",
       "      <th>count</th>\n",
       "      <th>mean</th>\n",
       "      <th>std</th>\n",
       "      <th>min</th>\n",
       "      <th>25%</th>\n",
       "      <th>50%</th>\n",
       "      <th>75%</th>\n",
       "      <th>max</th>\n",
       "    </tr>\n",
       "    <tr>\n",
       "      <th>grade</th>\n",
       "      <th></th>\n",
       "      <th></th>\n",
       "      <th></th>\n",
       "      <th></th>\n",
       "      <th></th>\n",
       "      <th></th>\n",
       "      <th></th>\n",
       "      <th></th>\n",
       "    </tr>\n",
       "  </thead>\n",
       "  <tbody>\n",
       "    <tr>\n",
       "      <th>A</th>\n",
       "      <td>6.0</td>\n",
       "      <td>81166.666667</td>\n",
       "      <td>16166.838487</td>\n",
       "      <td>67000.0</td>\n",
       "      <td>71500.0</td>\n",
       "      <td>74500.0</td>\n",
       "      <td>86500.0</td>\n",
       "      <td>110000.0</td>\n",
       "    </tr>\n",
       "    <tr>\n",
       "      <th>B</th>\n",
       "      <td>21.0</td>\n",
       "      <td>75089.571429</td>\n",
       "      <td>36543.053832</td>\n",
       "      <td>40000.0</td>\n",
       "      <td>45000.0</td>\n",
       "      <td>65000.0</td>\n",
       "      <td>83000.0</td>\n",
       "      <td>150000.0</td>\n",
       "    </tr>\n",
       "    <tr>\n",
       "      <th>C</th>\n",
       "      <td>15.0</td>\n",
       "      <td>60502.666667</td>\n",
       "      <td>20152.244635</td>\n",
       "      <td>36000.0</td>\n",
       "      <td>48520.0</td>\n",
       "      <td>55000.0</td>\n",
       "      <td>70000.0</td>\n",
       "      <td>115000.0</td>\n",
       "    </tr>\n",
       "    <tr>\n",
       "      <th>D</th>\n",
       "      <td>4.0</td>\n",
       "      <td>51187.500000</td>\n",
       "      <td>26574.874569</td>\n",
       "      <td>25000.0</td>\n",
       "      <td>40375.0</td>\n",
       "      <td>45750.0</td>\n",
       "      <td>56562.5</td>\n",
       "      <td>88250.0</td>\n",
       "    </tr>\n",
       "    <tr>\n",
       "      <th>E</th>\n",
       "      <td>3.0</td>\n",
       "      <td>91691.666667</td>\n",
       "      <td>42483.940593</td>\n",
       "      <td>46000.0</td>\n",
       "      <td>72537.5</td>\n",
       "      <td>99075.0</td>\n",
       "      <td>114537.5</td>\n",
       "      <td>130000.0</td>\n",
       "    </tr>\n",
       "    <tr>\n",
       "      <th>F</th>\n",
       "      <td>1.0</td>\n",
       "      <td>68000.000000</td>\n",
       "      <td>NaN</td>\n",
       "      <td>68000.0</td>\n",
       "      <td>68000.0</td>\n",
       "      <td>68000.0</td>\n",
       "      <td>68000.0</td>\n",
       "      <td>68000.0</td>\n",
       "    </tr>\n",
       "  </tbody>\n",
       "</table>\n",
       "</div>"
      ],
      "text/plain": [
       "       count          mean           std      min      25%      50%       75%  \\\n",
       "grade                                                                           \n",
       "A        6.0  81166.666667  16166.838487  67000.0  71500.0  74500.0   86500.0   \n",
       "B       21.0  75089.571429  36543.053832  40000.0  45000.0  65000.0   83000.0   \n",
       "C       15.0  60502.666667  20152.244635  36000.0  48520.0  55000.0   70000.0   \n",
       "D        4.0  51187.500000  26574.874569  25000.0  40375.0  45750.0   56562.5   \n",
       "E        3.0  91691.666667  42483.940593  46000.0  72537.5  99075.0  114537.5   \n",
       "F        1.0  68000.000000           NaN  68000.0  68000.0  68000.0   68000.0   \n",
       "\n",
       "            max  \n",
       "grade            \n",
       "A      110000.0  \n",
       "B      150000.0  \n",
       "C      115000.0  \n",
       "D       88250.0  \n",
       "E      130000.0  \n",
       "F       68000.0  "
      ]
     },
     "execution_count": 10,
     "metadata": {},
     "output_type": "execute_result"
    }
   ],
   "source": [
    "df.groupby('grade')['annual_income'].describe()"
   ]
  },
  {
   "cell_type": "markdown",
   "metadata": {},
   "source": [
    "**References:**\n",
    "\n",
    "Python for Data Analysis, 2nd Edition, McKinney (2017)"
   ]
  }
 ],
 "metadata": {
  "kernelspec": {
   "display_name": "Python 3",
   "language": "python",
   "name": "python3"
  },
  "language_info": {
   "codemirror_mode": {
    "name": "ipython",
    "version": 3
   },
   "file_extension": ".py",
   "mimetype": "text/x-python",
   "name": "python",
   "nbconvert_exporter": "python",
   "pygments_lexer": "ipython3",
   "version": "3.6.5"
  }
 },
 "nbformat": 4,
 "nbformat_minor": 2
}
