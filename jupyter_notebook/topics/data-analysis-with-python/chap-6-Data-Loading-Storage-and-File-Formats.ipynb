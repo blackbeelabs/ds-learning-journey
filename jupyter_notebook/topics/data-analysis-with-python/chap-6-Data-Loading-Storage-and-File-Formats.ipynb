{
 "cells": [
  {
   "cell_type": "markdown",
   "metadata": {},
   "source": [
    "# Chapter 6 - Data Loading, Storage, and File Formats"
   ]
  },
  {
   "cell_type": "markdown",
   "metadata": {},
   "source": [
    "## 6.1 Reading and Writing Data in Text Format"
   ]
  },
  {
   "cell_type": "code",
   "execution_count": 1,
   "metadata": {
    "ExecuteTime": {
     "end_time": "2019-07-06T07:15:02.384196Z",
     "start_time": "2019-07-06T07:15:01.999633Z"
    }
   },
   "outputs": [],
   "source": [
    "import sys\n",
    "import json\n",
    "\n",
    "import pandas as pd\n",
    "import numpy as np"
   ]
  },
  {
   "cell_type": "markdown",
   "metadata": {},
   "source": [
    "### `pd.read_csv()`\n",
    "\n",
    "1a. Vanilla `pd.read_csv()` with no additional specified parameters\n",
    "\n",
    "1b. `read_csv()` with a specified index column, using `index_col`\n",
    "\n",
    "1c. `read_csv()` with self-defined headers, using `names`\n",
    "\n",
    "1d. `read_csv()` with different delimiters, using `sep`\n"
   ]
  },
  {
   "cell_type": "code",
   "execution_count": 2,
   "metadata": {
    "ExecuteTime": {
     "end_time": "2019-07-06T07:15:02.414635Z",
     "start_time": "2019-07-06T07:15:02.386563Z"
    },
    "scrolled": true
   },
   "outputs": [
    {
     "data": {
      "text/html": [
       "<div>\n",
       "<style scoped>\n",
       "    .dataframe tbody tr th:only-of-type {\n",
       "        vertical-align: middle;\n",
       "    }\n",
       "\n",
       "    .dataframe tbody tr th {\n",
       "        vertical-align: top;\n",
       "    }\n",
       "\n",
       "    .dataframe thead th {\n",
       "        text-align: right;\n",
       "    }\n",
       "</style>\n",
       "<table border=\"1\" class=\"dataframe\">\n",
       "  <thead>\n",
       "    <tr style=\"text-align: right;\">\n",
       "      <th></th>\n",
       "      <th>id</th>\n",
       "      <th>variety</th>\n",
       "      <th>points</th>\n",
       "      <th>price</th>\n",
       "    </tr>\n",
       "  </thead>\n",
       "  <tbody>\n",
       "    <tr>\n",
       "      <th>0</th>\n",
       "      <td>99759</td>\n",
       "      <td>Chardonnay</td>\n",
       "      <td>88</td>\n",
       "      <td>36.0</td>\n",
       "    </tr>\n",
       "    <tr>\n",
       "      <th>1</th>\n",
       "      <td>123471</td>\n",
       "      <td>Pinot Noir</td>\n",
       "      <td>85</td>\n",
       "      <td>50.0</td>\n",
       "    </tr>\n",
       "    <tr>\n",
       "      <th>2</th>\n",
       "      <td>81339</td>\n",
       "      <td>Ugni Blanc-Colombard</td>\n",
       "      <td>85</td>\n",
       "      <td>10.0</td>\n",
       "    </tr>\n",
       "  </tbody>\n",
       "</table>\n",
       "</div>"
      ],
      "text/plain": [
       "       id               variety  points  price\n",
       "0   99759            Chardonnay      88   36.0\n",
       "1  123471            Pinot Noir      85   50.0\n",
       "2   81339  Ugni Blanc-Colombard      85   10.0"
      ]
     },
     "metadata": {},
     "output_type": "display_data"
    },
    {
     "name": "stdout",
     "output_type": "stream",
     "text": [
      "(20, 4)\n"
     ]
    }
   ],
   "source": [
    "# pd.read_csv(). This function uses all the default\n",
    "# parameters for those that are not specified\n",
    "df = pd.read_csv('dataset-D-wines.csv')\n",
    "display(df.head(3))\n",
    "print(df.shape)"
   ]
  },
  {
   "cell_type": "code",
   "execution_count": 3,
   "metadata": {
    "ExecuteTime": {
     "end_time": "2019-07-06T07:15:02.435425Z",
     "start_time": "2019-07-06T07:15:02.417523Z"
    }
   },
   "outputs": [
    {
     "data": {
      "text/html": [
       "<div>\n",
       "<style scoped>\n",
       "    .dataframe tbody tr th:only-of-type {\n",
       "        vertical-align: middle;\n",
       "    }\n",
       "\n",
       "    .dataframe tbody tr th {\n",
       "        vertical-align: top;\n",
       "    }\n",
       "\n",
       "    .dataframe thead th {\n",
       "        text-align: right;\n",
       "    }\n",
       "</style>\n",
       "<table border=\"1\" class=\"dataframe\">\n",
       "  <thead>\n",
       "    <tr style=\"text-align: right;\">\n",
       "      <th></th>\n",
       "      <th>membership</th>\n",
       "    </tr>\n",
       "    <tr>\n",
       "      <th>year</th>\n",
       "      <th></th>\n",
       "    </tr>\n",
       "  </thead>\n",
       "  <tbody>\n",
       "    <tr>\n",
       "      <th>2009</th>\n",
       "      <td>526089</td>\n",
       "    </tr>\n",
       "    <tr>\n",
       "      <th>2010</th>\n",
       "      <td>549878</td>\n",
       "    </tr>\n",
       "    <tr>\n",
       "      <th>2011</th>\n",
       "      <td>588014</td>\n",
       "    </tr>\n",
       "  </tbody>\n",
       "</table>\n",
       "</div>"
      ],
      "text/plain": [
       "      membership\n",
       "year            \n",
       "2009      526089\n",
       "2010      549878\n",
       "2011      588014"
      ]
     },
     "metadata": {},
     "output_type": "display_data"
    }
   ],
   "source": [
    "# read_csv() with one column used as the index. \n",
    "df2 = pd.read_csv('dataset-B-membership.csv', index_col=['year'])\n",
    "display(df2.head(3))"
   ]
  },
  {
   "cell_type": "code",
   "execution_count": 4,
   "metadata": {
    "ExecuteTime": {
     "end_time": "2019-07-06T07:15:02.458199Z",
     "start_time": "2019-07-06T07:15:02.439073Z"
    }
   },
   "outputs": [
    {
     "data": {
      "text/html": [
       "<div>\n",
       "<style scoped>\n",
       "    .dataframe tbody tr th:only-of-type {\n",
       "        vertical-align: middle;\n",
       "    }\n",
       "\n",
       "    .dataframe tbody tr th {\n",
       "        vertical-align: top;\n",
       "    }\n",
       "\n",
       "    .dataframe thead th {\n",
       "        text-align: right;\n",
       "    }\n",
       "</style>\n",
       "<table border=\"1\" class=\"dataframe\">\n",
       "  <thead>\n",
       "    <tr style=\"text-align: right;\">\n",
       "      <th></th>\n",
       "      <th>id</th>\n",
       "      <th>loan_amnt</th>\n",
       "      <th>int_rate</th>\n",
       "      <th>term</th>\n",
       "      <th>grade</th>\n",
       "    </tr>\n",
       "  </thead>\n",
       "  <tbody>\n",
       "    <tr>\n",
       "      <th>0</th>\n",
       "      <td>48304290</td>\n",
       "      <td>30000.0</td>\n",
       "      <td>8.18</td>\n",
       "      <td>36 months</td>\n",
       "      <td>B</td>\n",
       "    </tr>\n",
       "    <tr>\n",
       "      <th>1</th>\n",
       "      <td>49904421</td>\n",
       "      <td>14225.0</td>\n",
       "      <td>13.33</td>\n",
       "      <td>60 months</td>\n",
       "      <td>C</td>\n",
       "    </tr>\n",
       "    <tr>\n",
       "      <th>2</th>\n",
       "      <td>49904421</td>\n",
       "      <td>12000.0</td>\n",
       "      <td>20.20</td>\n",
       "      <td>60 months</td>\n",
       "      <td>E</td>\n",
       "    </tr>\n",
       "  </tbody>\n",
       "</table>\n",
       "</div>"
      ],
      "text/plain": [
       "         id  loan_amnt  int_rate        term grade\n",
       "0  48304290    30000.0      8.18   36 months     B\n",
       "1  49904421    14225.0     13.33   60 months     C\n",
       "2  49904421    12000.0     20.20   60 months     E"
      ]
     },
     "metadata": {},
     "output_type": "display_data"
    }
   ],
   "source": [
    "# read_csv() with specified column names. Note that the dataset\n",
    "# does not have headers.\n",
    "df3 = pd.read_csv('dataset-A2-loans.csv', \n",
    "                  names = ['id', 'loan_amnt', 'int_rate', 'term', 'grade'])\n",
    "display(df3.head(3))"
   ]
  },
  {
   "cell_type": "code",
   "execution_count": 5,
   "metadata": {
    "ExecuteTime": {
     "end_time": "2019-07-06T07:15:02.488327Z",
     "start_time": "2019-07-06T07:15:02.465859Z"
    },
    "scrolled": false
   },
   "outputs": [
    {
     "data": {
      "text/html": [
       "<div>\n",
       "<style scoped>\n",
       "    .dataframe tbody tr th:only-of-type {\n",
       "        vertical-align: middle;\n",
       "    }\n",
       "\n",
       "    .dataframe tbody tr th {\n",
       "        vertical-align: top;\n",
       "    }\n",
       "\n",
       "    .dataframe thead th {\n",
       "        text-align: right;\n",
       "    }\n",
       "</style>\n",
       "<table border=\"1\" class=\"dataframe\">\n",
       "  <thead>\n",
       "    <tr style=\"text-align: right;\">\n",
       "      <th></th>\n",
       "      <th>id</th>\n",
       "      <th>variety</th>\n",
       "      <th>points</th>\n",
       "      <th>price</th>\n",
       "    </tr>\n",
       "  </thead>\n",
       "  <tbody>\n",
       "    <tr>\n",
       "      <th>0</th>\n",
       "      <td>99759</td>\n",
       "      <td>Chardonnay</td>\n",
       "      <td>88</td>\n",
       "      <td>36.0</td>\n",
       "    </tr>\n",
       "    <tr>\n",
       "      <th>1</th>\n",
       "      <td>123471</td>\n",
       "      <td>Pinot Noir</td>\n",
       "      <td>85</td>\n",
       "      <td>50.0</td>\n",
       "    </tr>\n",
       "    <tr>\n",
       "      <th>2</th>\n",
       "      <td>81339</td>\n",
       "      <td>Ugni Blanc-Colombard</td>\n",
       "      <td>85</td>\n",
       "      <td>10.0</td>\n",
       "    </tr>\n",
       "  </tbody>\n",
       "</table>\n",
       "</div>"
      ],
      "text/plain": [
       "       id               variety  points  price\n",
       "0   99759            Chardonnay      88   36.0\n",
       "1  123471            Pinot Noir      85   50.0\n",
       "2   81339  Ugni Blanc-Colombard      85   10.0"
      ]
     },
     "metadata": {},
     "output_type": "display_data"
    }
   ],
   "source": [
    "# read_csv() with different types of separators. \n",
    "df4 = pd.read_csv('dataset-D2-wines.csv', sep='\\t')\n",
    "display(df4.head(3))"
   ]
  },
  {
   "cell_type": "markdown",
   "metadata": {},
   "source": [
    "### `df.to_csv()`"
   ]
  },
  {
   "cell_type": "code",
   "execution_count": 6,
   "metadata": {
    "ExecuteTime": {
     "end_time": "2019-07-06T07:15:02.510793Z",
     "start_time": "2019-07-06T07:15:02.496119Z"
    }
   },
   "outputs": [
    {
     "name": "stdout",
     "output_type": "stream",
     "text": [
      "id,variety,points,price\n",
      "99759,Chardonnay,88,36.0\n",
      "123471,Pinot Noir,85,50.0\n",
      "81339,Ugni Blanc-Colombard,85,10.0\n",
      "72999,Sauvignon Blanc,85,14.0\n",
      "99586,Cabernet Sauvignon,92,65.0\n"
     ]
    }
   ],
   "source": [
    "# Use df.to_csv() to write data to a CSV file. Note that sys.stdout prints this to the console\n",
    "# for demonstration purposes.\n",
    "# index=False will remove the index of the df, leaving only the cols\n",
    "df[:5].to_csv(sys.stdout, index=False)\n",
    "# df[:5].to_csv('file.csv' index=False)"
   ]
  },
  {
   "cell_type": "markdown",
   "metadata": {},
   "source": [
    "<hr>"
   ]
  },
  {
   "cell_type": "markdown",
   "metadata": {},
   "source": [
    "### JSON Data\n",
    "\n",
    "1. Read from a `.json` file to a Python `dict()`\n",
    "\n",
    "2. Convert interested labels to a `df`"
   ]
  },
  {
   "cell_type": "code",
   "execution_count": 7,
   "metadata": {
    "ExecuteTime": {
     "end_time": "2019-07-06T07:15:02.519751Z",
     "start_time": "2019-07-06T07:15:02.514587Z"
    }
   },
   "outputs": [],
   "source": [
    "# Use json.load(file) to read from JSON file to a dict\n",
    "with open ('dataset-E-PSI.json', 'r') as f:\n",
    "    psi_json = json.load(f)"
   ]
  },
  {
   "cell_type": "code",
   "execution_count": 8,
   "metadata": {
    "ExecuteTime": {
     "end_time": "2019-07-06T07:15:02.535569Z",
     "start_time": "2019-07-06T07:15:02.523450Z"
    }
   },
   "outputs": [
    {
     "data": {
      "text/plain": [
       "[{'name': 'west', 'label_location': {'latitude': 1.35735, 'longitude': 103.7}},\n",
       " {'name': 'national', 'label_location': {'latitude': 0, 'longitude': 0}},\n",
       " {'name': 'east',\n",
       "  'label_location': {'latitude': 1.35735, 'longitude': 103.94}},\n",
       " {'name': 'central',\n",
       "  'label_location': {'latitude': 1.35735, 'longitude': 103.82}},\n",
       " {'name': 'south',\n",
       "  'label_location': {'latitude': 1.29587, 'longitude': 103.82}},\n",
       " {'name': 'north',\n",
       "  'label_location': {'latitude': 1.41803, 'longitude': 103.82}}]"
      ]
     },
     "metadata": {},
     "output_type": "display_data"
    }
   ],
   "source": [
    "# Consider the following: \n",
    "# psi_json['region_metadata'] contains the lat and long coordinates of some locations\n",
    "region_d = psi_json['region_metadata']\n",
    "display(region_d)"
   ]
  },
  {
   "cell_type": "code",
   "execution_count": 9,
   "metadata": {
    "ExecuteTime": {
     "end_time": "2019-07-06T07:15:02.556741Z",
     "start_time": "2019-07-06T07:15:02.540349Z"
    }
   },
   "outputs": [
    {
     "data": {
      "text/plain": [
       "[{'name': 'west', 'latitude': 1.35735, 'longitude': 103.7},\n",
       " {'name': 'national', 'latitude': 0, 'longitude': 0},\n",
       " {'name': 'east', 'latitude': 1.35735, 'longitude': 103.94},\n",
       " {'name': 'central', 'latitude': 1.35735, 'longitude': 103.82},\n",
       " {'name': 'south', 'latitude': 1.29587, 'longitude': 103.82},\n",
       " {'name': 'north', 'latitude': 1.41803, 'longitude': 103.82}]"
      ]
     },
     "metadata": {},
     "output_type": "display_data"
    }
   ],
   "source": [
    "# To convert the above to a df, first, iterate through all the dict()\n",
    "# and extract the latitude and longitude to the higher level.\n",
    "for r in region_d:\n",
    "    r['latitude'] = r['label_location']['latitude']\n",
    "    r['longitude'] = r['label_location']['longitude']    \n",
    "    del r['label_location']\n",
    "display(region_d)    "
   ]
  },
  {
   "cell_type": "code",
   "execution_count": 10,
   "metadata": {
    "ExecuteTime": {
     "end_time": "2019-07-06T07:15:02.589753Z",
     "start_time": "2019-07-06T07:15:02.560569Z"
    }
   },
   "outputs": [
    {
     "data": {
      "text/html": [
       "<div>\n",
       "<style scoped>\n",
       "    .dataframe tbody tr th:only-of-type {\n",
       "        vertical-align: middle;\n",
       "    }\n",
       "\n",
       "    .dataframe tbody tr th {\n",
       "        vertical-align: top;\n",
       "    }\n",
       "\n",
       "    .dataframe thead th {\n",
       "        text-align: right;\n",
       "    }\n",
       "</style>\n",
       "<table border=\"1\" class=\"dataframe\">\n",
       "  <thead>\n",
       "    <tr style=\"text-align: right;\">\n",
       "      <th></th>\n",
       "      <th>name</th>\n",
       "      <th>latitude</th>\n",
       "      <th>longitude</th>\n",
       "    </tr>\n",
       "  </thead>\n",
       "  <tbody>\n",
       "    <tr>\n",
       "      <th>0</th>\n",
       "      <td>west</td>\n",
       "      <td>1.35735</td>\n",
       "      <td>103.70</td>\n",
       "    </tr>\n",
       "    <tr>\n",
       "      <th>1</th>\n",
       "      <td>national</td>\n",
       "      <td>0.00000</td>\n",
       "      <td>0.00</td>\n",
       "    </tr>\n",
       "    <tr>\n",
       "      <th>2</th>\n",
       "      <td>east</td>\n",
       "      <td>1.35735</td>\n",
       "      <td>103.94</td>\n",
       "    </tr>\n",
       "    <tr>\n",
       "      <th>3</th>\n",
       "      <td>central</td>\n",
       "      <td>1.35735</td>\n",
       "      <td>103.82</td>\n",
       "    </tr>\n",
       "    <tr>\n",
       "      <th>4</th>\n",
       "      <td>south</td>\n",
       "      <td>1.29587</td>\n",
       "      <td>103.82</td>\n",
       "    </tr>\n",
       "    <tr>\n",
       "      <th>5</th>\n",
       "      <td>north</td>\n",
       "      <td>1.41803</td>\n",
       "      <td>103.82</td>\n",
       "    </tr>\n",
       "  </tbody>\n",
       "</table>\n",
       "</div>"
      ],
      "text/plain": [
       "       name  latitude  longitude\n",
       "0      west   1.35735     103.70\n",
       "1  national   0.00000       0.00\n",
       "2      east   1.35735     103.94\n",
       "3   central   1.35735     103.82\n",
       "4     south   1.29587     103.82\n",
       "5     north   1.41803     103.82"
      ]
     },
     "metadata": {},
     "output_type": "display_data"
    }
   ],
   "source": [
    "# Then, simply use pd.DataFrame() to convert to a df\n",
    "location_df = pd.DataFrame(region_d, columns=['name', 'latitude', 'longitude'])\n",
    "display(location_df)\n",
    "# Notice that central, south and north share the same longitude while \n",
    "# east, central and west share the same latitude. This confirms that lat is the x-axis while\n",
    "# long is the y-axis "
   ]
  },
  {
   "cell_type": "code",
   "execution_count": 11,
   "metadata": {
    "ExecuteTime": {
     "end_time": "2019-07-06T07:15:02.606195Z",
     "start_time": "2019-07-06T07:15:02.594469Z"
    }
   },
   "outputs": [
    {
     "data": {
      "text/plain": [
       "{'o3_sub_index': {'west': 7,\n",
       "  'national': 10,\n",
       "  'east': 8,\n",
       "  'central': 10,\n",
       "  'south': 4,\n",
       "  'north': 7},\n",
       " 'pm10_twenty_four_hourly': {'west': 22,\n",
       "  'national': 27,\n",
       "  'east': 27,\n",
       "  'central': 18,\n",
       "  'south': 24,\n",
       "  'north': 18},\n",
       " 'pm10_sub_index': {'west': 22,\n",
       "  'national': 27,\n",
       "  'east': 27,\n",
       "  'central': 18,\n",
       "  'south': 24,\n",
       "  'north': 18},\n",
       " 'co_sub_index': {'west': 5,\n",
       "  'national': 5,\n",
       "  'east': 4,\n",
       "  'central': 3,\n",
       "  'south': 4,\n",
       "  'north': 4},\n",
       " 'pm25_twenty_four_hourly': {'west': 10,\n",
       "  'national': 13,\n",
       "  'east': 13,\n",
       "  'central': 8,\n",
       "  'south': 9,\n",
       "  'north': 9},\n",
       " 'so2_sub_index': {'west': 11,\n",
       "  'national': 11,\n",
       "  'east': 6,\n",
       "  'central': 6,\n",
       "  'south': 8,\n",
       "  'north': 4},\n",
       " 'co_eight_hour_max': {'west': 0.45,\n",
       "  'national': 0.45,\n",
       "  'east': 0.39,\n",
       "  'central': 0.32,\n",
       "  'south': 0.42,\n",
       "  'north': 0.44},\n",
       " 'no2_one_hour_max': {'west': 29,\n",
       "  'national': 29,\n",
       "  'east': 6,\n",
       "  'central': 9,\n",
       "  'south': 14,\n",
       "  'north': 17},\n",
       " 'so2_twenty_four_hourly': {'west': 17,\n",
       "  'national': 17,\n",
       "  'east': 9,\n",
       "  'central': 9,\n",
       "  'south': 13,\n",
       "  'north': 7},\n",
       " 'pm25_sub_index': {'west': 41,\n",
       "  'national': 52,\n",
       "  'east': 52,\n",
       "  'central': 34,\n",
       "  'south': 39,\n",
       "  'north': 37},\n",
       " 'psi_twenty_four_hourly': {'west': 41,\n",
       "  'national': 52,\n",
       "  'east': 52,\n",
       "  'central': 34,\n",
       "  'south': 39,\n",
       "  'north': 37},\n",
       " 'o3_eight_hour_max': {'west': 17,\n",
       "  'national': 24,\n",
       "  'east': 19,\n",
       "  'central': 24,\n",
       "  'south': 10,\n",
       "  'north': 16}}"
      ]
     },
     "metadata": {},
     "output_type": "display_data"
    }
   ],
   "source": [
    "# Similarly, consider the readings result\n",
    "# Consider the following dict that needs to be parsed into a dict\n",
    "readings_dict = psi_json['items'][0]['readings']\n",
    "display(readings_dict)"
   ]
  },
  {
   "cell_type": "code",
   "execution_count": 12,
   "metadata": {
    "ExecuteTime": {
     "end_time": "2019-07-06T07:15:02.618084Z",
     "start_time": "2019-07-06T07:15:02.610604Z"
    }
   },
   "outputs": [],
   "source": [
    "# First, iterate through all values to construct the final dict\n",
    "readings_list = []\n",
    "for k, v in readings_dict.items():\n",
    "    r_dict = dict()\n",
    "    r_dict['reading_name'] = k\n",
    "    for k2, v2 in v.items():\n",
    "        r_dict[k2] = v2\n",
    "    readings_list.append(r_dict)   "
   ]
  },
  {
   "cell_type": "code",
   "execution_count": 13,
   "metadata": {
    "ExecuteTime": {
     "end_time": "2019-07-06T07:15:02.656513Z",
     "start_time": "2019-07-06T07:15:02.622322Z"
    },
    "scrolled": false
   },
   "outputs": [
    {
     "data": {
      "text/html": [
       "<div>\n",
       "<style scoped>\n",
       "    .dataframe tbody tr th:only-of-type {\n",
       "        vertical-align: middle;\n",
       "    }\n",
       "\n",
       "    .dataframe tbody tr th {\n",
       "        vertical-align: top;\n",
       "    }\n",
       "\n",
       "    .dataframe thead th {\n",
       "        text-align: right;\n",
       "    }\n",
       "</style>\n",
       "<table border=\"1\" class=\"dataframe\">\n",
       "  <thead>\n",
       "    <tr style=\"text-align: right;\">\n",
       "      <th></th>\n",
       "      <th>reading_name</th>\n",
       "      <th>south</th>\n",
       "      <th>north</th>\n",
       "      <th>central</th>\n",
       "      <th>west</th>\n",
       "      <th>east</th>\n",
       "      <th>national</th>\n",
       "    </tr>\n",
       "  </thead>\n",
       "  <tbody>\n",
       "    <tr>\n",
       "      <th>0</th>\n",
       "      <td>o3_sub_index</td>\n",
       "      <td>4.00</td>\n",
       "      <td>7.00</td>\n",
       "      <td>10.00</td>\n",
       "      <td>7.00</td>\n",
       "      <td>8.00</td>\n",
       "      <td>10.00</td>\n",
       "    </tr>\n",
       "    <tr>\n",
       "      <th>1</th>\n",
       "      <td>pm10_twenty_four_hourly</td>\n",
       "      <td>24.00</td>\n",
       "      <td>18.00</td>\n",
       "      <td>18.00</td>\n",
       "      <td>22.00</td>\n",
       "      <td>27.00</td>\n",
       "      <td>27.00</td>\n",
       "    </tr>\n",
       "    <tr>\n",
       "      <th>2</th>\n",
       "      <td>pm10_sub_index</td>\n",
       "      <td>24.00</td>\n",
       "      <td>18.00</td>\n",
       "      <td>18.00</td>\n",
       "      <td>22.00</td>\n",
       "      <td>27.00</td>\n",
       "      <td>27.00</td>\n",
       "    </tr>\n",
       "    <tr>\n",
       "      <th>3</th>\n",
       "      <td>co_sub_index</td>\n",
       "      <td>4.00</td>\n",
       "      <td>4.00</td>\n",
       "      <td>3.00</td>\n",
       "      <td>5.00</td>\n",
       "      <td>4.00</td>\n",
       "      <td>5.00</td>\n",
       "    </tr>\n",
       "    <tr>\n",
       "      <th>4</th>\n",
       "      <td>pm25_twenty_four_hourly</td>\n",
       "      <td>9.00</td>\n",
       "      <td>9.00</td>\n",
       "      <td>8.00</td>\n",
       "      <td>10.00</td>\n",
       "      <td>13.00</td>\n",
       "      <td>13.00</td>\n",
       "    </tr>\n",
       "    <tr>\n",
       "      <th>5</th>\n",
       "      <td>so2_sub_index</td>\n",
       "      <td>8.00</td>\n",
       "      <td>4.00</td>\n",
       "      <td>6.00</td>\n",
       "      <td>11.00</td>\n",
       "      <td>6.00</td>\n",
       "      <td>11.00</td>\n",
       "    </tr>\n",
       "    <tr>\n",
       "      <th>6</th>\n",
       "      <td>co_eight_hour_max</td>\n",
       "      <td>0.42</td>\n",
       "      <td>0.44</td>\n",
       "      <td>0.32</td>\n",
       "      <td>0.45</td>\n",
       "      <td>0.39</td>\n",
       "      <td>0.45</td>\n",
       "    </tr>\n",
       "    <tr>\n",
       "      <th>7</th>\n",
       "      <td>no2_one_hour_max</td>\n",
       "      <td>14.00</td>\n",
       "      <td>17.00</td>\n",
       "      <td>9.00</td>\n",
       "      <td>29.00</td>\n",
       "      <td>6.00</td>\n",
       "      <td>29.00</td>\n",
       "    </tr>\n",
       "    <tr>\n",
       "      <th>8</th>\n",
       "      <td>so2_twenty_four_hourly</td>\n",
       "      <td>13.00</td>\n",
       "      <td>7.00</td>\n",
       "      <td>9.00</td>\n",
       "      <td>17.00</td>\n",
       "      <td>9.00</td>\n",
       "      <td>17.00</td>\n",
       "    </tr>\n",
       "    <tr>\n",
       "      <th>9</th>\n",
       "      <td>pm25_sub_index</td>\n",
       "      <td>39.00</td>\n",
       "      <td>37.00</td>\n",
       "      <td>34.00</td>\n",
       "      <td>41.00</td>\n",
       "      <td>52.00</td>\n",
       "      <td>52.00</td>\n",
       "    </tr>\n",
       "    <tr>\n",
       "      <th>10</th>\n",
       "      <td>psi_twenty_four_hourly</td>\n",
       "      <td>39.00</td>\n",
       "      <td>37.00</td>\n",
       "      <td>34.00</td>\n",
       "      <td>41.00</td>\n",
       "      <td>52.00</td>\n",
       "      <td>52.00</td>\n",
       "    </tr>\n",
       "    <tr>\n",
       "      <th>11</th>\n",
       "      <td>o3_eight_hour_max</td>\n",
       "      <td>10.00</td>\n",
       "      <td>16.00</td>\n",
       "      <td>24.00</td>\n",
       "      <td>17.00</td>\n",
       "      <td>19.00</td>\n",
       "      <td>24.00</td>\n",
       "    </tr>\n",
       "  </tbody>\n",
       "</table>\n",
       "</div>"
      ],
      "text/plain": [
       "               reading_name  south  north  central   west   east  national\n",
       "0              o3_sub_index   4.00   7.00    10.00   7.00   8.00     10.00\n",
       "1   pm10_twenty_four_hourly  24.00  18.00    18.00  22.00  27.00     27.00\n",
       "2            pm10_sub_index  24.00  18.00    18.00  22.00  27.00     27.00\n",
       "3              co_sub_index   4.00   4.00     3.00   5.00   4.00      5.00\n",
       "4   pm25_twenty_four_hourly   9.00   9.00     8.00  10.00  13.00     13.00\n",
       "5             so2_sub_index   8.00   4.00     6.00  11.00   6.00     11.00\n",
       "6         co_eight_hour_max   0.42   0.44     0.32   0.45   0.39      0.45\n",
       "7          no2_one_hour_max  14.00  17.00     9.00  29.00   6.00     29.00\n",
       "8    so2_twenty_four_hourly  13.00   7.00     9.00  17.00   9.00     17.00\n",
       "9            pm25_sub_index  39.00  37.00    34.00  41.00  52.00     52.00\n",
       "10   psi_twenty_four_hourly  39.00  37.00    34.00  41.00  52.00     52.00\n",
       "11        o3_eight_hour_max  10.00  16.00    24.00  17.00  19.00     24.00"
      ]
     },
     "metadata": {},
     "output_type": "display_data"
    }
   ],
   "source": [
    "readings_df = pd.DataFrame(readings_list, \n",
    "                           columns=['reading_name', 'south','north', 'central', 'west', 'east', 'national'])\n",
    "display(readings_df)"
   ]
  },
  {
   "cell_type": "markdown",
   "metadata": {},
   "source": [
    "<hr>\n",
    "## 6.3 Interacting with Web APIs\n",
    "\n",
    "1. Using `requests.get(add)` to get the response from an API from some endpoint `add`\n",
    "2. Given `resp=requests.get(add)`, use `resp.text()` to get the text representation of the result."
   ]
  },
  {
   "cell_type": "code",
   "execution_count": 15,
   "metadata": {
    "ExecuteTime": {
     "end_time": "2019-07-06T07:15:56.979679Z",
     "start_time": "2019-07-06T07:15:56.772416Z"
    }
   },
   "outputs": [
    {
     "name": "stdout",
     "output_type": "stream",
     "text": [
      "{'region_metadata': [{'name': 'west', 'label_location': {'latitude': 1.35735, 'longitude': 103.7}}, {'name': 'national', 'label_location': {'latitude': 0, 'longitude': 0}}, {'name': 'east', 'label_location': {'latitude': 1.35735, 'longitude': 103.94}}, {'name': 'central', 'label_location': {'latitude': 1.35735, 'longitude': 103.82}}, {'name': 'south', 'label_location': {'latitude': 1.29587, 'longitude': 103.82}}, {'name': 'north', 'label_location': {'latitude': 1.41803, 'longitude': 103.82}}], 'items': [{'timestamp': '2019-07-06T15:00:00+08:00', 'update_timestamp': '2019-07-06T15:03:52+08:00', 'readings': {'o3_sub_index': {'west': 10, 'national': 13, 'east': 9, 'central': 13, 'south': 5, 'north': 9}, 'pm10_twenty_four_hourly': {'west': 22, 'national': 27, 'east': 27, 'central': 17, 'south': 24, 'north': 17}, 'pm10_sub_index': {'west': 22, 'national': 27, 'east': 27, 'central': 17, 'south': 24, 'north': 17}, 'co_sub_index': {'west': 5, 'national': 5, 'east': 4, 'central': 3, 'south': 4, 'north': 4}, 'pm25_twenty_four_hourly': {'west': 10, 'national': 13, 'east': 13, 'central': 8, 'south': 9, 'north': 8}, 'so2_sub_index': {'west': 11, 'national': 11, 'east': 6, 'central': 6, 'south': 8, 'north': 4}, 'co_eight_hour_max': {'west': 0.45, 'national': 0.45, 'east': 0.4, 'central': 0.32, 'south': 0.43, 'north': 0.44}, 'no2_one_hour_max': {'west': 27, 'national': 27, 'east': 10, 'central': 11, 'south': 20, 'north': 15}, 'so2_twenty_four_hourly': {'west': 17, 'national': 17, 'east': 9, 'central': 9, 'south': 13, 'north': 6}, 'pm25_sub_index': {'west': 42, 'national': 52, 'east': 52, 'central': 33, 'south': 38, 'north': 35}, 'psi_twenty_four_hourly': {'west': 42, 'national': 52, 'east': 52, 'central': 33, 'south': 38, 'north': 35}, 'o3_eight_hour_max': {'west': 23, 'national': 30, 'east': 20, 'central': 30, 'south': 12, 'north': 22}}}], 'api_info': {'status': 'healthy'}}\n"
     ]
    }
   ],
   "source": [
    "# Code snippet to call PSI API from data.gov.sg\n",
    "import requests\n",
    "\n",
    "psi = requests.get(\"https://api.data.gov.sg/v1/environment/psi\")\n",
    "j = psi.text\n",
    "j_dict = json.loads(j)\n",
    "print(j_dict)\n",
    "\n",
    "# Use the lines below to write to a JSON file\n",
    "# with open ('dataset-X.json', 'w') as f:\n",
    "#     f.write(json.dumps(j_dict))"
   ]
  },
  {
   "cell_type": "markdown",
   "metadata": {},
   "source": [
    "**References:**\n",
    "\n",
    "Python for Data Analysis, 2nd Edition, McKinney (2017)"
   ]
  }
 ],
 "metadata": {
  "kernelspec": {
   "display_name": "Python 3",
   "language": "python",
   "name": "python3"
  },
  "language_info": {
   "codemirror_mode": {
    "name": "ipython",
    "version": 3
   },
   "file_extension": ".py",
   "mimetype": "text/x-python",
   "name": "python",
   "nbconvert_exporter": "python",
   "pygments_lexer": "ipython3",
   "version": "3.6.5"
  }
 },
 "nbformat": 4,
 "nbformat_minor": 2
}
