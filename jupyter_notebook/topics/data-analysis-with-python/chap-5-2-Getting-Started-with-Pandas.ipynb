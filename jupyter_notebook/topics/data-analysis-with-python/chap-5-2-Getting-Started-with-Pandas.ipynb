{
 "cells": [
  {
   "cell_type": "markdown",
   "metadata": {},
   "source": [
    "# Chapter 5 - Getting Started with `pandas`"
   ]
  },
  {
   "cell_type": "markdown",
   "metadata": {},
   "source": [
    "## 5.1 Essential Functionality"
   ]
  },
  {
   "cell_type": "code",
   "execution_count": 1,
   "metadata": {
    "ExecuteTime": {
     "end_time": "2019-06-29T14:56:39.440941Z",
     "start_time": "2019-06-29T14:56:38.943592Z"
    }
   },
   "outputs": [],
   "source": [
    "import pandas as pd\n",
    "import numpy as np"
   ]
  },
  {
   "cell_type": "markdown",
   "metadata": {},
   "source": [
    "### Re-Indexing \n",
    "Given a `Series`, reindexing is used to create a new object with the data re-arranged using the new index."
   ]
  },
  {
   "cell_type": "code",
   "execution_count": 2,
   "metadata": {
    "ExecuteTime": {
     "end_time": "2019-06-29T14:56:39.457586Z",
     "start_time": "2019-06-29T14:56:39.443230Z"
    }
   },
   "outputs": [
    {
     "name": "stdout",
     "output_type": "stream",
     "text": [
      "year\n",
      "2014    686676\n",
      "2018    762807\n",
      "2016    740750\n",
      "2015    718723\n",
      "2017    755217\n",
      "Name: membership, dtype: int64\n",
      "\n",
      "year\n",
      "2014    686676\n",
      "2015    718723\n",
      "2016    740750\n",
      "2017    755217\n",
      "2018    762807\n",
      "Name: membership, dtype: int64\n"
     ]
    }
   ],
   "source": [
    "df_b2 = pd.read_csv('dataset-B2-membership.csv', index_col=0)\n",
    "m_b2 = df_b2['membership']\n",
    "print(m_b2)\n",
    "print()\n",
    "m_b2_reindexed = m_b2.reindex(sorted(m_b2.index))\n",
    "print(m_b2_reindexed)"
   ]
  },
  {
   "cell_type": "code",
   "execution_count": 3,
   "metadata": {
    "ExecuteTime": {
     "end_time": "2019-06-29T14:56:39.472403Z",
     "start_time": "2019-06-29T14:56:39.460360Z"
    }
   },
   "outputs": [
    {
     "name": "stdout",
     "output_type": "stream",
     "text": [
      "year\n",
      "2010    549878\n",
      "2012    613418\n",
      "2013    655126\n",
      "2014    686676\n",
      "2015    718723\n",
      "2018    762807\n",
      "Name: membership, dtype: int64\n",
      "\n",
      "year\n",
      "2010    549878\n",
      "2011    549878\n",
      "2012    613418\n",
      "2013    655126\n",
      "2014    686676\n",
      "2015    718723\n",
      "2016    718723\n",
      "2017    718723\n",
      "2018    762807\n",
      "Name: membership, dtype: int64\n"
     ]
    }
   ],
   "source": [
    "# Series.reindex can be used to perform interpolation / filling\n",
    "df_b1 = pd.read_csv('dataset-B1-membership.csv', index_col=0)\n",
    "m_b1 = df_b1['membership']\n",
    "print(m_b1)\n",
    "print()\n",
    "m_b1_reindexed = m_b1.reindex(range(2010, 2019), method='ffill') \n",
    "print(m_b1_reindexed)"
   ]
  },
  {
   "cell_type": "markdown",
   "metadata": {},
   "source": [
    "Note that `reindex` has other key arguments like `index`, `method`, `fill_value`, `limit`, `tolerance`, `level`, and `copy`."
   ]
  },
  {
   "cell_type": "markdown",
   "metadata": {},
   "source": [
    "<hr>\n",
    "### Dropping Entries from an Axis\n",
    "`drop` will return a new object with the selected values deleted from an axis."
   ]
  },
  {
   "cell_type": "code",
   "execution_count": 4,
   "metadata": {
    "ExecuteTime": {
     "end_time": "2019-06-29T14:56:39.597963Z",
     "start_time": "2019-06-29T14:56:39.570968Z"
    }
   },
   "outputs": [
    {
     "name": "stdout",
     "output_type": "stream",
     "text": [
      "year\n",
      "2009    526089\n",
      "2010    549878\n",
      "2011    588014\n",
      "2012    613418\n",
      "2013    655126\n",
      "2014    686676\n",
      "2015    718723\n",
      "2016    740750\n",
      "2017    755217\n",
      "2018    762807\n",
      "Name: membership, dtype: int64\n",
      "\n"
     ]
    },
    {
     "data": {
      "text/plain": [
       "year\n",
       "2014    686676\n",
       "2015    718723\n",
       "2016    740750\n",
       "2017    755217\n",
       "2018    762807\n",
       "Name: membership, dtype: int64"
      ]
     },
     "execution_count": 4,
     "metadata": {},
     "output_type": "execute_result"
    }
   ],
   "source": [
    "df = pd.read_csv('dataset-B-membership.csv', index_col=0)\n",
    "memberships = df.membership\n",
    "print(memberships)\n",
    "print()\n",
    "# Series.drop()\n",
    "memberships_d = memberships.drop(range(2009, 2014))\n",
    "memberships_d"
   ]
  },
  {
   "cell_type": "code",
   "execution_count": 5,
   "metadata": {
    "ExecuteTime": {
     "end_time": "2019-06-29T14:56:39.698099Z",
     "start_time": "2019-06-29T14:56:39.671132Z"
    }
   },
   "outputs": [
    {
     "data": {
      "text/html": [
       "<div>\n",
       "<style scoped>\n",
       "    .dataframe tbody tr th:only-of-type {\n",
       "        vertical-align: middle;\n",
       "    }\n",
       "\n",
       "    .dataframe tbody tr th {\n",
       "        vertical-align: top;\n",
       "    }\n",
       "\n",
       "    .dataframe thead th {\n",
       "        text-align: right;\n",
       "    }\n",
       "</style>\n",
       "<table border=\"1\" class=\"dataframe\">\n",
       "  <thead>\n",
       "    <tr style=\"text-align: right;\">\n",
       "      <th></th>\n",
       "      <th>membership</th>\n",
       "    </tr>\n",
       "    <tr>\n",
       "      <th>year</th>\n",
       "      <th></th>\n",
       "    </tr>\n",
       "  </thead>\n",
       "  <tbody>\n",
       "    <tr>\n",
       "      <th>2009</th>\n",
       "      <td>526089</td>\n",
       "    </tr>\n",
       "    <tr>\n",
       "      <th>2010</th>\n",
       "      <td>549878</td>\n",
       "    </tr>\n",
       "    <tr>\n",
       "      <th>2011</th>\n",
       "      <td>588014</td>\n",
       "    </tr>\n",
       "    <tr>\n",
       "      <th>2012</th>\n",
       "      <td>613418</td>\n",
       "    </tr>\n",
       "    <tr>\n",
       "      <th>2013</th>\n",
       "      <td>655126</td>\n",
       "    </tr>\n",
       "    <tr>\n",
       "      <th>2014</th>\n",
       "      <td>686676</td>\n",
       "    </tr>\n",
       "    <tr>\n",
       "      <th>2015</th>\n",
       "      <td>718723</td>\n",
       "    </tr>\n",
       "    <tr>\n",
       "      <th>2016</th>\n",
       "      <td>740750</td>\n",
       "    </tr>\n",
       "    <tr>\n",
       "      <th>2017</th>\n",
       "      <td>755217</td>\n",
       "    </tr>\n",
       "    <tr>\n",
       "      <th>2018</th>\n",
       "      <td>762807</td>\n",
       "    </tr>\n",
       "  </tbody>\n",
       "</table>\n",
       "</div>"
      ],
      "text/plain": [
       "      membership\n",
       "year            \n",
       "2009      526089\n",
       "2010      549878\n",
       "2011      588014\n",
       "2012      613418\n",
       "2013      655126\n",
       "2014      686676\n",
       "2015      718723\n",
       "2016      740750\n",
       "2017      755217\n",
       "2018      762807"
      ]
     },
     "metadata": {},
     "output_type": "display_data"
    },
    {
     "data": {
      "text/html": [
       "<div>\n",
       "<style scoped>\n",
       "    .dataframe tbody tr th:only-of-type {\n",
       "        vertical-align: middle;\n",
       "    }\n",
       "\n",
       "    .dataframe tbody tr th {\n",
       "        vertical-align: top;\n",
       "    }\n",
       "\n",
       "    .dataframe thead th {\n",
       "        text-align: right;\n",
       "    }\n",
       "</style>\n",
       "<table border=\"1\" class=\"dataframe\">\n",
       "  <thead>\n",
       "    <tr style=\"text-align: right;\">\n",
       "      <th></th>\n",
       "      <th>membership</th>\n",
       "    </tr>\n",
       "    <tr>\n",
       "      <th>year</th>\n",
       "      <th></th>\n",
       "    </tr>\n",
       "  </thead>\n",
       "  <tbody>\n",
       "    <tr>\n",
       "      <th>2016</th>\n",
       "      <td>740750</td>\n",
       "    </tr>\n",
       "    <tr>\n",
       "      <th>2017</th>\n",
       "      <td>755217</td>\n",
       "    </tr>\n",
       "    <tr>\n",
       "      <th>2018</th>\n",
       "      <td>762807</td>\n",
       "    </tr>\n",
       "  </tbody>\n",
       "</table>\n",
       "</div>"
      ],
      "text/plain": [
       "      membership\n",
       "year            \n",
       "2016      740750\n",
       "2017      755217\n",
       "2018      762807"
      ]
     },
     "metadata": {},
     "output_type": "display_data"
    }
   ],
   "source": [
    "df2 = df.copy()\n",
    "display(df2)\n",
    "# Drop a selected set of rows\n",
    "display(df2.drop(range(2009, 2016)))"
   ]
  },
  {
   "cell_type": "code",
   "execution_count": 6,
   "metadata": {
    "ExecuteTime": {
     "end_time": "2019-06-29T14:56:39.814702Z",
     "start_time": "2019-06-29T14:56:39.779775Z"
    },
    "scrolled": false
   },
   "outputs": [
    {
     "data": {
      "text/html": [
       "<div>\n",
       "<style scoped>\n",
       "    .dataframe tbody tr th:only-of-type {\n",
       "        vertical-align: middle;\n",
       "    }\n",
       "\n",
       "    .dataframe tbody tr th {\n",
       "        vertical-align: top;\n",
       "    }\n",
       "\n",
       "    .dataframe thead th {\n",
       "        text-align: right;\n",
       "    }\n",
       "</style>\n",
       "<table border=\"1\" class=\"dataframe\">\n",
       "  <thead>\n",
       "    <tr style=\"text-align: right;\">\n",
       "      <th></th>\n",
       "      <th>loan_amnt</th>\n",
       "      <th>int_rate</th>\n",
       "      <th>term</th>\n",
       "      <th>grade</th>\n",
       "    </tr>\n",
       "  </thead>\n",
       "  <tbody>\n",
       "    <tr>\n",
       "      <th>48304290</th>\n",
       "      <td>30000.0</td>\n",
       "      <td>8.18</td>\n",
       "      <td>36 months</td>\n",
       "      <td>B</td>\n",
       "    </tr>\n",
       "    <tr>\n",
       "      <th>49904421</th>\n",
       "      <td>14225.0</td>\n",
       "      <td>13.33</td>\n",
       "      <td>60 months</td>\n",
       "      <td>C</td>\n",
       "    </tr>\n",
       "    <tr>\n",
       "      <th>32038416</th>\n",
       "      <td>12000.0</td>\n",
       "      <td>20.20</td>\n",
       "      <td>60 months</td>\n",
       "      <td>E</td>\n",
       "    </tr>\n",
       "    <tr>\n",
       "      <th>11456303</th>\n",
       "      <td>18000.0</td>\n",
       "      <td>8.39</td>\n",
       "      <td>36 months</td>\n",
       "      <td>A</td>\n",
       "    </tr>\n",
       "    <tr>\n",
       "      <th>23613274</th>\n",
       "      <td>4000.0</td>\n",
       "      <td>12.49</td>\n",
       "      <td>36 months</td>\n",
       "      <td>B</td>\n",
       "    </tr>\n",
       "    <tr>\n",
       "      <th>55949701</th>\n",
       "      <td>15000.0</td>\n",
       "      <td>16.99</td>\n",
       "      <td>60 months</td>\n",
       "      <td>D</td>\n",
       "    </tr>\n",
       "  </tbody>\n",
       "</table>\n",
       "</div>"
      ],
      "text/plain": [
       "          loan_amnt  int_rate        term grade\n",
       "48304290    30000.0      8.18   36 months     B\n",
       "49904421    14225.0     13.33   60 months     C\n",
       "32038416    12000.0     20.20   60 months     E\n",
       "11456303    18000.0      8.39   36 months     A\n",
       "23613274     4000.0     12.49   36 months     B\n",
       "55949701    15000.0     16.99   60 months     D"
      ]
     },
     "metadata": {},
     "output_type": "display_data"
    },
    {
     "data": {
      "text/html": [
       "<div>\n",
       "<style scoped>\n",
       "    .dataframe tbody tr th:only-of-type {\n",
       "        vertical-align: middle;\n",
       "    }\n",
       "\n",
       "    .dataframe tbody tr th {\n",
       "        vertical-align: top;\n",
       "    }\n",
       "\n",
       "    .dataframe thead th {\n",
       "        text-align: right;\n",
       "    }\n",
       "</style>\n",
       "<table border=\"1\" class=\"dataframe\">\n",
       "  <thead>\n",
       "    <tr style=\"text-align: right;\">\n",
       "      <th></th>\n",
       "      <th>loan_amnt</th>\n",
       "      <th>grade</th>\n",
       "    </tr>\n",
       "  </thead>\n",
       "  <tbody>\n",
       "    <tr>\n",
       "      <th>48304290</th>\n",
       "      <td>30000.0</td>\n",
       "      <td>B</td>\n",
       "    </tr>\n",
       "    <tr>\n",
       "      <th>49904421</th>\n",
       "      <td>14225.0</td>\n",
       "      <td>C</td>\n",
       "    </tr>\n",
       "    <tr>\n",
       "      <th>32038416</th>\n",
       "      <td>12000.0</td>\n",
       "      <td>E</td>\n",
       "    </tr>\n",
       "    <tr>\n",
       "      <th>11456303</th>\n",
       "      <td>18000.0</td>\n",
       "      <td>A</td>\n",
       "    </tr>\n",
       "    <tr>\n",
       "      <th>23613274</th>\n",
       "      <td>4000.0</td>\n",
       "      <td>B</td>\n",
       "    </tr>\n",
       "    <tr>\n",
       "      <th>55949701</th>\n",
       "      <td>15000.0</td>\n",
       "      <td>D</td>\n",
       "    </tr>\n",
       "  </tbody>\n",
       "</table>\n",
       "</div>"
      ],
      "text/plain": [
       "          loan_amnt grade\n",
       "48304290    30000.0     B\n",
       "49904421    14225.0     C\n",
       "32038416    12000.0     E\n",
       "11456303    18000.0     A\n",
       "23613274     4000.0     B\n",
       "55949701    15000.0     D"
      ]
     },
     "metadata": {},
     "output_type": "display_data"
    }
   ],
   "source": [
    "loans_df = pd.read_csv('dataset-A-loans.csv', index_col=0)\n",
    "display(loans_df)\n",
    "# Use axis=1 to drop a column\n",
    "display(loans_df.drop(['int_rate', 'term'], axis=1))"
   ]
  },
  {
   "cell_type": "code",
   "execution_count": 7,
   "metadata": {
    "ExecuteTime": {
     "end_time": "2019-06-29T14:56:39.925882Z",
     "start_time": "2019-06-29T14:56:39.896636Z"
    }
   },
   "outputs": [
    {
     "data": {
      "text/html": [
       "<div>\n",
       "<style scoped>\n",
       "    .dataframe tbody tr th:only-of-type {\n",
       "        vertical-align: middle;\n",
       "    }\n",
       "\n",
       "    .dataframe tbody tr th {\n",
       "        vertical-align: top;\n",
       "    }\n",
       "\n",
       "    .dataframe thead th {\n",
       "        text-align: right;\n",
       "    }\n",
       "</style>\n",
       "<table border=\"1\" class=\"dataframe\">\n",
       "  <thead>\n",
       "    <tr style=\"text-align: right;\">\n",
       "      <th></th>\n",
       "      <th>loan_amnt</th>\n",
       "      <th>int_rate</th>\n",
       "      <th>term</th>\n",
       "      <th>grade</th>\n",
       "    </tr>\n",
       "  </thead>\n",
       "  <tbody>\n",
       "    <tr>\n",
       "      <th>48304290</th>\n",
       "      <td>30000.0</td>\n",
       "      <td>8.18</td>\n",
       "      <td>36 months</td>\n",
       "      <td>B</td>\n",
       "    </tr>\n",
       "    <tr>\n",
       "      <th>49904421</th>\n",
       "      <td>14225.0</td>\n",
       "      <td>13.33</td>\n",
       "      <td>60 months</td>\n",
       "      <td>C</td>\n",
       "    </tr>\n",
       "    <tr>\n",
       "      <th>32038416</th>\n",
       "      <td>12000.0</td>\n",
       "      <td>20.20</td>\n",
       "      <td>60 months</td>\n",
       "      <td>E</td>\n",
       "    </tr>\n",
       "    <tr>\n",
       "      <th>11456303</th>\n",
       "      <td>18000.0</td>\n",
       "      <td>8.39</td>\n",
       "      <td>36 months</td>\n",
       "      <td>A</td>\n",
       "    </tr>\n",
       "    <tr>\n",
       "      <th>23613274</th>\n",
       "      <td>4000.0</td>\n",
       "      <td>12.49</td>\n",
       "      <td>36 months</td>\n",
       "      <td>B</td>\n",
       "    </tr>\n",
       "    <tr>\n",
       "      <th>55949701</th>\n",
       "      <td>15000.0</td>\n",
       "      <td>16.99</td>\n",
       "      <td>60 months</td>\n",
       "      <td>D</td>\n",
       "    </tr>\n",
       "  </tbody>\n",
       "</table>\n",
       "</div>"
      ],
      "text/plain": [
       "          loan_amnt  int_rate        term grade\n",
       "48304290    30000.0      8.18   36 months     B\n",
       "49904421    14225.0     13.33   60 months     C\n",
       "32038416    12000.0     20.20   60 months     E\n",
       "11456303    18000.0      8.39   36 months     A\n",
       "23613274     4000.0     12.49   36 months     B\n",
       "55949701    15000.0     16.99   60 months     D"
      ]
     },
     "metadata": {},
     "output_type": "display_data"
    },
    {
     "data": {
      "text/html": [
       "<div>\n",
       "<style scoped>\n",
       "    .dataframe tbody tr th:only-of-type {\n",
       "        vertical-align: middle;\n",
       "    }\n",
       "\n",
       "    .dataframe tbody tr th {\n",
       "        vertical-align: top;\n",
       "    }\n",
       "\n",
       "    .dataframe thead th {\n",
       "        text-align: right;\n",
       "    }\n",
       "</style>\n",
       "<table border=\"1\" class=\"dataframe\">\n",
       "  <thead>\n",
       "    <tr style=\"text-align: right;\">\n",
       "      <th></th>\n",
       "      <th>loan_amnt</th>\n",
       "      <th>int_rate</th>\n",
       "      <th>term</th>\n",
       "    </tr>\n",
       "  </thead>\n",
       "  <tbody>\n",
       "    <tr>\n",
       "      <th>48304290</th>\n",
       "      <td>30000.0</td>\n",
       "      <td>8.18</td>\n",
       "      <td>36 months</td>\n",
       "    </tr>\n",
       "    <tr>\n",
       "      <th>49904421</th>\n",
       "      <td>14225.0</td>\n",
       "      <td>13.33</td>\n",
       "      <td>60 months</td>\n",
       "    </tr>\n",
       "    <tr>\n",
       "      <th>32038416</th>\n",
       "      <td>12000.0</td>\n",
       "      <td>20.20</td>\n",
       "      <td>60 months</td>\n",
       "    </tr>\n",
       "    <tr>\n",
       "      <th>11456303</th>\n",
       "      <td>18000.0</td>\n",
       "      <td>8.39</td>\n",
       "      <td>36 months</td>\n",
       "    </tr>\n",
       "    <tr>\n",
       "      <th>23613274</th>\n",
       "      <td>4000.0</td>\n",
       "      <td>12.49</td>\n",
       "      <td>36 months</td>\n",
       "    </tr>\n",
       "    <tr>\n",
       "      <th>55949701</th>\n",
       "      <td>15000.0</td>\n",
       "      <td>16.99</td>\n",
       "      <td>60 months</td>\n",
       "    </tr>\n",
       "  </tbody>\n",
       "</table>\n",
       "</div>"
      ],
      "text/plain": [
       "          loan_amnt  int_rate        term\n",
       "48304290    30000.0      8.18   36 months\n",
       "49904421    14225.0     13.33   60 months\n",
       "32038416    12000.0     20.20   60 months\n",
       "11456303    18000.0      8.39   36 months\n",
       "23613274     4000.0     12.49   36 months\n",
       "55949701    15000.0     16.99   60 months"
      ]
     },
     "metadata": {},
     "output_type": "display_data"
    }
   ],
   "source": [
    "display(loans_df)\n",
    "# inplace=True will manipulate the object itself without returning a new object\n",
    "loans_df.drop(['grade'], axis=1, inplace=True)\n",
    "display(loans_df)"
   ]
  },
  {
   "cell_type": "markdown",
   "metadata": {},
   "source": [
    "### Indexing, Selection and Filtering\n",
    "\n",
    "The index of the `Series` or `DataFrame` can be used for slicing."
   ]
  },
  {
   "cell_type": "code",
   "execution_count": 8,
   "metadata": {
    "ExecuteTime": {
     "end_time": "2019-06-29T14:56:40.399790Z",
     "start_time": "2019-06-29T14:56:40.384710Z"
    }
   },
   "outputs": [
    {
     "data": {
      "text/plain": [
       "year\n",
       "2014    686676\n",
       "2018    762807\n",
       "2016    740750\n",
       "2015    718723\n",
       "2017    755217\n",
       "Name: membership, dtype: int64"
      ]
     },
     "metadata": {},
     "output_type": "display_data"
    },
    {
     "name": "stdout",
     "output_type": "stream",
     "text": [
      "686676\n",
      "year\n",
      "2014    686676\n",
      "2015    718723\n",
      "2016    740750\n",
      "Name: membership, dtype: int64\n",
      "year\n",
      "2014    686676\n",
      "2018    762807\n",
      "2016    740750\n",
      "2015    718723\n",
      "Name: membership, dtype: int64\n"
     ]
    }
   ],
   "source": [
    "df_b2 = pd.read_csv('dataset-B2-membership.csv')\n",
    "# Change the datatype of year to a string and then assign it to the index\n",
    "df_b2['year'] = df_b2['year'].astype(str)\n",
    "df_b2.index = df_b2['year']\n",
    "membership_b2 = df_b2['membership']\n",
    "display(membership_b2)\n",
    "\n",
    "# Using index to pull values\n",
    "print(membership_b2['2014'])\n",
    "print(membership_b2[['2014', '2015', '2016']])\n",
    "# Be careful as indexing using ranges will pull based on the positions, \n",
    "# not in ascending order. For this, use reindexing\n",
    "print(membership_b2['2014':'2015'])"
   ]
  },
  {
   "cell_type": "code",
   "execution_count": 9,
   "metadata": {
    "ExecuteTime": {
     "end_time": "2019-06-29T14:56:40.954583Z",
     "start_time": "2019-06-29T14:56:40.946141Z"
    },
    "scrolled": true
   },
   "outputs": [
    {
     "name": "stdout",
     "output_type": "stream",
     "text": [
      "686676\n",
      "\n",
      "year\n",
      "2014    686676\n",
      "2016    740750\n",
      "2015    718723\n",
      "Name: membership, dtype: int64\n",
      "\n",
      "year\n",
      "2018    762807\n",
      "Name: membership, dtype: int64\n",
      "\n"
     ]
    }
   ],
   "source": [
    "# Using positions to pull values\n",
    "print(membership_b2[0])\n",
    "print()\n",
    "print(membership_b2[[0, 2, 3]])\n",
    "print()\n",
    "print(membership_b2[1:2])\n",
    "print()"
   ]
  },
  {
   "cell_type": "markdown",
   "metadata": {},
   "source": [
    "For `DataFrame`, indexing used to retrieve columns."
   ]
  },
  {
   "cell_type": "code",
   "execution_count": 10,
   "metadata": {
    "ExecuteTime": {
     "end_time": "2019-06-29T14:56:41.456866Z",
     "start_time": "2019-06-29T14:56:41.429491Z"
    }
   },
   "outputs": [
    {
     "data": {
      "text/html": [
       "<div>\n",
       "<style scoped>\n",
       "    .dataframe tbody tr th:only-of-type {\n",
       "        vertical-align: middle;\n",
       "    }\n",
       "\n",
       "    .dataframe tbody tr th {\n",
       "        vertical-align: top;\n",
       "    }\n",
       "\n",
       "    .dataframe thead th {\n",
       "        text-align: right;\n",
       "    }\n",
       "</style>\n",
       "<table border=\"1\" class=\"dataframe\">\n",
       "  <thead>\n",
       "    <tr style=\"text-align: right;\">\n",
       "      <th></th>\n",
       "      <th>id</th>\n",
       "      <th>loan_amnt</th>\n",
       "      <th>int_rate</th>\n",
       "      <th>term</th>\n",
       "      <th>grade</th>\n",
       "    </tr>\n",
       "  </thead>\n",
       "  <tbody>\n",
       "    <tr>\n",
       "      <th>0</th>\n",
       "      <td>48304290</td>\n",
       "      <td>30000.0</td>\n",
       "      <td>8.18</td>\n",
       "      <td>36 months</td>\n",
       "      <td>B</td>\n",
       "    </tr>\n",
       "    <tr>\n",
       "      <th>1</th>\n",
       "      <td>49904421</td>\n",
       "      <td>14225.0</td>\n",
       "      <td>13.33</td>\n",
       "      <td>60 months</td>\n",
       "      <td>C</td>\n",
       "    </tr>\n",
       "    <tr>\n",
       "      <th>2</th>\n",
       "      <td>32038416</td>\n",
       "      <td>12000.0</td>\n",
       "      <td>20.20</td>\n",
       "      <td>60 months</td>\n",
       "      <td>E</td>\n",
       "    </tr>\n",
       "    <tr>\n",
       "      <th>3</th>\n",
       "      <td>11456303</td>\n",
       "      <td>18000.0</td>\n",
       "      <td>8.39</td>\n",
       "      <td>36 months</td>\n",
       "      <td>A</td>\n",
       "    </tr>\n",
       "    <tr>\n",
       "      <th>4</th>\n",
       "      <td>23613274</td>\n",
       "      <td>4000.0</td>\n",
       "      <td>12.49</td>\n",
       "      <td>36 months</td>\n",
       "      <td>B</td>\n",
       "    </tr>\n",
       "    <tr>\n",
       "      <th>5</th>\n",
       "      <td>55949701</td>\n",
       "      <td>15000.0</td>\n",
       "      <td>16.99</td>\n",
       "      <td>60 months</td>\n",
       "      <td>D</td>\n",
       "    </tr>\n",
       "  </tbody>\n",
       "</table>\n",
       "</div>"
      ],
      "text/plain": [
       "         id  loan_amnt  int_rate        term grade\n",
       "0  48304290    30000.0      8.18   36 months     B\n",
       "1  49904421    14225.0     13.33   60 months     C\n",
       "2  32038416    12000.0     20.20   60 months     E\n",
       "3  11456303    18000.0      8.39   36 months     A\n",
       "4  23613274     4000.0     12.49   36 months     B\n",
       "5  55949701    15000.0     16.99   60 months     D"
      ]
     },
     "metadata": {},
     "output_type": "display_data"
    }
   ],
   "source": [
    "loans_df = pd.read_csv('dataset-A-loans.csv')\n",
    "loans_df.columns = ['id', 'loan_amnt', 'int_rate', 'term', 'grade']\n",
    "display(loans_df)"
   ]
  },
  {
   "cell_type": "code",
   "execution_count": 11,
   "metadata": {
    "ExecuteTime": {
     "end_time": "2019-06-29T14:56:41.614177Z",
     "start_time": "2019-06-29T14:56:41.596487Z"
    },
    "scrolled": true
   },
   "outputs": [
    {
     "data": {
      "text/plain": [
       "0    48304290\n",
       "1    49904421\n",
       "2    32038416\n",
       "3    11456303\n",
       "4    23613274\n",
       "5    55949701\n",
       "Name: id, dtype: int64"
      ]
     },
     "metadata": {},
     "output_type": "display_data"
    },
    {
     "data": {
      "text/html": [
       "<div>\n",
       "<style scoped>\n",
       "    .dataframe tbody tr th:only-of-type {\n",
       "        vertical-align: middle;\n",
       "    }\n",
       "\n",
       "    .dataframe tbody tr th {\n",
       "        vertical-align: top;\n",
       "    }\n",
       "\n",
       "    .dataframe thead th {\n",
       "        text-align: right;\n",
       "    }\n",
       "</style>\n",
       "<table border=\"1\" class=\"dataframe\">\n",
       "  <thead>\n",
       "    <tr style=\"text-align: right;\">\n",
       "      <th></th>\n",
       "      <th>id</th>\n",
       "      <th>grade</th>\n",
       "    </tr>\n",
       "  </thead>\n",
       "  <tbody>\n",
       "    <tr>\n",
       "      <th>0</th>\n",
       "      <td>48304290</td>\n",
       "      <td>B</td>\n",
       "    </tr>\n",
       "    <tr>\n",
       "      <th>1</th>\n",
       "      <td>49904421</td>\n",
       "      <td>C</td>\n",
       "    </tr>\n",
       "    <tr>\n",
       "      <th>2</th>\n",
       "      <td>32038416</td>\n",
       "      <td>E</td>\n",
       "    </tr>\n",
       "    <tr>\n",
       "      <th>3</th>\n",
       "      <td>11456303</td>\n",
       "      <td>A</td>\n",
       "    </tr>\n",
       "    <tr>\n",
       "      <th>4</th>\n",
       "      <td>23613274</td>\n",
       "      <td>B</td>\n",
       "    </tr>\n",
       "    <tr>\n",
       "      <th>5</th>\n",
       "      <td>55949701</td>\n",
       "      <td>D</td>\n",
       "    </tr>\n",
       "  </tbody>\n",
       "</table>\n",
       "</div>"
      ],
      "text/plain": [
       "         id grade\n",
       "0  48304290     B\n",
       "1  49904421     C\n",
       "2  32038416     E\n",
       "3  11456303     A\n",
       "4  23613274     B\n",
       "5  55949701     D"
      ]
     },
     "metadata": {},
     "output_type": "display_data"
    }
   ],
   "source": [
    "display(loans_df['id'])\n",
    "# Be careful of the double brackets\n",
    "display(loans_df[['id', 'grade']])"
   ]
  },
  {
   "cell_type": "markdown",
   "metadata": {},
   "source": [
    "By combining the row index with the column index, `iloc` and `loc` can be used to obtain slices of a `DataFrame`."
   ]
  },
  {
   "cell_type": "code",
   "execution_count": 12,
   "metadata": {
    "ExecuteTime": {
     "end_time": "2019-06-29T14:56:42.120231Z",
     "start_time": "2019-06-29T14:56:42.106326Z"
    }
   },
   "outputs": [
    {
     "data": {
      "text/html": [
       "<div>\n",
       "<style scoped>\n",
       "    .dataframe tbody tr th:only-of-type {\n",
       "        vertical-align: middle;\n",
       "    }\n",
       "\n",
       "    .dataframe tbody tr th {\n",
       "        vertical-align: top;\n",
       "    }\n",
       "\n",
       "    .dataframe thead th {\n",
       "        text-align: right;\n",
       "    }\n",
       "</style>\n",
       "<table border=\"1\" class=\"dataframe\">\n",
       "  <thead>\n",
       "    <tr style=\"text-align: right;\">\n",
       "      <th></th>\n",
       "      <th>id</th>\n",
       "      <th>grade</th>\n",
       "    </tr>\n",
       "  </thead>\n",
       "  <tbody>\n",
       "    <tr>\n",
       "      <th>0</th>\n",
       "      <td>48304290</td>\n",
       "      <td>B</td>\n",
       "    </tr>\n",
       "    <tr>\n",
       "      <th>1</th>\n",
       "      <td>49904421</td>\n",
       "      <td>C</td>\n",
       "    </tr>\n",
       "    <tr>\n",
       "      <th>2</th>\n",
       "      <td>32038416</td>\n",
       "      <td>E</td>\n",
       "    </tr>\n",
       "  </tbody>\n",
       "</table>\n",
       "</div>"
      ],
      "text/plain": [
       "         id grade\n",
       "0  48304290     B\n",
       "1  49904421     C\n",
       "2  32038416     E"
      ]
     },
     "metadata": {},
     "output_type": "display_data"
    }
   ],
   "source": [
    "# Using loc to pull a slice of a df. Note that the order matters: row then column\n",
    "display(loans_df.loc[:2, ['id', 'grade']])"
   ]
  },
  {
   "cell_type": "code",
   "execution_count": 13,
   "metadata": {
    "ExecuteTime": {
     "end_time": "2019-06-29T14:56:43.245546Z",
     "start_time": "2019-06-29T14:56:43.214386Z"
    }
   },
   "outputs": [
    {
     "data": {
      "text/html": [
       "<div>\n",
       "<style scoped>\n",
       "    .dataframe tbody tr th:only-of-type {\n",
       "        vertical-align: middle;\n",
       "    }\n",
       "\n",
       "    .dataframe tbody tr th {\n",
       "        vertical-align: top;\n",
       "    }\n",
       "\n",
       "    .dataframe thead th {\n",
       "        text-align: right;\n",
       "    }\n",
       "</style>\n",
       "<table border=\"1\" class=\"dataframe\">\n",
       "  <thead>\n",
       "    <tr style=\"text-align: right;\">\n",
       "      <th></th>\n",
       "      <th>loan_amnt</th>\n",
       "      <th>int_rate</th>\n",
       "      <th>term</th>\n",
       "      <th>grade</th>\n",
       "    </tr>\n",
       "    <tr>\n",
       "      <th>id</th>\n",
       "      <th></th>\n",
       "      <th></th>\n",
       "      <th></th>\n",
       "      <th></th>\n",
       "    </tr>\n",
       "  </thead>\n",
       "  <tbody>\n",
       "    <tr>\n",
       "      <th>48304290</th>\n",
       "      <td>30000.0</td>\n",
       "      <td>8.18</td>\n",
       "      <td>36 months</td>\n",
       "      <td>B</td>\n",
       "    </tr>\n",
       "    <tr>\n",
       "      <th>49904421</th>\n",
       "      <td>14225.0</td>\n",
       "      <td>13.33</td>\n",
       "      <td>60 months</td>\n",
       "      <td>C</td>\n",
       "    </tr>\n",
       "    <tr>\n",
       "      <th>32038416</th>\n",
       "      <td>12000.0</td>\n",
       "      <td>20.20</td>\n",
       "      <td>60 months</td>\n",
       "      <td>E</td>\n",
       "    </tr>\n",
       "    <tr>\n",
       "      <th>11456303</th>\n",
       "      <td>18000.0</td>\n",
       "      <td>8.39</td>\n",
       "      <td>36 months</td>\n",
       "      <td>A</td>\n",
       "    </tr>\n",
       "    <tr>\n",
       "      <th>23613274</th>\n",
       "      <td>4000.0</td>\n",
       "      <td>12.49</td>\n",
       "      <td>36 months</td>\n",
       "      <td>B</td>\n",
       "    </tr>\n",
       "    <tr>\n",
       "      <th>55949701</th>\n",
       "      <td>15000.0</td>\n",
       "      <td>16.99</td>\n",
       "      <td>60 months</td>\n",
       "      <td>D</td>\n",
       "    </tr>\n",
       "  </tbody>\n",
       "</table>\n",
       "</div>"
      ],
      "text/plain": [
       "          loan_amnt  int_rate        term grade\n",
       "id                                             \n",
       "48304290    30000.0      8.18   36 months     B\n",
       "49904421    14225.0     13.33   60 months     C\n",
       "32038416    12000.0     20.20   60 months     E\n",
       "11456303    18000.0      8.39   36 months     A\n",
       "23613274     4000.0     12.49   36 months     B\n",
       "55949701    15000.0     16.99   60 months     D"
      ]
     },
     "metadata": {},
     "output_type": "display_data"
    },
    {
     "data": {
      "text/html": [
       "<div>\n",
       "<style scoped>\n",
       "    .dataframe tbody tr th:only-of-type {\n",
       "        vertical-align: middle;\n",
       "    }\n",
       "\n",
       "    .dataframe tbody tr th {\n",
       "        vertical-align: top;\n",
       "    }\n",
       "\n",
       "    .dataframe thead th {\n",
       "        text-align: right;\n",
       "    }\n",
       "</style>\n",
       "<table border=\"1\" class=\"dataframe\">\n",
       "  <thead>\n",
       "    <tr style=\"text-align: right;\">\n",
       "      <th></th>\n",
       "      <th>int_rate</th>\n",
       "      <th>grade</th>\n",
       "    </tr>\n",
       "    <tr>\n",
       "      <th>id</th>\n",
       "      <th></th>\n",
       "      <th></th>\n",
       "    </tr>\n",
       "  </thead>\n",
       "  <tbody>\n",
       "    <tr>\n",
       "      <th>32038416</th>\n",
       "      <td>20.2</td>\n",
       "      <td>E</td>\n",
       "    </tr>\n",
       "  </tbody>\n",
       "</table>\n",
       "</div>"
      ],
      "text/plain": [
       "          int_rate grade\n",
       "id                      \n",
       "32038416      20.2     E"
      ]
     },
     "execution_count": 13,
     "metadata": {},
     "output_type": "execute_result"
    }
   ],
   "source": [
    "\n",
    "loans_df2 = loans_df.copy()\n",
    "loans_df2.index = loans_df2['id']\n",
    "loans_df2.drop('id', axis=1, inplace=True)\n",
    "display(loans_df2)\n",
    "# Using iloc to pull a slice of a df. Note that the order matters: row then column.\n",
    "# Also, recall iloc uses positional index\n",
    "loans_df2.iloc[2:3, [1,3]]"
   ]
  },
  {
   "cell_type": "markdown",
   "metadata": {},
   "source": [
    "### Arithmetic and Data Alignment\n",
    "\n",
    "The behaviour of arithmetic between objects with different indexes is important to note. When adding together objects, the resultant will be **the union of the index pairs**. This is similar to an \"outer join\" on 2 tables in databases."
   ]
  },
  {
   "cell_type": "code",
   "execution_count": 27,
   "metadata": {
    "ExecuteTime": {
     "end_time": "2019-06-29T15:08:49.979390Z",
     "start_time": "2019-06-29T15:08:49.957830Z"
    }
   },
   "outputs": [
    {
     "data": {
      "text/plain": [
       "year\n",
       "2012    1474\n",
       "2013    1491\n",
       "2016    1593\n",
       "2017    1588\n",
       "Name: enrolment, dtype: int64"
      ]
     },
     "metadata": {},
     "output_type": "display_data"
    },
    {
     "data": {
      "text/plain": [
       "year\n",
       "2012    717\n",
       "2013    736\n",
       "2014    715\n",
       "2015    706\n",
       "2017    741\n",
       "Name: enrolment, dtype: int64"
      ]
     },
     "metadata": {},
     "output_type": "display_data"
    }
   ],
   "source": [
    "uni_df2 = pd.read_csv('dataset-C1-enrolment.csv')\n",
    "uni_df2.index = uni_df2.year\n",
    "uni_df2.drop('year', axis=1, inplace=True)\n",
    "uni_df2 = uni_df2[['sex', 'enrolment']]\n",
    "\n",
    "uni_df2_mf = uni_df2[uni_df2.sex=='MF']['enrolment'] # Enrolment for both male & female\n",
    "display(uni_df2_mf)\n",
    "uni_df2_f = uni_df2[uni_df2.sex=='F']['enrolment'] # Enrolment for only female\n",
    "display(uni_df2_f)"
   ]
  },
  {
   "cell_type": "markdown",
   "metadata": {},
   "source": [
    "When performing arithmetic operations on the two `Series` objects, calculations are only performed when the index **appears in both of the objects**. When the index exists in both the objects, then the operation is performed on the elements represented by the index. This is called **alignment**."
   ]
  },
  {
   "cell_type": "code",
   "execution_count": 28,
   "metadata": {
    "ExecuteTime": {
     "end_time": "2019-06-29T15:09:53.885293Z",
     "start_time": "2019-06-29T15:09:53.873848Z"
    }
   },
   "outputs": [
    {
     "data": {
      "text/plain": [
       "year\n",
       "2012    757.0\n",
       "2013    755.0\n",
       "2014      NaN\n",
       "2015      NaN\n",
       "2016      NaN\n",
       "2017    847.0\n",
       "Name: enrolment, dtype: float64"
      ]
     },
     "execution_count": 28,
     "metadata": {},
     "output_type": "execute_result"
    }
   ],
   "source": [
    "uni_df2_mf - uni_df2_f # to get male, take mf - f\n",
    "# Since 2014 and 2015 does not appear in uni_df2_mf, the result is a NaN\n",
    "# Since 2016 does not appear in uni_df2_f, the result is a NaN"
   ]
  },
  {
   "cell_type": "markdown",
   "metadata": {},
   "source": [
    "In the case of `DataFrame` objects, alignment is performed on both rows and columns."
   ]
  },
  {
   "cell_type": "code",
   "execution_count": 49,
   "metadata": {
    "ExecuteTime": {
     "end_time": "2019-06-29T15:27:34.020179Z",
     "start_time": "2019-06-29T15:27:33.981988Z"
    },
    "scrolled": true
   },
   "outputs": [
    {
     "data": {
      "text/html": [
       "<div>\n",
       "<style scoped>\n",
       "    .dataframe tbody tr th:only-of-type {\n",
       "        vertical-align: middle;\n",
       "    }\n",
       "\n",
       "    .dataframe tbody tr th {\n",
       "        vertical-align: top;\n",
       "    }\n",
       "\n",
       "    .dataframe thead th {\n",
       "        text-align: right;\n",
       "    }\n",
       "</style>\n",
       "<table border=\"1\" class=\"dataframe\">\n",
       "  <thead>\n",
       "    <tr style=\"text-align: right;\">\n",
       "      <th></th>\n",
       "      <th>year</th>\n",
       "      <th>sex</th>\n",
       "      <th>course</th>\n",
       "      <th>intake</th>\n",
       "      <th>enrolment</th>\n",
       "      <th>graduates</th>\n",
       "    </tr>\n",
       "  </thead>\n",
       "  <tbody>\n",
       "    <tr>\n",
       "      <th>20</th>\n",
       "      <td>2015</td>\n",
       "      <td>MF</td>\n",
       "      <td>Law</td>\n",
       "      <td>405</td>\n",
       "      <td>1550</td>\n",
       "      <td>355</td>\n",
       "    </tr>\n",
       "    <tr>\n",
       "      <th>21</th>\n",
       "      <td>2015</td>\n",
       "      <td>F</td>\n",
       "      <td>Law</td>\n",
       "      <td>171</td>\n",
       "      <td>706</td>\n",
       "      <td>168</td>\n",
       "    </tr>\n",
       "  </tbody>\n",
       "</table>\n",
       "</div>"
      ],
      "text/plain": [
       "    year sex course  intake  enrolment  graduates\n",
       "20  2015  MF    Law     405       1550        355\n",
       "21  2015   F    Law     171        706        168"
      ]
     },
     "metadata": {},
     "output_type": "display_data"
    },
    {
     "data": {
      "text/html": [
       "<div>\n",
       "<style scoped>\n",
       "    .dataframe tbody tr th:only-of-type {\n",
       "        vertical-align: middle;\n",
       "    }\n",
       "\n",
       "    .dataframe tbody tr th {\n",
       "        vertical-align: top;\n",
       "    }\n",
       "\n",
       "    .dataframe thead th {\n",
       "        text-align: right;\n",
       "    }\n",
       "</style>\n",
       "<table border=\"1\" class=\"dataframe\">\n",
       "  <thead>\n",
       "    <tr style=\"text-align: right;\">\n",
       "      <th></th>\n",
       "      <th>year</th>\n",
       "      <th>sex</th>\n",
       "      <th>course</th>\n",
       "      <th>intake</th>\n",
       "      <th>enrolment</th>\n",
       "      <th>graduates</th>\n",
       "    </tr>\n",
       "  </thead>\n",
       "  <tbody>\n",
       "    <tr>\n",
       "      <th>22</th>\n",
       "      <td>2016</td>\n",
       "      <td>MF</td>\n",
       "      <td>Law</td>\n",
       "      <td>399</td>\n",
       "      <td>1593</td>\n",
       "      <td>351</td>\n",
       "    </tr>\n",
       "    <tr>\n",
       "      <th>23</th>\n",
       "      <td>2016</td>\n",
       "      <td>F</td>\n",
       "      <td>Law</td>\n",
       "      <td>210</td>\n",
       "      <td>740</td>\n",
       "      <td>173</td>\n",
       "    </tr>\n",
       "  </tbody>\n",
       "</table>\n",
       "</div>"
      ],
      "text/plain": [
       "    year sex course  intake  enrolment  graduates\n",
       "22  2016  MF    Law     399       1593        351\n",
       "23  2016   F    Law     210        740        173"
      ]
     },
     "metadata": {},
     "output_type": "display_data"
    },
    {
     "data": {
      "text/html": [
       "<div>\n",
       "<style scoped>\n",
       "    .dataframe tbody tr th:only-of-type {\n",
       "        vertical-align: middle;\n",
       "    }\n",
       "\n",
       "    .dataframe tbody tr th {\n",
       "        vertical-align: top;\n",
       "    }\n",
       "\n",
       "    .dataframe thead th {\n",
       "        text-align: right;\n",
       "    }\n",
       "</style>\n",
       "<table border=\"1\" class=\"dataframe\">\n",
       "  <thead>\n",
       "    <tr style=\"text-align: right;\">\n",
       "      <th></th>\n",
       "      <th>year</th>\n",
       "      <th>sex</th>\n",
       "      <th>course</th>\n",
       "      <th>intake</th>\n",
       "      <th>enrolment</th>\n",
       "      <th>graduates</th>\n",
       "    </tr>\n",
       "  </thead>\n",
       "  <tbody>\n",
       "    <tr>\n",
       "      <th>24</th>\n",
       "      <td>2017</td>\n",
       "      <td>MF</td>\n",
       "      <td>Law</td>\n",
       "      <td>391</td>\n",
       "      <td>1588</td>\n",
       "      <td>375</td>\n",
       "    </tr>\n",
       "    <tr>\n",
       "      <th>25</th>\n",
       "      <td>2017</td>\n",
       "      <td>F</td>\n",
       "      <td>Law</td>\n",
       "      <td>201</td>\n",
       "      <td>741</td>\n",
       "      <td>188</td>\n",
       "    </tr>\n",
       "  </tbody>\n",
       "</table>\n",
       "</div>"
      ],
      "text/plain": [
       "    year sex course  intake  enrolment  graduates\n",
       "24  2017  MF    Law     391       1588        375\n",
       "25  2017   F    Law     201        741        188"
      ]
     },
     "metadata": {},
     "output_type": "display_data"
    }
   ],
   "source": [
    "uni_df = pd.read_csv('dataset-C-enrolment.csv')\n",
    "\n",
    "# Q: Find the total intake, enrolment & graduates of all students in the year 2015 - 2017.\n",
    "uni_df_2015 = uni_df.copy()\n",
    "uni_df_2015 = uni_df_2015[uni_df_2015.year==2015]\n",
    "display(uni_df_2015)\n",
    "\n",
    "uni_df_2016 = uni_df.copy()\n",
    "uni_df_2016 = uni_df_2016[uni_df_2016.year==2016]\n",
    "display(uni_df_2016)\n",
    "\n",
    "uni_df_2017 = uni_df.copy()\n",
    "uni_df_2017 = uni_df_2017[uni_df_2017.year==2017]\n",
    "display(uni_df_2017)"
   ]
  },
  {
   "cell_type": "markdown",
   "metadata": {},
   "source": [
    "Notice that the index for all 3 `df`s above are <u>different</u>. Hence, adding them will result in all `NaN`. Also, all 6 index values are present."
   ]
  },
  {
   "cell_type": "code",
   "execution_count": 50,
   "metadata": {
    "ExecuteTime": {
     "end_time": "2019-06-29T15:27:34.317097Z",
     "start_time": "2019-06-29T15:27:34.296308Z"
    }
   },
   "outputs": [
    {
     "data": {
      "text/html": [
       "<div>\n",
       "<style scoped>\n",
       "    .dataframe tbody tr th:only-of-type {\n",
       "        vertical-align: middle;\n",
       "    }\n",
       "\n",
       "    .dataframe tbody tr th {\n",
       "        vertical-align: top;\n",
       "    }\n",
       "\n",
       "    .dataframe thead th {\n",
       "        text-align: right;\n",
       "    }\n",
       "</style>\n",
       "<table border=\"1\" class=\"dataframe\">\n",
       "  <thead>\n",
       "    <tr style=\"text-align: right;\">\n",
       "      <th></th>\n",
       "      <th>year</th>\n",
       "      <th>sex</th>\n",
       "      <th>course</th>\n",
       "      <th>intake</th>\n",
       "      <th>enrolment</th>\n",
       "      <th>graduates</th>\n",
       "    </tr>\n",
       "  </thead>\n",
       "  <tbody>\n",
       "    <tr>\n",
       "      <th>20</th>\n",
       "      <td>NaN</td>\n",
       "      <td>NaN</td>\n",
       "      <td>NaN</td>\n",
       "      <td>NaN</td>\n",
       "      <td>NaN</td>\n",
       "      <td>NaN</td>\n",
       "    </tr>\n",
       "    <tr>\n",
       "      <th>21</th>\n",
       "      <td>NaN</td>\n",
       "      <td>NaN</td>\n",
       "      <td>NaN</td>\n",
       "      <td>NaN</td>\n",
       "      <td>NaN</td>\n",
       "      <td>NaN</td>\n",
       "    </tr>\n",
       "    <tr>\n",
       "      <th>22</th>\n",
       "      <td>NaN</td>\n",
       "      <td>NaN</td>\n",
       "      <td>NaN</td>\n",
       "      <td>NaN</td>\n",
       "      <td>NaN</td>\n",
       "      <td>NaN</td>\n",
       "    </tr>\n",
       "    <tr>\n",
       "      <th>23</th>\n",
       "      <td>NaN</td>\n",
       "      <td>NaN</td>\n",
       "      <td>NaN</td>\n",
       "      <td>NaN</td>\n",
       "      <td>NaN</td>\n",
       "      <td>NaN</td>\n",
       "    </tr>\n",
       "    <tr>\n",
       "      <th>24</th>\n",
       "      <td>NaN</td>\n",
       "      <td>NaN</td>\n",
       "      <td>NaN</td>\n",
       "      <td>NaN</td>\n",
       "      <td>NaN</td>\n",
       "      <td>NaN</td>\n",
       "    </tr>\n",
       "    <tr>\n",
       "      <th>25</th>\n",
       "      <td>NaN</td>\n",
       "      <td>NaN</td>\n",
       "      <td>NaN</td>\n",
       "      <td>NaN</td>\n",
       "      <td>NaN</td>\n",
       "      <td>NaN</td>\n",
       "    </tr>\n",
       "  </tbody>\n",
       "</table>\n",
       "</div>"
      ],
      "text/plain": [
       "    year  sex course  intake  enrolment  graduates\n",
       "20   NaN  NaN    NaN     NaN        NaN        NaN\n",
       "21   NaN  NaN    NaN     NaN        NaN        NaN\n",
       "22   NaN  NaN    NaN     NaN        NaN        NaN\n",
       "23   NaN  NaN    NaN     NaN        NaN        NaN\n",
       "24   NaN  NaN    NaN     NaN        NaN        NaN\n",
       "25   NaN  NaN    NaN     NaN        NaN        NaN"
      ]
     },
     "metadata": {},
     "output_type": "display_data"
    }
   ],
   "source": [
    "display(uni_df_2015 + uni_df_2016 + uni_df_2017)"
   ]
  },
  {
   "cell_type": "markdown",
   "metadata": {},
   "source": [
    "To amend this, change the index for all the `df`s before performing the addition."
   ]
  },
  {
   "cell_type": "code",
   "execution_count": 51,
   "metadata": {
    "ExecuteTime": {
     "end_time": "2019-06-29T15:27:34.831795Z",
     "start_time": "2019-06-29T15:27:34.800638Z"
    }
   },
   "outputs": [
    {
     "data": {
      "text/html": [
       "<div>\n",
       "<style scoped>\n",
       "    .dataframe tbody tr th:only-of-type {\n",
       "        vertical-align: middle;\n",
       "    }\n",
       "\n",
       "    .dataframe tbody tr th {\n",
       "        vertical-align: top;\n",
       "    }\n",
       "\n",
       "    .dataframe thead th {\n",
       "        text-align: right;\n",
       "    }\n",
       "</style>\n",
       "<table border=\"1\" class=\"dataframe\">\n",
       "  <thead>\n",
       "    <tr style=\"text-align: right;\">\n",
       "      <th></th>\n",
       "      <th>sex</th>\n",
       "      <th>intake</th>\n",
       "      <th>enrolment</th>\n",
       "      <th>graduates</th>\n",
       "    </tr>\n",
       "  </thead>\n",
       "  <tbody>\n",
       "    <tr>\n",
       "      <th>0</th>\n",
       "      <td>MF</td>\n",
       "      <td>405</td>\n",
       "      <td>1550</td>\n",
       "      <td>355</td>\n",
       "    </tr>\n",
       "    <tr>\n",
       "      <th>1</th>\n",
       "      <td>F</td>\n",
       "      <td>171</td>\n",
       "      <td>706</td>\n",
       "      <td>168</td>\n",
       "    </tr>\n",
       "  </tbody>\n",
       "</table>\n",
       "</div>"
      ],
      "text/plain": [
       "  sex  intake  enrolment  graduates\n",
       "0  MF     405       1550        355\n",
       "1   F     171        706        168"
      ]
     },
     "metadata": {},
     "output_type": "display_data"
    },
    {
     "data": {
      "text/html": [
       "<div>\n",
       "<style scoped>\n",
       "    .dataframe tbody tr th:only-of-type {\n",
       "        vertical-align: middle;\n",
       "    }\n",
       "\n",
       "    .dataframe tbody tr th {\n",
       "        vertical-align: top;\n",
       "    }\n",
       "\n",
       "    .dataframe thead th {\n",
       "        text-align: right;\n",
       "    }\n",
       "</style>\n",
       "<table border=\"1\" class=\"dataframe\">\n",
       "  <thead>\n",
       "    <tr style=\"text-align: right;\">\n",
       "      <th></th>\n",
       "      <th>sex</th>\n",
       "      <th>intake</th>\n",
       "      <th>enrolment</th>\n",
       "      <th>graduates</th>\n",
       "    </tr>\n",
       "  </thead>\n",
       "  <tbody>\n",
       "    <tr>\n",
       "      <th>0</th>\n",
       "      <td>MF</td>\n",
       "      <td>399</td>\n",
       "      <td>1593</td>\n",
       "      <td>351</td>\n",
       "    </tr>\n",
       "    <tr>\n",
       "      <th>1</th>\n",
       "      <td>F</td>\n",
       "      <td>210</td>\n",
       "      <td>740</td>\n",
       "      <td>173</td>\n",
       "    </tr>\n",
       "  </tbody>\n",
       "</table>\n",
       "</div>"
      ],
      "text/plain": [
       "  sex  intake  enrolment  graduates\n",
       "0  MF     399       1593        351\n",
       "1   F     210        740        173"
      ]
     },
     "metadata": {},
     "output_type": "display_data"
    },
    {
     "data": {
      "text/html": [
       "<div>\n",
       "<style scoped>\n",
       "    .dataframe tbody tr th:only-of-type {\n",
       "        vertical-align: middle;\n",
       "    }\n",
       "\n",
       "    .dataframe tbody tr th {\n",
       "        vertical-align: top;\n",
       "    }\n",
       "\n",
       "    .dataframe thead th {\n",
       "        text-align: right;\n",
       "    }\n",
       "</style>\n",
       "<table border=\"1\" class=\"dataframe\">\n",
       "  <thead>\n",
       "    <tr style=\"text-align: right;\">\n",
       "      <th></th>\n",
       "      <th>sex</th>\n",
       "      <th>intake</th>\n",
       "      <th>enrolment</th>\n",
       "      <th>graduates</th>\n",
       "    </tr>\n",
       "  </thead>\n",
       "  <tbody>\n",
       "    <tr>\n",
       "      <th>0</th>\n",
       "      <td>MF</td>\n",
       "      <td>391</td>\n",
       "      <td>1588</td>\n",
       "      <td>375</td>\n",
       "    </tr>\n",
       "    <tr>\n",
       "      <th>1</th>\n",
       "      <td>F</td>\n",
       "      <td>201</td>\n",
       "      <td>741</td>\n",
       "      <td>188</td>\n",
       "    </tr>\n",
       "  </tbody>\n",
       "</table>\n",
       "</div>"
      ],
      "text/plain": [
       "  sex  intake  enrolment  graduates\n",
       "0  MF     391       1588        375\n",
       "1   F     201        741        188"
      ]
     },
     "metadata": {},
     "output_type": "display_data"
    }
   ],
   "source": [
    "uni_df_columns = ['sex', 'intake', 'enrolment', 'graduates']\n",
    "uni_df_2015.index = range(0,2)\n",
    "uni_df_2015 = uni_df_2015[uni_df_columns]\n",
    "display(uni_df_2015)\n",
    "\n",
    "uni_df_2016.index = range(0,2)\n",
    "uni_df_2016 = uni_df_2016[uni_df_columns]\n",
    "display(uni_df_2016)\n",
    "\n",
    "uni_df_2017.index = range(0,2)\n",
    "uni_df_2017 = uni_df_2017[uni_df_columns]\n",
    "display(uni_df_2017)"
   ]
  },
  {
   "cell_type": "code",
   "execution_count": 52,
   "metadata": {
    "ExecuteTime": {
     "end_time": "2019-06-29T15:27:35.884939Z",
     "start_time": "2019-06-29T15:27:35.862292Z"
    }
   },
   "outputs": [
    {
     "data": {
      "text/html": [
       "<div>\n",
       "<style scoped>\n",
       "    .dataframe tbody tr th:only-of-type {\n",
       "        vertical-align: middle;\n",
       "    }\n",
       "\n",
       "    .dataframe tbody tr th {\n",
       "        vertical-align: top;\n",
       "    }\n",
       "\n",
       "    .dataframe thead th {\n",
       "        text-align: right;\n",
       "    }\n",
       "</style>\n",
       "<table border=\"1\" class=\"dataframe\">\n",
       "  <thead>\n",
       "    <tr style=\"text-align: right;\">\n",
       "      <th></th>\n",
       "      <th>sex</th>\n",
       "      <th>intake</th>\n",
       "      <th>enrolment</th>\n",
       "      <th>graduates</th>\n",
       "    </tr>\n",
       "  </thead>\n",
       "  <tbody>\n",
       "    <tr>\n",
       "      <th>0</th>\n",
       "      <td>MFMFMF</td>\n",
       "      <td>1195</td>\n",
       "      <td>4731</td>\n",
       "      <td>1081</td>\n",
       "    </tr>\n",
       "    <tr>\n",
       "      <th>1</th>\n",
       "      <td>FFF</td>\n",
       "      <td>582</td>\n",
       "      <td>2187</td>\n",
       "      <td>529</td>\n",
       "    </tr>\n",
       "  </tbody>\n",
       "</table>\n",
       "</div>"
      ],
      "text/plain": [
       "      sex  intake  enrolment  graduates\n",
       "0  MFMFMF    1195       4731       1081\n",
       "1     FFF     582       2187        529"
      ]
     },
     "execution_count": 52,
     "metadata": {},
     "output_type": "execute_result"
    }
   ],
   "source": [
    "# Note that addition on strings is the same as performing string concatenation\n",
    "uni_df_2015 + uni_df_2016 + uni_df_2017\n",
    "# This is the total intake & graduates for the period 2015 - 2017."
   ]
  },
  {
   "cell_type": "code",
   "execution_count": 62,
   "metadata": {
    "ExecuteTime": {
     "end_time": "2019-06-29T15:31:33.765650Z",
     "start_time": "2019-06-29T15:31:33.745207Z"
    }
   },
   "outputs": [
    {
     "name": "stdout",
     "output_type": "stream",
     "text": [
      "  sex  intake  enrolment  graduates\n",
      "0  MF     405       1550        355\n",
      "1   F     171        706        168\n",
      "  sex  intake  enrolment  graduates\n",
      "0  MF     399        NaN        351\n",
      "1   F     210      740.0        173\n",
      "\n",
      "    sex  intake  enrolment  graduates\n",
      "0  MFMF     804        NaN        706\n",
      "1    FF     381     1446.0        341\n"
     ]
    }
   ],
   "source": [
    "# Since one of the cells is NaN, then in the result, that cell is also NaN\n",
    "print(uni_df_2015)\n",
    "uni_df_2016.iloc[0,2] = None\n",
    "print(uni_df_2016)\n",
    "print()\n",
    "print(uni_df_2015 + uni_df_2016)"
   ]
  },
  {
   "cell_type": "code",
   "execution_count": 63,
   "metadata": {
    "ExecuteTime": {
     "end_time": "2019-06-29T15:31:42.291870Z",
     "start_time": "2019-06-29T15:31:42.275159Z"
    },
    "scrolled": true
   },
   "outputs": [
    {
     "data": {
      "text/html": [
       "<div>\n",
       "<style scoped>\n",
       "    .dataframe tbody tr th:only-of-type {\n",
       "        vertical-align: middle;\n",
       "    }\n",
       "\n",
       "    .dataframe tbody tr th {\n",
       "        vertical-align: top;\n",
       "    }\n",
       "\n",
       "    .dataframe thead th {\n",
       "        text-align: right;\n",
       "    }\n",
       "</style>\n",
       "<table border=\"1\" class=\"dataframe\">\n",
       "  <thead>\n",
       "    <tr style=\"text-align: right;\">\n",
       "      <th></th>\n",
       "      <th>sex</th>\n",
       "      <th>intake</th>\n",
       "      <th>enrolment</th>\n",
       "      <th>graduates</th>\n",
       "    </tr>\n",
       "  </thead>\n",
       "  <tbody>\n",
       "    <tr>\n",
       "      <th>0</th>\n",
       "      <td>MFMF</td>\n",
       "      <td>804</td>\n",
       "      <td>1550.0</td>\n",
       "      <td>706</td>\n",
       "    </tr>\n",
       "    <tr>\n",
       "      <th>1</th>\n",
       "      <td>FF</td>\n",
       "      <td>381</td>\n",
       "      <td>1446.0</td>\n",
       "      <td>341</td>\n",
       "    </tr>\n",
       "  </tbody>\n",
       "</table>\n",
       "</div>"
      ],
      "text/plain": [
       "    sex  intake  enrolment  graduates\n",
       "0  MFMF     804     1550.0        706\n",
       "1    FF     381     1446.0        341"
      ]
     },
     "execution_count": 63,
     "metadata": {},
     "output_type": "execute_result"
    }
   ],
   "source": [
    "# To make that value be filled as zero, use np.add()\n",
    "# In this case, for all values in the objects that are NaN, they will be filled with 0\n",
    "# BEFORE the addition.\n",
    "uni_df_2015.add(uni_df_2016, fill_value=0)"
   ]
  },
  {
   "cell_type": "markdown",
   "metadata": {},
   "source": [
    "When performing arithmetics on `DataFrame` and `Series`, the broadcasting is performed down the rows, matching the index of the `Series` with the column name of the `DataFrame`."
   ]
  },
  {
   "cell_type": "code",
   "execution_count": 94,
   "metadata": {
    "ExecuteTime": {
     "end_time": "2019-06-29T15:54:09.814521Z",
     "start_time": "2019-06-29T15:54:09.788071Z"
    }
   },
   "outputs": [
    {
     "data": {
      "text/html": [
       "<div>\n",
       "<style scoped>\n",
       "    .dataframe tbody tr th:only-of-type {\n",
       "        vertical-align: middle;\n",
       "    }\n",
       "\n",
       "    .dataframe tbody tr th {\n",
       "        vertical-align: top;\n",
       "    }\n",
       "\n",
       "    .dataframe thead th {\n",
       "        text-align: right;\n",
       "    }\n",
       "</style>\n",
       "<table border=\"1\" class=\"dataframe\">\n",
       "  <thead>\n",
       "    <tr style=\"text-align: right;\">\n",
       "      <th></th>\n",
       "      <th>enrolment</th>\n",
       "      <th>graduates</th>\n",
       "    </tr>\n",
       "    <tr>\n",
       "      <th>year</th>\n",
       "      <th></th>\n",
       "      <th></th>\n",
       "    </tr>\n",
       "  </thead>\n",
       "  <tbody>\n",
       "    <tr>\n",
       "      <th>2014</th>\n",
       "      <td>1514</td>\n",
       "      <td>356</td>\n",
       "    </tr>\n",
       "    <tr>\n",
       "      <th>2015</th>\n",
       "      <td>1550</td>\n",
       "      <td>355</td>\n",
       "    </tr>\n",
       "    <tr>\n",
       "      <th>2016</th>\n",
       "      <td>1593</td>\n",
       "      <td>351</td>\n",
       "    </tr>\n",
       "    <tr>\n",
       "      <th>2017</th>\n",
       "      <td>1588</td>\n",
       "      <td>375</td>\n",
       "    </tr>\n",
       "  </tbody>\n",
       "</table>\n",
       "</div>"
      ],
      "text/plain": [
       "      enrolment  graduates\n",
       "year                      \n",
       "2014       1514        356\n",
       "2015       1550        355\n",
       "2016       1593        351\n",
       "2017       1588        375"
      ]
     },
     "metadata": {},
     "output_type": "display_data"
    },
    {
     "name": "stdout",
     "output_type": "stream",
     "text": [
      "enrolment     100\n",
      "graduates    5500\n",
      "dtype: int64\n"
     ]
    },
    {
     "data": {
      "text/html": [
       "<div>\n",
       "<style scoped>\n",
       "    .dataframe tbody tr th:only-of-type {\n",
       "        vertical-align: middle;\n",
       "    }\n",
       "\n",
       "    .dataframe tbody tr th {\n",
       "        vertical-align: top;\n",
       "    }\n",
       "\n",
       "    .dataframe thead th {\n",
       "        text-align: right;\n",
       "    }\n",
       "</style>\n",
       "<table border=\"1\" class=\"dataframe\">\n",
       "  <thead>\n",
       "    <tr style=\"text-align: right;\">\n",
       "      <th></th>\n",
       "      <th>enrolment</th>\n",
       "      <th>graduates</th>\n",
       "    </tr>\n",
       "    <tr>\n",
       "      <th>year</th>\n",
       "      <th></th>\n",
       "      <th></th>\n",
       "    </tr>\n",
       "  </thead>\n",
       "  <tbody>\n",
       "    <tr>\n",
       "      <th>2014</th>\n",
       "      <td>151400</td>\n",
       "      <td>1958000</td>\n",
       "    </tr>\n",
       "    <tr>\n",
       "      <th>2015</th>\n",
       "      <td>155000</td>\n",
       "      <td>1952500</td>\n",
       "    </tr>\n",
       "    <tr>\n",
       "      <th>2016</th>\n",
       "      <td>159300</td>\n",
       "      <td>1930500</td>\n",
       "    </tr>\n",
       "    <tr>\n",
       "      <th>2017</th>\n",
       "      <td>158800</td>\n",
       "      <td>2062500</td>\n",
       "    </tr>\n",
       "  </tbody>\n",
       "</table>\n",
       "</div>"
      ],
      "text/plain": [
       "      enrolment  graduates\n",
       "year                      \n",
       "2014     151400    1958000\n",
       "2015     155000    1952500\n",
       "2016     159300    1930500\n",
       "2017     158800    2062500"
      ]
     },
     "execution_count": 94,
     "metadata": {},
     "output_type": "execute_result"
    }
   ],
   "source": [
    "uni_costs_df = uni_df.copy()\n",
    "uni_costs_df = uni_costs_df[(uni_costs_df.year>=2014) & (uni_df.sex=='MF')]\n",
    "uni_costs_df.index = uni_costs_df.year\n",
    "uni_costs_df = uni_costs_df[['enrolment', 'graduates']]\n",
    "display(uni_costs_df)\n",
    "\n",
    "# Broadcasting across each row, matching the index of the Series with the column name of the DataFrames\n",
    "school_fees_series = pd.Series([100, 5500], index=['enrolment', 'graduates'])\n",
    "print(school_fees_series)\n",
    "uni_costs_df * school_fees_series"
   ]
  },
  {
   "cell_type": "code",
   "execution_count": 95,
   "metadata": {
    "ExecuteTime": {
     "end_time": "2019-06-29T15:54:42.024019Z",
     "start_time": "2019-06-29T15:54:42.007818Z"
    }
   },
   "outputs": [
    {
     "name": "stdout",
     "output_type": "stream",
     "text": [
      "enrolment           100\n",
      "graduates          5500\n",
      "starting_salary    4000\n",
      "dtype: int64\n"
     ]
    },
    {
     "data": {
      "text/html": [
       "<div>\n",
       "<style scoped>\n",
       "    .dataframe tbody tr th:only-of-type {\n",
       "        vertical-align: middle;\n",
       "    }\n",
       "\n",
       "    .dataframe tbody tr th {\n",
       "        vertical-align: top;\n",
       "    }\n",
       "\n",
       "    .dataframe thead th {\n",
       "        text-align: right;\n",
       "    }\n",
       "</style>\n",
       "<table border=\"1\" class=\"dataframe\">\n",
       "  <thead>\n",
       "    <tr style=\"text-align: right;\">\n",
       "      <th></th>\n",
       "      <th>enrolment</th>\n",
       "      <th>graduates</th>\n",
       "      <th>starting_salary</th>\n",
       "    </tr>\n",
       "    <tr>\n",
       "      <th>year</th>\n",
       "      <th></th>\n",
       "      <th></th>\n",
       "      <th></th>\n",
       "    </tr>\n",
       "  </thead>\n",
       "  <tbody>\n",
       "    <tr>\n",
       "      <th>2014</th>\n",
       "      <td>151400</td>\n",
       "      <td>1958000</td>\n",
       "      <td>NaN</td>\n",
       "    </tr>\n",
       "    <tr>\n",
       "      <th>2015</th>\n",
       "      <td>155000</td>\n",
       "      <td>1952500</td>\n",
       "      <td>NaN</td>\n",
       "    </tr>\n",
       "    <tr>\n",
       "      <th>2016</th>\n",
       "      <td>159300</td>\n",
       "      <td>1930500</td>\n",
       "      <td>NaN</td>\n",
       "    </tr>\n",
       "    <tr>\n",
       "      <th>2017</th>\n",
       "      <td>158800</td>\n",
       "      <td>2062500</td>\n",
       "      <td>NaN</td>\n",
       "    </tr>\n",
       "  </tbody>\n",
       "</table>\n",
       "</div>"
      ],
      "text/plain": [
       "      enrolment  graduates  starting_salary\n",
       "year                                       \n",
       "2014     151400    1958000              NaN\n",
       "2015     155000    1952500              NaN\n",
       "2016     159300    1930500              NaN\n",
       "2017     158800    2062500              NaN"
      ]
     },
     "execution_count": 95,
     "metadata": {},
     "output_type": "execute_result"
    }
   ],
   "source": [
    "# Since df cols does not have 'starting_salary' then in the result, there is an extra column with NaN.b\n",
    "employment_series = pd.Series([100, 5500, 4000], index=['enrolment', 'graduates', 'starting_salary'])\n",
    "print(employment_series)\n",
    "uni_costs_df * employment_series"
   ]
  },
  {
   "cell_type": "markdown",
   "metadata": {},
   "source": [
    "### Function Application and Mapping\n",
    "\n",
    "(tbc)"
   ]
  },
  {
   "cell_type": "markdown",
   "metadata": {},
   "source": [
    "<hr>"
   ]
  },
  {
   "cell_type": "markdown",
   "metadata": {},
   "source": [
    "**References:**\n",
    "\n",
    "Python for Data Analysis, 2nd Edition, McKinney (2017)\n",
    "\n",
    "**Additional References**\n",
    "\n",
    "- https://pandas.pydata.org/pandas-docs/stable/reference/api/pandas.Series.reindex.html"
   ]
  }
 ],
 "metadata": {
  "kernelspec": {
   "display_name": "Python 3",
   "language": "python",
   "name": "python3"
  },
  "language_info": {
   "codemirror_mode": {
    "name": "ipython",
    "version": 3
   },
   "file_extension": ".py",
   "mimetype": "text/x-python",
   "name": "python",
   "nbconvert_exporter": "python",
   "pygments_lexer": "ipython3",
   "version": "3.6.5"
  }
 },
 "nbformat": 4,
 "nbformat_minor": 2
}
