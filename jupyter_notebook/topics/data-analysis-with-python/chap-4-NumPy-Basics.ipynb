{
 "cells": [
  {
   "cell_type": "markdown",
   "metadata": {},
   "source": [
    "# Chapter 4 - NumPy Basics: Arrays and Vectorized Computation"
   ]
  },
  {
   "cell_type": "markdown",
   "metadata": {},
   "source": [
    "## 4.1 The NumPy ndarray: A Multidimensional Array Object\n",
    "\n",
    "One of the key features of NumPy is its $N$-dimensional array object, or `ndarray`."
   ]
  },
  {
   "cell_type": "code",
   "execution_count": 39,
   "metadata": {
    "ExecuteTime": {
     "end_time": "2019-06-17T16:02:07.548320Z",
     "start_time": "2019-06-17T16:02:07.544017Z"
    }
   },
   "outputs": [],
   "source": [
    "import numpy as np"
   ]
  },
  {
   "cell_type": "markdown",
   "metadata": {},
   "source": [
    "<b>Declaring arrays</b>\n",
    "1. Creating arrays with values\n",
    "2. Creating arrays with all zeros\n",
    "3. Creating arrays with all ones\n",
    "4. Creating arrays with ranges"
   ]
  },
  {
   "cell_type": "code",
   "execution_count": 47,
   "metadata": {
    "ExecuteTime": {
     "end_time": "2019-06-17T16:02:33.444733Z",
     "start_time": "2019-06-17T16:02:33.438220Z"
    }
   },
   "outputs": [
    {
     "name": "stdout",
     "output_type": "stream",
     "text": [
      "arr1 = [ 1  3  4  7 11]\n",
      "<class 'numpy.ndarray'>\n",
      "---\n",
      "arr2 =\n",
      "[[ 2  4]\n",
      " [12 14]\n",
      " [22 24]]\n",
      "(3, 2)\n"
     ]
    }
   ],
   "source": [
    "# Creating arrays with simple lists\n",
    "list1 = [1, 3, 4, 7, 11] # 1 x 5\n",
    "arr1 = np.array(list1)\n",
    "print(\"arr1 = %s\" % arr1)\n",
    "print(type(arr1))\n",
    "print('---')\n",
    "\n",
    "list2 = [[2, 4], [12, 14], [22, 24]] # 3 x 2\n",
    "arr2 = np.array(list2)\n",
    "print(\"arr2 =\")\n",
    "print(arr2)\n",
    "print(arr2.shape)"
   ]
  },
  {
   "cell_type": "code",
   "execution_count": 48,
   "metadata": {
    "ExecuteTime": {
     "end_time": "2019-06-17T16:02:34.096916Z",
     "start_time": "2019-06-17T16:02:34.091461Z"
    }
   },
   "outputs": [
    {
     "name": "stdout",
     "output_type": "stream",
     "text": [
      "arr1 = [0. 0. 0. 0. 0.]\n",
      "arr2 =\n",
      "[[0. 0.]\n",
      " [0. 0.]\n",
      " [0. 0.]]\n"
     ]
    }
   ],
   "source": [
    "# Creating arrays with zeros\n",
    "arr1 = np.zeros(5)\n",
    "print(\"arr1 = %s\" % arr1)\n",
    "\n",
    "arr2 = np.zeros((3,2))\n",
    "print(\"arr2 =\")\n",
    "print(arr2)"
   ]
  },
  {
   "cell_type": "code",
   "execution_count": 49,
   "metadata": {
    "ExecuteTime": {
     "end_time": "2019-06-17T16:02:35.035976Z",
     "start_time": "2019-06-17T16:02:35.027081Z"
    }
   },
   "outputs": [
    {
     "name": "stdout",
     "output_type": "stream",
     "text": [
      "arr1b = [1. 1. 1. 1. 1. 1. 1. 1. 1. 1.]\n",
      "---\n",
      "arr2b =\n",
      "[[1. 1.]\n",
      " [1. 1.]\n",
      " [1. 1.]]\n"
     ]
    }
   ],
   "source": [
    "# Creating arrays with ones\n",
    "arr1b = np.ones(10)\n",
    "print(\"arr1b = %s\" % arr1b)\n",
    "print('---')\n",
    "arr2b = np.ones((3,2))\n",
    "print(\"arr2b =\")\n",
    "print(arr2b)"
   ]
  },
  {
   "cell_type": "code",
   "execution_count": 50,
   "metadata": {
    "ExecuteTime": {
     "end_time": "2019-06-17T16:02:35.814477Z",
     "start_time": "2019-06-17T16:02:35.806011Z"
    },
    "scrolled": true
   },
   "outputs": [
    {
     "name": "stdout",
     "output_type": "stream",
     "text": [
      "arr1 = [0 1 2 3 4 5 6 7 8 9]\n",
      "<class 'numpy.ndarray'>\n",
      "[ 0  3  6  9 12 15 18 21 24 27]\n",
      "---\n",
      "\n",
      "arr2= [10 11 12 13 14 15 16 17 18 19]\n",
      "<class 'numpy.ndarray'>\n",
      "---\n",
      "\n",
      "arr3= [ 10  20  30  40  50  60  70  80  90 100]\n",
      "<class 'numpy.ndarray'>\n"
     ]
    }
   ],
   "source": [
    "# Creating arrays with ranges\n",
    "arr1 = np.arange(10)\n",
    "print(\"arr1 = %s\" % arr1)\n",
    "print(type(arr1))\n",
    "print(arr1 * 3)\n",
    "print('---')\n",
    "print()\n",
    "\n",
    "arr2 = np.arange(10, 20)\n",
    "print(\"arr2= %s\" % arr2)\n",
    "print(type(arr2))\n",
    "print('---')\n",
    "print()\n",
    "\n",
    "arr3 = np.arange(10, 101, 10)\n",
    "print(\"arr3= %s\" % arr3)\n",
    "print(type(arr3))"
   ]
  },
  {
   "cell_type": "markdown",
   "metadata": {},
   "source": [
    "<b>Arrays Manipulation</b>\n",
    "1. Changing datatypes of arrays\n",
    "2. Addition & Subtraction\n",
    "3. Multiplication & Division with a scalar\n",
    "4. Boolean comparision"
   ]
  },
  {
   "cell_type": "code",
   "execution_count": 53,
   "metadata": {
    "ExecuteTime": {
     "end_time": "2019-06-17T16:03:22.400228Z",
     "start_time": "2019-06-17T16:03:22.392523Z"
    }
   },
   "outputs": [
    {
     "name": "stdout",
     "output_type": "stream",
     "text": [
      "[0.84837472 0.06099506 0.62602593 0.05128479 0.33769077]\n",
      "[84.837472  6.099506 62.602593  5.128479 33.769077]\n",
      "[84  6 62  5 33]\n"
     ]
    }
   ],
   "source": [
    "# Convert an array of floats to ints\n",
    "arr1 = np.array([0.84837472, 0.06099506, 0.62602593, 0.05128479, 0.33769077])\n",
    "print(arr1)\n",
    "arr1 = arr1 * 100 # Multiply by 100 and then convert to int\n",
    "print(arr1)\n",
    "print(arr1.astype(int)) # Conver to int"
   ]
  },
  {
   "cell_type": "code",
   "execution_count": 54,
   "metadata": {
    "ExecuteTime": {
     "end_time": "2019-06-17T16:03:23.401625Z",
     "start_time": "2019-06-17T16:03:23.390155Z"
    }
   },
   "outputs": [
    {
     "name": "stdout",
     "output_type": "stream",
     "text": [
      "['0.60563224' '0.86530379' '0.51900541']\n",
      "[60.563224 86.530379 51.900541]\n"
     ]
    }
   ],
   "source": [
    "# Convert an array of str to float\n",
    "arr2 = np.array(['0.60563224', '0.86530379', '0.51900541'])\n",
    "print(arr2)\n",
    "arr2 = arr2.astype(float)\n",
    "arr2 = arr2*100\n",
    "print(arr2)"
   ]
  },
  {
   "cell_type": "code",
   "execution_count": 60,
   "metadata": {
    "ExecuteTime": {
     "end_time": "2019-06-17T16:05:21.046996Z",
     "start_time": "2019-06-17T16:05:21.040979Z"
    }
   },
   "outputs": [
    {
     "name": "stdout",
     "output_type": "stream",
     "text": [
      "[145.400696  92.629885 114.503134]\n",
      "---\n",
      "[-24.274248  80.430873 -10.702052]\n"
     ]
    }
   ],
   "source": [
    "# Addition & Subtraction\n",
    "arr1b = arr1[:3]\n",
    "print(arr1b + arr2)\n",
    "print('---')\n",
    "print(arr2 - arr1b)"
   ]
  },
  {
   "cell_type": "code",
   "execution_count": 63,
   "metadata": {
    "ExecuteTime": {
     "end_time": "2019-06-17T16:05:29.495287Z",
     "start_time": "2019-06-17T16:05:29.490002Z"
    }
   },
   "outputs": [
    {
     "name": "stdout",
     "output_type": "stream",
     "text": [
      "[169.674944  12.199012 125.205186]\n",
      "---\n",
      "[890.793456   64.044813  657.3272265]\n"
     ]
    }
   ],
   "source": [
    "# Scalar multiplication\n",
    "print(arr1b * 2)\n",
    "print('---')\n",
    "print(arr1b * 10.5)"
   ]
  },
  {
   "cell_type": "code",
   "execution_count": 65,
   "metadata": {
    "ExecuteTime": {
     "end_time": "2019-06-17T16:05:47.051293Z",
     "start_time": "2019-06-17T16:05:47.045868Z"
    }
   },
   "outputs": [
    {
     "name": "stdout",
     "output_type": "stream",
     "text": [
      "[16.9674944  1.2199012 12.5205186]\n",
      "[0.05893622 0.81973852 0.0798689 ]\n"
     ]
    }
   ],
   "source": [
    "# Division of array / scalar\n",
    "print(arr1b / 5)\n",
    "\n",
    "# Divsion of scalar / array: This operation propogates the division to all elements in the array\n",
    "print(5 / arr1b)"
   ]
  },
  {
   "cell_type": "code",
   "execution_count": 68,
   "metadata": {
    "ExecuteTime": {
     "end_time": "2019-06-17T16:07:40.137900Z",
     "start_time": "2019-06-17T16:07:40.132959Z"
    },
    "scrolled": true
   },
   "outputs": [
    {
     "name": "stdout",
     "output_type": "stream",
     "text": [
      "[84.837472  6.099506 62.602593]\n",
      "[60.563224 86.530379 51.900541]\n",
      "[False  True False]\n"
     ]
    }
   ],
   "source": [
    "# Boolean comparisons - Returns an array with the same dimensions of the constituents\n",
    "# and performs element-wise comparison for each value\n",
    "print(arr1b)\n",
    "print(arr2)\n",
    "print(arr1b < arr2)"
   ]
  },
  {
   "cell_type": "markdown",
   "metadata": {},
   "source": [
    "<hr>"
   ]
  },
  {
   "cell_type": "code",
   "execution_count": null,
   "metadata": {
    "ExecuteTime": {
     "end_time": "2019-06-16T15:03:09.094388Z",
     "start_time": "2019-06-16T15:03:09.087907Z"
    }
   },
   "outputs": [],
   "source": [
    "print(a*2)\n",
    "\n",
    "b = np.array([[3, 4, 5], [7, 9, 11]])\n",
    "print(a+b)"
   ]
  },
  {
   "cell_type": "code",
   "execution_count": null,
   "metadata": {
    "ExecuteTime": {
     "end_time": "2019-06-16T15:05:50.418499Z",
     "start_time": "2019-06-16T15:05:50.411763Z"
    }
   },
   "outputs": [],
   "source": [
    "z1 = np.zeros(5)\n",
    "print(z1)\n",
    "z2 = np.zeros((6, 6))\n",
    "print(z2)\n",
    "print()\n",
    "\n",
    "o1 = np.ones(3)\n",
    "print(o1)\n",
    "o2 = np.ones((4, 4))\n",
    "print(o2)"
   ]
  },
  {
   "cell_type": "code",
   "execution_count": null,
   "metadata": {
    "ExecuteTime": {
     "end_time": "2019-06-16T15:04:15.983076Z",
     "start_time": "2019-06-16T15:04:15.976035Z"
    }
   },
   "outputs": [],
   "source": [
    "arr1 = np.random.randn(10)\n",
    "print(arr1)\n",
    "\n",
    "arr2 = np.random.randint(10, 20, 5)\n",
    "print(arr2)\n",
    "\n",
    "arr3 = np.random.ranf(5)\n",
    "print(arr3)\n",
    "\n"
   ]
  },
  {
   "cell_type": "markdown",
   "metadata": {},
   "source": [
    "**References:**\n",
    "\n",
    "Python for Data Analysis, 2nd Edition, McKinney (2017)"
   ]
  }
 ],
 "metadata": {
  "kernelspec": {
   "display_name": "Python 3",
   "language": "python",
   "name": "python3"
  },
  "language_info": {
   "codemirror_mode": {
    "name": "ipython",
    "version": 3
   },
   "file_extension": ".py",
   "mimetype": "text/x-python",
   "name": "python",
   "nbconvert_exporter": "python",
   "pygments_lexer": "ipython3",
   "version": "3.6.5"
  }
 },
 "nbformat": 4,
 "nbformat_minor": 2
}
