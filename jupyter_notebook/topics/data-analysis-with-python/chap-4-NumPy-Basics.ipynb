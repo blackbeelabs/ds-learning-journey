{
 "cells": [
  {
   "cell_type": "markdown",
   "metadata": {},
   "source": [
    "# Chapter 4 - NumPy Basics: Arrays and Vectorized Computation"
   ]
  },
  {
   "cell_type": "code",
   "execution_count": 1,
   "metadata": {
    "ExecuteTime": {
     "end_time": "2019-06-16T14:54:53.530268Z",
     "start_time": "2019-06-16T14:54:53.391427Z"
    }
   },
   "outputs": [],
   "source": [
    "import numpy as np"
   ]
  },
  {
   "cell_type": "code",
   "execution_count": 13,
   "metadata": {
    "ExecuteTime": {
     "end_time": "2019-06-16T14:57:38.034455Z",
     "start_time": "2019-06-16T14:57:38.027438Z"
    }
   },
   "outputs": [
    {
     "name": "stdout",
     "output_type": "stream",
     "text": [
      "arr1 = [0 1 2 3 4 5 6 7 8 9]\n",
      "<class 'numpy.ndarray'>\n",
      "[ 0  3  6  9 12 15 18 21 24 27]\n",
      "---\n",
      "\n",
      "arr2= [10 11 12 13 14 15 16 17 18 19]\n",
      "<class 'numpy.ndarray'>\n",
      "---\n",
      "\n",
      "arr3= [ 10  20  30  40  50  60  70  80  90 100]\n",
      "<class 'numpy.ndarray'>\n"
     ]
    }
   ],
   "source": [
    "arr1 = np.arange(10)\n",
    "print(\"arr1 = %s\" % arr1)\n",
    "print(type(arr1))\n",
    "print(arr1 * 3)\n",
    "print('---')\n",
    "print()\n",
    "\n",
    "arr2 = np.arange(10, 20)\n",
    "print(\"arr2= %s\" % arr2)\n",
    "print(type(arr2))\n",
    "print('---')\n",
    "print()\n",
    "\n",
    "arr3 = np.arange(10, 101, 10)\n",
    "print(\"arr3= %s\" % arr3)\n",
    "print(type(arr3))"
   ]
  },
  {
   "cell_type": "code",
   "execution_count": 36,
   "metadata": {
    "ExecuteTime": {
     "end_time": "2019-06-16T15:03:03.464456Z",
     "start_time": "2019-06-16T15:03:03.460085Z"
    }
   },
   "outputs": [
    {
     "name": "stdout",
     "output_type": "stream",
     "text": [
      "[[1 2 3]\n",
      " [4 5 6]]\n",
      "(2, 3)\n"
     ]
    }
   ],
   "source": [
    "a = np.array([[1, 2, 3], [4, 5, 6]])\n",
    "print(a)\n",
    "print(a.shape)"
   ]
  },
  {
   "cell_type": "code",
   "execution_count": 37,
   "metadata": {
    "ExecuteTime": {
     "end_time": "2019-06-16T15:03:09.094388Z",
     "start_time": "2019-06-16T15:03:09.087907Z"
    }
   },
   "outputs": [
    {
     "name": "stdout",
     "output_type": "stream",
     "text": [
      "[[ 2  4  6]\n",
      " [ 8 10 12]]\n",
      "[[ 4  6  8]\n",
      " [11 14 17]]\n"
     ]
    }
   ],
   "source": [
    "print(a*2)\n",
    "\n",
    "b = np.array([[3, 4, 5], [7, 9, 11]])\n",
    "print(a+b)"
   ]
  },
  {
   "cell_type": "code",
   "execution_count": 46,
   "metadata": {
    "ExecuteTime": {
     "end_time": "2019-06-16T15:05:50.418499Z",
     "start_time": "2019-06-16T15:05:50.411763Z"
    }
   },
   "outputs": [
    {
     "name": "stdout",
     "output_type": "stream",
     "text": [
      "[0. 0. 0. 0. 0.]\n",
      "[[0. 0. 0. 0. 0. 0.]\n",
      " [0. 0. 0. 0. 0. 0.]\n",
      " [0. 0. 0. 0. 0. 0.]\n",
      " [0. 0. 0. 0. 0. 0.]\n",
      " [0. 0. 0. 0. 0. 0.]\n",
      " [0. 0. 0. 0. 0. 0.]]\n",
      "\n",
      "[1. 1. 1.]\n",
      "[[1. 1. 1. 1.]\n",
      " [1. 1. 1. 1.]\n",
      " [1. 1. 1. 1.]\n",
      " [1. 1. 1. 1.]]\n"
     ]
    }
   ],
   "source": [
    "z1 = np.zeros(5)\n",
    "print(z1)\n",
    "z2 = np.zeros((6, 6))\n",
    "print(z2)\n",
    "print()\n",
    "\n",
    "o1 = np.ones(3)\n",
    "print(o1)\n",
    "o2 = np.ones((4, 4))\n",
    "print(o2)"
   ]
  },
  {
   "cell_type": "code",
   "execution_count": 41,
   "metadata": {
    "ExecuteTime": {
     "end_time": "2019-06-16T15:04:15.983076Z",
     "start_time": "2019-06-16T15:04:15.976035Z"
    }
   },
   "outputs": [
    {
     "name": "stdout",
     "output_type": "stream",
     "text": [
      "[ 0.25898171 -0.26125744 -1.80219671 -0.13290834 -1.52712586  1.24426311\n",
      " -0.06480251  0.30672089  0.4393959   0.98714871]\n",
      "[10 10 17 19 16]\n",
      "[0.31796115 0.07532656 0.3038985  0.2696829  0.90404719]\n"
     ]
    }
   ],
   "source": [
    "arr1 = np.random.randn(10)\n",
    "print(arr1)\n",
    "\n",
    "arr2 = np.random.randint(10, 20, 5)\n",
    "print(arr2)\n",
    "\n",
    "arr3 = np.random.ranf(5)\n",
    "print(arr3)\n",
    "\n"
   ]
  },
  {
   "cell_type": "markdown",
   "metadata": {},
   "source": [
    "**References:**\n",
    "\n",
    "Python for Data Analysis, 2nd Edition, McKinney (2017)"
   ]
  }
 ],
 "metadata": {
  "kernelspec": {
   "display_name": "Python 3",
   "language": "python",
   "name": "python3"
  },
  "language_info": {
   "codemirror_mode": {
    "name": "ipython",
    "version": 3
   },
   "file_extension": ".py",
   "mimetype": "text/x-python",
   "name": "python",
   "nbconvert_exporter": "python",
   "pygments_lexer": "ipython3",
   "version": "3.6.5"
  }
 },
 "nbformat": 4,
 "nbformat_minor": 2
}
