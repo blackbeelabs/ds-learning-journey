{
 "cells": [
  {
   "cell_type": "markdown",
   "metadata": {},
   "source": [
    "# Chapter 4 - NumPy Basics: Arrays and Vectorized Computation"
   ]
  },
  {
   "cell_type": "markdown",
   "metadata": {},
   "source": [
    "Note: **4.4 File Input and Output with Arrays** is skipped as `pandas` is preferred for such operations\n",
    "\n",
    "## 4.5 Linear Algebra"
   ]
  },
  {
   "cell_type": "code",
   "execution_count": 1,
   "metadata": {
    "ExecuteTime": {
     "end_time": "2019-06-24T16:10:50.738947Z",
     "start_time": "2019-06-24T16:10:50.596578Z"
    }
   },
   "outputs": [],
   "source": [
    "import numpy as np\n",
    "from numpy.linalg import inv, det"
   ]
  },
  {
   "cell_type": "markdown",
   "metadata": {},
   "source": [
    "To do matrix multiplying, use `np.dot(arr1, arr2)`. Executing `arr1 * arr2` will only perform element-wise multiplication"
   ]
  },
  {
   "cell_type": "code",
   "execution_count": 2,
   "metadata": {
    "ExecuteTime": {
     "end_time": "2019-06-24T16:10:50.780778Z",
     "start_time": "2019-06-24T16:10:50.748398Z"
    },
    "scrolled": true
   },
   "outputs": [
    {
     "data": {
      "text/plain": [
       "array([[14,  8],\n",
       "       [24, 35]])"
      ]
     },
     "metadata": {},
     "output_type": "display_data"
    },
    {
     "data": {
      "text/plain": [
       "array([[38, 63],\n",
       "       [31, 43]])"
      ]
     },
     "metadata": {},
     "output_type": "display_data"
    },
    {
     "data": {
      "text/plain": [
       "array([[ 5, 10, 17],\n",
       "       [13, 37, 53]])"
      ]
     },
     "metadata": {},
     "output_type": "display_data"
    }
   ],
   "source": [
    "arr1 = np.random.randint(1,9,(2,2))\n",
    "arr2 = np.random.randint(1,9,(2,2))\n",
    "arr3 = np.random.randint(1,9,(2,3))\n",
    "\n",
    "arr1 = np.array([[7, 8],\n",
    "                 [8, 5]])\n",
    "\n",
    "arr2 = np.array([[2, 1],\n",
    "                 [3, 7]])\n",
    "\n",
    "arr3 = np.array([[2, 3, 6],\n",
    "                 [1, 4, 5]])\n",
    "\n",
    "# arr1 * arr2 performs element-wise multiplication\n",
    "display(arr1 * arr2)\n",
    "\n",
    "# np.dot(arr1, arr2) will calculate the matrix product of 2 matrices\n",
    "display(np.dot(arr1, arr2))\n",
    "\n",
    "# note: no. of columns of arr1 and no. of rows of arr2 need to match \n",
    "# for the calculation to be valid\n",
    "display(np.dot(arr2, arr3))"
   ]
  },
  {
   "cell_type": "markdown",
   "metadata": {},
   "source": [
    "Use `np.linalg` has a set of matrix decompositions and things like inverse and determinant. Use `inv` to get the inverse of the matrix. Recall that $\\mathbf{A}^{-1}\\mathbf A = \\mathbf{I}$ for any square matrix $\\mathbf{A}$. $\\mathbf{I}$ is the identity matrix. This is a useful way to look at this function."
   ]
  },
  {
   "cell_type": "code",
   "execution_count": 3,
   "metadata": {
    "ExecuteTime": {
     "end_time": "2019-06-24T16:10:50.797946Z",
     "start_time": "2019-06-24T16:10:50.783730Z"
    }
   },
   "outputs": [
    {
     "data": {
      "text/plain": [
       "array([[2, 1],\n",
       "       [3, 7]])"
      ]
     },
     "metadata": {},
     "output_type": "display_data"
    },
    {
     "data": {
      "text/plain": [
       "array([[ 0.63636364, -0.09090909],\n",
       "       [-0.27272727,  0.18181818]])"
      ]
     },
     "metadata": {},
     "output_type": "display_data"
    },
    {
     "data": {
      "text/plain": [
       "array([[1.00000000e+00, 2.77555756e-17],\n",
       "       [5.55111512e-17, 1.00000000e+00]])"
      ]
     },
     "metadata": {},
     "output_type": "display_data"
    }
   ],
   "source": [
    "arr2 = np.array([[2, 1],\n",
    "                 [3, 7]])\n",
    "display(arr2)\n",
    "\n",
    "# Use inv() to get the inverse of arr2\n",
    "inv_arr2 = inv(arr2)\n",
    "display(inv_arr2)\n",
    "\n",
    "# Use the dot product to get the identity matrix\n",
    "display(np.dot(arr2, inv(arr2)))"
   ]
  },
  {
   "cell_type": "code",
   "execution_count": 4,
   "metadata": {
    "ExecuteTime": {
     "end_time": "2019-06-24T16:10:50.818139Z",
     "start_time": "2019-06-24T16:10:50.802494Z"
    }
   },
   "outputs": [
    {
     "data": {
      "text/plain": [
       "array([[2, 1],\n",
       "       [3, 7]])"
      ]
     },
     "metadata": {},
     "output_type": "display_data"
    },
    {
     "data": {
      "text/plain": [
       "array([[ 0.63636364, -0.09090909],\n",
       "       [-0.27272727,  0.18181818]])"
      ]
     },
     "metadata": {},
     "output_type": "display_data"
    },
    {
     "data": {
      "text/plain": [
       "array([[1.00000000e+00, 2.77555756e-17],\n",
       "       [5.55111512e-17, 1.00000000e+00]])"
      ]
     },
     "metadata": {},
     "output_type": "display_data"
    }
   ],
   "source": [
    "arr2 = np.array([[2, 1],\n",
    "                 [3, 7]])\n",
    "display(arr2)\n",
    "\n",
    "# Use inv() to get the inverse of arr2\n",
    "inv_arr2 = inv(arr2)\n",
    "display(inv_arr2)\n",
    "\n",
    "# Use the dot product to get the identity matrix\n",
    "display(np.dot(arr2, inv(arr2)))"
   ]
  },
  {
   "cell_type": "markdown",
   "metadata": {},
   "source": [
    "Other functions that are useful include `diag()` to get the diagonal of a square matrix, `det()` to find the determinant of the square matrix and `trace()` to get the sum of all elements in the main diagonal of a square matrix."
   ]
  },
  {
   "cell_type": "code",
   "execution_count": 5,
   "metadata": {
    "ExecuteTime": {
     "end_time": "2019-06-24T16:10:50.833996Z",
     "start_time": "2019-06-24T16:10:50.822875Z"
    },
    "scrolled": true
   },
   "outputs": [
    {
     "data": {
      "text/plain": [
       "array([2, 7])"
      ]
     },
     "metadata": {},
     "output_type": "display_data"
    },
    {
     "data": {
      "text/plain": [
       "11.000000000000002"
      ]
     },
     "metadata": {},
     "output_type": "display_data"
    },
    {
     "name": "stdout",
     "output_type": "stream",
     "text": [
      "9\n"
     ]
    }
   ],
   "source": [
    "arr2 = np.array([[2, 1],\n",
    "                 [3, 7]])\n",
    "\n",
    "# Gets the diagonal of a square matrix\n",
    "display(np.diag(arr2))\n",
    "\n",
    "# Calculates the determinant of a square matrix\n",
    "display(det(arr2))\n",
    "\n",
    "# Gets the sum of all elements of the main diagonal of a square matrix\n",
    "print(np.trace(arr2))"
   ]
  },
  {
   "cell_type": "markdown",
   "metadata": {},
   "source": [
    "<hr>"
   ]
  },
  {
   "cell_type": "markdown",
   "metadata": {},
   "source": [
    "**References:**\n",
    "\n",
    "Python for Data Analysis, 2nd Edition, McKinney (2017)"
   ]
  }
 ],
 "metadata": {
  "kernelspec": {
   "display_name": "Python 3",
   "language": "python",
   "name": "python3"
  },
  "language_info": {
   "codemirror_mode": {
    "name": "ipython",
    "version": 3
   },
   "file_extension": ".py",
   "mimetype": "text/x-python",
   "name": "python",
   "nbconvert_exporter": "python",
   "pygments_lexer": "ipython3",
   "version": "3.6.5"
  }
 },
 "nbformat": 4,
 "nbformat_minor": 2
}
