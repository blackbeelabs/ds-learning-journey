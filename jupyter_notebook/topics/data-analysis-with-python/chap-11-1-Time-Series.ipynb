{
 "cells": [
  {
   "cell_type": "markdown",
   "metadata": {},
   "source": [
    "# Chapter 11 - Time Series"
   ]
  },
  {
   "cell_type": "markdown",
   "metadata": {},
   "source": [
    "## 11.1 - Date and Time Data Types and Tools"
   ]
  },
  {
   "cell_type": "code",
   "execution_count": 1,
   "metadata": {
    "ExecuteTime": {
     "end_time": "2019-09-25T10:00:34.116581Z",
     "start_time": "2019-09-25T10:00:33.759277Z"
    }
   },
   "outputs": [],
   "source": [
    "import datetime\n",
    "from datetime import datetime as dt\n",
    "import pandas as pd\n",
    "import numpy as np\n",
    "\n",
    "from dateutil.parser import parse"
   ]
  },
  {
   "cell_type": "markdown",
   "metadata": {},
   "source": [
    "The Python standard library has datatypes for date and time data, and date manipulation. Mostly, the `datetime.datetime`datatype is being used.\n",
    "\n",
    "`datetime` stores a date down to the microsecond."
   ]
  },
  {
   "cell_type": "code",
   "execution_count": 2,
   "metadata": {
    "ExecuteTime": {
     "end_time": "2019-09-25T10:00:34.137660Z",
     "start_time": "2019-09-25T10:00:34.119041Z"
    }
   },
   "outputs": [
    {
     "data": {
      "text/plain": [
       "datetime.datetime(2019, 9, 25, 18, 0, 34, 121778)"
      ]
     },
     "metadata": {},
     "output_type": "display_data"
    },
    {
     "name": "stdout",
     "output_type": "stream",
     "text": [
      "2019\n",
      "9\n",
      "25\n",
      "\n",
      "18\n",
      "0\n",
      "34\n"
     ]
    }
   ],
   "source": [
    "# Get current time\n",
    "now = dt.now()\n",
    "display(now)\n",
    "print(now.year)\n",
    "print(now.month)\n",
    "print(now.day)\n",
    "print()\n",
    "print(now.hour)\n",
    "print(now.minute)\n",
    "print(now.second)"
   ]
  },
  {
   "cell_type": "code",
   "execution_count": 3,
   "metadata": {
    "ExecuteTime": {
     "end_time": "2019-09-25T10:00:34.157408Z",
     "start_time": "2019-09-25T10:00:34.144688Z"
    }
   },
   "outputs": [
    {
     "data": {
      "text/plain": [
       "datetime.datetime(2019, 1, 13, 0, 0)"
      ]
     },
     "metadata": {},
     "output_type": "display_data"
    },
    {
     "name": "stdout",
     "output_type": "stream",
     "text": [
      "2019 1 13\n",
      "\n",
      "0 0 0\n"
     ]
    }
   ],
   "source": [
    "# Instantiate just using date\n",
    "t1 = dt(2019, 1, 13)\n",
    "display(t1)\n",
    "print(t1.year, t1.month, t1.day)\n",
    "print()\n",
    "print(t1.hour, t1.minute, t1.second)"
   ]
  },
  {
   "cell_type": "code",
   "execution_count": 4,
   "metadata": {
    "ExecuteTime": {
     "end_time": "2019-09-25T10:00:34.168711Z",
     "start_time": "2019-09-25T10:00:34.161568Z"
    },
    "scrolled": true
   },
   "outputs": [
    {
     "data": {
      "text/plain": [
       "datetime.datetime(2019, 2, 23, 10, 0, 30)"
      ]
     },
     "metadata": {},
     "output_type": "display_data"
    },
    {
     "name": "stdout",
     "output_type": "stream",
     "text": [
      "2019 2 23\n",
      "\n",
      "10 0 30\n"
     ]
    }
   ],
   "source": [
    "# Instantiate using date and time\n",
    "t2 = dt(2019, 2, 23, 10, 0, 30)\n",
    "display(t2)\n",
    "print(t2.year, t2.month, t2.day)\n",
    "print()\n",
    "print(t2.hour, t2.minute, t2.second)"
   ]
  },
  {
   "cell_type": "markdown",
   "metadata": {},
   "source": [
    "The temporal difference between two `datetime` objects is stored as a `timedelta` datatype."
   ]
  },
  {
   "cell_type": "code",
   "execution_count": 5,
   "metadata": {
    "ExecuteTime": {
     "end_time": "2019-09-25T10:00:34.193901Z",
     "start_time": "2019-09-25T10:00:34.172951Z"
    }
   },
   "outputs": [
    {
     "data": {
      "text/plain": [
       "datetime.timedelta(41, 36030)"
      ]
     },
     "metadata": {},
     "output_type": "display_data"
    },
    {
     "name": "stdout",
     "output_type": "stream",
     "text": [
      "41 36030\n"
     ]
    }
   ],
   "source": [
    "# timedelta will give the difference between 2 datetime objects\n",
    "td = t2 - t1\n",
    "display(td)\n",
    "# timedelta has values in days and seconds\n",
    "print(td.days, td.seconds)"
   ]
  },
  {
   "cell_type": "code",
   "execution_count": 6,
   "metadata": {
    "ExecuteTime": {
     "end_time": "2019-09-25T10:00:34.204678Z",
     "start_time": "2019-09-25T10:00:34.197573Z"
    }
   },
   "outputs": [
    {
     "data": {
      "text/plain": [
       "datetime.datetime(2019, 1, 13, 0, 0)"
      ]
     },
     "metadata": {},
     "output_type": "display_data"
    },
    {
     "data": {
      "text/plain": [
       "datetime.datetime(2019, 2, 2, 0, 0)"
      ]
     },
     "metadata": {},
     "output_type": "display_data"
    }
   ],
   "source": [
    "# Use timedelta to add a time period to a datetime\n",
    "display(t1)\n",
    "display(t1 + datetime.timedelta(20))"
   ]
  },
  {
   "cell_type": "markdown",
   "metadata": {},
   "source": [
    "Converting a `str` to a `datetime` using `strptime`. Conversely, convert a `datetime` to a `str` using `strftime`. In both cases, do remember to state the date-time format."
   ]
  },
  {
   "cell_type": "code",
   "execution_count": 7,
   "metadata": {
    "ExecuteTime": {
     "end_time": "2019-09-25T10:00:34.228654Z",
     "start_time": "2019-09-25T10:00:34.208823Z"
    }
   },
   "outputs": [
    {
     "name": "stdout",
     "output_type": "stream",
     "text": [
      "2019-01-13 00:00:00\n",
      "2019-01-28 00:00:00\n"
     ]
    }
   ],
   "source": [
    "# Convert from string to time\n",
    "# NOTE: strftime is STRING from TIME, so dt  -> str\n",
    "print(dt.strftime(t1, '%Y-%m-%d %H:%M:%S'))\n",
    "# NOTE: strptime is STRING parse TIME so str -> dt\n",
    "print(dt.strptime('2019-01-28', '%Y-%m-%d'))"
   ]
  },
  {
   "cell_type": "markdown",
   "metadata": {},
   "source": [
    "Additionally, convert a `str` to a `datetime` object using the `parse` function from `dateutil.parser`. This ia a dependency for `pandas` so it is installed when `pandas` was installed."
   ]
  },
  {
   "cell_type": "code",
   "execution_count": 8,
   "metadata": {
    "ExecuteTime": {
     "end_time": "2019-09-25T10:00:34.251046Z",
     "start_time": "2019-09-25T10:00:34.234149Z"
    }
   },
   "outputs": [
    {
     "data": {
      "text/plain": [
       "datetime.datetime(2019, 1, 28, 0, 0)"
      ]
     },
     "metadata": {},
     "output_type": "display_data"
    },
    {
     "data": {
      "text/plain": [
       "datetime.datetime(2010, 4, 16, 0, 0)"
      ]
     },
     "metadata": {},
     "output_type": "display_data"
    },
    {
     "data": {
      "text/plain": [
       "datetime.datetime(2019, 5, 13, 8, 30)"
      ]
     },
     "metadata": {},
     "output_type": "display_data"
    }
   ],
   "source": [
    "# from use parse from dateutil to obtain datetime of multiple formats\n",
    "display(parse('2019-01-28'))\n",
    "display(parse('4/16/2010'))\n",
    "display(parse('2019.05.13 8:30'))"
   ]
  },
  {
   "cell_type": "code",
   "execution_count": 9,
   "metadata": {
    "ExecuteTime": {
     "end_time": "2019-09-25T10:00:34.269610Z",
     "start_time": "2019-09-25T10:00:34.258231Z"
    }
   },
   "outputs": [
    {
     "data": {
      "text/plain": [
       "DatetimeIndex(['2019-10-01 08:30:00', '2019-10-01 09:30:00',\n",
       "               '2019-12-01 09:30:00'],\n",
       "              dtype='datetime64[ns]', freq=None)"
      ]
     },
     "metadata": {},
     "output_type": "display_data"
    }
   ],
   "source": [
    "# Use pd.to_datetime to convert strings to a DateTimeIndex\n",
    "l1 = pd.to_datetime(['2019-10-01 8:30:00', '2019-10-01 9:30:00', '2019-12-01 9:30:00'])\n",
    "display(l1)"
   ]
  },
  {
   "cell_type": "markdown",
   "metadata": {},
   "source": [
    "The `pandas.to_datetime()` function can parse multiple datetimes from string to date time formats. It also handles missing values. `NaT` is pandas's null value for timestamp data."
   ]
  },
  {
   "cell_type": "code",
   "execution_count": 10,
   "metadata": {
    "ExecuteTime": {
     "end_time": "2019-09-25T10:00:34.287166Z",
     "start_time": "2019-09-25T10:00:34.273636Z"
    }
   },
   "outputs": [
    {
     "data": {
      "text/plain": [
       "DatetimeIndex(['2019-10-01 08:30:00',                 'NaT',\n",
       "               '2019-10-01 09:30:00', '2019-12-01 09:30:00',\n",
       "                               'NaT'],\n",
       "              dtype='datetime64[ns]', freq=None)"
      ]
     },
     "metadata": {},
     "output_type": "display_data"
    },
    {
     "data": {
      "text/plain": [
       "array([False,  True, False, False,  True])"
      ]
     },
     "metadata": {},
     "output_type": "display_data"
    }
   ],
   "source": [
    "a = pd.to_datetime(['2019-10-01 8:30:00', \n",
    "                    None, '2019-10-01 9:30:00', \n",
    "                    '2019-12-01 9:30:00', np.nan])\n",
    "display(a)\n",
    "display(a.isnull())"
   ]
  },
  {
   "cell_type": "markdown",
   "metadata": {},
   "source": [
    "**References:**\n",
    "\n",
    "Python for Data Analysis, 2nd Edition, McKinney (2017)"
   ]
  }
 ],
 "metadata": {
  "kernelspec": {
   "display_name": "Python 3",
   "language": "python",
   "name": "python3"
  },
  "language_info": {
   "codemirror_mode": {
    "name": "ipython",
    "version": 3
   },
   "file_extension": ".py",
   "mimetype": "text/x-python",
   "name": "python",
   "nbconvert_exporter": "python",
   "pygments_lexer": "ipython3",
   "version": "3.6.5"
  }
 },
 "nbformat": 4,
 "nbformat_minor": 2
}
