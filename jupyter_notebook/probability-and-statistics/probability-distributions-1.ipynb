{
 "cells": [
  {
   "cell_type": "markdown",
   "metadata": {},
   "source": [
    "# Probability Distributions 1\n",
    "\n",
    "## Binomial Distribution\n",
    "\n",
    "$$f_X(x) = \\begin{pmatrix}n\\\\x\\end{pmatrix}p^x(1-p)^{n-x}$$\n",
    "for $x = 0, 1, \\cdots, n$\n",
    "\n",
    "## Exponential Distribution\n",
    "\n",
    "$$\\begin{align}f_X(x) &= \\lambda e^{-\\lambda x} \\\\\n",
    "F_X(x) &= 1 - e^{-\\lambda x}\\end{align}$$\n",
    "for $x \\geq 0, \\lambda > 0$\n",
    "\n",
    "## Gamma Distribution"
   ]
  },
  {
   "cell_type": "markdown",
   "metadata": {},
   "source": [
    "**References:**\n",
    "\n",
    "Nonlife Actuarial Models, Yiu (2009) - Chapter 1"
   ]
  }
 ],
 "metadata": {
  "kernelspec": {
   "display_name": "Python 3",
   "language": "python",
   "name": "python3"
  },
  "language_info": {
   "codemirror_mode": {
    "name": "ipython",
    "version": 3
   },
   "file_extension": ".py",
   "mimetype": "text/x-python",
   "name": "python",
   "nbconvert_exporter": "python",
   "pygments_lexer": "ipython3",
   "version": "3.4.3"
  }
 },
 "nbformat": 4,
 "nbformat_minor": 2
}
