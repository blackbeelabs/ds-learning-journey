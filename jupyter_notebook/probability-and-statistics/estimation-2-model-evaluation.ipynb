{
 "cells": [
  {
   "cell_type": "markdown",
   "metadata": {},
   "source": [
    "# Estimation 2\n",
    "## Model Evaluation"
   ]
  },
  {
   "cell_type": "markdown",
   "metadata": {},
   "source": [
    "### p-p plot\n",
    "\n",
    "Given a sample of $M$ numerical observations $(x_1, \\cdots, x_M$), \n",
    "\n",
    "1. Arrange them in increasing order $(x_{(1)} \\leq x_{(2)} \\leq \\cdots x_{(M)})$\n",
    "2. Approximate the probability of an observation less than or equal to $x_{(i)}$ using the sample data by the sample proportion $p_i = \\frac{i}{n+1}$\n",
    "3. The hypothesised / parametrically estimated probability of an observation less than or equal to $x_{(i)}$ is $F^*(x_{(i)})$.\n",
    "4. Finally plot the *p-p* plot of $F^*(x_{(i)})$ against $p_i$. If $F^*(\\cdot)$ fits the data well, the *p-p* plot should approximately follow the 45$^\\circ$ line"
   ]
  },
  {
   "cell_type": "markdown",
   "metadata": {},
   "source": [
    "### q-q plot\n",
    "\n",
    "Given a sample of $M$ numerical observations $(x_1, \\cdots, x_M$), \n",
    "\n",
    "1. Arrange them in increasing order $(x_{(1)} \\leq x_{(2)} \\leq \\cdots x_{(M)})$\n",
    "2. Approximate the probability of an observation less than or equal to $x_{(i)}$ using the sample data by the sample proportion $p_i = \\frac{i}{n+1}$\n",
    "3. The hypothesised / parametrically estimated probability of an observation less than or equal to $x_{(i)}$ is $F^*(x_{(i)})$.\n",
    "4. Finally plot the *q-q* plot of $F^{*-1}(x_{(i)})$ against $x_(i)$. If $F^*(\\cdot)$ fits the data well, the *q-q* plot should approximately follow the 45$^\\circ$ line"
   ]
  },
  {
   "cell_type": "code",
   "execution_count": 35,
   "metadata": {},
   "outputs": [],
   "source": [
    "import numpy as np\n",
    "import pandas as pd\n",
    "import matplotlib.pyplot as plt"
   ]
  },
  {
   "cell_type": "markdown",
   "metadata": {},
   "source": [
    "##### Exercise 13.1\n",
    "Given $M$ observations `2, 5, 6, 9, 14, 18, 23` and that they follow an exponential distribution, using MLE, the likelihood function is $\\prod_{i=1}^M \\lambda e ^{-\\lambda x_i}$ and the log-likelihood is\n",
    "$$\\begin{align}\n",
    "\\sum_{i=1}^{M} \\log (\\lambda) - \\lambda x_i &= 7 \\log(\\lambda) - 77\\lambda\\\\\n",
    "\\frac{d}{d\\lambda} 7 \\log(\\lambda) - 77\\lambda &= \\frac{7}{\\lambda} - 77 =0\\\\\n",
    "\\lambda &= 0.09091\n",
    "\\end{align}$$"
   ]
  },
  {
   "cell_type": "code",
   "execution_count": 77,
   "metadata": {},
   "outputs": [
    {
     "name": "stdout",
     "output_type": "stream",
     "text": [
      "0.09090909090909091\n"
     ]
    }
   ],
   "source": [
    "samples = [2, 5, 6, 9, 14, 18, 23]\n",
    "ld = 1/(sum(samples)/len(samples))\n",
    "print(ld) #value of estimated parameter\n",
    "sample_as_dict = [{'x' : i} for i in samples]"
   ]
  },
  {
   "cell_type": "markdown",
   "metadata": {},
   "source": [
    "Computing sample proportion of $i$-th order statistic $p_i = \\frac{i}{(M + 1)}$ and using theoretical cumulative frequency $F_X(x) = 1 - e^{-\\lambda x}$"
   ]
  },
  {
   "cell_type": "code",
   "execution_count": 84,
   "metadata": {
    "scrolled": false
   },
   "outputs": [
    {
     "name": "stdout",
     "output_type": "stream",
     "text": [
      "        F_i        F_x    p_i   x\n",
      "0  0.166247   1.468845  0.125   2\n",
      "1  0.365264   3.164503  0.250   5\n",
      "2  0.420422   5.170040  0.375   6\n",
      "3  0.558767   7.624619  0.500   9\n",
      "4  0.719933  10.789122  0.625  14\n",
      "5  0.805313  15.249238  0.750  18\n",
      "6  0.876425  22.873857  0.875  23\n"
     ]
    },
    {
     "data": {
      "image/png": "[encoded data removed]",
      "text/plain": [
       "<Figure size 396x396 with 1 Axes>"
      ]
     },
     "metadata": {},
     "output_type": "display_data"
    }
   ],
   "source": [
    "i = 1\n",
    "for s in sample_as_dict:\n",
    "    s['p_i'] = (i/(len(samples) + 1))\n",
    "    s['F_i'] = 1- np.exp(-ld*s['x'])\n",
    "    s['F_x'] = np.log(1-s['p_i'])/-ld\n",
    "    i = i + 1\n",
    "sample_df = pd.DataFrame(sample_as_dict)\n",
    "print(sample_df)\n",
    "fig = plt.gcf()\n",
    "plt.plot(sample_df['F_i'],sample_df['F_i'],zorder=1)\n",
    "plt.scatter(sample_df['F_i'],sample_df['p_i'],zorder=2, marker='x')\n",
    "plt.title('p-p plot')\n",
    "plt.xlabel('F_i')\n",
    "plt.ylabel('p_i')\n",
    "fig.set_size_inches(5.5, 5.5)\n",
    "plt.show()"
   ]
  },
  {
   "cell_type": "code",
   "execution_count": 86,
   "metadata": {},
   "outputs": [
    {
     "data": {
      "image/png": "[encoded data removed]",
      "text/plain": [
       "<Figure size 396x396 with 1 Axes>"
      ]
     },
     "metadata": {},
     "output_type": "display_data"
    }
   ],
   "source": [
    "fig = plt.gcf()\n",
    "plt.plot(sample_df['x'],sample_df['x'],zorder=1)\n",
    "plt.scatter(sample_df['x'],sample_df['F_x'],zorder=2, marker='x')\n",
    "plt.title('q-q plot')\n",
    "plt.xlabel('x')\n",
    "plt.ylabel('F_x')\n",
    "fig.set_size_inches(5.5, 5.5)\n",
    "plt.show()"
   ]
  },
  {
   "cell_type": "markdown",
   "metadata": {},
   "source": [
    "$\\diamond$"
   ]
  },
  {
   "cell_type": "markdown",
   "metadata": {},
   "source": [
    "**References:**\n",
    "\n",
    "Nonlife Actuarial Models, Yiu (2009) - Chapter 13"
   ]
  }
 ],
 "metadata": {
  "kernelspec": {
   "display_name": "Python 3",
   "language": "python",
   "name": "python3"
  },
  "language_info": {
   "codemirror_mode": {
    "name": "ipython",
    "version": 3
   },
   "file_extension": ".py",
   "mimetype": "text/x-python",
   "name": "python",
   "nbconvert_exporter": "python",
   "pygments_lexer": "ipython3",
   "version": "3.4.3"
  }
 },
 "nbformat": 4,
 "nbformat_minor": 2
}
