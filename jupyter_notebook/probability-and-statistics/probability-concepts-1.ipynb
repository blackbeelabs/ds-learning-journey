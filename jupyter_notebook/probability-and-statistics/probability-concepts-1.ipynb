{
 "cells": [
  {
   "cell_type": "markdown",
   "metadata": {},
   "source": [
    "# Probability Concepts 1\n",
    "\n",
    "## Markov Inequality\n",
    "\n",
    "For a non-negative random variable $X$ with mean $\\mu$,\n",
    "\n",
    "$$P(X \\geq k) \\leq \\frac{\\mu}{k}$$\n",
    "for $k > \\mu$\n",
    "\n",
    "**Example**: Given a random variable with mean $\\mu = 6$, the probability of it greater than $20$ is $P(X>20) \\leq \\frac{6}{20}$ or $0.3$"
   ]
  },
  {
   "cell_type": "markdown",
   "metadata": {},
   "source": [
    "**References:**\n",
    "\n",
    "Risk Analysis, Vose (2008) - Chapter 6"
   ]
  },
  {
   "cell_type": "code",
   "execution_count": null,
   "metadata": {},
   "outputs": [],
   "source": []
  }
 ],
 "metadata": {
  "kernelspec": {
   "display_name": "Python 3",
   "language": "python",
   "name": "python3"
  },
  "language_info": {
   "codemirror_mode": {
    "name": "ipython",
    "version": 3
   },
   "file_extension": ".py",
   "mimetype": "text/x-python",
   "name": "python",
   "nbconvert_exporter": "python",
   "pygments_lexer": "ipython3",
   "version": "3.4.3"
  }
 },
 "nbformat": 4,
 "nbformat_minor": 2
}
