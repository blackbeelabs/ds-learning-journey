{
 "cells": [
  {
   "cell_type": "markdown",
   "metadata": {},
   "source": [
    "## The Sampling Distribution of $\\hat \\beta$"
   ]
  },
  {
   "cell_type": "markdown",
   "metadata": {},
   "source": [
    "Just as the error term follows a probability distribution, so do the estimates of $\\beta$. The probability distribution of these $\\hat{\\beta}$ values across different samples is called the **sampling distribution of $\\hat{\\beta}$**.\n",
    "\n",
    "Recall that an *estimator* is a formula like the OLS formula but an *estimate* is the value of $\\hat{\\beta}$ computed by the formula for a given sample. Since researchers usually have one sample, beginning econometricians assume that regression analysis can produce only one estimate of $\\beta$ for a given population. In reality, however, each different sample from the same population will produce a different estimate of $\\beta$. **The collection of all the possible samples has a distribution with a *mean* and a *variance*.**"
   ]
  },
  {
   "cell_type": "markdown",
   "metadata": {},
   "source": [
    "### Properties of the Mean\n",
    "A desirable property of the distribution of the estimates is that the mean is equal to the true mean of the variable being estimated. An estimator which yields such an estimate is an *unbiased estimator*. In other words, an estimator, $\\hat{\\beta}$ is **unbiased** if the mean of its sampling distribution and its true value of $\\beta$ have the same value\n",
    "\n",
    "$$\\begin{align}\n",
    "\\mathbb{E}(\\hat{\\beta}) = \\beta\n",
    "\\end{align}$$\n",
    "\n",
    "Only one value of $\\hat{\\beta}$ is obtained in practice but this property is useful because a single estimate drawn from an unbiased distribution is more likely to be near the true value than one taken from a distribution not centred around the true value. If an estimator produces $\\hat{\\beta}$ which does not center around the true value of $\\beta$ then the estimator is referred to be a **biased estimator**. Usually, without any other information about the distribution of the estimates, we would always rather have an unbiased estimate than a biased one."
   ]
  },
  {
   "cell_type": "markdown",
   "metadata": {},
   "source": [
    "### Properties of the Variance\n",
    "Just as we would like the distribution of the $\\hat \\beta$s to be centered around the true population $\\beta$, we would also like the distribution to be as narrow (or precise) as possible. The variance of the distribution of $\\beta$ can be decreased by increasing the size of the sample. This also increases the degrees of freedom, since degrees of freedom is number of samples minus the number of parameters to estimate.\n",
    "\n",
    "The element of chance, a random occurence, is always present in estimating regression coefficients, and sometimes estimates may be far from the true value no matter how good the estimating technique. However, if the distribution is centered around the true value and has as small a variance as possible, the element of chance is less likely to induce a poor estimate. \n",
    "\n",
    "Of course, if the sampling distribution is centered around the wrong value then a lower variance implies that most of the sampling distribution of $\\hat{\\beta}$ is concentrated on the wrong value. However, if this value is not very different from the true value then the greater precision will still be valuable.\n",
    "\n",
    "One method of deciding whether this decreased variance in the distribution of the $\\hat{\\beta}$s is valuable enough to offset the bias is to compare different estimation techniques by using a measure called the **Mean Squared Error** or **MSE**. The Mean Square Error is equal to the variance plus the square of the bias. The lower the MSE, the better.\n",
    "\n",
    "As the variance of the error term increases, so does the variance of the distribution of $\\hat{\\beta}$. The reason for the increased variance of $\\hat{\\beta}$ is that with the larger variance of  $\\epsilon_i$, the more extreme values of $\\epsilon_i$ are observed with higher frequency, and the error term becomes more important in determining the value of $Y_i$."
   ]
  },
  {
   "cell_type": "markdown",
   "metadata": {},
   "source": [
    "### The Standard Error of $\\hat \\beta$\n",
    "Since the standard error of the estimated coefficient, $\\text{SE}(\\hat{\\beta})$ is the square root of the estimated variance of the $\\hat{\\beta}$s, it is similarly affected by the size of the sample and the other factors we have mentioned. For example, a larger sample size will cause $\\text{SE}(\\hat{\\beta})$ to fall. The larger the sample, the more precise our coefficient estimates will be."
   ]
  },
  {
   "cell_type": "markdown",
   "metadata": {},
   "source": [
    "## The Gauss-Markov Theorem & Properties of OLS Estimators\n",
    "\n",
    "The **Gauss-Markov Theorem** states that given Classical Assumptions 1 through 6, the OLS estimator of $\\beta_k$ is the minimum variance estimator from all the linear unbiased estimators of $\\beta_k , k = 0, 1, 2, \\cdots, K$.\n",
    "\n",
    "It is most easily remembered that OLS is \"BLUE\", where **BLUE** stands for Best Linear Unbiased Estimator, where 'best' here means minimum variance.\n",
    "If an equation's coefficient estimation is unbiased, then \n",
    "$$\\mathbb{E}(\\hat{\\beta_k}) = \\beta_k $$\n",
    "$k = 0, 1, 2, \\cdots, K$\n",
    "\n",
    "An unbiased estimator with the smallest variance is said to be **efficient**, and that estimator is said to have the property of efficiency.\n",
    "\n",
    "Given all seven classical assumptions, the OLS coefficient estimators can be shown to have the following properties:\n",
    "\n",
    "- *They are unbiased.* In other words, $\\mathbb{E}(\\hat{\\beta}) = \\beta$. The OLS estimates of the coefficients are centered around the true population values of the parameters being estimated.\n",
    "- *They are minimum variance.* The distribution of the coefficient estimates around the true parameter is as narrowly distributed as possible for an unbiased distribution.\n",
    "- *They are consistent.* As the sample size approaches to $\\infty$, the estimates converge to the true population parameters.\n",
    "- *They are normally distributed.* The $\\hat{\\beta}$s fulfil the property $\\hat{\\beta} \\sim \\text{N}(\\beta, VAR[\\hat{\\beta}])$. Thus, various statistical tests based on the normal distribution may be applied to these estimates."
   ]
  },
  {
   "cell_type": "markdown",
   "metadata": {},
   "source": [
    "## Standard Econometric Notation\n",
    "\n",
    "**Population Parameter (True, unobserved values)**\n",
    "\n",
    "| Name | Symbol\n",
    "|---|---|\n",
    "|Regression Coefficient | $\\beta_k$\n",
    "|Expected value of the estimated coefficient | $\\mathbb{E}(\\hat{\\beta_k})$\n",
    "|Variance of the error term | $\\sigma^2$ or $\\text{VAR} (\\epsilon_i)$\n",
    "|Standard deviation of the error term | $\\sigma$\n",
    "|Variance of the estimated coefficient| $\\sigma^2(\\hat{\\beta_k})$ or $VAR(\\hat{\\beta_k})$\n",
    "|Standard deviation of the estimated coefficient| $\\sigma_{\\hat{\\beta_k}}$ or $\\sigma(\\hat{\\beta_k})$\n",
    "|Error or Disturbance Term | $\\epsilon_i$\n",
    "\n",
    "\n",
    "**Estimate (Observed from sample)**\n",
    "\n",
    "| Name | Symbol\n",
    "|---|---|\n",
    "|Estimated Regression Coefficient | $\\hat{\\beta_k}$\n",
    "|Estimated Variance of the error term | $s^2 \\text{ or } \\hat{\\sigma}^2$\n",
    "|Standard error | s $\\text{ or SE}$\n",
    "|Estimated Variance of the estimated coefficient | $s^2(\\hat{\\beta_k})$  or  $\\widehat{\\text{VAR}}(\\hat{\\beta_k})$\n",
    "|Standard error of the estimated coefficient | $\\sigma^2(\\hat{\\beta_k})$  or  $\\text{SE}(\\hat{\\beta_k})$\n",
    "|Residual (estimate of error in a loose sense) | $e_i$\n"
   ]
  }
 ],
 "metadata": {
  "kernelspec": {
   "display_name": "Python 3",
   "language": "python",
   "name": "python3"
  },
  "language_info": {
   "codemirror_mode": {
    "name": "ipython",
    "version": 3
   },
   "file_extension": ".py",
   "mimetype": "text/x-python",
   "name": "python",
   "nbconvert_exporter": "python",
   "pygments_lexer": "ipython3",
   "version": "3.4.3"
  }
 },
 "nbformat": 4,
 "nbformat_minor": 2
}
