{
 "cells": [
  {
   "cell_type": "markdown",
   "metadata": {},
   "source": [
    "# Estimation 2\n",
    "## Model Evaluation"
   ]
  },
  {
   "cell_type": "markdown",
   "metadata": {},
   "source": [
    "### p-p plot\n",
    "\n",
    "Given a sample of $M$ numerical observations $(x_1, \\cdots, x_M$), we find a hypothesised, parameterised distribution function, $\\hat F(\\cdot)$  to fit the data . To plot the *p-p* plot,\n",
    "\n",
    "1. Arrange samples in increasing order $(x_{(1)} \\leq x_{(2)} \\leq \\cdots x_{(M)})$\n",
    "2. Find the empirical distribution of the data, $F^*(\\cdot)$. Approximate the probability of an observation less than or equal to $x_{(i)}$ using the sample proportion $p_i = \\frac{i}{M+1}$\n",
    "3. Finally plot the *p-p* plot of the observed data $F^*(x_{(i)})$ against the hypothesised / parametrically estimated probability $p_i$. If $F^*(\\cdot)$ fits the data well, the *p-p* plot should approximately lie near the 45$^\\circ$ line"
   ]
  },
  {
   "cell_type": "markdown",
   "metadata": {},
   "source": [
    "### q-q plot\n",
    "\n",
    "Given a sample of $M$ numerical observations $(x_1, \\cdots, x_M$), we find a hypothesised parameterised distribution function, $F(\\cdot)$  to fit the data . To plot the *q-q* plot,\n",
    "\n",
    "1. Arrange them in increasing order $(x_{(1)} \\leq x_{(2)} \\leq \\cdots x_{(M)})$\n",
    "2. Approximate the probability of an observation less than or equal to $x_{(i)}$ using the sample data by the sample proportion $p_i = \\frac{i}{M+1}$\n",
    "3. Finally plot the *q-q* plot of $F^{*-1}\\begin{pmatrix}x_{(i)}\\end{pmatrix}$ against $x_{(i)}$. If $F^*(\\cdot)$ fits the data well, the *q-q* plot should approximately lie near the 45$^\\circ$ line"
   ]
  },
  {
   "cell_type": "markdown",
   "metadata": {},
   "source": [
    "### Kolmogorov–Smirnov Test\n",
    "\n",
    "Given a sample of $M$ numerical observations $(x_1, \\cdots, x_M$), specify the null hypothesis about the PDF as $F^*(\\cdot)$ and compare it against the empirical PDF, denoted by $\\hat{F}(\\cdot)$. Also using order statistics, we consider to find the maximum of the statistic:\n",
    "$$\\max_{x_{(1)} \\leq x \\leq x_{(M)}}|{\\hat{F}(x)} - F^*(x)|$$\n",
    "where $x_{(1)}$ and $x_{(M)}$ is the minimum and maximum of the observations. However, $\\hat{F}(\\cdot)$ is an increasing step function while $F^*(\\cdot)$ is increasing. Hence we only compare the differences at the observed data points, in particular at the observations. Then, we compare all these differences and pick the maximum value to call it the *Kolmogorov-Smirnov statistic*. Mathematically, \n",
    "$$\n",
    "D = \\max_{i \\in \\left\\{ 1, \\cdots, M\\right\\}}\n",
    "\\left\\{ \n",
    "\\max \n",
    "\\begin{pmatrix}\n",
    "\\left|\\hat F (x_{(i-1)})- F^*(x_{(i)})\\right|, \\left|\\hat F (x_{(i)})- F^*(x_{(i)})\\right|\n",
    "\\end{pmatrix}\n",
    "\\right\\}\n",
    "$$\n",
    "where $\\hat F (x_{(0)}) = 0$. If the true pdf of the data is not $F^*(\\cdot)$, then $D$ is large. Given a level of significance $\\alpha$, the null hypothesis that the data has pdf $F^*(\\cdot)$ is rejected if $D$ is greater than its corresponding critical value. The critical values are as follows:\n",
    "\n",
    "| Level of significance, $\\alpha$ | 0.10   | 0.05   | 0.01   |\n",
    "|------|------|------|------|\n",
    "|   Critical Value, $c$ or reject when $D > c$  | $\\frac{1.22}{\\sqrt{M}}$|$\\frac{1.36}{\\sqrt{M}}$|$\\frac{1.63}{\\sqrt{M}}$|"
   ]
  },
  {
   "cell_type": "markdown",
   "metadata": {},
   "source": [
    "### Likelihood Ratio Test\n",
    "`//TODO`"
   ]
  },
  {
   "cell_type": "markdown",
   "metadata": {},
   "source": [
    "### Chi-Square $\\begin{pmatrix}\\chi ^2\\end{pmatrix}$ Goodness of Fit Test\n",
    "`//TODO`"
   ]
  },
  {
   "cell_type": "markdown",
   "metadata": {},
   "source": [
    "**References:**\n",
    "\n",
    "Nonlife Actuarial Models, Yiu (2009) - Chapter 13"
   ]
  }
 ],
 "metadata": {
  "kernelspec": {
   "display_name": "Python 3",
   "language": "python",
   "name": "python3"
  },
  "language_info": {
   "codemirror_mode": {
    "name": "ipython",
    "version": 3
   },
   "file_extension": ".py",
   "mimetype": "text/x-python",
   "name": "python",
   "nbconvert_exporter": "python",
   "pygments_lexer": "ipython3",
   "version": "3.4.3"
  }
 },
 "nbformat": 4,
 "nbformat_minor": 2
}
