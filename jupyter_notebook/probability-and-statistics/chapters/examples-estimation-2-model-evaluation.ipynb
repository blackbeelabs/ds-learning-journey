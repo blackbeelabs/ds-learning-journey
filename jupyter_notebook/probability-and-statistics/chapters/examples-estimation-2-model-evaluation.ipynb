{
 "cells": [
  {
   "cell_type": "code",
   "execution_count": 1,
   "metadata": {
    "ExecuteTime": {
     "end_time": "2018-11-16T00:20:31.696688Z",
     "start_time": "2018-11-16T00:20:31.154762Z"
    }
   },
   "outputs": [],
   "source": [
    "import numpy as np\n",
    "import pandas as pd\n",
    "import matplotlib.pyplot as plt"
   ]
  },
  {
   "cell_type": "markdown",
   "metadata": {},
   "source": [
    "##### Exercise 13.1\n",
    "Using MLE, the likelihood function of the sample is $\\prod_{i=1}^M \\lambda e ^{-\\lambda x_i}$ and the log-likelihood is $L = \\sum_{i=1}^{M} \\log (\\lambda) - \\lambda x_i = 7 \\log(\\lambda) - 77\\lambda$. Differentiating w.r.t. $\\lambda$ and solving when the derivative is $0$,\n",
    "$$\n",
    "\\frac{dL}{d\\lambda} = \\frac{d}{d\\lambda} 7 \\log(\\lambda) - 77\\lambda = \\frac{7}{\\lambda} - 77 =0\n",
    "$$\n"
   ]
  },
  {
   "cell_type": "code",
   "execution_count": 2,
   "metadata": {
    "ExecuteTime": {
     "end_time": "2018-11-16T00:20:31.705939Z",
     "start_time": "2018-11-16T00:20:31.699741Z"
    }
   },
   "outputs": [
    {
     "name": "stdout",
     "output_type": "stream",
     "text": [
      "lambda = 0.09091\n"
     ]
    }
   ],
   "source": [
    "samples = [2, 5, 6, 9, 14, 18, 23]\n",
    "ld = 1/(sum(samples)/len(samples))\n",
    "print(\"lambda = %0.5f\" % ld) #value of estimated parameter"
   ]
  },
  {
   "cell_type": "markdown",
   "metadata": {},
   "source": [
    "Solving for $\\lambda$, $\\lambda = 0.09091$"
   ]
  },
  {
   "cell_type": "markdown",
   "metadata": {},
   "source": [
    "Computing sample proportion of $i$-th order statistic $p_i = \\frac{i}{(M + 1)}$ and using theoretical cumulative frequency $F_X(x) = 1 - e^{-\\lambda x}$, the coordinates are:"
   ]
  },
  {
   "cell_type": "code",
   "execution_count": 3,
   "metadata": {
    "ExecuteTime": {
     "end_time": "2018-11-16T00:20:31.746588Z",
     "start_time": "2018-11-16T00:20:31.709283Z"
    }
   },
   "outputs": [
    {
     "data": {
      "text/html": [
       "<div>\n",
       "<style scoped>\n",
       "    .dataframe tbody tr th:only-of-type {\n",
       "        vertical-align: middle;\n",
       "    }\n",
       "\n",
       "    .dataframe tbody tr th {\n",
       "        vertical-align: top;\n",
       "    }\n",
       "\n",
       "    .dataframe thead th {\n",
       "        text-align: right;\n",
       "    }\n",
       "</style>\n",
       "<table border=\"1\" class=\"dataframe\">\n",
       "  <thead>\n",
       "    <tr style=\"text-align: right;\">\n",
       "      <th></th>\n",
       "      <th>x</th>\n",
       "      <th>p</th>\n",
       "      <th>p_i</th>\n",
       "      <th>F_i</th>\n",
       "      <th>F_x</th>\n",
       "      <th>x2</th>\n",
       "      <th>F_i2</th>\n",
       "    </tr>\n",
       "  </thead>\n",
       "  <tbody>\n",
       "    <tr>\n",
       "      <th>0</th>\n",
       "      <td>2</td>\n",
       "      <td>1</td>\n",
       "      <td>0.125</td>\n",
       "      <td>0.166247</td>\n",
       "      <td>1.468845</td>\n",
       "      <td>2</td>\n",
       "      <td>0.166247</td>\n",
       "    </tr>\n",
       "    <tr>\n",
       "      <th>1</th>\n",
       "      <td>5</td>\n",
       "      <td>2</td>\n",
       "      <td>0.250</td>\n",
       "      <td>0.365264</td>\n",
       "      <td>3.164503</td>\n",
       "      <td>5</td>\n",
       "      <td>0.365264</td>\n",
       "    </tr>\n",
       "    <tr>\n",
       "      <th>2</th>\n",
       "      <td>6</td>\n",
       "      <td>3</td>\n",
       "      <td>0.375</td>\n",
       "      <td>0.420422</td>\n",
       "      <td>5.170040</td>\n",
       "      <td>6</td>\n",
       "      <td>0.420422</td>\n",
       "    </tr>\n",
       "    <tr>\n",
       "      <th>3</th>\n",
       "      <td>9</td>\n",
       "      <td>4</td>\n",
       "      <td>0.500</td>\n",
       "      <td>0.558767</td>\n",
       "      <td>7.624619</td>\n",
       "      <td>9</td>\n",
       "      <td>0.558767</td>\n",
       "    </tr>\n",
       "    <tr>\n",
       "      <th>4</th>\n",
       "      <td>14</td>\n",
       "      <td>5</td>\n",
       "      <td>0.625</td>\n",
       "      <td>0.719933</td>\n",
       "      <td>10.789122</td>\n",
       "      <td>14</td>\n",
       "      <td>0.719933</td>\n",
       "    </tr>\n",
       "    <tr>\n",
       "      <th>5</th>\n",
       "      <td>18</td>\n",
       "      <td>6</td>\n",
       "      <td>0.750</td>\n",
       "      <td>0.805313</td>\n",
       "      <td>15.249238</td>\n",
       "      <td>18</td>\n",
       "      <td>0.805313</td>\n",
       "    </tr>\n",
       "    <tr>\n",
       "      <th>6</th>\n",
       "      <td>23</td>\n",
       "      <td>7</td>\n",
       "      <td>0.875</td>\n",
       "      <td>0.876425</td>\n",
       "      <td>22.873857</td>\n",
       "      <td>23</td>\n",
       "      <td>0.876425</td>\n",
       "    </tr>\n",
       "  </tbody>\n",
       "</table>\n",
       "</div>"
      ],
      "text/plain": [
       "    x  p    p_i       F_i        F_x  x2      F_i2\n",
       "0   2  1  0.125  0.166247   1.468845   2  0.166247\n",
       "1   5  2  0.250  0.365264   3.164503   5  0.365264\n",
       "2   6  3  0.375  0.420422   5.170040   6  0.420422\n",
       "3   9  4  0.500  0.558767   7.624619   9  0.558767\n",
       "4  14  5  0.625  0.719933  10.789122  14  0.719933\n",
       "5  18  6  0.750  0.805313  15.249238  18  0.805313\n",
       "6  23  7  0.875  0.876425  22.873857  23  0.876425"
      ]
     },
     "execution_count": 3,
     "metadata": {},
     "output_type": "execute_result"
    }
   ],
   "source": [
    "df = pd.DataFrame(samples, columns=['x'])\n",
    "df['p'] = df.index + 1\n",
    "x_count = df['x'].count()\n",
    "df['p_i'] = df['p'].apply(lambda x : x/(x_count + 1))\n",
    "df['F_i'] = df['x'].apply(lambda x : 1-np.exp(-ld*x))\n",
    "df['F_x'] = df['p_i'].apply(lambda x : np.log(1-x)/-ld)\n",
    "df['x2'] = df['x']\n",
    "df['F_i2'] = df['F_i']\n",
    "df"
   ]
  },
  {
   "cell_type": "markdown",
   "metadata": {},
   "source": [
    "Going further, the *p-p* and *q-q* plot can be drawn as follows:"
   ]
  },
  {
   "cell_type": "code",
   "execution_count": 4,
   "metadata": {
    "ExecuteTime": {
     "end_time": "2018-11-16T00:20:32.265966Z",
     "start_time": "2018-11-16T00:20:31.750141Z"
    },
    "scrolled": false
   },
   "outputs": [
    {
     "data": {
      "image/png": "[encoded data removed]",
      "text/plain": [
       "<Figure size 1008x432 with 2 Axes>"
      ]
     },
     "metadata": {},
     "output_type": "display_data"
    }
   ],
   "source": [
    "fig = plt.figure(figsize=(14, 6))\n",
    "ax1, ax2 = fig.add_subplot(121), fig.add_subplot(122)\n",
    "\n",
    "df.plot('F_i','F_i2', kind='line', ax=ax1)\n",
    "df.plot('F_i', y='p_i',kind='scatter', marker='x', s=100, ax=ax1)\n",
    "ax1.set_title('p-p plot')\n",
    "ax1.set_xlabel('F_i')\n",
    "ax1.set_ylabel('p_i')\n",
    "\n",
    "df.plot('x','x2', kind='line', ax=ax2)\n",
    "df.plot('x', y='F_x',kind='scatter', marker='o', s=100, ax=ax2)\n",
    "ax2.set_title('q-q plot')\n",
    "ax2.set_xlabel('x')\n",
    "ax2.set_ylabel('F_x')\n",
    "plt.show()"
   ]
  },
  {
   "cell_type": "markdown",
   "metadata": {},
   "source": [
    "<center>$\\diamond$</center>"
   ]
  },
  {
   "cell_type": "markdown",
   "metadata": {},
   "source": [
    "**Worked Examples for:**\n",
    "- Estimation 2, Model Evaluation\n",
    "\n",
    "**References:**\n",
    "\n",
    "- Nonlife Actuarial Models, Yiu (2009) - Chapter 13"
   ]
  }
 ],
 "metadata": {
  "kernelspec": {
   "display_name": "Python 3",
   "language": "python",
   "name": "python3"
  },
  "language_info": {
   "codemirror_mode": {
    "name": "ipython",
    "version": 3
   },
   "file_extension": ".py",
   "mimetype": "text/x-python",
   "name": "python",
   "nbconvert_exporter": "python",
   "pygments_lexer": "ipython3",
   "version": "3.4.8"
  }
 },
 "nbformat": 4,
 "nbformat_minor": 2
}
