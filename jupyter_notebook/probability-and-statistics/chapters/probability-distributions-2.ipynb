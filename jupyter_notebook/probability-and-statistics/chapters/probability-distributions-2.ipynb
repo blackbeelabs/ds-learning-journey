{
 "cells": [
  {
   "cell_type": "markdown",
   "metadata": {},
   "source": [
    "# Probability Distributions 2\n",
    "## Discrete Distributions"
   ]
  },
  {
   "cell_type": "markdown",
   "metadata": {},
   "source": [
    "### Geometric Distribution\n",
    "\n",
    "Parameterised by $0 < p < 1$, $f_X(x)$ is the probability of having $x$ failures prior to the first success in a sequence of independent Bernoulli trials with probability of success $p$, and is defined as:\n",
    "\n",
    "$$f_X(x) = p(1-p)^x$$\n",
    "\n",
    "for $x = 0, 1, \\cdots$"
   ]
  },
  {
   "cell_type": "markdown",
   "metadata": {},
   "source": [
    "### Negative Binomial Distribution\n",
    "\n",
    "Parameterised by $r$ and $p$ where $r$ is a positive integer and $0 < p < 1$, $f_X(x)$ is the probability of having $x$ failures prior to $r$ successes in a sequence of independent Bernoulli trials, each having probability of success $p$. $f_X(x)$ is defined as:\n",
    "\n",
    "$$f_X(x) = \\begin{pmatrix}x+r-1\\\\r-1\\end{pmatrix}p^r(1-p)^{x}$$\n",
    "\n",
    "for $x = 0, 1, \\cdots$\n",
    "\n",
    "The geometric distribution is a special case of the negative binomial distribution, where $r=1$."
   ]
  },
  {
   "cell_type": "markdown",
   "metadata": {},
   "source": [
    "### Hypergeometric Distribution\n",
    "Parameterised by $M$, $D$, and $n$, $ x \\leq D, n\\leq M$, let there be a population of $M$ items, $D$ of which have a certain charactersitic of interest. A sample of size $n$ is drawn from a population of the $M$ items *without replacement*, where each of the $M$ items have the same probability of being selected. The pmf $f_X(x)$ is the probability of $x$ items of interest in the sample size of $n$ and is defined as:\n",
    "\n",
    "$$f_X(x) = \\frac{\\begin{pmatrix}D\\\\x\\end{pmatrix}\\begin{pmatrix}M-D\\\\n-x\\end{pmatrix}}{\\begin{pmatrix}M\\\\n\\end{pmatrix}}$$\n",
    "\n",
    "for $0 \\leq x \\leq n$"
   ]
  },
  {
   "cell_type": "markdown",
   "metadata": {},
   "source": [
    "## Continuous Distributions"
   ]
  },
  {
   "cell_type": "markdown",
   "metadata": {},
   "source": [
    "### Gamma Distribution\n",
    "Parameterised by $\\alpha > 0$ and $\\beta > 0$, the pdf is:\n",
    "\n",
    "$$f_X(x) = \\frac{1}{\\Gamma (\\alpha)\\beta^\\alpha}x^{\\alpha-1}e^{-\\frac{x}{\\beta}}$$\n",
    "\n",
    "for $x \\geq 0$.\n",
    "\n",
    "$\\Gamma(\\alpha)$ is the gamma function and is defined by:\n",
    "\n",
    "$$\\Gamma (\\alpha) = \\int_{0}^{\\infty}y^{\\alpha - 1}e^{-y} dy$$\n",
    "\n",
    "which exists for $\\alpha > 0$. For $\\alpha > 1$, $\\Gamma(\\alpha)$ satisfies the following recursion:\n",
    "\n",
    "$$\\Gamma (\\alpha) = (\\alpha - 1) \\Gamma(\\alpha - 1)$$\n",
    "\n",
    "Also, if $\\alpha$ is a positive integer, the following equation is true:\n",
    "\n",
    "$$\\Gamma (\\alpha) = (\\alpha - 1)!$$\n"
   ]
  },
  {
   "cell_type": "markdown",
   "metadata": {},
   "source": [
    "### Beta Distribution\n",
    "\n",
    "Parameterised by $a > 0$ and $b > 0$, the pdf is:\n",
    "\n",
    "$$f_X(x) = \\frac{1}{B(\\alpha, \\beta)} x^{\\alpha - 1}(1-x)^{\\beta-1}$$\n",
    "\n",
    "for $0 \\leq x \\leq 1$\n",
    "\n",
    "$B(\\alpha, \\beta)$ is the beta function and is defined by:\n",
    "\n",
    "$$B$$"
   ]
  },
  {
   "cell_type": "markdown",
   "metadata": {},
   "source": [
    "### Pareto Distribution\n",
    "\n",
    "Parameterised by $\\alpha > 0$ and $\\gamma > 0$, the pdf is\n",
    "\n",
    "$$f_X(x) = \\frac{\\alpha \\gamma ^\\alpha}{(x+\\gamma)^{\\alpha + 1}}$$\n",
    "\n",
    "$$F_X(x) = 1 - \\begin{pmatrix}\\frac{\\gamma}{x + \\gamma}\\end{pmatrix}^\\alpha$$\n",
    "\n",
    "for $x \\geq 0$"
   ]
  },
  {
   "cell_type": "markdown",
   "metadata": {},
   "source": [
    "### Lognormal Distribution\n",
    "\n",
    "Parameterised by the mean $\\mu$ and variance $\\sigma^2$, the pdf is:\n",
    "\n",
    "$$f_X(x) = \\frac{1}{\\sqrt {2\\pi}\\sigma x}\\exp\\begin{bmatrix}\\frac{-(\\log x-\\mu)^2}{2\\sigma^2}\\end{bmatrix}$$"
   ]
  },
  {
   "cell_type": "markdown",
   "metadata": {},
   "source": [
    "### Weibull Distribution\n",
    "\n",
    "Parameterised by the shape parameter, $\\alpha$ and the scale parameter, $\\lambda$, the pdf is\n",
    "\n",
    "$$f_X(x) = \\begin{pmatrix}\\frac{\\alpha}{\\lambda}\\end{pmatrix}\\begin{pmatrix}\\frac{x}{\\lambda}\\end{pmatrix}^{\\alpha - 1} \\exp\\begin{bmatrix}-\\begin{pmatrix}\\frac{x}{\\lambda}\\end{pmatrix}^\\alpha\\end{bmatrix}$$\n",
    "\n",
    "$$F_X(x) = 1 - \\exp\\begin{bmatrix}-\\begin{pmatrix}\\frac{x}{\\lambda}\\end{pmatrix}^\\alpha\\end{bmatrix}$$\n",
    "\n",
    "for $x \\geq 0$"
   ]
  },
  {
   "cell_type": "markdown",
   "metadata": {},
   "source": [
    "**References:**\n",
    "\n",
    "Nonlife Actuarial Models, Yiu (2009) - Chapter 1, 2, Appendix: Review of Statistics\n",
    "\n",
    "Risk Analysis - A Quantitative Guide, Vose (2008) - Chapter 8"
   ]
  },
  {
   "cell_type": "code",
   "execution_count": null,
   "metadata": {},
   "outputs": [],
   "source": []
  }
 ],
 "metadata": {
  "kernelspec": {
   "display_name": "Python 3",
   "language": "python",
   "name": "python3"
  },
  "language_info": {
   "codemirror_mode": {
    "name": "ipython",
    "version": 3
   },
   "file_extension": ".py",
   "mimetype": "text/x-python",
   "name": "python",
   "nbconvert_exporter": "python",
   "pygments_lexer": "ipython3",
   "version": "3.4.3"
  }
 },
 "nbformat": 4,
 "nbformat_minor": 2
}
