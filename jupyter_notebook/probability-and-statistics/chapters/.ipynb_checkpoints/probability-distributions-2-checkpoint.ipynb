{
 "cells": [
  {
   "cell_type": "markdown",
   "metadata": {},
   "source": [
    "# Probability Distributions 2\n",
    "## Discrete Distributions\n",
    "### Geometric Distribution\n",
    "`//TODO`\n",
    "### Negative Binomial Distribution\n",
    "`//TODO`\n",
    "### Hypergeometric Distribution\n",
    "`//TODO`\n",
    "\n",
    "## Continuous Distributions\n",
    "### Gamma Distribution\n",
    "Parameterised by $\\alpha > 0, \\beta > 0$\n",
    "$$f_X(x) = \\frac{1}{\\Gamma(\\alpha)\\beta^\\alpha}x^{\\alpha-1}e^{-\\frac x \\beta}$$\n",
    "for $x \\geq 0$. \n",
    "\n",
    "The function $\\Gamma(\\alpha)$ is the gamma function, defined by \n",
    "$$\\Gamma (\\alpha) = \\int_0^\\infty y^{\\alpha -1}e^{-y}dy$$\n",
    "and satisfies the recursion\n",
    "$\\Gamma (\\alpha) = (\\alpha - 1)\\Gamma (\\alpha -1)$. Also, if $\\alpha$ is a positive integer, then $\\Gamma(\\alpha) = (\\alpha - 1) !$\n",
    "### Pareto Distribution\n",
    "`//TODO`\n",
    "### Weibull Distribution\n",
    "`//TODO`"
   ]
  },
  {
   "cell_type": "markdown",
   "metadata": {},
   "source": [
    "**References:**\n",
    "\n",
    "Nonlife Actuarial Models, Yiu (2009) - Chapter 1, 2"
   ]
  },
  {
   "cell_type": "code",
   "execution_count": null,
   "metadata": {},
   "outputs": [],
   "source": []
  }
 ],
 "metadata": {
  "kernelspec": {
   "display_name": "Python 3",
   "language": "python",
   "name": "python3"
  },
  "language_info": {
   "codemirror_mode": {
    "name": "ipython",
    "version": 3
   },
   "file_extension": ".py",
   "mimetype": "text/x-python",
   "name": "python",
   "nbconvert_exporter": "python",
   "pygments_lexer": "ipython3",
   "version": "3.4.3"
  }
 },
 "nbformat": 4,
 "nbformat_minor": 2
}
