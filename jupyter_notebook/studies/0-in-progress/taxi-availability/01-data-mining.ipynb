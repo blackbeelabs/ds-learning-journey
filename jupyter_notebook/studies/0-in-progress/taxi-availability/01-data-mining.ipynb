{
 "cells": [
  {
   "cell_type": "code",
   "execution_count": 1,
   "metadata": {
    "ExecuteTime": {
     "end_time": "2020-02-03T13:53:05.726286Z",
     "start_time": "2020-02-03T13:53:05.180427Z"
    }
   },
   "outputs": [],
   "source": [
    "import requests\n",
    "import json\n",
    "import pandas as pd\n",
    "from datetime import datetime as dt\n",
    "import time"
   ]
  },
  {
   "cell_type": "code",
   "execution_count": 2,
   "metadata": {
    "ExecuteTime": {
     "end_time": "2020-02-03T13:53:05.733525Z",
     "start_time": "2020-02-03T13:53:05.728782Z"
    }
   },
   "outputs": [],
   "source": [
    "URL = \"https://api.data.gov.sg/v1/transport/taxi-availability?date_time=\""
   ]
  },
  {
   "cell_type": "code",
   "execution_count": 3,
   "metadata": {
    "ExecuteTime": {
     "end_time": "2020-02-03T13:53:05.740804Z",
     "start_time": "2020-02-03T13:53:05.737335Z"
    }
   },
   "outputs": [],
   "source": [
    "# Note: format is YYYY-MM-DD[T]HH:mm:ss"
   ]
  },
  {
   "cell_type": "code",
   "execution_count": 4,
   "metadata": {
    "ExecuteTime": {
     "end_time": "2020-02-03T13:54:24.660020Z",
     "start_time": "2020-02-03T13:53:05.744321Z"
    },
    "code_folding": []
   },
   "outputs": [
    {
     "name": "stdout",
     "output_type": "stream",
     "text": [
      "Attempting...\n",
      "https://api.data.gov.sg/v1/transport/taxi-availability?date_time=2018-01-01T00:00:00\n",
      "79652\n",
      "\n",
      "Attempting...\n",
      "https://api.data.gov.sg/v1/transport/taxi-availability?date_time=2018-02-01T00:00:00\n",
      "No Data\n",
      "{'message': 'Internal Server Error'}\n",
      "\n",
      "Attempting...\n",
      "https://api.data.gov.sg/v1/transport/taxi-availability?date_time=2018-03-01T00:00:00\n",
      "112103\n",
      "\n",
      "Attempting...\n",
      "https://api.data.gov.sg/v1/transport/taxi-availability?date_time=2018-04-01T00:00:00\n",
      "58137\n",
      "\n",
      "Attempting...\n",
      "https://api.data.gov.sg/v1/transport/taxi-availability?date_time=2018-05-01T00:00:00\n",
      "126687\n",
      "\n",
      "Attempting...\n",
      "https://api.data.gov.sg/v1/transport/taxi-availability?date_time=2018-06-01T00:00:00\n",
      "145153\n",
      "\n",
      "Attempting...\n",
      "https://api.data.gov.sg/v1/transport/taxi-availability?date_time=2018-07-01T00:00:00\n",
      "99836\n",
      "\n",
      "Attempting...\n",
      "https://api.data.gov.sg/v1/transport/taxi-availability?date_time=2018-08-01T00:00:00\n",
      "136141\n",
      "\n",
      "Attempting...\n",
      "https://api.data.gov.sg/v1/transport/taxi-availability?date_time=2018-09-01T00:00:00\n",
      "126921\n",
      "\n",
      "Attempting...\n",
      "https://api.data.gov.sg/v1/transport/taxi-availability?date_time=2018-10-01T00:00:00\n",
      "113784\n",
      "\n",
      "Attempting...\n",
      "https://api.data.gov.sg/v1/transport/taxi-availability?date_time=2018-11-01T00:00:00\n",
      "138567\n",
      "\n",
      "Attempting...\n",
      "https://api.data.gov.sg/v1/transport/taxi-availability?date_time=2018-12-01T00:00:00\n",
      "121194\n",
      "\n",
      "Attempting...\n",
      "https://api.data.gov.sg/v1/transport/taxi-availability?date_time=2019-01-01T00:00:00\n",
      "144732\n",
      "\n",
      "Attempting...\n",
      "https://api.data.gov.sg/v1/transport/taxi-availability?date_time=2019-02-01T00:00:00\n",
      "129861\n",
      "\n",
      "Attempting...\n",
      "https://api.data.gov.sg/v1/transport/taxi-availability?date_time=2019-03-01T00:00:00\n",
      "128796\n",
      "\n",
      "Attempting...\n",
      "https://api.data.gov.sg/v1/transport/taxi-availability?date_time=2019-04-01T00:00:00\n",
      "102627\n",
      "\n",
      "Attempting...\n",
      "https://api.data.gov.sg/v1/transport/taxi-availability?date_time=2019-05-01T00:00:00\n",
      "115298\n",
      "\n",
      "Attempting...\n",
      "https://api.data.gov.sg/v1/transport/taxi-availability?date_time=2019-06-01T00:00:00\n",
      "113721\n",
      "\n",
      "Attempting...\n",
      "https://api.data.gov.sg/v1/transport/taxi-availability?date_time=2019-07-01T00:00:00\n",
      "99633\n",
      "\n",
      "Attempting...\n",
      "https://api.data.gov.sg/v1/transport/taxi-availability?date_time=2019-08-01T00:00:00\n",
      "114414\n",
      "\n",
      "Attempting...\n",
      "https://api.data.gov.sg/v1/transport/taxi-availability?date_time=2019-09-01T00:00:00\n",
      "45446\n",
      "\n",
      "Attempting...\n",
      "https://api.data.gov.sg/v1/transport/taxi-availability?date_time=2019-10-01T00:00:00\n",
      "43758\n",
      "\n",
      "Attempting...\n",
      "https://api.data.gov.sg/v1/transport/taxi-availability?date_time=2019-11-01T00:00:00\n",
      "112354\n",
      "\n",
      "Attempting...\n",
      "https://api.data.gov.sg/v1/transport/taxi-availability?date_time=2019-12-01T00:00:00\n",
      "73636\n",
      "\n",
      "Attempting...\n",
      "https://api.data.gov.sg/v1/transport/taxi-availability?date_time=2020-01-01T00:00:00\n",
      "123781\n",
      "\n",
      "Attempting...\n",
      "https://api.data.gov.sg/v1/transport/taxi-availability?date_time=2020-02-01T00:00:00\n",
      "109976\n",
      "\n",
      "Attempting...\n",
      "https://api.data.gov.sg/v1/transport/taxi-availability?date_time=2020-03-01T00:00:00\n",
      "No Data\n",
      "{'api_info': {'status': 'healthy'}, 'message': 'no results found'}\n",
      "\n",
      "Attempting...\n",
      "https://api.data.gov.sg/v1/transport/taxi-availability?date_time=2020-04-01T00:00:00\n",
      "No Data\n",
      "{'api_info': {'status': 'healthy'}, 'message': 'no results found'}\n",
      "\n",
      "Attempting...\n",
      "https://api.data.gov.sg/v1/transport/taxi-availability?date_time=2020-05-01T00:00:00\n",
      "No Data\n",
      "{'api_info': {'status': 'healthy'}, 'message': 'no results found'}\n",
      "\n",
      "Attempting...\n",
      "https://api.data.gov.sg/v1/transport/taxi-availability?date_time=2020-06-01T00:00:00\n",
      "No Data\n",
      "{'api_info': {'status': 'healthy'}, 'message': 'no results found'}\n",
      "\n"
     ]
    }
   ],
   "source": [
    "time_range = pd.date_range('2018-01-01', '2020-06-01', freq='MS')\n",
    "for t in time_range:\n",
    "    print(\"Attempting...\")\n",
    "    u = URL + dt.strftime(t, \"%Y-%m-%dT%H:%M:%S\")\n",
    "    print(u)\n",
    "    resp = requests.get(u)\n",
    "    t = resp.text\n",
    "    t_dict = json.loads(t)\n",
    "    try:\n",
    "        print(len(str(t_dict['features'][0])))\n",
    "    except KeyError:\n",
    "        print(\"No Data\")\n",
    "        print(t_dict)        \n",
    "    time.sleep(1.5)\n",
    "    print()"
   ]
  },
  {
   "cell_type": "code",
   "execution_count": null,
   "metadata": {},
   "outputs": [],
   "source": []
  }
 ],
 "metadata": {
  "kernelspec": {
   "display_name": "Python 3",
   "language": "python",
   "name": "python3"
  },
  "language_info": {
   "codemirror_mode": {
    "name": "ipython",
    "version": 3
   },
   "file_extension": ".py",
   "mimetype": "text/x-python",
   "name": "python",
   "nbconvert_exporter": "python",
   "pygments_lexer": "ipython3",
   "version": "3.6.5"
  }
 },
 "nbformat": 4,
 "nbformat_minor": 2
}
