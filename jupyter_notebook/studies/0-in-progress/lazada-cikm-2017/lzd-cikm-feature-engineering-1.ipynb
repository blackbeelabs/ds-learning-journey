{
 "cells": [
  {
   "cell_type": "markdown",
   "metadata": {},
   "source": [
    "<center><h1>Feature Engineering of Lazada CIKM Text</h1></center>\n",
    "<center><h2>A Text Mining Exercise</h2></center>"
   ]
  },
  {
   "cell_type": "code",
   "execution_count": 1,
   "metadata": {
    "ExecuteTime": {
     "end_time": "2019-08-17T10:31:58.484739Z",
     "start_time": "2019-08-17T10:31:58.132264Z"
    }
   },
   "outputs": [],
   "source": [
    "import re\n",
    "import pandas as pd\n",
    "pd.set_option('max_colwidth', -1)"
   ]
  },
  {
   "cell_type": "code",
   "execution_count": 2,
   "metadata": {
    "ExecuteTime": {
     "end_time": "2019-08-17T10:31:58.760308Z",
     "start_time": "2019-08-17T10:31:58.487343Z"
    },
    "scrolled": true
   },
   "outputs": [
    {
     "data": {
      "text/html": [
       "<div>\n",
       "<style scoped>\n",
       "    .dataframe tbody tr th:only-of-type {\n",
       "        vertical-align: middle;\n",
       "    }\n",
       "\n",
       "    .dataframe tbody tr th {\n",
       "        vertical-align: top;\n",
       "    }\n",
       "\n",
       "    .dataframe thead th {\n",
       "        text-align: right;\n",
       "    }\n",
       "</style>\n",
       "<table border=\"1\" class=\"dataframe\">\n",
       "  <thead>\n",
       "    <tr style=\"text-align: right;\">\n",
       "      <th></th>\n",
       "      <th>country</th>\n",
       "      <th>sku_id</th>\n",
       "      <th>title</th>\n",
       "      <th>category_lvl_1</th>\n",
       "      <th>category_lvl_2</th>\n",
       "      <th>category_lvl_3</th>\n",
       "      <th>desc</th>\n",
       "      <th>price</th>\n",
       "      <th>xb</th>\n",
       "    </tr>\n",
       "  </thead>\n",
       "  <tbody>\n",
       "    <tr>\n",
       "      <th>0</th>\n",
       "      <td>my</td>\n",
       "      <td>AD674FAASTLXANMY</td>\n",
       "      <td>Adana Gallery Suri Square Hijab – Light Pink</td>\n",
       "      <td>Fashion</td>\n",
       "      <td>Women</td>\n",
       "      <td>Muslim Wear</td>\n",
       "      <td>&lt;ul&gt;&lt;li&gt;Material : Non sheer shimmer chiffon&lt;/li&gt;&lt;li&gt;Sizes : 52 x 52 inches OR 56 x 56 inches&lt;/li&gt;&lt;li&gt;Cut with curved ends&lt;/li&gt;&lt;/ul&gt;</td>\n",
       "      <td>49.00</td>\n",
       "      <td>local</td>\n",
       "    </tr>\n",
       "    <tr>\n",
       "      <th>1</th>\n",
       "      <td>my</td>\n",
       "      <td>AE068HBAA3RPRDANMY</td>\n",
       "      <td>Cuba Heartbreaker Eau De Parfum Spray 100ml/3.3oz</td>\n",
       "      <td>Health &amp; Beauty</td>\n",
       "      <td>Bath &amp; Body</td>\n",
       "      <td>Hand &amp; Foot Care</td>\n",
       "      <td>Formulated with oil-free hydrating botanicals/ Remarkably improves skin texture of abused hands/Restores soft, smooth &amp; refined hands</td>\n",
       "      <td>128.00</td>\n",
       "      <td>international</td>\n",
       "    </tr>\n",
       "    <tr>\n",
       "      <th>2</th>\n",
       "      <td>my</td>\n",
       "      <td>AN680ELAA9VN57ANMY</td>\n",
       "      <td>Andoer 150cm Cellphone Smartphone Mini Dual-Headed Omni-Directional Mic Microphone with Collar Clip for iPad iPhone5 6s 6 Plus Smartphones</td>\n",
       "      <td>TV, Audio / Video, Gaming &amp; Wearables</td>\n",
       "      <td>Audio</td>\n",
       "      <td>Live Sound &amp; Stage</td>\n",
       "      <td>&lt;ul&gt; &lt;li&gt;150cm mini microphone compatible for iPhone, various smartphones, and also for iPad/ Apple computer/ Macbook.&lt;/li&gt; &lt;li&gt;Dual-headed design, allows for two people using simultaneously.&lt;/li&gt; &lt;li&gt;Features high sensitivity &amp;amp; omni-directional sounds output, perfect for audio and video recording.&lt;/li&gt; &lt;li&gt;3.5mm standard connector jack.&lt;/li&gt; &lt;li&gt;Convenient clip-on design, can clip it on your collar.&lt;/li&gt; &lt;li&gt;3.5mm standard connector jack. Convenient clip-on design, can clip it on your collar.&lt;/li&gt; &lt;/ul&gt;</td>\n",
       "      <td>25.07</td>\n",
       "      <td>international</td>\n",
       "    </tr>\n",
       "    <tr>\n",
       "      <th>3</th>\n",
       "      <td>my</td>\n",
       "      <td>AN957HBAAAHDF4ANMY</td>\n",
       "      <td>ANMYNA Complaint Silky Set 柔顺洗发配套 (Shampoo 520ml + Conditioner 250ml)</td>\n",
       "      <td>Health &amp; Beauty</td>\n",
       "      <td>Hair Care</td>\n",
       "      <td>Shampoos &amp; Conditioners</td>\n",
       "      <td>&lt;ul&gt; &lt;li&gt;ANMYNA Complaint Silky Set (Shampoo 520ml + Conditioner 250ml)&lt;/li&gt; &lt;li&gt;Deep nourish&lt;/li&gt; &lt;li&gt;Repair damaged hair&lt;/li&gt; &lt;li&gt;Protect the scalp and prevent hair loss&lt;/li&gt; &lt;/ul&gt;</td>\n",
       "      <td>118.00</td>\n",
       "      <td>local</td>\n",
       "    </tr>\n",
       "    <tr>\n",
       "      <th>4</th>\n",
       "      <td>my</td>\n",
       "      <td>AR511HBAXNWAANMY</td>\n",
       "      <td>Argital Argiltubo Green Clay For Face and Body 250ml</td>\n",
       "      <td>Health &amp; Beauty</td>\n",
       "      <td>Men's Care</td>\n",
       "      <td>Body and Skin Care</td>\n",
       "      <td>&lt;ul&gt; &lt;li&gt;100% Authentic&lt;/li&gt; &lt;li&gt;Rrefresh and brighten skin&lt;/li&gt; &lt;li&gt;Anti-wrinkle and deep cleansing effects&lt;/li&gt; &lt;/ul&gt;</td>\n",
       "      <td>114.80</td>\n",
       "      <td>international</td>\n",
       "    </tr>\n",
       "  </tbody>\n",
       "</table>\n",
       "</div>"
      ],
      "text/plain": [
       "  country              sku_id  \\\n",
       "0  my      AD674FAASTLXANMY     \n",
       "1  my      AE068HBAA3RPRDANMY   \n",
       "2  my      AN680ELAA9VN57ANMY   \n",
       "3  my      AN957HBAAAHDF4ANMY   \n",
       "4  my      AR511HBAXNWAANMY     \n",
       "\n",
       "                                                                                                                                        title  \\\n",
       "0  Adana Gallery Suri Square Hijab – Light Pink                                                                                                 \n",
       "1  Cuba Heartbreaker Eau De Parfum Spray 100ml/3.3oz                                                                                            \n",
       "2  Andoer 150cm Cellphone Smartphone Mini Dual-Headed Omni-Directional Mic Microphone with Collar Clip for iPad iPhone5 6s 6 Plus Smartphones   \n",
       "3  ANMYNA Complaint Silky Set 柔顺洗发配套 (Shampoo 520ml + Conditioner 250ml)                                                                        \n",
       "4  Argital Argiltubo Green Clay For Face and Body 250ml                                                                                         \n",
       "\n",
       "                          category_lvl_1 category_lvl_2  \\\n",
       "0  Fashion                                Women           \n",
       "1  Health & Beauty                        Bath & Body     \n",
       "2  TV, Audio / Video, Gaming & Wearables  Audio           \n",
       "3  Health & Beauty                        Hair Care       \n",
       "4  Health & Beauty                        Men's Care      \n",
       "\n",
       "            category_lvl_3  \\\n",
       "0  Muslim Wear               \n",
       "1  Hand & Foot Care          \n",
       "2  Live Sound & Stage        \n",
       "3  Shampoos & Conditioners   \n",
       "4  Body and Skin Care        \n",
       "\n",
       "                                                                                                                                                                                                                                                                                                                                                                                                                                                                                                                                 desc  \\\n",
       "0  <ul><li>Material : Non sheer shimmer chiffon</li><li>Sizes : 52 x 52 inches OR 56 x 56 inches</li><li>Cut with curved ends</li></ul>                                                                                                                                                                                                                                                                                                                                                                                                 \n",
       "1  Formulated with oil-free hydrating botanicals/ Remarkably improves skin texture of abused hands/Restores soft, smooth & refined hands                                                                                                                                                                                                                                                                                                                                                                                                \n",
       "2  <ul> <li>150cm mini microphone compatible for iPhone, various smartphones, and also for iPad/ Apple computer/ Macbook.</li> <li>Dual-headed design, allows for two people using simultaneously.</li> <li>Features high sensitivity &amp; omni-directional sounds output, perfect for audio and video recording.</li> <li>3.5mm standard connector jack.</li> <li>Convenient clip-on design, can clip it on your collar.</li> <li>3.5mm standard connector jack. Convenient clip-on design, can clip it on your collar.</li> </ul>    \n",
       "3  <ul> <li>ANMYNA Complaint Silky Set (Shampoo 520ml + Conditioner 250ml)</li> <li>Deep nourish</li> <li>Repair damaged hair</li> <li>Protect the scalp and prevent hair loss</li> </ul>                                                                                                                                                                                                                                                                                                                                               \n",
       "4  <ul> <li>100% Authentic</li> <li>Rrefresh and brighten skin</li> <li>Anti-wrinkle and deep cleansing effects</li> </ul>                                                                                                                                                                                                                                                                                                                                                                                                              \n",
       "\n",
       "    price             xb  \n",
       "0  49.00   local          \n",
       "1  128.00  international  \n",
       "2  25.07   international  \n",
       "3  118.00  local          \n",
       "4  114.80  international  "
      ]
     },
     "execution_count": 2,
     "metadata": {},
     "output_type": "execute_result"
    }
   ],
   "source": [
    "import lzd_utils\n",
    "df = lzd_utils.read_lazada_csv()\n",
    "df.head()"
   ]
  },
  {
   "cell_type": "markdown",
   "metadata": {},
   "source": [
    "### Title"
   ]
  },
  {
   "cell_type": "code",
   "execution_count": 3,
   "metadata": {
    "ExecuteTime": {
     "end_time": "2019-08-17T10:31:58.770982Z",
     "start_time": "2019-08-17T10:31:58.764414Z"
    }
   },
   "outputs": [
    {
     "name": "stdout",
     "output_type": "stream",
     "text": [
      "0    Adana Gallery Suri Square Hijab – Light Pink                                                                                              \n",
      "1    Cuba Heartbreaker Eau De Parfum Spray 100ml/3.3oz                                                                                         \n",
      "2    Andoer 150cm Cellphone Smartphone Mini Dual-Headed Omni-Directional Mic Microphone with Collar Clip for iPad iPhone5 6s 6 Plus Smartphones\n",
      "3    ANMYNA Complaint Silky Set 柔顺洗发配套 (Shampoo 520ml + Conditioner 250ml)                                                                     \n",
      "4    Argital Argiltubo Green Clay For Face and Body 250ml                                                                                      \n",
      "5    Asus TP300LJ-DW004H Transformer Book Flip 4GB Intel Core i5 13 Inch + Free 2Year Ezi Care Warranty                                        \n",
      "6    NG-40C Ring-Shaped 40W 3166lm 5400K Macro Photography Light Circle Ring Light                                                             \n",
      "7    Buytra Exfoliating Peel Foot Mask 1Pair                                                                                                   \n",
      "8    CLiPtec OCC121 Slim Flat USB 3.0 Extension Cable 1.5m                                                                                     \n",
      "9    McDonald's Coke Can Glass Limited Edition 12oz Purple Color                                                                               \n",
      "Name: title, dtype: object\n"
     ]
    }
   ],
   "source": [
    "titles = df['title'].head(10)\n",
    "print(titles)"
   ]
  },
  {
   "cell_type": "code",
   "execution_count": 4,
   "metadata": {
    "ExecuteTime": {
     "end_time": "2019-08-17T10:31:58.783348Z",
     "start_time": "2019-08-17T10:31:58.773792Z"
    }
   },
   "outputs": [
    {
     "data": {
      "text/plain": [
       "0    Adana Gallery Suri Square Hijab  Light Pink                                                                                             \n",
       "1    Cuba Heartbreaker Eau De Parfum Spray 100ml33oz                                                                                         \n",
       "2    Andoer 150cm Cellphone Smartphone Mini DualHeaded OmniDirectional Mic Microphone with Collar Clip for iPad iPhone5 6s 6 Plus Smartphones\n",
       "3    ANMYNA Complaint Silky Set  Shampoo 520ml  Conditioner 250ml                                                                            \n",
       "4    Argital Argiltubo Green Clay For Face and Body 250ml                                                                                    \n",
       "5    Asus TP300LJDW004H Transformer Book Flip 4GB Intel Core i5 13 Inch  Free 2Year Ezi Care Warranty                                        \n",
       "6    NG40C RingShaped 40W 3166lm 5400K Macro Photography Light Circle Ring Light                                                             \n",
       "7    Buytra Exfoliating Peel Foot Mask 1Pair                                                                                                 \n",
       "8    CLiPtec OCC121 Slim Flat USB 30 Extension Cable 15m                                                                                     \n",
       "9    McDonalds Coke Can Glass Limited Edition 12oz Purple Color                                                                              \n",
       "Name: title, dtype: object"
      ]
     },
     "metadata": {},
     "output_type": "display_data"
    }
   ],
   "source": [
    "titles_AC = titles.apply(lambda x : re.sub('[^\\s0-9a-zA-Z]', '', x))\n",
    "display(titles_AC)"
   ]
  },
  {
   "cell_type": "code",
   "execution_count": 5,
   "metadata": {
    "ExecuteTime": {
     "end_time": "2019-08-17T10:31:58.801283Z",
     "start_time": "2019-08-17T10:31:58.787614Z"
    }
   },
   "outputs": [],
   "source": [
    "def feat_eng__num_words(x):\n",
    "    return len(x.split())\n",
    "\n",
    "def feat_eng__max_length(x):\n",
    "    return max([len(t) for t in x.split()])\n",
    "\n",
    "def feat_eng__min_length(x):\n",
    "    return min([len(t) for t in x.split()])\n",
    "\n",
    "def feat_eng__mean_length(x):\n",
    "    terms = [len(t) for t in x.split()]\n",
    "    return sum(terms)/len(terms)\n",
    "\n",
    "def feat_eng__contains_digit(x):\n",
    "    if re.search('\\d', x) is not None:\n",
    "        return 1\n",
    "    return 0\n",
    "\n",
    "def feat_eng__pct_non_alphanumeric(l):\n",
    "    remove_spaces = lambda x : re.sub('\\s', '', x)\n",
    "    bc_chars, ac_chars = remove_spaces(l[0]), remove_spaces(l[1])\n",
    "    return 1-(len(ac_chars)/len(bc_chars))"
   ]
  },
  {
   "cell_type": "code",
   "execution_count": 6,
   "metadata": {
    "ExecuteTime": {
     "end_time": "2019-08-17T10:31:58.812042Z",
     "start_time": "2019-08-17T10:31:58.805017Z"
    }
   },
   "outputs": [
    {
     "name": "stdout",
     "output_type": "stream",
     "text": [
      "9\n",
      "10\n",
      "3\n",
      "5.666666666666667\n"
     ]
    }
   ],
   "source": [
    "# Testing each function\n",
    "t = 'McDonald\\'s Coke Can Glass Limited Edition 12oz Purple Color  '\n",
    "\n",
    "print(feat_eng__num_words(t))\n",
    "print(feat_eng__max_length(t))\n",
    "print(feat_eng__min_length(t))\n",
    "print(feat_eng__mean_length(t))"
   ]
  },
  {
   "cell_type": "code",
   "execution_count": 7,
   "metadata": {
    "ExecuteTime": {
     "end_time": "2019-08-17T10:31:58.824659Z",
     "start_time": "2019-08-17T10:31:58.815687Z"
    }
   },
   "outputs": [
    {
     "data": {
      "text/plain": [
       "0    7 \n",
       "1    7 \n",
       "2    19\n",
       "3    8 \n",
       "4    9 \n",
       "5    16\n",
       "6    11\n",
       "7    6 \n",
       "8    9 \n",
       "9    9 \n",
       "Name: title, dtype: int64"
      ]
     },
     "metadata": {},
     "output_type": "display_data"
    }
   ],
   "source": [
    "f7 = titles_AC.apply(feat_eng__num_words)\n",
    "display(f7)"
   ]
  },
  {
   "cell_type": "code",
   "execution_count": 8,
   "metadata": {
    "ExecuteTime": {
     "end_time": "2019-08-17T10:31:58.840459Z",
     "start_time": "2019-08-17T10:31:58.828719Z"
    }
   },
   "outputs": [
    {
     "data": {
      "text/plain": [
       "0    7 \n",
       "1    12\n",
       "2    15\n",
       "3    11\n",
       "4    9 \n",
       "5    13\n",
       "6    11\n",
       "7    11\n",
       "8    9 \n",
       "9    9 \n",
       "Name: title, dtype: int64"
      ]
     },
     "metadata": {},
     "output_type": "display_data"
    }
   ],
   "source": [
    "f8 = titles_AC.apply(feat_eng__max_length)\n",
    "display(f8)"
   ]
  },
  {
   "cell_type": "code",
   "execution_count": 9,
   "metadata": {
    "ExecuteTime": {
     "end_time": "2019-08-17T10:31:58.852528Z",
     "start_time": "2019-08-17T10:31:58.842681Z"
    }
   },
   "outputs": [
    {
     "data": {
      "text/plain": [
       "0    4\n",
       "1    2\n",
       "2    1\n",
       "3    3\n",
       "4    3\n",
       "5    2\n",
       "6    3\n",
       "7    4\n",
       "8    2\n",
       "9    3\n",
       "Name: title, dtype: int64"
      ]
     },
     "metadata": {},
     "output_type": "display_data"
    }
   ],
   "source": [
    "f9 = titles_AC.apply(feat_eng__min_length)\n",
    "display(f9)"
   ]
  },
  {
   "cell_type": "code",
   "execution_count": 10,
   "metadata": {
    "ExecuteTime": {
     "end_time": "2019-08-17T10:31:58.871376Z",
     "start_time": "2019-08-17T10:31:58.857607Z"
    }
   },
   "outputs": [
    {
     "data": {
      "text/plain": [
       "0    5.142857\n",
       "1    5.857143\n",
       "2    6.210526\n",
       "3    6.375000\n",
       "4    4.888889\n",
       "5    5.000000\n",
       "6    5.909091\n",
       "7    5.666667\n",
       "8    4.777778\n",
       "9    5.555556\n",
       "Name: title, dtype: float64"
      ]
     },
     "metadata": {},
     "output_type": "display_data"
    }
   ],
   "source": [
    "f10 = titles_AC.apply(feat_eng__mean_length)\n",
    "display(f10)"
   ]
  },
  {
   "cell_type": "code",
   "execution_count": 11,
   "metadata": {
    "ExecuteTime": {
     "end_time": "2019-08-17T10:31:58.891650Z",
     "start_time": "2019-08-17T10:31:58.874859Z"
    }
   },
   "outputs": [
    {
     "name": "stdout",
     "output_type": "stream",
     "text": [
      "8 7 1 4.625\n",
      "7 12 2 6.142857142857143\n",
      "19 16 1 6.315789473684211\n",
      "10 11 1 6.0\n",
      "9 9 3 4.888888888888889\n",
      "17 14 1 4.823529411764706\n",
      "11 11 3 6.090909090909091\n",
      "6 11 4 5.666666666666667\n",
      "9 9 3 5.0\n",
      "9 10 3 5.666666666666667\n"
     ]
    }
   ],
   "source": [
    "f11, f12, f13, f14 = [titles.apply(feat_eng__num_words),\n",
    "                      titles.apply(feat_eng__max_length),\n",
    "                      titles.apply(feat_eng__min_length),\n",
    "                      titles.apply(feat_eng__mean_length)]\n",
    "for (a, b, c, d) in zip(f11, f12, f13, f14):\n",
    "    print(a, b, c, d)"
   ]
  },
  {
   "cell_type": "code",
   "execution_count": 12,
   "metadata": {
    "ExecuteTime": {
     "end_time": "2019-08-17T10:31:58.913112Z",
     "start_time": "2019-08-17T10:31:58.903289Z"
    }
   },
   "outputs": [
    {
     "name": "stdout",
     "output_type": "stream",
     "text": [
      "McDonald's Coke Can Glass Limited Edition 12oz Purple Color  \n",
      "1\n"
     ]
    }
   ],
   "source": [
    "print(t)\n",
    "print(feat_eng__contains_digit(t))"
   ]
  },
  {
   "cell_type": "code",
   "execution_count": 13,
   "metadata": {
    "ExecuteTime": {
     "end_time": "2019-08-17T10:31:58.925286Z",
     "start_time": "2019-08-17T10:31:58.917725Z"
    },
    "scrolled": true
   },
   "outputs": [
    {
     "name": "stdout",
     "output_type": "stream",
     "text": [
      "0    0\n",
      "1    1\n",
      "2    1\n",
      "3    1\n",
      "4    1\n",
      "5    1\n",
      "6    1\n",
      "7    1\n",
      "8    1\n",
      "9    1\n",
      "Name: title, dtype: int64\n"
     ]
    }
   ],
   "source": [
    "f15 = titles.apply(feat_eng__contains_digit)\n",
    "print(f15)"
   ]
  },
  {
   "cell_type": "code",
   "execution_count": 14,
   "metadata": {
    "ExecuteTime": {
     "end_time": "2019-08-17T10:31:58.938065Z",
     "start_time": "2019-08-17T10:31:58.929096Z"
    },
    "scrolled": true
   },
   "outputs": [
    {
     "name": "stdout",
     "output_type": "stream",
     "text": [
      "['Adana Gallery Suri Square Hijab – Light Pink', 'Adana Gallery Suri Square Hijab  Light Pink']\n"
     ]
    }
   ],
   "source": [
    "t_list = [titles.iloc[0], titles_AC.iloc[0]]\n",
    "print(t_list)"
   ]
  },
  {
   "cell_type": "code",
   "execution_count": 15,
   "metadata": {
    "ExecuteTime": {
     "end_time": "2019-08-17T10:31:58.987578Z",
     "start_time": "2019-08-17T10:31:58.941787Z"
    }
   },
   "outputs": [
    {
     "data": {
      "text/html": [
       "<div>\n",
       "<style scoped>\n",
       "    .dataframe tbody tr th:only-of-type {\n",
       "        vertical-align: middle;\n",
       "    }\n",
       "\n",
       "    .dataframe tbody tr th {\n",
       "        vertical-align: top;\n",
       "    }\n",
       "\n",
       "    .dataframe thead th {\n",
       "        text-align: right;\n",
       "    }\n",
       "</style>\n",
       "<table border=\"1\" class=\"dataframe\">\n",
       "  <thead>\n",
       "    <tr style=\"text-align: right;\">\n",
       "      <th></th>\n",
       "      <th>f10</th>\n",
       "      <th>f11</th>\n",
       "      <th>f12</th>\n",
       "      <th>f13</th>\n",
       "      <th>f14</th>\n",
       "      <th>f15</th>\n",
       "      <th>f7</th>\n",
       "      <th>f8</th>\n",
       "      <th>f9</th>\n",
       "      <th>titles</th>\n",
       "      <th>titles_AC</th>\n",
       "      <th>f16</th>\n",
       "    </tr>\n",
       "  </thead>\n",
       "  <tbody>\n",
       "    <tr>\n",
       "      <th>0</th>\n",
       "      <td>5.142857</td>\n",
       "      <td>8</td>\n",
       "      <td>7</td>\n",
       "      <td>1</td>\n",
       "      <td>4.625000</td>\n",
       "      <td>0</td>\n",
       "      <td>7</td>\n",
       "      <td>7</td>\n",
       "      <td>4</td>\n",
       "      <td>Adana Gallery Suri Square Hijab – Light Pink</td>\n",
       "      <td>Adana Gallery Suri Square Hijab  Light Pink</td>\n",
       "      <td>0.027027</td>\n",
       "    </tr>\n",
       "    <tr>\n",
       "      <th>1</th>\n",
       "      <td>5.857143</td>\n",
       "      <td>7</td>\n",
       "      <td>12</td>\n",
       "      <td>2</td>\n",
       "      <td>6.142857</td>\n",
       "      <td>1</td>\n",
       "      <td>7</td>\n",
       "      <td>12</td>\n",
       "      <td>2</td>\n",
       "      <td>Cuba Heartbreaker Eau De Parfum Spray 100ml/3.3oz</td>\n",
       "      <td>Cuba Heartbreaker Eau De Parfum Spray 100ml33oz</td>\n",
       "      <td>0.046512</td>\n",
       "    </tr>\n",
       "    <tr>\n",
       "      <th>2</th>\n",
       "      <td>6.210526</td>\n",
       "      <td>19</td>\n",
       "      <td>16</td>\n",
       "      <td>1</td>\n",
       "      <td>6.315789</td>\n",
       "      <td>1</td>\n",
       "      <td>19</td>\n",
       "      <td>15</td>\n",
       "      <td>1</td>\n",
       "      <td>Andoer 150cm Cellphone Smartphone Mini Dual-Headed Omni-Directional Mic Microphone with Collar Clip for iPad iPhone5 6s 6 Plus Smartphones</td>\n",
       "      <td>Andoer 150cm Cellphone Smartphone Mini DualHeaded OmniDirectional Mic Microphone with Collar Clip for iPad iPhone5 6s 6 Plus Smartphones</td>\n",
       "      <td>0.016667</td>\n",
       "    </tr>\n",
       "    <tr>\n",
       "      <th>3</th>\n",
       "      <td>6.375000</td>\n",
       "      <td>10</td>\n",
       "      <td>11</td>\n",
       "      <td>1</td>\n",
       "      <td>6.000000</td>\n",
       "      <td>1</td>\n",
       "      <td>8</td>\n",
       "      <td>11</td>\n",
       "      <td>3</td>\n",
       "      <td>ANMYNA Complaint Silky Set 柔顺洗发配套 (Shampoo 520ml + Conditioner 250ml)</td>\n",
       "      <td>ANMYNA Complaint Silky Set  Shampoo 520ml  Conditioner 250ml</td>\n",
       "      <td>0.150000</td>\n",
       "    </tr>\n",
       "    <tr>\n",
       "      <th>4</th>\n",
       "      <td>4.888889</td>\n",
       "      <td>9</td>\n",
       "      <td>9</td>\n",
       "      <td>3</td>\n",
       "      <td>4.888889</td>\n",
       "      <td>1</td>\n",
       "      <td>9</td>\n",
       "      <td>9</td>\n",
       "      <td>3</td>\n",
       "      <td>Argital Argiltubo Green Clay For Face and Body 250ml</td>\n",
       "      <td>Argital Argiltubo Green Clay For Face and Body 250ml</td>\n",
       "      <td>0.000000</td>\n",
       "    </tr>\n",
       "    <tr>\n",
       "      <th>5</th>\n",
       "      <td>5.000000</td>\n",
       "      <td>17</td>\n",
       "      <td>14</td>\n",
       "      <td>1</td>\n",
       "      <td>4.823529</td>\n",
       "      <td>1</td>\n",
       "      <td>16</td>\n",
       "      <td>13</td>\n",
       "      <td>2</td>\n",
       "      <td>Asus TP300LJ-DW004H Transformer Book Flip 4GB Intel Core i5 13 Inch + Free 2Year Ezi Care Warranty</td>\n",
       "      <td>Asus TP300LJDW004H Transformer Book Flip 4GB Intel Core i5 13 Inch  Free 2Year Ezi Care Warranty</td>\n",
       "      <td>0.024390</td>\n",
       "    </tr>\n",
       "    <tr>\n",
       "      <th>6</th>\n",
       "      <td>5.909091</td>\n",
       "      <td>11</td>\n",
       "      <td>11</td>\n",
       "      <td>3</td>\n",
       "      <td>6.090909</td>\n",
       "      <td>1</td>\n",
       "      <td>11</td>\n",
       "      <td>11</td>\n",
       "      <td>3</td>\n",
       "      <td>NG-40C Ring-Shaped 40W 3166lm 5400K Macro Photography Light Circle Ring Light</td>\n",
       "      <td>NG40C RingShaped 40W 3166lm 5400K Macro Photography Light Circle Ring Light</td>\n",
       "      <td>0.029851</td>\n",
       "    </tr>\n",
       "    <tr>\n",
       "      <th>7</th>\n",
       "      <td>5.666667</td>\n",
       "      <td>6</td>\n",
       "      <td>11</td>\n",
       "      <td>4</td>\n",
       "      <td>5.666667</td>\n",
       "      <td>1</td>\n",
       "      <td>6</td>\n",
       "      <td>11</td>\n",
       "      <td>4</td>\n",
       "      <td>Buytra Exfoliating Peel Foot Mask 1Pair</td>\n",
       "      <td>Buytra Exfoliating Peel Foot Mask 1Pair</td>\n",
       "      <td>0.000000</td>\n",
       "    </tr>\n",
       "    <tr>\n",
       "      <th>8</th>\n",
       "      <td>4.777778</td>\n",
       "      <td>9</td>\n",
       "      <td>9</td>\n",
       "      <td>3</td>\n",
       "      <td>5.000000</td>\n",
       "      <td>1</td>\n",
       "      <td>9</td>\n",
       "      <td>9</td>\n",
       "      <td>2</td>\n",
       "      <td>CLiPtec OCC121 Slim Flat USB 3.0 Extension Cable 1.5m</td>\n",
       "      <td>CLiPtec OCC121 Slim Flat USB 30 Extension Cable 15m</td>\n",
       "      <td>0.044444</td>\n",
       "    </tr>\n",
       "    <tr>\n",
       "      <th>9</th>\n",
       "      <td>5.555556</td>\n",
       "      <td>9</td>\n",
       "      <td>10</td>\n",
       "      <td>3</td>\n",
       "      <td>5.666667</td>\n",
       "      <td>1</td>\n",
       "      <td>9</td>\n",
       "      <td>9</td>\n",
       "      <td>3</td>\n",
       "      <td>McDonald's Coke Can Glass Limited Edition 12oz Purple Color</td>\n",
       "      <td>McDonalds Coke Can Glass Limited Edition 12oz Purple Color</td>\n",
       "      <td>0.019608</td>\n",
       "    </tr>\n",
       "  </tbody>\n",
       "</table>\n",
       "</div>"
      ],
      "text/plain": [
       "        f10  f11  f12  f13       f14  f15  f7  f8  f9  \\\n",
       "0  5.142857  8    7    1    4.625000  0    7   7   4    \n",
       "1  5.857143  7    12   2    6.142857  1    7   12  2    \n",
       "2  6.210526  19   16   1    6.315789  1    19  15  1    \n",
       "3  6.375000  10   11   1    6.000000  1    8   11  3    \n",
       "4  4.888889  9    9    3    4.888889  1    9   9   3    \n",
       "5  5.000000  17   14   1    4.823529  1    16  13  2    \n",
       "6  5.909091  11   11   3    6.090909  1    11  11  3    \n",
       "7  5.666667  6    11   4    5.666667  1    6   11  4    \n",
       "8  4.777778  9    9    3    5.000000  1    9   9   2    \n",
       "9  5.555556  9    10   3    5.666667  1    9   9   3    \n",
       "\n",
       "                                                                                                                                       titles  \\\n",
       "0  Adana Gallery Suri Square Hijab – Light Pink                                                                                                 \n",
       "1  Cuba Heartbreaker Eau De Parfum Spray 100ml/3.3oz                                                                                            \n",
       "2  Andoer 150cm Cellphone Smartphone Mini Dual-Headed Omni-Directional Mic Microphone with Collar Clip for iPad iPhone5 6s 6 Plus Smartphones   \n",
       "3  ANMYNA Complaint Silky Set 柔顺洗发配套 (Shampoo 520ml + Conditioner 250ml)                                                                        \n",
       "4  Argital Argiltubo Green Clay For Face and Body 250ml                                                                                         \n",
       "5  Asus TP300LJ-DW004H Transformer Book Flip 4GB Intel Core i5 13 Inch + Free 2Year Ezi Care Warranty                                           \n",
       "6  NG-40C Ring-Shaped 40W 3166lm 5400K Macro Photography Light Circle Ring Light                                                                \n",
       "7  Buytra Exfoliating Peel Foot Mask 1Pair                                                                                                      \n",
       "8  CLiPtec OCC121 Slim Flat USB 3.0 Extension Cable 1.5m                                                                                        \n",
       "9  McDonald's Coke Can Glass Limited Edition 12oz Purple Color                                                                                  \n",
       "\n",
       "                                                                                                                                  titles_AC  \\\n",
       "0  Adana Gallery Suri Square Hijab  Light Pink                                                                                                \n",
       "1  Cuba Heartbreaker Eau De Parfum Spray 100ml33oz                                                                                            \n",
       "2  Andoer 150cm Cellphone Smartphone Mini DualHeaded OmniDirectional Mic Microphone with Collar Clip for iPad iPhone5 6s 6 Plus Smartphones   \n",
       "3  ANMYNA Complaint Silky Set  Shampoo 520ml  Conditioner 250ml                                                                               \n",
       "4  Argital Argiltubo Green Clay For Face and Body 250ml                                                                                       \n",
       "5  Asus TP300LJDW004H Transformer Book Flip 4GB Intel Core i5 13 Inch  Free 2Year Ezi Care Warranty                                           \n",
       "6  NG40C RingShaped 40W 3166lm 5400K Macro Photography Light Circle Ring Light                                                                \n",
       "7  Buytra Exfoliating Peel Foot Mask 1Pair                                                                                                    \n",
       "8  CLiPtec OCC121 Slim Flat USB 30 Extension Cable 15m                                                                                        \n",
       "9  McDonalds Coke Can Glass Limited Edition 12oz Purple Color                                                                                 \n",
       "\n",
       "        f16  \n",
       "0  0.027027  \n",
       "1  0.046512  \n",
       "2  0.016667  \n",
       "3  0.150000  \n",
       "4  0.000000  \n",
       "5  0.024390  \n",
       "6  0.029851  \n",
       "7  0.000000  \n",
       "8  0.044444  \n",
       "9  0.019608  "
      ]
     },
     "metadata": {},
     "output_type": "display_data"
    }
   ],
   "source": [
    "titles_feats = pd.DataFrame({'titles' : titles, \n",
    "                             'titles_AC' : titles_AC, \n",
    "                             'f7' : f7, 'f8' : f8,\n",
    "                             'f9' : f9, 'f10' : f10,\n",
    "                             'f11' : f11, 'f12' : f12, \n",
    "                             'f13' : f13, 'f14' : f14, 'f15' : f15})\n",
    "titles_feats['f16'] = titles_feats[['titles', 'titles_AC']].apply(feat_eng__pct_non_alphanumeric,axis=1)\n",
    "display(titles_feats)"
   ]
  },
  {
   "cell_type": "markdown",
   "metadata": {},
   "source": [
    "**References**\n",
    "\n",
    "- [Github / minhcp](https://github.com/minhcp/CIKMCup17) for the dataset\n",
    "\n",
    "- [CIKM AnalytiCup 2017 – Lazada Product Title Quality Challenge](https://arxiv.org/pdf/1804.01000.pdf) for the feature engineering techniques"
   ]
  }
 ],
 "metadata": {
  "kernelspec": {
   "display_name": "Python 3",
   "language": "python",
   "name": "python3"
  },
  "language_info": {
   "codemirror_mode": {
    "name": "ipython",
    "version": 3
   },
   "file_extension": ".py",
   "mimetype": "text/x-python",
   "name": "python",
   "nbconvert_exporter": "python",
   "pygments_lexer": "ipython3",
   "version": "3.6.5"
  }
 },
 "nbformat": 4,
 "nbformat_minor": 2
}
