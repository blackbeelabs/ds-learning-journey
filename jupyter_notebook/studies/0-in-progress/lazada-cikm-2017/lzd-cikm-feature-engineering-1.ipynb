{
 "cells": [
  {
   "cell_type": "markdown",
   "metadata": {},
   "source": [
    "<center><h1>Feature Engineering of Lazada CIKM Text</h1></center>\n",
    "<center><h2>A Text Mining Exercise</h2></center>"
   ]
  },
  {
   "cell_type": "code",
   "execution_count": 1,
   "metadata": {
    "ExecuteTime": {
     "end_time": "2019-02-23T06:41:12.272561Z",
     "start_time": "2019-02-23T06:41:10.854186Z"
    }
   },
   "outputs": [],
   "source": [
    "import re\n",
    "\n",
    "import pandas as pd\n",
    "import matplotlib.pyplot as plt\n",
    "import seaborn as sns\n",
    "\n",
    "from nltk.corpus import stopwords\n",
    "from nltk.stem import PorterStemmer\n",
    "\n",
    "from sklearn.feature_extraction.text import CountVectorizer\n",
    "from sklearn.feature_extraction.text import TfidfVectorizer\n",
    "from sklearn.naive_bayes import MultinomialNB\n",
    "from sklearn.metrics import confusion_matrix\n",
    "from sklearn.metrics import accuracy_score, precision_score, recall_score, f1_score\n",
    "from sklearn.model_selection import train_test_split\n",
    "\n",
    "from bs4 import BeautifulSoup"
   ]
  },
  {
   "cell_type": "code",
   "execution_count": 2,
   "metadata": {
    "ExecuteTime": {
     "end_time": "2019-02-23T06:41:12.558024Z",
     "start_time": "2019-02-23T06:41:12.275825Z"
    },
    "scrolled": true
   },
   "outputs": [
    {
     "data": {
      "text/html": [
       "<div>\n",
       "<style scoped>\n",
       "    .dataframe tbody tr th:only-of-type {\n",
       "        vertical-align: middle;\n",
       "    }\n",
       "\n",
       "    .dataframe tbody tr th {\n",
       "        vertical-align: top;\n",
       "    }\n",
       "\n",
       "    .dataframe thead th {\n",
       "        text-align: right;\n",
       "    }\n",
       "</style>\n",
       "<table border=\"1\" class=\"dataframe\">\n",
       "  <thead>\n",
       "    <tr style=\"text-align: right;\">\n",
       "      <th></th>\n",
       "      <th>sku_id</th>\n",
       "      <th>category_lvl_1</th>\n",
       "      <th>category_lvl_2</th>\n",
       "      <th>category_lvl_3</th>\n",
       "      <th>title</th>\n",
       "      <th>desc</th>\n",
       "    </tr>\n",
       "  </thead>\n",
       "  <tbody>\n",
       "    <tr>\n",
       "      <th>0</th>\n",
       "      <td>AD674FAASTLXANMY</td>\n",
       "      <td>Fashion</td>\n",
       "      <td>Women</td>\n",
       "      <td>Muslim Wear</td>\n",
       "      <td>Adana Gallery Suri Square Hijab – Light Pink</td>\n",
       "      <td>&lt;ul&gt;&lt;li&gt;Material : Non sheer shimmer chiffon&lt;/...</td>\n",
       "    </tr>\n",
       "    <tr>\n",
       "      <th>1</th>\n",
       "      <td>AE068HBAA3RPRDANMY</td>\n",
       "      <td>Health &amp; Beauty</td>\n",
       "      <td>Bath &amp; Body</td>\n",
       "      <td>Hand &amp; Foot Care</td>\n",
       "      <td>Cuba Heartbreaker Eau De Parfum Spray 100ml/3.3oz</td>\n",
       "      <td>Formulated with oil-free hydrating botanicals/...</td>\n",
       "    </tr>\n",
       "    <tr>\n",
       "      <th>2</th>\n",
       "      <td>AN680ELAA9VN57ANMY</td>\n",
       "      <td>TV, Audio / Video, Gaming &amp; Wearables</td>\n",
       "      <td>Audio</td>\n",
       "      <td>Live Sound &amp; Stage</td>\n",
       "      <td>Andoer 150cm Cellphone Smartphone Mini Dual-He...</td>\n",
       "      <td>&lt;ul&gt; &lt;li&gt;150cm mini microphone compatible for ...</td>\n",
       "    </tr>\n",
       "    <tr>\n",
       "      <th>3</th>\n",
       "      <td>AN957HBAAAHDF4ANMY</td>\n",
       "      <td>Health &amp; Beauty</td>\n",
       "      <td>Hair Care</td>\n",
       "      <td>Shampoos &amp; Conditioners</td>\n",
       "      <td>ANMYNA Complaint Silky Set 柔顺洗发配套 (Shampoo 520...</td>\n",
       "      <td>&lt;ul&gt; &lt;li&gt;ANMYNA Complaint Silky Set (Shampoo 5...</td>\n",
       "    </tr>\n",
       "    <tr>\n",
       "      <th>4</th>\n",
       "      <td>AR511HBAXNWAANMY</td>\n",
       "      <td>Health &amp; Beauty</td>\n",
       "      <td>Men's Care</td>\n",
       "      <td>Body and Skin Care</td>\n",
       "      <td>Argital Argiltubo Green Clay For Face and Body...</td>\n",
       "      <td>&lt;ul&gt; &lt;li&gt;100% Authentic&lt;/li&gt; &lt;li&gt;Rrefresh and ...</td>\n",
       "    </tr>\n",
       "  </tbody>\n",
       "</table>\n",
       "</div>"
      ],
      "text/plain": [
       "               sku_id                         category_lvl_1 category_lvl_2  \\\n",
       "0    AD674FAASTLXANMY                                Fashion          Women   \n",
       "1  AE068HBAA3RPRDANMY                        Health & Beauty    Bath & Body   \n",
       "2  AN680ELAA9VN57ANMY  TV, Audio / Video, Gaming & Wearables          Audio   \n",
       "3  AN957HBAAAHDF4ANMY                        Health & Beauty      Hair Care   \n",
       "4    AR511HBAXNWAANMY                        Health & Beauty     Men's Care   \n",
       "\n",
       "            category_lvl_3                                              title  \\\n",
       "0              Muslim Wear       Adana Gallery Suri Square Hijab – Light Pink   \n",
       "1         Hand & Foot Care  Cuba Heartbreaker Eau De Parfum Spray 100ml/3.3oz   \n",
       "2       Live Sound & Stage  Andoer 150cm Cellphone Smartphone Mini Dual-He...   \n",
       "3  Shampoos & Conditioners  ANMYNA Complaint Silky Set 柔顺洗发配套 (Shampoo 520...   \n",
       "4       Body and Skin Care  Argital Argiltubo Green Clay For Face and Body...   \n",
       "\n",
       "                                                desc  \n",
       "0  <ul><li>Material : Non sheer shimmer chiffon</...  \n",
       "1  Formulated with oil-free hydrating botanicals/...  \n",
       "2  <ul> <li>150cm mini microphone compatible for ...  \n",
       "3  <ul> <li>ANMYNA Complaint Silky Set (Shampoo 5...  \n",
       "4  <ul> <li>100% Authentic</li> <li>Rrefresh and ...  "
      ]
     },
     "execution_count": 2,
     "metadata": {},
     "output_type": "execute_result"
    }
   ],
   "source": [
    "df = pd.read_csv('data_train.csv', \n",
    "                 names=\"country,sku_id,title,category_lvl_1,category_lvl_2,category_lvl_3,desc,price,xb\".split(','))\n",
    "df = df[['sku_id', 'category_lvl_1', 'category_lvl_2','category_lvl_3', \n",
    "         'title', 'desc']]\n",
    "df.head()"
   ]
  },
  {
   "cell_type": "code",
   "execution_count": 4,
   "metadata": {
    "ExecuteTime": {
     "end_time": "2019-02-23T08:06:11.806440Z",
     "start_time": "2019-02-23T08:06:11.519457Z"
    }
   },
   "outputs": [],
   "source": [
    "df['title_len'] = df['title'].apply(lambda x: len(x.split()))\n",
    "df.head()"
   ]
  },
  {
   "cell_type": "markdown",
   "metadata": {},
   "source": [
    "**References**\n",
    "\n",
    "- [Github / minhcp](https://github.com/minhcp/CIKMCup17) for the dataset"
   ]
  }
 ],
 "metadata": {
  "kernelspec": {
   "display_name": "Python 3",
   "language": "python",
   "name": "python3"
  },
  "language_info": {
   "codemirror_mode": {
    "name": "ipython",
    "version": 3
   },
   "file_extension": ".py",
   "mimetype": "text/x-python",
   "name": "python",
   "nbconvert_exporter": "python",
   "pygments_lexer": "ipython3",
   "version": "3.6.5"
  }
 },
 "nbformat": 4,
 "nbformat_minor": 2
}
