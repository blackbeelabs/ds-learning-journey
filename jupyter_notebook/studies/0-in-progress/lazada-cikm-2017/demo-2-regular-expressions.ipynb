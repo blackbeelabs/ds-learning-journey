{
 "cells": [
  {
   "cell_type": "markdown",
   "metadata": {},
   "source": [
    "# Demo 2 | Regular Expressions Demonstration\n",
    "<hr>\n",
    "\n",
    "Using the Lazada CIKM 2017 Dataset, a few regular expression use cases are presented. Regular expressions, in particular the `re` module in Python present three categores for operation: **pattern matching**, **substitution** and **splitting**.\n",
    "\n",
    "NOTE: Prerequisite knowledge of Regular expressions is assumed."
   ]
  },
  {
   "cell_type": "code",
   "execution_count": 1,
   "metadata": {
    "ExecuteTime": {
     "end_time": "2019-07-20T05:33:12.255278Z",
     "start_time": "2019-07-20T05:33:11.277545Z"
    }
   },
   "outputs": [],
   "source": [
    "import re\n",
    "\n",
    "import pandas as pd\n",
    "pd.options.display.max_colwidth = -1\n",
    "import matplotlib.pyplot as plt\n",
    "import seaborn as sns\n",
    "\n",
    "import lzd_utils"
   ]
  },
  {
   "cell_type": "code",
   "execution_count": 2,
   "metadata": {
    "ExecuteTime": {
     "end_time": "2019-07-20T05:33:12.612030Z",
     "start_time": "2019-07-20T05:33:12.257676Z"
    },
    "scrolled": false
   },
   "outputs": [
    {
     "data": {
      "text/html": [
       "<div>\n",
       "<style scoped>\n",
       "    .dataframe tbody tr th:only-of-type {\n",
       "        vertical-align: middle;\n",
       "    }\n",
       "\n",
       "    .dataframe tbody tr th {\n",
       "        vertical-align: top;\n",
       "    }\n",
       "\n",
       "    .dataframe thead th {\n",
       "        text-align: right;\n",
       "    }\n",
       "</style>\n",
       "<table border=\"1\" class=\"dataframe\">\n",
       "  <thead>\n",
       "    <tr style=\"text-align: right;\">\n",
       "      <th></th>\n",
       "      <th>id</th>\n",
       "      <th>title</th>\n",
       "      <th>category_lvl_1</th>\n",
       "      <th>category_lvl_2</th>\n",
       "      <th>category_lvl_3</th>\n",
       "      <th>desc</th>\n",
       "    </tr>\n",
       "  </thead>\n",
       "  <tbody>\n",
       "    <tr>\n",
       "      <th>0</th>\n",
       "      <td>157</td>\n",
       "      <td>BUILDPHONE Plastic Hard Back Phone Case for Samsung Galaxy S3mini with Phone Holder Ring (Multicolor) - intl</td>\n",
       "      <td>Mobiles &amp; Tablets</td>\n",
       "      <td>Accessories</td>\n",
       "      <td>Phone Cases</td>\n",
       "      <td>&lt;ul&gt; &lt;li&gt;Half around protect&lt;/li&gt; &lt;li&gt;Made from durable plastic.&lt;/li&gt; &lt;li&gt;Keep your phone safe and protected in style.&lt;/li&gt; &lt;li&gt;Shock absorbent, shatterproof&amp;nbsp;material.&amp;nbsp;&lt;/li&gt; &lt;li&gt;Applicaton and removal are&amp;nbsp;easy.&lt;/li&gt; &lt;li&gt;Painted pattern, add the art feeling to your smartphone&lt;/li&gt; &lt;/ul&gt;</td>\n",
       "    </tr>\n",
       "    <tr>\n",
       "      <th>1</th>\n",
       "      <td>164</td>\n",
       "      <td>MOONCASE Hard Protective Printing Back Plate Case Cover for Sony Xperia Z2 No.3002004 (EXPORT)</td>\n",
       "      <td>Mobiles &amp; Tablets</td>\n",
       "      <td>Accessories</td>\n",
       "      <td>Phone Cases</td>\n",
       "      <td>&lt;ul&gt;&lt;li&gt;Excellent quality and fashion design&lt;/li&gt;&lt;li&gt;Cute Pattern&lt;/li&gt;&lt;li&gt;Secure fit for your case&lt;/li&gt;&lt;/ul&gt;</td>\n",
       "    </tr>\n",
       "    <tr>\n",
       "      <th>2</th>\n",
       "      <td>165</td>\n",
       "      <td>Moonmini Cover for HTC Desire 616 (White) 3D Luxury Bling Rhinestones Diamonds Bow Bone PU Leather Flip Case Cover Wallet with Card Holders(Export)(Intl)</td>\n",
       "      <td>Mobiles &amp; Tablets</td>\n",
       "      <td>Accessories</td>\n",
       "      <td>Phone Cases</td>\n",
       "      <td>&lt;ul&gt; &lt;li&gt;Premium look and feel&lt;/li&gt; &lt;li&gt;Perfect and attractive decorate your device&lt;/li&gt; &lt;li&gt;Protect your device from scratches/shock and dust&lt;/li&gt; &lt;li&gt;Show off natural beauty of your device's design&lt;/li&gt; &lt;li&gt;Durable and fashionable&lt;/li&gt; &lt;li&gt;All round protection&lt;/li&gt; &lt;li&gt;Easy to install and remove&lt;/li&gt; &lt;/ul&gt;</td>\n",
       "    </tr>\n",
       "    <tr>\n",
       "      <th>3</th>\n",
       "      <td>166</td>\n",
       "      <td>Case for Apple iPhone 6 4.7 inch - Angry Face(Export)</td>\n",
       "      <td>Mobiles &amp; Tablets</td>\n",
       "      <td>Accessories</td>\n",
       "      <td>Phone Cases</td>\n",
       "      <td>&lt;ul&gt; &lt;li&gt;Perfect and attractive decorate your phone&lt;/li&gt; &lt;li&gt;Protect your phone from scratches/shock and dust&lt;/li&gt; &lt;li&gt;Show off natural beauty of your phone's design&lt;/li&gt; &lt;li&gt;Durable and fashionable&lt;/li&gt; &lt;li&gt;All round protection&lt;/li&gt; &lt;li&gt;Easy to use: just snap it on and snap it off&lt;/li&gt; &lt;/ul&gt;</td>\n",
       "    </tr>\n",
       "    <tr>\n",
       "      <th>4</th>\n",
       "      <td>171</td>\n",
       "      <td>TPU Case with Removable Metal Rim for Samsung Galaxy S6 G920 (Blue)</td>\n",
       "      <td>Mobiles &amp; Tablets</td>\n",
       "      <td>Accessories</td>\n",
       "      <td>Phone Cases</td>\n",
       "      <td>&lt;ul&gt; &lt;li&gt;Back tpu case + detachable metal rim&lt;/li&gt; &lt;li&gt;Consist of two pieces, easy to install&lt;/li&gt; &lt;li&gt;Lightweight and slim, wonderful touch feeling&lt;/li&gt; &lt;li&gt;Provide good protection&lt;/li&gt; &lt;li&gt;Without retail package&lt;/li&gt; &lt;/ul&gt;</td>\n",
       "    </tr>\n",
       "  </tbody>\n",
       "</table>\n",
       "</div>"
      ],
      "text/plain": [
       "    id  \\\n",
       "0  157   \n",
       "1  164   \n",
       "2  165   \n",
       "3  166   \n",
       "4  171   \n",
       "\n",
       "                                                                                                                                                       title  \\\n",
       "0  BUILDPHONE Plastic Hard Back Phone Case for Samsung Galaxy S3mini with Phone Holder Ring (Multicolor) - intl                                                \n",
       "1  MOONCASE Hard Protective Printing Back Plate Case Cover for Sony Xperia Z2 No.3002004 (EXPORT)                                                              \n",
       "2  Moonmini Cover for HTC Desire 616 (White) 3D Luxury Bling Rhinestones Diamonds Bow Bone PU Leather Flip Case Cover Wallet with Card Holders(Export)(Intl)   \n",
       "3  Case for Apple iPhone 6 4.7 inch - Angry Face(Export)                                                                                                       \n",
       "4  TPU Case with Removable Metal Rim for Samsung Galaxy S6 G920 (Blue)                                                                                         \n",
       "\n",
       "      category_lvl_1 category_lvl_2 category_lvl_3  \\\n",
       "0  Mobiles & Tablets  Accessories    Phone Cases     \n",
       "1  Mobiles & Tablets  Accessories    Phone Cases     \n",
       "2  Mobiles & Tablets  Accessories    Phone Cases     \n",
       "3  Mobiles & Tablets  Accessories    Phone Cases     \n",
       "4  Mobiles & Tablets  Accessories    Phone Cases     \n",
       "\n",
       "                                                                                                                                                                                                                                                                                                                     desc  \n",
       "0  <ul> <li>Half around protect</li> <li>Made from durable plastic.</li> <li>Keep your phone safe and protected in style.</li> <li>Shock absorbent, shatterproof&nbsp;material.&nbsp;</li> <li>Applicaton and removal are&nbsp;easy.</li> <li>Painted pattern, add the art feeling to your smartphone</li> </ul>           \n",
       "1  <ul><li>Excellent quality and fashion design</li><li>Cute Pattern</li><li>Secure fit for your case</li></ul>                                                                                                                                                                                                            \n",
       "2  <ul> <li>Premium look and feel</li> <li>Perfect and attractive decorate your device</li> <li>Protect your device from scratches/shock and dust</li> <li>Show off natural beauty of your device's design</li> <li>Durable and fashionable</li> <li>All round protection</li> <li>Easy to install and remove</li> </ul>   \n",
       "3  <ul> <li>Perfect and attractive decorate your phone</li> <li>Protect your phone from scratches/shock and dust</li> <li>Show off natural beauty of your phone's design</li> <li>Durable and fashionable</li> <li>All round protection</li> <li>Easy to use: just snap it on and snap it off</li> </ul>                   \n",
       "4  <ul> <li>Back tpu case + detachable metal rim</li> <li>Consist of two pieces, easy to install</li> <li>Lightweight and slim, wonderful touch feeling</li> <li>Provide good protection</li> <li>Without retail package</li> </ul>                                                                                        "
      ]
     },
     "metadata": {},
     "output_type": "display_data"
    }
   ],
   "source": [
    "# Read from CSV file\n",
    "df = lzd_utils.read_lazada_csv()\n",
    "\n",
    "# Slice, dice and re-index the data\n",
    "df = df[(df.country=='sg') & (df.category_lvl_1 == 'Mobiles & Tablets') & (df.category_lvl_3 == 'Phone Cases')]\n",
    "df['id'] = df.index\n",
    "df.reset_index(inplace=True, drop=True)\n",
    "df = df[['id', 'title', 'category_lvl_1', 'category_lvl_2', 'category_lvl_3', 'desc',]]\n",
    "\n",
    "# Slice, dice and re-index the data\n",
    "display(df.head())"
   ]
  },
  {
   "cell_type": "markdown",
   "metadata": {},
   "source": [
    "`re.split(pattern, string)` is used to split a string into a list of substrings. The `pattern` is considered to be the delimiter of the split function."
   ]
  },
  {
   "cell_type": "code",
   "execution_count": 3,
   "metadata": {
    "ExecuteTime": {
     "end_time": "2019-07-20T05:33:12.621031Z",
     "start_time": "2019-07-20T05:33:12.614457Z"
    }
   },
   "outputs": [
    {
     "name": "stdout",
     "output_type": "stream",
     "text": [
      "Phone Cases\n",
      "['Phone', 'Cases']\n"
     ]
    }
   ],
   "source": [
    "c2 = df.loc[0,'category_lvl_3']\n",
    "print(c2)\n",
    "print(re.split(' ', c2))"
   ]
  },
  {
   "cell_type": "code",
   "execution_count": 4,
   "metadata": {
    "ExecuteTime": {
     "end_time": "2019-07-20T05:33:12.631887Z",
     "start_time": "2019-07-20T05:33:12.624192Z"
    }
   },
   "outputs": [
    {
     "name": "stdout",
     "output_type": "stream",
     "text": [
      "Mobiles & Tablets\n",
      "['Mobiles ', ' Tablets']\n"
     ]
    }
   ],
   "source": [
    "# re.split() can take different delimiters and split them. Here, it uses a \"&\" as the delimiter.\n",
    "c1 = df.loc[0,'category_lvl_1']\n",
    "print(c1)\n",
    "print(re.split('&', c1))"
   ]
  },
  {
   "cell_type": "code",
   "execution_count": 5,
   "metadata": {
    "ExecuteTime": {
     "end_time": "2019-07-20T05:33:12.661860Z",
     "start_time": "2019-07-20T05:33:12.636238Z"
    },
    "scrolled": true
   },
   "outputs": [
    {
     "name": "stdout",
     "output_type": "stream",
     "text": [
      "<ul> <li>Half around protect</li> <li>Made from durable plastic.</li> <li>Keep your phone safe and protected in style.</li> <li>Shock absorbent, shatterproof&nbsp;material.&nbsp;</li> <li>Applicaton and removal are&nbsp;easy.</li> <li>Painted pattern, add the art feeling to your smartphone</li> </ul> \n",
      "<ul> \n",
      "Half around protect</li> \n",
      "Made from durable plastic.</li> \n",
      "Keep your phone safe and protected in style.</li> \n",
      "Shock absorbent, shatterproof&nbsp;material.&nbsp;</li> \n",
      "Applicaton and removal are&nbsp;easy.</li> \n",
      "Painted pattern, add the art feeling to your smartphone</li> </ul> \n"
     ]
    }
   ],
   "source": [
    "# alternatively, first compile the regex, then call its split() method to split the string\n",
    "# NOTE: compiling the regex is very useful if it were be to reused in different parts of the code\n",
    "c3 = df.loc[0, 'desc']\n",
    "print(c3)\n",
    "\n",
    "r = re.compile('<li>')\n",
    "for rs in r.split(c3):\n",
    "    print(rs)"
   ]
  },
  {
   "cell_type": "markdown",
   "metadata": {},
   "source": [
    "`re.match(pattern, string)` is used to find a substring in the beginning of the string that matches the pattern."
   ]
  },
  {
   "cell_type": "code",
   "execution_count": 6,
   "metadata": {
    "ExecuteTime": {
     "end_time": "2019-07-20T05:33:12.679918Z",
     "start_time": "2019-07-20T05:33:12.665609Z"
    },
    "scrolled": true
   },
   "outputs": [
    {
     "name": "stdout",
     "output_type": "stream",
     "text": [
      "<ul> <li>Half around protect</li> <li>Made from durable plastic.</li> <li>Keep your phone safe and protected in style.</li> <li>Shock absorbent, shatterproof&nbsp;material.&nbsp;</li> <li>Applicaton and removal are&nbsp;easy.</li> <li>Painted pattern, add the art feeling to your smartphone</li> </ul> \n",
      "<_sre.SRE_Match object; span=(0, 4), match='<ul>'>\n",
      "None\n"
     ]
    }
   ],
   "source": [
    "print(c3)\n",
    "print(re.match('<ul>', c3)) # returns an object because there is a match in the beginning of str\n",
    "print(re.match('Half', c3)) # returns no object because there is no match in the beginning of str"
   ]
  },
  {
   "cell_type": "markdown",
   "metadata": {},
   "source": [
    "From the result, use `m.group(0)` to retrieve the first captured group."
   ]
  },
  {
   "cell_type": "code",
   "execution_count": 7,
   "metadata": {
    "ExecuteTime": {
     "end_time": "2019-07-20T05:33:12.700960Z",
     "start_time": "2019-07-20T05:33:12.685046Z"
    }
   },
   "outputs": [
    {
     "name": "stdout",
     "output_type": "stream",
     "text": [
      "<ul>\n"
     ]
    }
   ],
   "source": [
    "m = re.match('<ul>', c3)\n",
    "print(m.group(0))"
   ]
  },
  {
   "cell_type": "markdown",
   "metadata": {},
   "source": [
    "`re.search(pattern, string)` is used to find a substring that matches the pattern anywhere in the string"
   ]
  },
  {
   "cell_type": "code",
   "execution_count": 8,
   "metadata": {
    "ExecuteTime": {
     "end_time": "2019-07-20T05:33:12.724062Z",
     "start_time": "2019-07-20T05:33:12.706047Z"
    }
   },
   "outputs": [
    {
     "name": "stdout",
     "output_type": "stream",
     "text": [
      "<ul> <li>Half around protect</li> <li>Made from durable plastic.</li> <li>Keep your phone safe and protected in style.</li> <li>Shock absorbent, shatterproof&nbsp;material.&nbsp;</li> <li>Applicaton and removal are&nbsp;easy.</li> <li>Painted pattern, add the art feeling to your smartphone</li> </ul> \n",
      "<_sre.SRE_Match object; span=(9, 13), match='Half'>\n"
     ]
    }
   ],
   "source": [
    "# alternatively, re.search() checks if a pattern exists anywhere in the string\n",
    "print(c3)\n",
    "print(re.search('Half', c3))"
   ]
  },
  {
   "cell_type": "markdown",
   "metadata": {},
   "source": [
    "`re.sub(pattern, substitution, string)` finds a pattern in the string an substitutes it with `substitution`."
   ]
  },
  {
   "cell_type": "code",
   "execution_count": 9,
   "metadata": {
    "ExecuteTime": {
     "end_time": "2019-07-20T05:33:12.741453Z",
     "start_time": "2019-07-20T05:33:12.732747Z"
    }
   },
   "outputs": [
    {
     "name": "stdout",
     "output_type": "stream",
     "text": [
      "<ul> <li>Half around protect</li> <li>Made from durable plastic.</li> <li>Keep your phone safe and protected in style.</li> <li>Shock absorbent, shatterproof&nbsp;material.&nbsp;</li> <li>Applicaton and removal are&nbsp;easy.</li> <li>Painted pattern, add the art feeling to your smartphone</li> </ul> \n",
      "\n",
      " Half around protect Made from durable plastic. Keep your phone safe and protected in style. Shock absorbent, shatterproof&nbsp;material.&nbsp; Applicaton and removal are&nbsp;easy. Painted pattern, add the art feeling to your smartphone  \n"
     ]
    }
   ],
   "source": [
    "print(c3)\n",
    "print()\n",
    "print(re.sub('</?ul>|</?li>', '', c3))"
   ]
  },
  {
   "cell_type": "markdown",
   "metadata": {},
   "source": [
    "Conversely, using `re.findall(pattern, string)` can find all instances in a string that matches the `pattern`."
   ]
  },
  {
   "cell_type": "code",
   "execution_count": 10,
   "metadata": {
    "ExecuteTime": {
     "end_time": "2019-07-20T05:33:12.751812Z",
     "start_time": "2019-07-20T05:33:12.745385Z"
    }
   },
   "outputs": [
    {
     "name": "stdout",
     "output_type": "stream",
     "text": [
      "['&']\n",
      "['<li>', '<li>', '<li>', '<li>', '<li>', '<li>']\n"
     ]
    }
   ],
   "source": [
    "print(re.findall('&', c1))\n",
    "print(r.findall(c3))"
   ]
  },
  {
   "cell_type": "markdown",
   "metadata": {},
   "source": [
    "**References**\n",
    "\n",
    "- [Github / minhcp](https://github.com/minhcp/CIKMCup17) for the dataset\n",
    "- Python for Data Analysis, 2nd Edition, McKinney (2017)"
   ]
  }
 ],
 "metadata": {
  "kernelspec": {
   "display_name": "Python 3",
   "language": "python",
   "name": "python3"
  },
  "language_info": {
   "codemirror_mode": {
    "name": "ipython",
    "version": 3
   },
   "file_extension": ".py",
   "mimetype": "text/x-python",
   "name": "python",
   "nbconvert_exporter": "python",
   "pygments_lexer": "ipython3",
   "version": "3.6.5"
  }
 },
 "nbformat": 4,
 "nbformat_minor": 2
}
