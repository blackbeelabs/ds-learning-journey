{
 "cells": [
  {
   "cell_type": "markdown",
   "metadata": {},
   "source": [
    "# Demo 2 | Regular Expressions Demonstration\n",
    "<hr>\n",
    "\n",
    "Using the Lazada CIKM 2017 Dataset, a few regular expression use cases are presented. Regular expressions, in particular the `re` module in Python present three categores for operation: **pattern matching**, **substitution** and **splitting**."
   ]
  },
  {
   "cell_type": "code",
   "execution_count": 1,
   "metadata": {
    "ExecuteTime": {
     "end_time": "2019-07-15T16:57:26.566860Z",
     "start_time": "2019-07-15T16:57:25.633906Z"
    }
   },
   "outputs": [],
   "source": [
    "import re\n",
    "\n",
    "import pandas as pd\n",
    "pd.options.display.max_colwidth = -1\n",
    "import matplotlib.pyplot as plt\n",
    "import seaborn as sns\n",
    "\n",
    "import utils"
   ]
  },
  {
   "cell_type": "code",
   "execution_count": 2,
   "metadata": {
    "ExecuteTime": {
     "end_time": "2019-07-15T16:57:26.941535Z",
     "start_time": "2019-07-15T16:57:26.569397Z"
    },
    "scrolled": false
   },
   "outputs": [
    {
     "data": {
      "text/html": [
       "<div>\n",
       "<style scoped>\n",
       "    .dataframe tbody tr th:only-of-type {\n",
       "        vertical-align: middle;\n",
       "    }\n",
       "\n",
       "    .dataframe tbody tr th {\n",
       "        vertical-align: top;\n",
       "    }\n",
       "\n",
       "    .dataframe thead th {\n",
       "        text-align: right;\n",
       "    }\n",
       "</style>\n",
       "<table border=\"1\" class=\"dataframe\">\n",
       "  <thead>\n",
       "    <tr style=\"text-align: right;\">\n",
       "      <th></th>\n",
       "      <th>id</th>\n",
       "      <th>title</th>\n",
       "      <th>category_lvl_1</th>\n",
       "      <th>category_lvl_2</th>\n",
       "      <th>category_lvl_3</th>\n",
       "      <th>desc</th>\n",
       "    </tr>\n",
       "  </thead>\n",
       "  <tbody>\n",
       "    <tr>\n",
       "      <th>0</th>\n",
       "      <td>157</td>\n",
       "      <td>BUILDPHONE Plastic Hard Back Phone Case for Samsung Galaxy S3mini with Phone Holder Ring (Multicolor) - intl</td>\n",
       "      <td>Mobiles &amp; Tablets</td>\n",
       "      <td>Accessories</td>\n",
       "      <td>Phone Cases</td>\n",
       "      <td>&lt;ul&gt; &lt;li&gt;Half around protect&lt;/li&gt; &lt;li&gt;Made from durable plastic.&lt;/li&gt; &lt;li&gt;Keep your phone safe and protected in style.&lt;/li&gt; &lt;li&gt;Shock absorbent, shatterproof&amp;nbsp;material.&amp;nbsp;&lt;/li&gt; &lt;li&gt;Applicaton and removal are&amp;nbsp;easy.&lt;/li&gt; &lt;li&gt;Painted pattern, add the art feeling to your smartphone&lt;/li&gt; &lt;/ul&gt;</td>\n",
       "    </tr>\n",
       "    <tr>\n",
       "      <th>1</th>\n",
       "      <td>164</td>\n",
       "      <td>MOONCASE Hard Protective Printing Back Plate Case Cover for Sony Xperia Z2 No.3002004 (EXPORT)</td>\n",
       "      <td>Mobiles &amp; Tablets</td>\n",
       "      <td>Accessories</td>\n",
       "      <td>Phone Cases</td>\n",
       "      <td>&lt;ul&gt;&lt;li&gt;Excellent quality and fashion design&lt;/li&gt;&lt;li&gt;Cute Pattern&lt;/li&gt;&lt;li&gt;Secure fit for your case&lt;/li&gt;&lt;/ul&gt;</td>\n",
       "    </tr>\n",
       "    <tr>\n",
       "      <th>2</th>\n",
       "      <td>165</td>\n",
       "      <td>Moonmini Cover for HTC Desire 616 (White) 3D Luxury Bling Rhinestones Diamonds Bow Bone PU Leather Flip Case Cover Wallet with Card Holders(Export)(Intl)</td>\n",
       "      <td>Mobiles &amp; Tablets</td>\n",
       "      <td>Accessories</td>\n",
       "      <td>Phone Cases</td>\n",
       "      <td>&lt;ul&gt; &lt;li&gt;Premium look and feel&lt;/li&gt; &lt;li&gt;Perfect and attractive decorate your device&lt;/li&gt; &lt;li&gt;Protect your device from scratches/shock and dust&lt;/li&gt; &lt;li&gt;Show off natural beauty of your device's design&lt;/li&gt; &lt;li&gt;Durable and fashionable&lt;/li&gt; &lt;li&gt;All round protection&lt;/li&gt; &lt;li&gt;Easy to install and remove&lt;/li&gt; &lt;/ul&gt;</td>\n",
       "    </tr>\n",
       "    <tr>\n",
       "      <th>3</th>\n",
       "      <td>166</td>\n",
       "      <td>Case for Apple iPhone 6 4.7 inch - Angry Face(Export)</td>\n",
       "      <td>Mobiles &amp; Tablets</td>\n",
       "      <td>Accessories</td>\n",
       "      <td>Phone Cases</td>\n",
       "      <td>&lt;ul&gt; &lt;li&gt;Perfect and attractive decorate your phone&lt;/li&gt; &lt;li&gt;Protect your phone from scratches/shock and dust&lt;/li&gt; &lt;li&gt;Show off natural beauty of your phone's design&lt;/li&gt; &lt;li&gt;Durable and fashionable&lt;/li&gt; &lt;li&gt;All round protection&lt;/li&gt; &lt;li&gt;Easy to use: just snap it on and snap it off&lt;/li&gt; &lt;/ul&gt;</td>\n",
       "    </tr>\n",
       "    <tr>\n",
       "      <th>4</th>\n",
       "      <td>171</td>\n",
       "      <td>TPU Case with Removable Metal Rim for Samsung Galaxy S6 G920 (Blue)</td>\n",
       "      <td>Mobiles &amp; Tablets</td>\n",
       "      <td>Accessories</td>\n",
       "      <td>Phone Cases</td>\n",
       "      <td>&lt;ul&gt; &lt;li&gt;Back tpu case + detachable metal rim&lt;/li&gt; &lt;li&gt;Consist of two pieces, easy to install&lt;/li&gt; &lt;li&gt;Lightweight and slim, wonderful touch feeling&lt;/li&gt; &lt;li&gt;Provide good protection&lt;/li&gt; &lt;li&gt;Without retail package&lt;/li&gt; &lt;/ul&gt;</td>\n",
       "    </tr>\n",
       "  </tbody>\n",
       "</table>\n",
       "</div>"
      ],
      "text/plain": [
       "    id  \\\n",
       "0  157   \n",
       "1  164   \n",
       "2  165   \n",
       "3  166   \n",
       "4  171   \n",
       "\n",
       "                                                                                                                                                       title  \\\n",
       "0  BUILDPHONE Plastic Hard Back Phone Case for Samsung Galaxy S3mini with Phone Holder Ring (Multicolor) - intl                                                \n",
       "1  MOONCASE Hard Protective Printing Back Plate Case Cover for Sony Xperia Z2 No.3002004 (EXPORT)                                                              \n",
       "2  Moonmini Cover for HTC Desire 616 (White) 3D Luxury Bling Rhinestones Diamonds Bow Bone PU Leather Flip Case Cover Wallet with Card Holders(Export)(Intl)   \n",
       "3  Case for Apple iPhone 6 4.7 inch - Angry Face(Export)                                                                                                       \n",
       "4  TPU Case with Removable Metal Rim for Samsung Galaxy S6 G920 (Blue)                                                                                         \n",
       "\n",
       "      category_lvl_1 category_lvl_2 category_lvl_3  \\\n",
       "0  Mobiles & Tablets  Accessories    Phone Cases     \n",
       "1  Mobiles & Tablets  Accessories    Phone Cases     \n",
       "2  Mobiles & Tablets  Accessories    Phone Cases     \n",
       "3  Mobiles & Tablets  Accessories    Phone Cases     \n",
       "4  Mobiles & Tablets  Accessories    Phone Cases     \n",
       "\n",
       "                                                                                                                                                                                                                                                                                                                     desc  \n",
       "0  <ul> <li>Half around protect</li> <li>Made from durable plastic.</li> <li>Keep your phone safe and protected in style.</li> <li>Shock absorbent, shatterproof&nbsp;material.&nbsp;</li> <li>Applicaton and removal are&nbsp;easy.</li> <li>Painted pattern, add the art feeling to your smartphone</li> </ul>           \n",
       "1  <ul><li>Excellent quality and fashion design</li><li>Cute Pattern</li><li>Secure fit for your case</li></ul>                                                                                                                                                                                                            \n",
       "2  <ul> <li>Premium look and feel</li> <li>Perfect and attractive decorate your device</li> <li>Protect your device from scratches/shock and dust</li> <li>Show off natural beauty of your device's design</li> <li>Durable and fashionable</li> <li>All round protection</li> <li>Easy to install and remove</li> </ul>   \n",
       "3  <ul> <li>Perfect and attractive decorate your phone</li> <li>Protect your phone from scratches/shock and dust</li> <li>Show off natural beauty of your phone's design</li> <li>Durable and fashionable</li> <li>All round protection</li> <li>Easy to use: just snap it on and snap it off</li> </ul>                   \n",
       "4  <ul> <li>Back tpu case + detachable metal rim</li> <li>Consist of two pieces, easy to install</li> <li>Lightweight and slim, wonderful touch feeling</li> <li>Provide good protection</li> <li>Without retail package</li> </ul>                                                                                        "
      ]
     },
     "metadata": {},
     "output_type": "display_data"
    }
   ],
   "source": [
    "df = utils.read_lazada_csv()\n",
    "df = df[(df.country=='sg') & (df.category_lvl_1 == 'Mobiles & Tablets') & (df.category_lvl_3 == 'Phone Cases')]\n",
    "df = df[['title', 'category_lvl_1', 'category_lvl_2', 'category_lvl_3', 'desc',]]\n",
    "df['id'] = df.index\n",
    "df.reset_index(inplace=True, drop=True)\n",
    "df = df[['id', 'title', 'category_lvl_1', 'category_lvl_2', 'category_lvl_3', 'desc',]]\n",
    "display(df.head())"
   ]
  },
  {
   "cell_type": "markdown",
   "metadata": {},
   "source": [
    "`re.split(pattern, string)` is used to split a string into a list of substrings. The `pattern` is considered to be the delimiter of the split function."
   ]
  },
  {
   "cell_type": "code",
   "execution_count": 16,
   "metadata": {
    "ExecuteTime": {
     "end_time": "2019-07-15T17:01:55.979716Z",
     "start_time": "2019-07-15T17:01:55.974584Z"
    }
   },
   "outputs": [
    {
     "name": "stdout",
     "output_type": "stream",
     "text": [
      "Phone Cases\n",
      "['Phone', 'Cases']\n"
     ]
    }
   ],
   "source": [
    "c2 = df.loc[0,'category_lvl_3']\n",
    "print(c2)\n",
    "# Here, re.split() finds a space and then pulls out a term. The space is the delimiter.\n",
    "print(re.split(' ', c2))"
   ]
  },
  {
   "cell_type": "code",
   "execution_count": 17,
   "metadata": {
    "ExecuteTime": {
     "end_time": "2019-07-15T17:01:56.188390Z",
     "start_time": "2019-07-15T17:01:56.181563Z"
    }
   },
   "outputs": [
    {
     "name": "stdout",
     "output_type": "stream",
     "text": [
      "Mobiles & Tablets\n",
      "['Mobiles ', ' Tablets']\n"
     ]
    }
   ],
   "source": [
    "c1 = df.loc[0,'category_lvl_1']\n",
    "print(c1)\n",
    "# re.split() can take different delimiters and split them. Here, it uses a \"&\" as the delimiter.\n",
    "print(re.split('&', c1))"
   ]
  },
  {
   "cell_type": "code",
   "execution_count": 28,
   "metadata": {
    "ExecuteTime": {
     "end_time": "2019-07-15T17:06:03.834206Z",
     "start_time": "2019-07-15T17:06:03.828813Z"
    }
   },
   "outputs": [
    {
     "name": "stdout",
     "output_type": "stream",
     "text": [
      "<ul> <li>Half around protect</li> <li>Made from durable plastic.</li> <li>Keep your phone safe and protected in style.</li> <li>Shock absorbent, shatterproof&nbsp;material.&nbsp;</li> <li>Applicaton and removal are&nbsp;easy.</li> <li>Painted pattern, add the art feeling to your smartphone</li> </ul> \n",
      "\n",
      "<ul> \n",
      "Half around protect</li> \n",
      "Made from durable plastic.</li> \n",
      "Keep your phone safe and protected in style.</li> \n",
      "Shock absorbent, shatterproof&nbsp;material.&nbsp;</li> \n",
      "Applicaton and removal are&nbsp;easy.</li> \n",
      "Painted pattern, add the art feeling to your smartphone</li> </ul> \n"
     ]
    }
   ],
   "source": [
    "c3 = df.loc[0, 'desc']\n",
    "print(c3)\n",
    "print()\n",
    "\n",
    "# alternatively, first compile the regex, then call its split() method to split the string\n",
    "r = re.compile('<li>')\n",
    "for rs in r.split(c3):\n",
    "    print(rs)\n",
    "# NOTE: compiling the regex is very useful if it were be to reused in different parts of the code"
   ]
  },
  {
   "cell_type": "code",
   "execution_count": 35,
   "metadata": {
    "ExecuteTime": {
     "end_time": "2019-07-15T17:08:33.101037Z",
     "start_time": "2019-07-15T17:08:33.095857Z"
    }
   },
   "outputs": [
    {
     "name": "stdout",
     "output_type": "stream",
     "text": [
      "<ul> <li>Half around protect</li> <li>Made from durable plastic.</li> <li>Keep your phone safe and protected in style.</li> <li>Shock absorbent, shatterproof&nbsp;material.&nbsp;</li> <li>Applicaton and removal are&nbsp;easy.</li> <li>Painted pattern, add the art feeling to your smartphone</li> </ul> \n",
      "<_sre.SRE_Match object; span=(0, 4), match='<ul>'>\n",
      "None\n",
      "<_sre.SRE_Match object; span=(9, 13), match='Half'>\n"
     ]
    }
   ],
   "source": [
    "print(c3)\n",
    "# re.match() is used to check if a pattern exists in the beginning of a string\n",
    "print(re.match('<ul>', c3)) # returns True because there is a match in the beginning of str\n",
    "print(re.match('Half', c3)) # returns False because there is no match in the beginning of str\n",
    "\n",
    "# Alternatively, re.search() checks if a pattern exists anywhere in the string\n",
    "print(re.search('Half', c3))"
   ]
  },
  {
   "cell_type": "code",
   "execution_count": 37,
   "metadata": {
    "ExecuteTime": {
     "end_time": "2019-07-15T17:09:32.041844Z",
     "start_time": "2019-07-15T17:09:32.037490Z"
    }
   },
   "outputs": [
    {
     "name": "stdout",
     "output_type": "stream",
     "text": [
      "<ul> <li>Half around protect</li> <li>Made from durable plastic.</li> <li>Keep your phone safe and protected in style.</li> <li>Shock absorbent, shatterproof&nbsp;material.&nbsp;</li> <li>Applicaton and removal are&nbsp;easy.</li> <li>Painted pattern, add the art feeling to your smartphone</li> </ul> \n",
      " Half around protect Made from durable plastic. Keep your phone safe and protected in style. Shock absorbent, shatterproof&nbsp;material.&nbsp; Applicaton and removal are&nbsp;easy. Painted pattern, add the art feeling to your smartphone  \n"
     ]
    }
   ],
   "source": [
    "print(c3)\n",
    "print(re.sub('</?ul>|</?li>', '', c3))"
   ]
  },
  {
   "cell_type": "code",
   "execution_count": 27,
   "metadata": {
    "ExecuteTime": {
     "end_time": "2019-07-15T17:05:25.763908Z",
     "start_time": "2019-07-15T17:05:25.759290Z"
    }
   },
   "outputs": [
    {
     "name": "stdout",
     "output_type": "stream",
     "text": [
      "['&']\n",
      "['<li>', '<li>', '<li>', '<li>', '<li>', '<li>']\n"
     ]
    }
   ],
   "source": [
    "# Conversely, using re.findall() can find all instances in a string that matches the regex.\n",
    "print(re.findall('&', c1))\n",
    "print(r.findall(c3))"
   ]
  },
  {
   "cell_type": "code",
   "execution_count": 3,
   "metadata": {
    "ExecuteTime": {
     "end_time": "2019-07-15T15:58:18.235179Z",
     "start_time": "2019-07-15T15:58:18.226196Z"
    },
    "scrolled": false
   },
   "outputs": [
    {
     "name": "stdout",
     "output_type": "stream",
     "text": [
      "BUILDPHONE Plastic Hard Back Phone Case for Samsung Galaxy S3mini with Phone Holder Ring (Multicolor) - intl\n",
      "\n",
      "MOONCASE Hard Protective Printing Back Plate Case Cover for Sony Xperia Z2 No.3002004 (EXPORT)\n",
      "\n",
      "Moonmini Cover for HTC Desire 616 (White) 3D Luxury Bling Rhinestones Diamonds Bow Bone PU Leather Flip Case Cover Wallet with Card Holders(Export)(Intl)\n",
      "\n",
      "Case for Apple iPhone 6 4.7 inch - Angry Face(Export)\n",
      "\n",
      "TPU Case with Removable Metal Rim for Samsung Galaxy S6 G920 (Blue)\n",
      "\n"
     ]
    }
   ],
   "source": [
    "t5 = df.copy().loc[:4, 'title'].tolist()\n",
    "for title in t5:\n",
    "    print(title)\n",
    "    print()"
   ]
  },
  {
   "cell_type": "code",
   "execution_count": 4,
   "metadata": {
    "ExecuteTime": {
     "end_time": "2019-07-15T15:58:18.248369Z",
     "start_time": "2019-07-15T15:58:18.239377Z"
    }
   },
   "outputs": [
    {
     "name": "stdout",
     "output_type": "stream",
     "text": [
      "<ul> <li>Half around protect</li> <li>Made from durable plastic.</li> <li>Keep your phone safe and protected in style.</li> <li>Shock absorbent, shatterproof&nbsp;material.&nbsp;</li> <li>Applicaton and removal are&nbsp;easy.</li> <li>Painted pattern, add the art feeling to your smartphone</li> </ul> \n",
      "\n",
      "<ul><li>Excellent quality and fashion design</li><li>Cute Pattern</li><li>Secure fit for your case</li></ul>\n",
      "\n",
      "<ul> <li>Premium look and feel</li> <li>Perfect and attractive decorate your device</li> <li>Protect your device from scratches/shock and dust</li> <li>Show off natural beauty of your device's design</li> <li>Durable and fashionable</li> <li>All round protection</li> <li>Easy to install and remove</li> </ul> \n",
      "\n",
      "<ul> <li>Perfect and attractive decorate your phone</li> <li>Protect your phone from scratches/shock and dust</li> <li>Show off natural beauty of your phone's design</li> <li>Durable and fashionable</li> <li>All round protection</li> <li>Easy to use: just snap it on and snap it off</li> </ul> \n",
      "\n",
      "<ul> <li>Back tpu case + detachable metal rim</li> <li>Consist of two pieces, easy to install</li> <li>Lightweight and slim, wonderful touch feeling</li> <li>Provide good protection</li> <li>Without retail package</li> </ul> \n",
      "\n"
     ]
    }
   ],
   "source": [
    "desc5 = df.copy().loc[:4, 'desc'].tolist()\n",
    "for desc in desc5:\n",
    "    print(desc)\n",
    "    print()"
   ]
  },
  {
   "cell_type": "code",
   "execution_count": 5,
   "metadata": {
    "ExecuteTime": {
     "end_time": "2019-07-15T15:58:18.263501Z",
     "start_time": "2019-07-15T15:58:18.251950Z"
    }
   },
   "outputs": [
    {
     "name": "stdout",
     "output_type": "stream",
     "text": [
      "<ul> <li>Half around protect</li> <li>Made from durable plastic.</li> <li>Keep your phone safe and protected in style.</li> <li>Shock absorbent, shatterproof&nbsp;material.&nbsp;</li> <li>Applicaton and removal are&nbsp;easy.</li> <li>Painted pattern, add the art feeling to your smartphone</li> </ul> \n",
      "# <li>Half around protect</li> <li>Made from durable plastic.</li> <li>Keep your phone safe and protected in style.</li> <li>Shock absorbent, shatterproof&nbsp;material.&nbsp;</li> <li>Applicaton and removal are&nbsp;easy.</li> <li>Painted pattern, add the art feeling to your smartphone</li>  #\n",
      "#<li>Half around protect</li> <li>Made from durable plastic.</li> <li>Keep your phone safe and protected in style.</li> <li>Shock absorbent, shatterproof&nbsp;material.&nbsp;</li> <li>Applicaton and removal are&nbsp;easy.</li> <li>Painted pattern, add the art feeling to your smartphone</li>#\n",
      "\n",
      "Half around protect</li> \n",
      "Made from durable plastic.</li> \n",
      "Keep your phone safe and protected in style.</li> \n",
      "Shock absorbent, shatterproof&nbsp;material.&nbsp;</li> \n",
      "Applicaton and removal are&nbsp;easy.</li> \n",
      "Painted pattern, add the art feeling to your smartphone</li>\n",
      "\n",
      "\n",
      "Half around protect \n",
      "Made from durable plastic. \n",
      "Keep your phone safe and protected in style. \n",
      "Shock absorbent, shatterproof&nbsp;material.&nbsp; \n",
      "Applicaton and removal are&nbsp;easy. \n",
      "Painted pattern, add the art feeling to your smartphone\n"
     ]
    }
   ],
   "source": [
    "d1 = desc5[0]\n",
    "print(d1)\n",
    "d1_remove_ul = re.sub(\"</?ul>\", \"\", d1)\n",
    "print(\"#{}#\".format(d1_remove_ul))\n",
    "d1_remove_ul = d1_remove_ul.strip()\n",
    "print(\"#{}#\".format(d1_remove_ul))\n",
    "d1_lines = re.split(\"<li>\", d1_remove_ul)\n",
    "\n",
    "d1_cleaned = []\n",
    "for l in d1_lines:\n",
    "    print(l)\n",
    "    l_cleaned = re.sub(\"</li>\", \"\", l)\n",
    "    d1_cleaned.append(l_cleaned)\n",
    "\n",
    "print()\n",
    "for l2 in d1_cleaned:\n",
    "    print(l2)"
   ]
  },
  {
   "cell_type": "code",
   "execution_count": 6,
   "metadata": {
    "ExecuteTime": {
     "end_time": "2019-07-15T15:58:18.278326Z",
     "start_time": "2019-07-15T15:58:18.266895Z"
    }
   },
   "outputs": [],
   "source": [
    "def clean_desc(x):\n",
    "    x_cleaned = re.sub(\"</?ul>\", \"\", x)\n",
    "    x_cleaned = x_cleaned.strip()\n",
    "    x_entries = re.split(\"<li>\", x_cleaned)\n",
    "\n",
    "    x_lines = []\n",
    "    for ln in x_entries:\n",
    "        x_cleaned_to_return = re.sub(\"</li>\", \"\", ln)\n",
    "        x_lines.append(x_cleaned_to_return)\n",
    "    return x_lines"
   ]
  },
  {
   "cell_type": "code",
   "execution_count": 7,
   "metadata": {
    "ExecuteTime": {
     "end_time": "2019-07-15T15:58:18.287903Z",
     "start_time": "2019-07-15T15:58:18.281182Z"
    }
   },
   "outputs": [
    {
     "name": "stdout",
     "output_type": "stream",
     "text": [
      "<ul> <li>Half around protect</li> <li>Made from durable plastic.</li> <li>Keep your phone safe and protected in style.</li> <li>Shock absorbent, shatterproof&nbsp;material.&nbsp;</li> <li>Applicaton and removal are&nbsp;easy.</li> <li>Painted pattern, add the art feeling to your smartphone</li> </ul> \n",
      "\n",
      "Half around protect \n",
      "Made from durable plastic. \n",
      "Keep your phone safe and protected in style. \n",
      "Shock absorbent, shatterproof&nbsp;material.&nbsp; \n",
      "Applicaton and removal are&nbsp;easy. \n",
      "Painted pattern, add the art feeling to your smartphone\n",
      "\n",
      "<ul><li>Excellent quality and fashion design</li><li>Cute Pattern</li><li>Secure fit for your case</li></ul>\n",
      "\n",
      "Excellent quality and fashion design\n",
      "Cute Pattern\n",
      "Secure fit for your case\n",
      "\n",
      "<ul> <li>Premium look and feel</li> <li>Perfect and attractive decorate your device</li> <li>Protect your device from scratches/shock and dust</li> <li>Show off natural beauty of your device's design</li> <li>Durable and fashionable</li> <li>All round protection</li> <li>Easy to install and remove</li> </ul> \n",
      "\n",
      "Premium look and feel \n",
      "Perfect and attractive decorate your device \n",
      "Protect your device from scratches/shock and dust \n",
      "Show off natural beauty of your device's design \n",
      "Durable and fashionable \n",
      "All round protection \n",
      "Easy to install and remove\n",
      "\n",
      "<ul> <li>Perfect and attractive decorate your phone</li> <li>Protect your phone from scratches/shock and dust</li> <li>Show off natural beauty of your phone's design</li> <li>Durable and fashionable</li> <li>All round protection</li> <li>Easy to use: just snap it on and snap it off</li> </ul> \n",
      "\n",
      "Perfect and attractive decorate your phone \n",
      "Protect your phone from scratches/shock and dust \n",
      "Show off natural beauty of your phone's design \n",
      "Durable and fashionable \n",
      "All round protection \n",
      "Easy to use: just snap it on and snap it off\n",
      "\n",
      "<ul> <li>Back tpu case + detachable metal rim</li> <li>Consist of two pieces, easy to install</li> <li>Lightweight and slim, wonderful touch feeling</li> <li>Provide good protection</li> <li>Without retail package</li> </ul> \n",
      "\n",
      "Back tpu case + detachable metal rim \n",
      "Consist of two pieces, easy to install \n",
      "Lightweight and slim, wonderful touch feeling \n",
      "Provide good protection \n",
      "Without retail package\n",
      "\n"
     ]
    }
   ],
   "source": [
    "for d in desc5:\n",
    "    print(d)\n",
    "    for d_c in clean_desc(d):\n",
    "        print(d_c)\n",
    "    print()"
   ]
  },
  {
   "cell_type": "markdown",
   "metadata": {},
   "source": [
    "**References**\n",
    "\n",
    "- [Github / minhcp](https://github.com/minhcp/CIKMCup17) for the dataset\n",
    "- Python for Data Analysis, 2nd Edition, McKinney (2017)"
   ]
  }
 ],
 "metadata": {
  "kernelspec": {
   "display_name": "Python 3",
   "language": "python",
   "name": "python3"
  },
  "language_info": {
   "codemirror_mode": {
    "name": "ipython",
    "version": 3
   },
   "file_extension": ".py",
   "mimetype": "text/x-python",
   "name": "python",
   "nbconvert_exporter": "python",
   "pygments_lexer": "ipython3",
   "version": "3.6.5"
  }
 },
 "nbformat": 4,
 "nbformat_minor": 2
}
