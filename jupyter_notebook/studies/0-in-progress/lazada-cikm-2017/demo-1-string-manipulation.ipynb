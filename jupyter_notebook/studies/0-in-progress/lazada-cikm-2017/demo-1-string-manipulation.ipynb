{
 "cells": [
  {
   "cell_type": "markdown",
   "metadata": {},
   "source": [
    "# Demo 1 | String Manipulation Demonstration\n",
    "<hr>\n",
    "\n",
    "Using the Lazada CIKM 2017 Dataset, a few string manipulation methods in Python are presented."
   ]
  },
  {
   "cell_type": "code",
   "execution_count": 1,
   "metadata": {
    "ExecuteTime": {
     "end_time": "2019-07-20T05:17:13.930082Z",
     "start_time": "2019-07-20T05:17:12.446679Z"
    }
   },
   "outputs": [],
   "source": [
    "import re\n",
    "\n",
    "import pandas as pd\n",
    "pd.options.display.max_colwidth = -1\n",
    "import matplotlib.pyplot as plt\n",
    "import seaborn as sns\n",
    "\n",
    "import lzd_utils"
   ]
  },
  {
   "cell_type": "code",
   "execution_count": 2,
   "metadata": {
    "ExecuteTime": {
     "end_time": "2019-07-20T05:17:14.322469Z",
     "start_time": "2019-07-20T05:17:13.932596Z"
    },
    "scrolled": false
   },
   "outputs": [
    {
     "data": {
      "text/html": [
       "<div>\n",
       "<style scoped>\n",
       "    .dataframe tbody tr th:only-of-type {\n",
       "        vertical-align: middle;\n",
       "    }\n",
       "\n",
       "    .dataframe tbody tr th {\n",
       "        vertical-align: top;\n",
       "    }\n",
       "\n",
       "    .dataframe thead th {\n",
       "        text-align: right;\n",
       "    }\n",
       "</style>\n",
       "<table border=\"1\" class=\"dataframe\">\n",
       "  <thead>\n",
       "    <tr style=\"text-align: right;\">\n",
       "      <th></th>\n",
       "      <th>title</th>\n",
       "      <th>category_lvl_1</th>\n",
       "      <th>category_lvl_2</th>\n",
       "      <th>desc</th>\n",
       "      <th>price</th>\n",
       "      <th>id</th>\n",
       "    </tr>\n",
       "  </thead>\n",
       "  <tbody>\n",
       "    <tr>\n",
       "      <th>0</th>\n",
       "      <td>Nature Republic Fresh Green Tea Foam Cleanser.</td>\n",
       "      <td>Health &amp; Beauty</td>\n",
       "      <td>Skin Care</td>\n",
       "      <td>&lt;ul&gt; &lt;li&gt;Top Korean Cosmetic Brand&lt;/li&gt; &lt;li&gt;Official Nature Republic Products&lt;/li&gt; &lt;li&gt;150ml&amp;nbsp;&lt;/li&gt; &lt;li&gt;All skin type&lt;/li&gt; &lt;li&gt;Moisturizing&lt;/li&gt; &lt;li&gt;Made in Korea&lt;/li&gt; &lt;/ul&gt;</td>\n",
       "      <td>13.1</td>\n",
       "      <td>168</td>\n",
       "    </tr>\n",
       "    <tr>\n",
       "      <th>1</th>\n",
       "      <td>Cathy Doll Chilli Bomb Sexy Firming Cream 260g</td>\n",
       "      <td>Health &amp; Beauty</td>\n",
       "      <td>Skin Care</td>\n",
       "      <td>&lt;ul&gt; &lt;li&gt;Slimming Micro-beads Formula&lt;/li&gt; &lt;li&gt;Instant Reduction Of Excessive Fats&lt;/li&gt; &lt;li&gt;Keeps Skin Young And Smooth&lt;/li&gt; &lt;li&gt;Gives Precisely Proportional Curves&lt;/li&gt; &lt;/ul&gt;</td>\n",
       "      <td>12.5</td>\n",
       "      <td>345</td>\n",
       "    </tr>\n",
       "    <tr>\n",
       "      <th>2</th>\n",
       "      <td>La Roche-Posay Effaclar Mat Sebo-regulating Moisturiser</td>\n",
       "      <td>Health &amp; Beauty</td>\n",
       "      <td>Skin Care</td>\n",
       "      <td>&lt;ul&gt; &lt;li&gt;Hydrates, inhibits sebum production, and minimises enlarged pores without overly-drying the skin.&lt;/li&gt; &lt;li&gt;Oil free texture&lt;/li&gt; &lt;li&gt;Paraben Free&lt;/li&gt; &lt;/ul&gt;</td>\n",
       "      <td>35.0</td>\n",
       "      <td>719</td>\n",
       "    </tr>\n",
       "    <tr>\n",
       "      <th>3</th>\n",
       "      <td>Ahava Dermud Nourishing Body Cream 844150 200ml/6.8oz (EXPORT)</td>\n",
       "      <td>Health &amp; Beauty</td>\n",
       "      <td>Skin Care</td>\n",
       "      <td>&lt;ul&gt; &lt;li&gt;Formulated with Dead Sea mud; minerals natural ingredients&lt;/li&gt; &lt;li&gt;Incredibly regenerates; hydrates soothes skin&lt;/li&gt; &lt;li&gt;Promptly relieves dryness; cracking; itchiness redness&lt;/li&gt; &lt;/ul&gt;</td>\n",
       "      <td>39.5</td>\n",
       "      <td>885</td>\n",
       "    </tr>\n",
       "    <tr>\n",
       "      <th>4</th>\n",
       "      <td>Simple Exfoliating Facial Cleansing Wipes With Vitamin 25's x 3 packs (Free 1 Pack)</td>\n",
       "      <td>Health &amp; Beauty</td>\n",
       "      <td>Skin Care</td>\n",
       "      <td>&lt;ul&gt; &lt;li&gt;4 packs (25 wipes/pack)&lt;/li&gt; &lt;li&gt;Gently remove dead skin cells&lt;/li&gt; &lt;li&gt;Keeps skin revived and revitalised&lt;/li&gt; &lt;/ul&gt;</td>\n",
       "      <td>39.9</td>\n",
       "      <td>1095</td>\n",
       "    </tr>\n",
       "  </tbody>\n",
       "</table>\n",
       "</div>"
      ],
      "text/plain": [
       "                                                                                 title  \\\n",
       "0  Nature Republic Fresh Green Tea Foam Cleanser.                                        \n",
       "1  Cathy Doll Chilli Bomb Sexy Firming Cream 260g                                        \n",
       "2  La Roche-Posay Effaclar Mat Sebo-regulating Moisturiser                               \n",
       "3  Ahava Dermud Nourishing Body Cream 844150 200ml/6.8oz (EXPORT)                        \n",
       "4  Simple Exfoliating Facial Cleansing Wipes With Vitamin 25's x 3 packs (Free 1 Pack)   \n",
       "\n",
       "    category_lvl_1 category_lvl_2  \\\n",
       "0  Health & Beauty  Skin Care       \n",
       "1  Health & Beauty  Skin Care       \n",
       "2  Health & Beauty  Skin Care       \n",
       "3  Health & Beauty  Skin Care       \n",
       "4  Health & Beauty  Skin Care       \n",
       "\n",
       "                                                                                                                                                                                                     desc  \\\n",
       "0  <ul> <li>Top Korean Cosmetic Brand</li> <li>Official Nature Republic Products</li> <li>150ml&nbsp;</li> <li>All skin type</li> <li>Moisturizing</li> <li>Made in Korea</li> </ul>                        \n",
       "1  <ul> <li>Slimming Micro-beads Formula</li> <li>Instant Reduction Of Excessive Fats</li> <li>Keeps Skin Young And Smooth</li> <li>Gives Precisely Proportional Curves</li> </ul>                          \n",
       "2  <ul> <li>Hydrates, inhibits sebum production, and minimises enlarged pores without overly-drying the skin.</li> <li>Oil free texture</li> <li>Paraben Free</li> </ul>                                    \n",
       "3  <ul> <li>Formulated with Dead Sea mud; minerals natural ingredients</li> <li>Incredibly regenerates; hydrates soothes skin</li> <li>Promptly relieves dryness; cracking; itchiness redness</li> </ul>    \n",
       "4  <ul> <li>4 packs (25 wipes/pack)</li> <li>Gently remove dead skin cells</li> <li>Keeps skin revived and revitalised</li> </ul>                                                                           \n",
       "\n",
       "   price    id  \n",
       "0  13.1   168   \n",
       "1  12.5   345   \n",
       "2  35.0   719   \n",
       "3  39.5   885   \n",
       "4  39.9   1095  "
      ]
     },
     "metadata": {},
     "output_type": "display_data"
    }
   ],
   "source": [
    "# Read from CSV file\n",
    "df = lzd_utils.read_lazada_csv()\n",
    "\n",
    "# Slice, dice and reindex the data\n",
    "df = df[(df.country=='sg') & (df.category_lvl_1 == 'Health & Beauty') & (df.category_lvl_2 == 'Skin Care')]\n",
    "df = df[['title', 'category_lvl_1', 'category_lvl_2', 'desc', 'price']]\n",
    "df['id'] = df.index\n",
    "df.reset_index(inplace=True, drop=True)\n",
    "\n",
    "display(df.head())"
   ]
  },
  {
   "cell_type": "code",
   "execution_count": 3,
   "metadata": {
    "ExecuteTime": {
     "end_time": "2019-07-20T05:17:14.339062Z",
     "start_time": "2019-07-20T05:17:14.326976Z"
    },
    "scrolled": true
   },
   "outputs": [
    {
     "name": "stdout",
     "output_type": "stream",
     "text": [
      "<ul> <li>Top Korean Cosmetic Brand</li> <li>Official Nature Republic Products</li> <li>150ml&nbsp;</li> <li>All skin type</li> <li>Moisturizing</li> <li>Made in Korea</li> </ul> \n"
     ]
    },
    {
     "data": {
      "text/plain": [
       "0     Nature Republic Fresh Green Tea Foam Cleanser.                                                      \n",
       "1     Cathy Doll Chilli Bomb Sexy Firming Cream 260g                                                      \n",
       "2     La Roche-Posay Effaclar Mat Sebo-regulating Moisturiser                                             \n",
       "3     Ahava Dermud Nourishing Body Cream 844150 200ml/6.8oz (EXPORT)                                      \n",
       "4     Simple Exfoliating Facial Cleansing Wipes With Vitamin 25's x 3 packs (Free 1 Pack)                 \n",
       "5     [LAZADA Exclusive] L'Oreal Paris Super Liner Black Lacquer + Micellar Water (Blue) Christmas Box Set\n",
       "6     Academie Hypo-Sensible Nourishing Cream 50ml/1.7oz (EXPORT)                                         \n",
       "7     Evoluderm Face &amp; Body Cream Peach 200ml                                                         \n",
       "8     [BUNDLE DEAL] 2 Feelrekorea SOOTHING GEL Aloe Vera + SNAIL (300g)                                   \n",
       "9     su:m37˚ Secret Repair Toner 150ml                                                                   \n",
       "10    Decleor Aroma Night Neroli Essential Night Balm (For All Skin Types) 30g                            \n",
       "Name: title, dtype: object"
      ]
     },
     "metadata": {},
     "output_type": "display_data"
    }
   ],
   "source": [
    "# Get the description of 1 product\n",
    "s = df.loc[0, 'desc']\n",
    "print(s)\n",
    "\n",
    "# Get first 10 titles\n",
    "t10 = df.loc[:10, 'title']\n",
    "display(t10)"
   ]
  },
  {
   "cell_type": "markdown",
   "metadata": {},
   "source": [
    "### Transformation of Strings\n",
    "\n",
    "- `s.upper()` and `s.lower()`"
   ]
  },
  {
   "cell_type": "code",
   "execution_count": 16,
   "metadata": {
    "ExecuteTime": {
     "end_time": "2019-07-20T05:17:33.292155Z",
     "start_time": "2019-07-20T05:17:33.287716Z"
    }
   },
   "outputs": [
    {
     "name": "stdout",
     "output_type": "stream",
     "text": [
      "<ul> <li>Top Korean Cosmetic Brand</li> <li>Official Nature Republic Products</li> <li>150ml&nbsp;</li> <li>All skin type</li> <li>Moisturizing</li> <li>Made in Korea</li> </ul> \n"
     ]
    }
   ],
   "source": [
    "print(s)"
   ]
  },
  {
   "cell_type": "code",
   "execution_count": 4,
   "metadata": {
    "ExecuteTime": {
     "end_time": "2019-07-20T05:17:14.350014Z",
     "start_time": "2019-07-20T05:17:14.344042Z"
    }
   },
   "outputs": [
    {
     "name": "stdout",
     "output_type": "stream",
     "text": [
      "<UL> <LI>TOP KOREAN COSMETIC BRAND</LI> <LI>OFFICIAL NATURE REPUBLIC PRODUCTS</LI> <LI>150ML&NBSP;</LI> <LI>ALL SKIN TYPE</LI> <LI>MOISTURIZING</LI> <LI>MADE IN KOREA</LI> </UL> \n"
     ]
    }
   ],
   "source": [
    "# str.upper() changes the string to all upper case letters\n",
    "print(s.upper())"
   ]
  },
  {
   "cell_type": "code",
   "execution_count": 5,
   "metadata": {
    "ExecuteTime": {
     "end_time": "2019-07-20T05:17:14.359588Z",
     "start_time": "2019-07-20T05:17:14.353726Z"
    }
   },
   "outputs": [
    {
     "name": "stdout",
     "output_type": "stream",
     "text": [
      "<ul> <li>top korean cosmetic brand</li> <li>official nature republic products</li> <li>150ml&nbsp;</li> <li>all skin type</li> <li>moisturizing</li> <li>made in korea</li> </ul> \n"
     ]
    }
   ],
   "source": [
    "# similarly, str.lower() changes the string to all lower case letters\n",
    "s2 = s.lower()\n",
    "print(s2)"
   ]
  },
  {
   "cell_type": "markdown",
   "metadata": {},
   "source": [
    "### Check properties of string\n",
    "\n",
    "- `s.count()`, `s.endswith()`, `s.startswith()`, `s.find()`"
   ]
  },
  {
   "cell_type": "code",
   "execution_count": 17,
   "metadata": {
    "ExecuteTime": {
     "end_time": "2019-07-20T05:17:41.960365Z",
     "start_time": "2019-07-20T05:17:41.956523Z"
    }
   },
   "outputs": [
    {
     "name": "stdout",
     "output_type": "stream",
     "text": [
      "<ul> <li>top korean cosmetic brand</li> <li>official nature republic products</li> <li>150ml&nbsp;</li> <li>all skin type</li> <li>moisturizing</li> <li>made in korea</li> </ul> \n"
     ]
    }
   ],
   "source": [
    "print(s2)"
   ]
  },
  {
   "cell_type": "code",
   "execution_count": 6,
   "metadata": {
    "ExecuteTime": {
     "end_time": "2019-07-20T05:17:14.376101Z",
     "start_time": "2019-07-20T05:17:14.362262Z"
    }
   },
   "outputs": [
    {
     "name": "stdout",
     "output_type": "stream",
     "text": [
      "<ul> <li>top korean cosmetic brand</li> <li>official nature republic products</li> <li>150ml&nbsp;</li> <li>all skin type</li> <li>moisturizing</li> <li>made in korea</li> </ul> \n",
      "\n",
      "2\n"
     ]
    }
   ],
   "source": [
    "# str.count(x) returns the number of occurences of the substring x in str\n",
    "print(s2.count('korea'))"
   ]
  },
  {
   "cell_type": "code",
   "execution_count": 18,
   "metadata": {
    "ExecuteTime": {
     "end_time": "2019-07-20T05:17:52.108821Z",
     "start_time": "2019-07-20T05:17:52.104744Z"
    }
   },
   "outputs": [
    {
     "name": "stdout",
     "output_type": "stream",
     "text": [
      "6\n",
      "13\n"
     ]
    }
   ],
   "source": [
    "# str.find(x) finds the first occurence of x and returns the position of the first character.\n",
    "print(s2.find('li'))\n",
    "print(s2.find('korea'))"
   ]
  },
  {
   "cell_type": "code",
   "execution_count": 19,
   "metadata": {
    "ExecuteTime": {
     "end_time": "2019-07-20T05:17:54.879285Z",
     "start_time": "2019-07-20T05:17:54.875147Z"
    }
   },
   "outputs": [
    {
     "name": "stdout",
     "output_type": "stream",
     "text": [
      "168\n",
      "161\n"
     ]
    }
   ],
   "source": [
    "# str.find(x) finds the LAST occurence of x and returns the position of the first character.\n",
    "print(s2.rfind('li'))\n",
    "print(s2.rfind('korea'))"
   ]
  },
  {
   "cell_type": "code",
   "execution_count": 9,
   "metadata": {
    "ExecuteTime": {
     "end_time": "2019-07-20T05:17:14.411010Z",
     "start_time": "2019-07-20T05:17:14.404538Z"
    }
   },
   "outputs": [
    {
     "name": "stdout",
     "output_type": "stream",
     "text": [
      "[lazada exclusive] l'oreal paris super liner black lacquer + micellar water (blue) christmas box set\n",
      "[bundle deal] 2 feelrekorea soothing gel aloe vera + snail (300g)\n"
     ]
    }
   ],
   "source": [
    "# str.startswith(x) returns True if str starts with x, False otherwise\n",
    "for t in t10.tolist():\n",
    "    t2 = t.lower()\n",
    "    if t2.startswith('['):\n",
    "        print(t2)"
   ]
  },
  {
   "cell_type": "code",
   "execution_count": 10,
   "metadata": {
    "ExecuteTime": {
     "end_time": "2019-07-20T05:17:14.424839Z",
     "start_time": "2019-07-20T05:17:14.415149Z"
    }
   },
   "outputs": [
    {
     "name": "stdout",
     "output_type": "stream",
     "text": [
      "ahava dermud nourishing body cream 844150 200ml/6.8oz (export)\n",
      "academie hypo-sensible nourishing cream 50ml/1.7oz (export)\n"
     ]
    }
   ],
   "source": [
    "# str.endswith(x) returns True if str ends with x, and returns False otherwise\n",
    "for t in t10.tolist():\n",
    "    t2 = t.lower()\n",
    "    if t2.endswith('(export)'):\n",
    "        print(t2)"
   ]
  },
  {
   "cell_type": "markdown",
   "metadata": {},
   "source": [
    "### Manipulation of Strings\n",
    "\n",
    "- `s.replace()`, `s.strip()`, `s.split()`\n",
    "\n",
    "- `str.join(list)`"
   ]
  },
  {
   "cell_type": "code",
   "execution_count": 11,
   "metadata": {
    "ExecuteTime": {
     "end_time": "2019-07-20T05:17:14.436943Z",
     "start_time": "2019-07-20T05:17:14.428409Z"
    }
   },
   "outputs": [
    {
     "name": "stdout",
     "output_type": "stream",
     "text": [
      "<ul> <li>top korean cosmetic brand</li> <li>official nature republic products</li> <li>150ml&nbsp;</li> <li>all skin type</li> <li>moisturizing</li> <li>made in korea</li> </ul> \n",
      "\n",
      "#  <li>top korean cosmetic brand</li> <li>official nature republic products</li> <li>150ml&nbsp;</li> <li>all skin type</li> <li>moisturizing</li> <li>made in korea</li>   #\n",
      "\n",
      "#   top korean cosmetic brand   official nature republic products   150ml&nbsp;   all skin type   moisturizing   made in korea    #\n"
     ]
    }
   ],
   "source": [
    "# str.replace(x, y) replaces ALL occurences of x in str with the replacement string y\n",
    "s3 = s2\n",
    "print(s3)\n",
    "print()\n",
    "s3 = s3.replace('<ul>', ' ')\n",
    "s3 = s3.replace('</ul>', ' ')\n",
    "\n",
    "# Notice how there are still spaces in the beginning and end of the string.\n",
    "print('#{}#'.format(s3))\n",
    "print()\n",
    "s3 = s3.replace('<li>', ' ')\n",
    "s3 = s3.replace('</li>', ' ')\n",
    "print('#{}#'.format(s3))"
   ]
  },
  {
   "cell_type": "code",
   "execution_count": 12,
   "metadata": {
    "ExecuteTime": {
     "end_time": "2019-07-20T05:17:14.451899Z",
     "start_time": "2019-07-20T05:17:14.440928Z"
    }
   },
   "outputs": [
    {
     "name": "stdout",
     "output_type": "stream",
     "text": [
      "#   top korean cosmetic brand   official nature republic products   150ml&nbsp;   all skin type   moisturizing   made in korea    #\n",
      "#top korean cosmetic brand   official nature republic products   150ml&nbsp;   all skin type   moisturizing   made in korea#\n"
     ]
    }
   ],
   "source": [
    "print('#{}#'.format(s3))\n",
    "# str.split() removes both leading and trailing spaces of string str\n",
    "s4 = s3.strip()\n",
    "# Notice now that the spaces in the beginning and end of str are removed.\n",
    "print('#{}#'.format(s4))"
   ]
  },
  {
   "cell_type": "code",
   "execution_count": 13,
   "metadata": {
    "ExecuteTime": {
     "end_time": "2019-07-20T05:17:14.463772Z",
     "start_time": "2019-07-20T05:17:14.455532Z"
    }
   },
   "outputs": [
    {
     "name": "stdout",
     "output_type": "stream",
     "text": [
      "top korean cosmetic brand   official nature republic products   150ml&nbsp;   all skin type   moisturizing   made in korea\n",
      "top korean cosmetic brand official nature republic products 150ml&nbsp; all skin type moisturizing made in korea\n"
     ]
    }
   ],
   "source": [
    "# Remove all spaces larger than size 2. There are more efficient ways using regex.\n",
    "print(s4)\n",
    "s5 = s4\n",
    "s5 = s5.replace('  ', ' ')\n",
    "s5 = s5.replace('  ', ' ')\n",
    "print(s5)"
   ]
  },
  {
   "cell_type": "code",
   "execution_count": 14,
   "metadata": {
    "ExecuteTime": {
     "end_time": "2019-07-20T05:17:14.479869Z",
     "start_time": "2019-07-20T05:17:14.466927Z"
    }
   },
   "outputs": [
    {
     "name": "stdout",
     "output_type": "stream",
     "text": [
      "['top', 'korean', 'cosmetic', 'brand', 'official', 'nature', 'republic', 'products', '150ml&nbsp;', 'all', 'skin', 'type', 'moisturizing', 'made', 'in', 'korea']\n"
     ]
    }
   ],
   "source": [
    "# str.split() is used to break one string to a list of substrings with the specified delimiter.\n",
    "# the default delimiter is one space (' '), but other delimiters can be passed e.g. ',' or '#'.\n",
    "l5 = s5.split(' ')\n",
    "print(l5)"
   ]
  },
  {
   "cell_type": "code",
   "execution_count": 15,
   "metadata": {
    "ExecuteTime": {
     "end_time": "2019-07-20T05:17:14.491847Z",
     "start_time": "2019-07-20T05:17:14.483532Z"
    }
   },
   "outputs": [
    {
     "name": "stdout",
     "output_type": "stream",
     "text": [
      "['top', 'korean', 'cosmetic', 'brand']\n",
      "top,korean,cosmetic,brand\n"
     ]
    }
   ],
   "source": [
    "# ','.join(list) is used to concatenate a sequence of strings, using the delimiter specified.\n",
    "l6 = l5[:4]\n",
    "print(l6)\n",
    "print(','.join(l6))"
   ]
  },
  {
   "cell_type": "markdown",
   "metadata": {},
   "source": [
    "**References**\n",
    "\n",
    "- [Github / minhcp](https://github.com/minhcp/CIKMCup17) for the dataset\n",
    "- Python for Data Analysis, 2nd Edition, McKinney (2017)"
   ]
  }
 ],
 "metadata": {
  "kernelspec": {
   "display_name": "Python 3",
   "language": "python",
   "name": "python3"
  },
  "language_info": {
   "codemirror_mode": {
    "name": "ipython",
    "version": 3
   },
   "file_extension": ".py",
   "mimetype": "text/x-python",
   "name": "python",
   "nbconvert_exporter": "python",
   "pygments_lexer": "ipython3",
   "version": "3.6.5"
  }
 },
 "nbformat": 4,
 "nbformat_minor": 2
}
