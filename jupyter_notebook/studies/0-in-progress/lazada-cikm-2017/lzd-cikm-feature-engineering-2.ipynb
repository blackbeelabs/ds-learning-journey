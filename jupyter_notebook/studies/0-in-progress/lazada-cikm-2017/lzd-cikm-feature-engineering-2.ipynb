{
 "cells": [
  {
   "cell_type": "markdown",
   "metadata": {},
   "source": [
    "<center><h1>Feature Engineering of Lazada CIKM Text</h1></center>\n",
    "<center><h2>A Text Mining Exercise</h2></center>\n",
    "<center><h2>Part 2</h2></center>"
   ]
  },
  {
   "cell_type": "markdown",
   "metadata": {},
   "source": [
    "From the submission for CIKM, Features $f_{17}$ to $F_{21}$  were created based on title features."
   ]
  },
  {
   "cell_type": "code",
   "execution_count": 3,
   "metadata": {
    "ExecuteTime": {
     "end_time": "2019-08-18T15:51:42.605084Z",
     "start_time": "2019-08-18T15:51:42.320028Z"
    }
   },
   "outputs": [
    {
     "data": {
      "text/html": [
       "<div>\n",
       "<style scoped>\n",
       "    .dataframe tbody tr th:only-of-type {\n",
       "        vertical-align: middle;\n",
       "    }\n",
       "\n",
       "    .dataframe tbody tr th {\n",
       "        vertical-align: top;\n",
       "    }\n",
       "\n",
       "    .dataframe thead th {\n",
       "        text-align: right;\n",
       "    }\n",
       "</style>\n",
       "<table border=\"1\" class=\"dataframe\">\n",
       "  <thead>\n",
       "    <tr style=\"text-align: right;\">\n",
       "      <th></th>\n",
       "      <th>country</th>\n",
       "      <th>sku_id</th>\n",
       "      <th>title</th>\n",
       "      <th>category_lvl_1</th>\n",
       "      <th>category_lvl_2</th>\n",
       "      <th>category_lvl_3</th>\n",
       "      <th>desc</th>\n",
       "      <th>price</th>\n",
       "      <th>xb</th>\n",
       "    </tr>\n",
       "  </thead>\n",
       "  <tbody>\n",
       "    <tr>\n",
       "      <th>0</th>\n",
       "      <td>my</td>\n",
       "      <td>AD674FAASTLXANMY</td>\n",
       "      <td>Adana Gallery Suri Square Hijab – Light Pink</td>\n",
       "      <td>Fashion</td>\n",
       "      <td>Women</td>\n",
       "      <td>Muslim Wear</td>\n",
       "      <td>&lt;ul&gt;&lt;li&gt;Material : Non sheer shimmer chiffon&lt;/li&gt;&lt;li&gt;Sizes : 52 x 52 inches OR 56 x 56 inches&lt;/li&gt;&lt;li&gt;Cut with curved ends&lt;/li&gt;&lt;/ul&gt;</td>\n",
       "      <td>49.00</td>\n",
       "      <td>local</td>\n",
       "    </tr>\n",
       "    <tr>\n",
       "      <th>1</th>\n",
       "      <td>my</td>\n",
       "      <td>AE068HBAA3RPRDANMY</td>\n",
       "      <td>Cuba Heartbreaker Eau De Parfum Spray 100ml/3.3oz</td>\n",
       "      <td>Health &amp; Beauty</td>\n",
       "      <td>Bath &amp; Body</td>\n",
       "      <td>Hand &amp; Foot Care</td>\n",
       "      <td>Formulated with oil-free hydrating botanicals/ Remarkably improves skin texture of abused hands/Restores soft, smooth &amp; refined hands</td>\n",
       "      <td>128.00</td>\n",
       "      <td>international</td>\n",
       "    </tr>\n",
       "    <tr>\n",
       "      <th>2</th>\n",
       "      <td>my</td>\n",
       "      <td>AN680ELAA9VN57ANMY</td>\n",
       "      <td>Andoer 150cm Cellphone Smartphone Mini Dual-Headed Omni-Directional Mic Microphone with Collar Clip for iPad iPhone5 6s 6 Plus Smartphones</td>\n",
       "      <td>TV, Audio / Video, Gaming &amp; Wearables</td>\n",
       "      <td>Audio</td>\n",
       "      <td>Live Sound &amp; Stage</td>\n",
       "      <td>&lt;ul&gt; &lt;li&gt;150cm mini microphone compatible for iPhone, various smartphones, and also for iPad/ Apple computer/ Macbook.&lt;/li&gt; &lt;li&gt;Dual-headed design, allows for two people using simultaneously.&lt;/li&gt; &lt;li&gt;Features high sensitivity &amp;amp; omni-directional sounds output, perfect for audio and video recording.&lt;/li&gt; &lt;li&gt;3.5mm standard connector jack.&lt;/li&gt; &lt;li&gt;Convenient clip-on design, can clip it on your collar.&lt;/li&gt; &lt;li&gt;3.5mm standard connector jack. Convenient clip-on design, can clip it on your collar.&lt;/li&gt; &lt;/ul&gt;</td>\n",
       "      <td>25.07</td>\n",
       "      <td>international</td>\n",
       "    </tr>\n",
       "    <tr>\n",
       "      <th>3</th>\n",
       "      <td>my</td>\n",
       "      <td>AN957HBAAAHDF4ANMY</td>\n",
       "      <td>ANMYNA Complaint Silky Set 柔顺洗发配套 (Shampoo 520ml + Conditioner 250ml)</td>\n",
       "      <td>Health &amp; Beauty</td>\n",
       "      <td>Hair Care</td>\n",
       "      <td>Shampoos &amp; Conditioners</td>\n",
       "      <td>&lt;ul&gt; &lt;li&gt;ANMYNA Complaint Silky Set (Shampoo 520ml + Conditioner 250ml)&lt;/li&gt; &lt;li&gt;Deep nourish&lt;/li&gt; &lt;li&gt;Repair damaged hair&lt;/li&gt; &lt;li&gt;Protect the scalp and prevent hair loss&lt;/li&gt; &lt;/ul&gt;</td>\n",
       "      <td>118.00</td>\n",
       "      <td>local</td>\n",
       "    </tr>\n",
       "    <tr>\n",
       "      <th>4</th>\n",
       "      <td>my</td>\n",
       "      <td>AR511HBAXNWAANMY</td>\n",
       "      <td>Argital Argiltubo Green Clay For Face and Body 250ml</td>\n",
       "      <td>Health &amp; Beauty</td>\n",
       "      <td>Men's Care</td>\n",
       "      <td>Body and Skin Care</td>\n",
       "      <td>&lt;ul&gt; &lt;li&gt;100% Authentic&lt;/li&gt; &lt;li&gt;Rrefresh and brighten skin&lt;/li&gt; &lt;li&gt;Anti-wrinkle and deep cleansing effects&lt;/li&gt; &lt;/ul&gt;</td>\n",
       "      <td>114.80</td>\n",
       "      <td>international</td>\n",
       "    </tr>\n",
       "  </tbody>\n",
       "</table>\n",
       "</div>"
      ],
      "text/plain": [
       "  country              sku_id  \\\n",
       "0  my      AD674FAASTLXANMY     \n",
       "1  my      AE068HBAA3RPRDANMY   \n",
       "2  my      AN680ELAA9VN57ANMY   \n",
       "3  my      AN957HBAAAHDF4ANMY   \n",
       "4  my      AR511HBAXNWAANMY     \n",
       "\n",
       "                                                                                                                                        title  \\\n",
       "0  Adana Gallery Suri Square Hijab – Light Pink                                                                                                 \n",
       "1  Cuba Heartbreaker Eau De Parfum Spray 100ml/3.3oz                                                                                            \n",
       "2  Andoer 150cm Cellphone Smartphone Mini Dual-Headed Omni-Directional Mic Microphone with Collar Clip for iPad iPhone5 6s 6 Plus Smartphones   \n",
       "3  ANMYNA Complaint Silky Set 柔顺洗发配套 (Shampoo 520ml + Conditioner 250ml)                                                                        \n",
       "4  Argital Argiltubo Green Clay For Face and Body 250ml                                                                                         \n",
       "\n",
       "                          category_lvl_1 category_lvl_2  \\\n",
       "0  Fashion                                Women           \n",
       "1  Health & Beauty                        Bath & Body     \n",
       "2  TV, Audio / Video, Gaming & Wearables  Audio           \n",
       "3  Health & Beauty                        Hair Care       \n",
       "4  Health & Beauty                        Men's Care      \n",
       "\n",
       "            category_lvl_3  \\\n",
       "0  Muslim Wear               \n",
       "1  Hand & Foot Care          \n",
       "2  Live Sound & Stage        \n",
       "3  Shampoos & Conditioners   \n",
       "4  Body and Skin Care        \n",
       "\n",
       "                                                                                                                                                                                                                                                                                                                                                                                                                                                                                                                                 desc  \\\n",
       "0  <ul><li>Material : Non sheer shimmer chiffon</li><li>Sizes : 52 x 52 inches OR 56 x 56 inches</li><li>Cut with curved ends</li></ul>                                                                                                                                                                                                                                                                                                                                                                                                 \n",
       "1  Formulated with oil-free hydrating botanicals/ Remarkably improves skin texture of abused hands/Restores soft, smooth & refined hands                                                                                                                                                                                                                                                                                                                                                                                                \n",
       "2  <ul> <li>150cm mini microphone compatible for iPhone, various smartphones, and also for iPad/ Apple computer/ Macbook.</li> <li>Dual-headed design, allows for two people using simultaneously.</li> <li>Features high sensitivity &amp; omni-directional sounds output, perfect for audio and video recording.</li> <li>3.5mm standard connector jack.</li> <li>Convenient clip-on design, can clip it on your collar.</li> <li>3.5mm standard connector jack. Convenient clip-on design, can clip it on your collar.</li> </ul>    \n",
       "3  <ul> <li>ANMYNA Complaint Silky Set (Shampoo 520ml + Conditioner 250ml)</li> <li>Deep nourish</li> <li>Repair damaged hair</li> <li>Protect the scalp and prevent hair loss</li> </ul>                                                                                                                                                                                                                                                                                                                                               \n",
       "4  <ul> <li>100% Authentic</li> <li>Rrefresh and brighten skin</li> <li>Anti-wrinkle and deep cleansing effects</li> </ul>                                                                                                                                                                                                                                                                                                                                                                                                              \n",
       "\n",
       "    price             xb  \n",
       "0  49.00   local          \n",
       "1  128.00  international  \n",
       "2  25.07   international  \n",
       "3  118.00  local          \n",
       "4  114.80  international  "
      ]
     },
     "execution_count": 3,
     "metadata": {},
     "output_type": "execute_result"
    }
   ],
   "source": [
    "import re\n",
    "import pandas as pd\n",
    "from nltk.metrics import distance\n",
    "pd.set_option('max_colwidth', -1)\n",
    "\n",
    "import lzd_utils\n",
    "df = lzd_utils.read_lazada_csv()\n",
    "df.head()"
   ]
  },
  {
   "cell_type": "markdown",
   "metadata": {},
   "source": [
    "### Title - Similarity Scores"
   ]
  },
  {
   "cell_type": "code",
   "execution_count": 13,
   "metadata": {
    "ExecuteTime": {
     "end_time": "2019-08-18T16:05:05.109234Z",
     "start_time": "2019-08-18T16:05:05.102495Z"
    }
   },
   "outputs": [
    {
     "name": "stdout",
     "output_type": "stream",
     "text": [
      "apple iphone 6 plus 16gb (gold)\n",
      "apple iphone 6 plus 16gb gold\n",
      "apple iphone 6s 4.7inch 64gb (rose gold)\n",
      "apple iphone 6s 47inch 64gb rose gold\n",
      "blackberry p100 playbook 16gb wi-fi (black)\n",
      "blackberry p100 playbook 16gb wifi black\n",
      "oneplus 3 64gb 6gb ram dual sim lte oxygen os (gold)\n",
      "oneplus 3 64gb 6gb ram dual sim lte oxygen os gold\n"
     ]
    }
   ],
   "source": [
    "# Plaing\n",
    "demo1 = \"Apple iPhone 6 plus 16GB (Gold)\".lower()\n",
    "demo2 = \"Apple iPhone 6S 4.7inch 64GB (Rose Gold)\".lower()\n",
    "demo3 = \"BlackBerry P100 PlayBook 16GB Wi-Fi (Black)\".lower()\n",
    "demo4 = \"OnePlus 3 64GB 6GB RAM Dual Sim LTE Oxygen OS (Gold)\".lower()\n",
    "\n",
    "def remove_non_alphanumeric_chars(x):\n",
    "    \"\"\"returns a string without non alpha-numeric characters\"\"\"\n",
    "    return re.sub('[^\\s0-9a-zA-Z]', '', x)\n",
    "\n",
    "demo1_AC = remove_non_alphanumeric_chars(demo1)\n",
    "print(demo1)\n",
    "print(demo1_AC)\n",
    "demo2_AC = remove_non_alphanumeric_chars(demo2)\n",
    "print(demo2)\n",
    "print(demo2_AC)\n",
    "demo3_AC = remove_non_alphanumeric_chars(demo3)\n",
    "print(demo3)\n",
    "print(demo3_AC)\n",
    "demo4_AC = remove_non_alphanumeric_chars(demo4)\n",
    "print(demo4)\n",
    "print(demo4_AC)"
   ]
  },
  {
   "cell_type": "code",
   "execution_count": 14,
   "metadata": {
    "ExecuteTime": {
     "end_time": "2019-08-18T16:05:24.454649Z",
     "start_time": "2019-08-18T16:05:24.449515Z"
    }
   },
   "outputs": [
    {
     "name": "stdout",
     "output_type": "stream",
     "text": [
      "0.894\n",
      "0.570\n",
      "0.626\n",
      "0.514\n"
     ]
    }
   ],
   "source": [
    "print(\"{:.3f}\".format(distance.jaro_winkler_similarity(demo1, demo2)))\n",
    "print(\"{:.3f}\".format(distance.jaro_winkler_similarity(demo1, demo3)))\n",
    "print(\"{:.3f}\".format(distance.jaro_winkler_similarity(demo1, demo4)))\n",
    "print(\"{:.3f}\".format(distance.jaro_winkler_similarity(demo3, demo4)))"
   ]
  },
  {
   "cell_type": "code",
   "execution_count": 15,
   "metadata": {
    "ExecuteTime": {
     "end_time": "2019-08-18T16:05:26.197670Z",
     "start_time": "2019-08-18T16:05:26.190082Z"
    }
   },
   "outputs": [
    {
     "name": "stdout",
     "output_type": "stream",
     "text": [
      "0.892\n",
      "0.561\n",
      "0.616\n",
      "0.490\n"
     ]
    }
   ],
   "source": [
    "print(\"{:.3f}\".format(distance.jaro_winkler_similarity(demo1_AC, demo2_AC)))\n",
    "print(\"{:.3f}\".format(distance.jaro_winkler_similarity(demo1_AC, demo3_AC)))\n",
    "print(\"{:.3f}\".format(distance.jaro_winkler_similarity(demo1_AC, demo4_AC)))\n",
    "print(\"{:.3f}\".format(distance.jaro_winkler_similarity(demo3_AC, demo4_AC)))"
   ]
  },
  {
   "cell_type": "markdown",
   "metadata": {},
   "source": [
    "**References**\n",
    "\n",
    "- [Github / minhcp](https://github.com/minhcp/CIKMCup17) for the dataset\n",
    "\n",
    "- [CIKM AnalytiCup 2017 – Lazada Product Title Quality Challenge](https://arxiv.org/pdf/1804.01000.pdf) for the feature engineering techniques"
   ]
  }
 ],
 "metadata": {
  "kernelspec": {
   "display_name": "Python 3",
   "language": "python",
   "name": "python3"
  },
  "language_info": {
   "codemirror_mode": {
    "name": "ipython",
    "version": 3
   },
   "file_extension": ".py",
   "mimetype": "text/x-python",
   "name": "python",
   "nbconvert_exporter": "python",
   "pygments_lexer": "ipython3",
   "version": "3.6.5"
  }
 },
 "nbformat": 4,
 "nbformat_minor": 2
}
