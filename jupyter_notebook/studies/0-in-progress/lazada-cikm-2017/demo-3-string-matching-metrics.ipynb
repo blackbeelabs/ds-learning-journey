{
 "cells": [
  {
   "cell_type": "markdown",
   "metadata": {},
   "source": [
    "# Demo 3 | String Matching using `nltk.metrics`\n",
    "<hr>\n",
    "\n",
    "Using the Lazada CIKM 2017 Dataset, a few string matching techniques are being explored. These matches leverage on the `nltk.metrics` package. Each algorithm will be explained briefly"
   ]
  },
  {
   "cell_type": "code",
   "execution_count": 1,
   "metadata": {
    "ExecuteTime": {
     "end_time": "2019-07-22T15:49:34.205307Z",
     "start_time": "2019-07-22T15:49:33.156050Z"
    }
   },
   "outputs": [],
   "source": [
    "import pandas as pd\n",
    "pd.options.display.max_colwidth = 80\n",
    "pd.options.display.max_rows = None\n",
    "\n",
    "import lzd_utils\n",
    "\n",
    "from nltk.metrics.distance import (\n",
    "    binary_distance,\n",
    "    edit_distance, jaccard_distance, \n",
    "    jaro_winkler_similarity,\n",
    "    masi_distance, demo)"
   ]
  },
  {
   "cell_type": "code",
   "execution_count": 2,
   "metadata": {
    "ExecuteTime": {
     "end_time": "2019-07-22T15:49:34.505055Z",
     "start_time": "2019-07-22T15:49:34.207807Z"
    },
    "scrolled": false
   },
   "outputs": [
    {
     "name": "stdout",
     "output_type": "stream",
     "text": [
      "51\n"
     ]
    },
    {
     "data": {
      "text/plain": [
       "0                      (EXPORT) Sony Xperia E Dual C1605 4GB Unlocked Smartphone Gold\n",
       "1                                        (EXPORT) Sony Xperia V LT25i 8GB Phone Black\n",
       "2                                 (Refurbished) Apple iPhone 5 16GB Black(Black 16GB)\n",
       "3                                           (Refurbished) Apple iPhone 5S 32GB (Gold)\n",
       "4     AIEK X6 1.0 inch Quad Band Card Phone Bluetooth 3.0 FM Audio Player (Black) ...\n",
       "5                                                     Apple iPhone 6 plus 16GB (Gold)\n",
       "6                                            Apple iPhone 6S 4.7inch 64GB (Rose Gold)\n",
       "7                                               Apple iPhone 7 Plus 256GB (Rose Gold)\n",
       "8                                         BlackBerry P100 PlayBook 16GB Wi-Fi (Black)\n",
       "9      DOOGEE Titans T3 Smartphone 4.7'' Android 6.0 3GB RAM+32GB ROM EU Plug (Brown)\n",
       "10                                                    Galaxy A7 2017 Peach(Pink 32GB)\n",
       "11    HTC Desire 830 -DUAL SIM 4G - ANDROID - 5.5GHZ - 4-ULTRAPIXEL - 3GB RAM 32GB...\n",
       "12                                         HUAWEI Honor 6 LTE DUAL SIM White (EXPORT)\n",
       "13                                                                   HUAWEI P8 (GOLD)\n",
       "14                                       Huawei Mate 9 64GB Dual SIM LTE (Space Grey)\n",
       "15                               Huawei Mate 9 Pro 128GB / 6GB RAM (Gold)(Gold 128GB)\n",
       "16              Huawei P9 EVA-DL00 5.2\" 4G Smartphone Android 6.0 32GB EU Plug - intl\n",
       "17                                               LEAGOO ELITE 1 32GB (White) - 4G LTE\n",
       "18                                        LG D170 4GB L40 Dual Black + White (EXPORT)\n",
       "19    Lenovo A916 3G Phone w/ 1GB, 8GB ROM Octa-Core Android 4.4.4 (White)[Buy 1 G...\n",
       "20              Motorola Moto G 2nd generation Global GSM Unlocked 8GB Black (EXPORT)\n",
       "21        Motorola Moto X 2014 2nd Gen XT1092 16GB White 5.2\" Unlocked Phone (EXPORT)\n",
       "22                                           Nokia 108 mobile phone Black (EXPORT)(…)\n",
       "23                                                      OPPO R9s Plus Gold(Gold 64GB)\n",
       "24                               OnePlus 3 64GB 6GB RAM Dual Sim LTE Oxygen OS (Gold)\n",
       "25                                          OnePlus 3T 6GB RAM 64GB Gunmetal (Export)\n",
       "26                                                      Oppo R9 PLUS 64GB (Rose Gold)\n",
       "27                          Samsung Galaxy C7 C7000 Dual Sim 32GB LTE (Silver) - intl\n",
       "28                                        Samsung Galaxy C7 Dual Sim 64GB LTE (Black)\n",
       "29                                         Samsung Galaxy C7 Dual Sim 64GB LTE (Gold)\n",
       "30                                                  Samsung Galaxy J1 ACE 4GB (White)\n",
       "31                   Samsung Galaxy J5 2016 / 16GB ROM / 2GB RAM / White / Export set\n",
       "32             Samsung Galaxy Note Edge N9150 32GB Unlocked Smartphone Black (EXPORT)\n",
       "33                                         Samsung Galaxy S6 Edge 64GB Black (EXPORT)\n",
       "34         Samsung Galaxy S7 4G+ 32GB Silver Titanium + Free Level U Pro (worth $138)\n",
       "35    Samsung Galaxy Tab 3V 7.0 T116 8GB Black (Export) + FREE Tempered Glass + 8G...\n",
       "36                                                  Samsung J3 Pro 5.0\" 4G LTE Export\n",
       "37                                                 Samsung SM-J500G Galaxy J5 (Black)\n",
       "38                                Samsung T561 Galaxy Tab E 9.6 8GB 3G Black (EXPORT)\n",
       "39                                      Sony C6833 Xperia Z Ultra 16GB White (EXPORT)\n",
       "40                                     Sony Xperia M5 LTE Dual Sim E5663 - Export Set\n",
       "41          Sony Xperia T2 Ultra D5303 8GB 4G LTE Unlocked Smartphone Purple (EXPORT)\n",
       "42                                      Sony Xperia T2 Ultra LTE D5303 Black (EXPORT)\n",
       "43                                               Sony Xperia XA Dual 16GB(White 16GB)\n",
       "44                                      Sony Xperia Z3+ Dual E6553 32GB - Copper Gold\n",
       "45                                                        Sony Xperia Z5 Premium 32GB\n",
       "46                                                                       Xiaomi Mi 5s\n",
       "47                                            Xiaomi Redmi 4 Prime 32GB Gold (Export)\n",
       "48                                        Xiaomi Redmi 4 Prime 3GB+32GB Grey (EXPORT)\n",
       "49                                              Xiaomi Redmi Note4 64GB Grey (Export)\n",
       "50                                                              [Telco] iPhone 7 Plus\n",
       "Name: title, dtype: object"
      ]
     },
     "metadata": {},
     "output_type": "display_data"
    }
   ],
   "source": [
    "# Read from CSV file\n",
    "df = lzd_utils.read_lazada_csv()\n",
    "df = df[df.country=='sg']\n",
    "\n",
    "# Slice, dice and re-index the data\n",
    "df_mobiles = df.copy()\n",
    "df_mobiles = df_mobiles[(df.category_lvl_2=='Mobiles')]\n",
    "mobiles_titles = df_mobiles['title']\n",
    "mobiles_titles = mobiles_titles.sort_values(ascending=True)\n",
    "mobiles_titles.reset_index(inplace=True, drop=True)\n",
    "print(mobiles_titles.count())\n",
    "display(mobiles_titles)"
   ]
  },
  {
   "cell_type": "code",
   "execution_count": 3,
   "metadata": {
    "ExecuteTime": {
     "end_time": "2019-07-22T15:49:34.525016Z",
     "start_time": "2019-07-22T15:49:34.509332Z"
    }
   },
   "outputs": [
    {
     "name": "stdout",
     "output_type": "stream",
     "text": [
      "69\n"
     ]
    },
    {
     "data": {
      "text/plain": [
       "0                          (REFURBISHED) Lenovo X201 Core i5 4GB RAM 320GB HDD 12.1\".\n",
       "1     (Refurbished) Dell Precision M4700 15.6\" 3rd Gen Intel Core i7 16GB RAM 750G...\n",
       "2                           (Refurbished) Lenovo Yoga 2 13.3\" Intel Core i7-4510U 8GB\n",
       "3                                           (Refurbished) MacBook 12-inch (5JY32LL/A)\n",
       "4     13-inch Apple MacBook Air MMGF2 ENGLISH KEYBOARD- Intel Core i5 1.6 GHz Dual...\n",
       "5     3-Button 3D USB Optical Scroll LED Mice Mouse for Notebook Laptop Desktop (E...\n",
       "6     ASUS K401UQ-FA074T i7-7500U GT940MX 2GB DDR3 14INCH FHD 8GB 1TB 24GB SSD WIN 10\n",
       "7                                       ASUS T100CHI 4GB/128GB ( REFURBISHED )(Black)\n",
       "8                       ASUS T300CHI-FH011H 8GB Intel Core M-5Y71 2.9Ghz 12.5\" Laptop\n",
       "9     Acer Predator 17 X (GX-791-779W) 17.3\"/i7-6820HK/32GB DDR4/512GB SSD+1TB/Nvi...\n",
       "10                                   Acer Switch Alpha 12 (SA5-271-57A0) with WIN Pro\n",
       "11          Acer Switch Alpha 12 (SA5-271P-76GA) - 12\"/i7-6500U/8GB/512GB SSD/W10 Pro\n",
       "12    Acer Switch One 10 (SW1-011-146Z) - 10.1\"/Atom x5-Z8300/2GB/64GB eMMC+500GB/W10\n",
       "13               Acer VN7-792G-7431 17.3\" 6th Gen Intel Core i7-6700HQ Processor 16GB\n",
       "14                                           Alienware 17 GTX970M 17.3\" Gaming Laptop\n",
       "15    Apple 13.3-inch MacBook Air 1.6GHz dual-core Intel Core i5 ( Refurbished ) +...\n",
       "16       Apple 15.4\" MacBook Pro Computer with Retina Display (Black/Silver) (EXPORT)\n",
       "17                                          Apple MacBook Air 13-inch 128GB MJVE2ZP/A\n",
       "18                             Apple MacBook Air MD712ZP/A - Core i5|11.6\"|4GB - intl\n",
       "19                       Apple MacBook Air MJVG2LL/A 13.3-Inch Laptop (256 GB) EXPORT\n",
       "20          Apple MacBook Pro MF841ZP/A 13.3-Inch Laptop with Retina Display (512 GB)\n",
       "21    Apple Macbook MLHE2ZP/A (12 inch) (Intel Core M3 1.1GHz, 8GB RAM, 256GB Flas...\n",
       "22                                      Apple Macbook Pro w/ Touch Bar 15\" Space Grey\n",
       "23                                Apple Macbook Pro w/ Touch Bar 15\" Space Grey 256GB\n",
       "24                    Asus FX502VM Gaming Laptop-GTX1060, i7-6700HQ,16GB,WIN10(Black)\n",
       "25    Asus Factory Refurbished Transformer Book Original boxed T100TAF Atom Z3735F...\n",
       "26                    Asus ROG GL502VM Laptop- i7-7700HQ, GTX1060 6GB, 16GB RAM,WIN10\n",
       "27                 Asus ROG Strix GL702 -I7-6700HQ 16GB, (GTX1060 DDR5) Gaming Laptop\n",
       "28    Asus ROG Strix GL702VM - I7-7700HQ (GTX1060 6GB) Gaming Laptop *FREE BUNDLE ...\n",
       "29    Asus T303UA-GN032R Portable Type 2-in-1 LCD Display 12.6 \"WQHD, Intel Core i...\n",
       "30                                       Asus X401U-WX017H 14\" AMD E-450 2GB Notebook\n",
       "31                            Asus X556UB-XO020T 15.6inch Netbook i5-6200U 8GB Laptop\n",
       "32              CHUWI HiBook Pro 10.1 inch 2 in 1s Tablet with Keyboard(Black) - intl\n",
       "33                                          Dell Alienware 14 i7-4710MQ Gaming Laptop\n",
       "34    Dell Inspiron 15R 5558 15.6-inch 5Th Gen I5 8GB RAM 1TB Hdd Hd Non-Touch Bac...\n",
       "35    Elenxs Rubberized Notebook Case Cover For Apple Macbook 15.4\" Pro Ultra Thin...\n",
       "36    Elenxs Rubberized Notebook Case For Apple Macbook 15.4 Retina Ultra Thin Har...\n",
       "37    Elenxs Rubberized Notebook Hard Cover For Apple Macbook Pro 13.3 Ultra Thin ...\n",
       "38                           Gigabyte Aero 14 (GTX1060) 7th Gen Gaming Laptop (Black)\n",
       "39    HP 7th Gen15.6\"(with Numeric Keys) Intel Core i5 4GB DDR4 RAM 2GB Graphic Ca...\n",
       "40    HP Notebook ENVY 13-d065TU i5-6200U/8GB/256GB SSD - 13.3-inch diagonal RGBW ...\n",
       "41                            HP SPECTRE X360 13-W017TU- I7-7500U, 8GB, 512SSD, WIN10\n",
       "42    LENOVO IDEAPAD 310 (80TU001MSB) 14\" 7TH GEN INTEL PROCESSOR I5-7200U 4GB RAM...\n",
       "43                LENOVO IP 700-0CSB 15.6\" 6th Gen Intel Core i7-6700HQ Processor 4GB\n",
       "44    LENOVO Ideapad 110-14IBR Laptop / Intel Celeron n3060 Processor / 4GB RAM / ...\n",
       "45                   Lenovo 100-15IBD/i3-5005U/4GB RAM/500GB HDD/15.6\" Display(Black)\n",
       "46                                       Lenovo Flex 2 15.6\" Black - Model: 5942-3305\n",
       "47    Lenovo IdeaPad 310 14\" Laptop Intel i5 2.5GHz 8GB RAM 1TB HDD Windows 10 (Bl...\n",
       "48                                               Lenovo Think pad X250 [Black](Black)\n",
       "49                                               Lenovo Yoga 510 (14\") (Black)(Black)\n",
       "50                                Lenovo Yoga Book with Windows, 64GB,4.0GB ( Black )\n",
       "51     Lenovo Yoga910 13.9\" 7th Gen Intel® Core™ i5 8GB DDR4 RAM, 512GB PCIe NVMe SSD\n",
       "52                                               MSI CX61 2QF 15.6\" Intel Core i7 8GB\n",
       "53                     MSI GP62 6QF Leopard Pro I7-6700HQ GTX960M 15.6\" Gaming Laptop\n",
       "54                         MSI GS63VR Stealth Pro- GTX1060 6GB *FREE KEYBOARD BUNDLE*\n",
       "55    MSI GT83VR 6RF Titan SLI 18.4\" Intel Core i7 6820HK (2.70 GHz) 8GB NVIDIA Ge...\n",
       "56                                        Microsoft Surface Pro 2 64GB Black (EXPORT)\n",
       "57                                Microsoft Surface Pro 4 I7, 8GB RAM, 256 SSD,WIN 10\n",
       "58    New Ideapad 300 15.6\" HD LED 1000GB 4GB RAM (Easy Upgradable) Windows 10 (Bl...\n",
       "59                                               RAZER BLADE STEALTH - UHD 4K (512GB)\n",
       "60         Razer Blade Pro GTX960M 256GB SSD + 500GB HDD 17\" Ultra Slim Gaming Laptop\n",
       "61    Razer Naga Chroma - Ergonomic MMO Gaming Mouse - World's Most Precise 16,000...\n",
       "62                 Refurbished HP Elitebook 2570p i7/4GB RAM/128GB SSD (Win7)(Silver)\n",
       "63                     Refurbished HP Elitebook 8470p i7/4GB/320GB HDD (win7)(Silver)\n",
       "64                        USB Optical Wireless Receiver Mouse (Black) (EXPORT) - Intl\n",
       "65                                                                 WMP GD 10 Gudetama\n",
       "66                               Xiaomi Air Notebook 12.5 inch 4GB RAM 128GB (Export)\n",
       "67                                       Xiaomi Mi Notebook Air 13.3″ Silver (EXPORT)\n",
       "68    mDrive Adapter 64 GB (Silver) MacBook Pro 15\" Retina (Late 2012, Early 2013)...\n",
       "Name: title, dtype: object"
      ]
     },
     "metadata": {},
     "output_type": "display_data"
    }
   ],
   "source": [
    "# Slice, dice and re-index the data\n",
    "df_laptops = df.copy()\n",
    "df_laptops = df_laptops[(df_laptops.category_lvl_2=='Laptops')]\n",
    "laptops_titles = df_laptops['title']\n",
    "laptops_titles = laptops_titles.sort_values(ascending=True)\n",
    "laptops_titles.reset_index(inplace=True, drop=True)\n",
    "print(laptops_titles.count())\n",
    "display(laptops_titles)"
   ]
  },
  {
   "cell_type": "markdown",
   "metadata": {},
   "source": [
    "### Appendices\n",
    "\n",
    "`demo()` gives an example implementation of the various distance metrics."
   ]
  },
  {
   "cell_type": "code",
   "execution_count": 4,
   "metadata": {
    "ExecuteTime": {
     "end_time": "2019-07-22T15:49:34.551850Z",
     "start_time": "2019-07-22T15:49:34.528695Z"
    }
   },
   "outputs": [
    {
     "name": "stdout",
     "output_type": "stream",
     "text": [
      "Edit distance btwn 'rain' and 'shine': 3\n",
      "Edit dist with transpositions btwn 'rain' and 'shine': 3\n",
      "Jaro similarity btwn 'rain' and 'shine': 0.6333333333333333\n",
      "Jaro-Winkler similarity btwn 'rain' and 'shine': 0.6333333333333333\n",
      "Jaro-Winkler distance btwn 'rain' and 'shine': 0.3666666666666667\n",
      "Edit distance btwn 'abcdef' and 'acbdef': 2\n",
      "Edit dist with transpositions btwn 'abcdef' and 'acbdef': 1\n",
      "Jaro similarity btwn 'abcdef' and 'acbdef': 0.9444444444444444\n",
      "Jaro-Winkler similarity btwn 'abcdef' and 'acbdef': 0.95\n",
      "Jaro-Winkler distance btwn 'abcdef' and 'acbdef': 0.050000000000000044\n",
      "Edit distance btwn 'language' and 'lnaguaeg': 4\n",
      "Edit dist with transpositions btwn 'language' and 'lnaguaeg': 2\n",
      "Jaro similarity btwn 'language' and 'lnaguaeg': 0.9166666666666666\n",
      "Jaro-Winkler similarity btwn 'language' and 'lnaguaeg': 0.9249999999999999\n",
      "Jaro-Winkler distance btwn 'language' and 'lnaguaeg': 0.07500000000000007\n",
      "Edit distance btwn 'language' and 'lnaugage': 3\n",
      "Edit dist with transpositions btwn 'language' and 'lnaugage': 2\n",
      "Jaro similarity btwn 'language' and 'lnaugage': 0.9166666666666666\n",
      "Jaro-Winkler similarity btwn 'language' and 'lnaugage': 0.9249999999999999\n",
      "Jaro-Winkler distance btwn 'language' and 'lnaugage': 0.07500000000000007\n",
      "Edit distance btwn 'language' and 'lngauage': 2\n",
      "Edit dist with transpositions btwn 'language' and 'lngauage': 2\n",
      "Jaro similarity btwn 'language' and 'lngauage': 0.9583333333333333\n",
      "Jaro-Winkler similarity btwn 'language' and 'lngauage': 0.9624999999999999\n",
      "Jaro-Winkler distance btwn 'language' and 'lngauage': 0.03750000000000009\n",
      "s1: {1, 2, 3, 4}\n",
      "s2: {3, 4, 5}\n",
      "Binary distance: 1.0\n",
      "Jaccard distance: 0.6\n",
      "MASI distance: 0.868\n"
     ]
    }
   ],
   "source": [
    "demo()"
   ]
  },
  {
   "cell_type": "markdown",
   "metadata": {},
   "source": [
    "**References**\n",
    "\n",
    "- [Github / minhcp](https://github.com/minhcp/CIKMCup17) for the dataset\n",
    "- [nltk.metrics package](https://www.nltk.org/api/nltk.metrics.html)"
   ]
  }
 ],
 "metadata": {
  "kernelspec": {
   "display_name": "Python 3",
   "language": "python",
   "name": "python3"
  },
  "language_info": {
   "codemirror_mode": {
    "name": "ipython",
    "version": 3
   },
   "file_extension": ".py",
   "mimetype": "text/x-python",
   "name": "python",
   "nbconvert_exporter": "python",
   "pygments_lexer": "ipython3",
   "version": "3.6.5"
  }
 },
 "nbformat": 4,
 "nbformat_minor": 2
}
