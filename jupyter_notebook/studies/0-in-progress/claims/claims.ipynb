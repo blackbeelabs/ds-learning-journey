{
 "cells": [
  {
   "cell_type": "markdown",
   "metadata": {
    "ExecuteTime": {
     "end_time": "2019-02-03T05:41:21.614609Z",
     "start_time": "2019-02-03T05:41:21.607755Z"
    }
   },
   "source": [
    "## Exercise - Model Estimation & Evaluation\n",
    "\n",
    "This is an exercise on parametric model estimation & model evaluation using a Wines dataset."
   ]
  },
  {
   "cell_type": "code",
   "execution_count": 1,
   "metadata": {
    "ExecuteTime": {
     "end_time": "2019-02-26T12:29:47.192969Z",
     "start_time": "2019-02-26T12:29:45.538967Z"
    }
   },
   "outputs": [],
   "source": [
    "%matplotlib inline\n",
    "\n",
    "import warnings\n",
    "warnings.simplefilter(action='ignore', category=Warning)\n",
    "\n",
    "import pandas as pd\n",
    "import numpy as np\n",
    "\n",
    "import matplotlib.pyplot as plt\n",
    "import seaborn as sns\n",
    "sns.set()\n",
    "\n",
    "from scipy.stats import norm\n",
    "from scipy.stats import kstest"
   ]
  },
  {
   "cell_type": "markdown",
   "metadata": {},
   "source": [
    "### Read from CSV File & Preliminary EDA\n",
    "\n",
    "After reading from the CSV file, perform EDA for `points` and `price`. In particular, we plot the boxplot for points and price for the sample, then do the same for the 5 countries that have the most wines in the sample."
   ]
  },
  {
   "cell_type": "code",
   "execution_count": 3,
   "metadata": {
    "ExecuteTime": {
     "end_time": "2019-02-26T12:29:56.979153Z",
     "start_time": "2019-02-26T12:29:56.912231Z"
    },
    "scrolled": true
   },
   "outputs": [],
   "source": [
    "claims_df = pd.read_csv('claims-sample.csv')\n",
    "claims_df = claims_df[['Claim Amount']]\n",
    "claims_df.rename(columns={'Claim Amount' : 'claim_amount'}, inplace=True)"
   ]
  },
  {
   "cell_type": "code",
   "execution_count": 10,
   "metadata": {
    "ExecuteTime": {
     "end_time": "2019-02-26T12:34:00.808239Z",
     "start_time": "2019-02-26T12:34:00.801766Z"
    }
   },
   "outputs": [
    {
     "name": "stdout",
     "output_type": "stream",
     "text": [
      "16.03 278.0\n",
      "0 1063.91\n"
     ]
    }
   ],
   "source": [
    "lo, hi = np.percentile(claims_df['claim_amount'], [25, 75])\n",
    "iqr, multiplier = hi-lo, 3\n",
    "lower_limit, upper_limit = max(0, lo-multiplier*iqr), hi+multiplier*iqr\n",
    "print(lo, hi)\n",
    "print(lower_limit, upper_limit)"
   ]
  },
  {
   "cell_type": "code",
   "execution_count": 11,
   "metadata": {
    "ExecuteTime": {
     "end_time": "2019-02-26T12:34:02.779114Z",
     "start_time": "2019-02-26T12:34:02.774718Z"
    }
   },
   "outputs": [],
   "source": [
    "claims_df = claims_df[claims_df['claim_amount'] <= upper_limit]\n",
    "claims_df.reset_index(inplace=True, drop=True)"
   ]
  },
  {
   "cell_type": "code",
   "execution_count": 12,
   "metadata": {
    "ExecuteTime": {
     "end_time": "2019-02-26T12:34:06.706084Z",
     "start_time": "2019-02-26T12:34:06.691573Z"
    }
   },
   "outputs": [
    {
     "data": {
      "text/html": [
       "<div>\n",
       "<style scoped>\n",
       "    .dataframe tbody tr th:only-of-type {\n",
       "        vertical-align: middle;\n",
       "    }\n",
       "\n",
       "    .dataframe tbody tr th {\n",
       "        vertical-align: top;\n",
       "    }\n",
       "\n",
       "    .dataframe thead th {\n",
       "        text-align: right;\n",
       "    }\n",
       "</style>\n",
       "<table border=\"1\" class=\"dataframe\">\n",
       "  <thead>\n",
       "    <tr style=\"text-align: right;\">\n",
       "      <th></th>\n",
       "      <th>claim_amount</th>\n",
       "    </tr>\n",
       "  </thead>\n",
       "  <tbody>\n",
       "    <tr>\n",
       "      <th>47</th>\n",
       "      <td>960.00</td>\n",
       "    </tr>\n",
       "    <tr>\n",
       "      <th>258</th>\n",
       "      <td>989.73</td>\n",
       "    </tr>\n",
       "    <tr>\n",
       "      <th>336</th>\n",
       "      <td>1000.00</td>\n",
       "    </tr>\n",
       "    <tr>\n",
       "      <th>197</th>\n",
       "      <td>1032.00</td>\n",
       "    </tr>\n",
       "    <tr>\n",
       "      <th>208</th>\n",
       "      <td>1060.00</td>\n",
       "    </tr>\n",
       "  </tbody>\n",
       "</table>\n",
       "</div>"
      ],
      "text/plain": [
       "     claim_amount\n",
       "47         960.00\n",
       "258        989.73\n",
       "336       1000.00\n",
       "197       1032.00\n",
       "208       1060.00"
      ]
     },
     "execution_count": 12,
     "metadata": {},
     "output_type": "execute_result"
    }
   ],
   "source": [
    "claims_df.sort_values('claim_amount', ascending=True).tail()"
   ]
  },
  {
   "cell_type": "code",
   "execution_count": 13,
   "metadata": {
    "ExecuteTime": {
     "end_time": "2019-02-26T12:34:08.417812Z",
     "start_time": "2019-02-26T12:34:07.908638Z"
    },
    "scrolled": false
   },
   "outputs": [
    {
     "name": "stderr",
     "output_type": "stream",
     "text": [
      "/Users/bryanlim/.pyenv/versions/3.4.8/envs/ds-toolkit/lib/python3.4/site-packages/matplotlib/axes/_axes.py:6462: UserWarning: The 'normed' kwarg is deprecated, and has been replaced by the 'density' kwarg.\n",
      "  warnings.warn(\"The 'normed' kwarg is deprecated, and has been \"\n"
     ]
    },
    {
     "data": {
      "image/png": "[encoded data removed]",
      "text/plain": [
       "<Figure size 864x576 with 2 Axes>"
      ]
     },
     "metadata": {},
     "output_type": "display_data"
    }
   ],
   "source": [
    "fig = plt.figure(figsize=(12, 8))\n",
    "ax1, ax2 = fig.add_subplot(211), fig.add_subplot(212)\n",
    "sns.boxplot(claims_df['claim_amount'], ax=ax1)\n",
    "sns.distplot(claims_df['claim_amount'], ax=ax2)\n",
    "plt.tight_layout()\n",
    "plt.show()"
   ]
  },
  {
   "cell_type": "markdown",
   "metadata": {},
   "source": [
    "### Model Fitting (Parametric Estimation)\n",
    "\n",
    "Let's take a look at the wines from the US. For ease of use, we sort them from the lowest to the highest."
   ]
  },
  {
   "cell_type": "code",
   "execution_count": 5,
   "metadata": {
    "ExecuteTime": {
     "end_time": "2019-02-26T10:54:17.117366Z",
     "start_time": "2019-02-26T10:54:17.103808Z"
    }
   },
   "outputs": [
    {
     "name": "stdout",
     "output_type": "stream",
     "text": [
      "[80, 81, 81, 81, 81, 82, 82, 82, 82, 82, 82, 82, 82, 82, 82, 83, 83, 83, 83, 83, 83, 83, 83, 83, 83, 84, 84, 84, 84, 84]\n"
     ]
    }
   ],
   "source": [
    "us_wines_df = wines_df.copy()\n",
    "us_wines_df = us_wines_df[us_wines_df.country == 'US']\n",
    "us_wines_df.reset_index(drop=True, inplace=True)\n",
    "us_wines_points = us_wines_df['points']\n",
    "# Sorting from lowest to highest\n",
    "sorted_us_wines_points = us_wines_points.sort_values(ascending=True)\n",
    "print(sorted_us_wines_points.tolist()[:30])"
   ]
  },
  {
   "cell_type": "markdown",
   "metadata": {},
   "source": [
    "Let's attempt to fit the points of US wines to a normal distribution."
   ]
  },
  {
   "cell_type": "code",
   "execution_count": 6,
   "metadata": {
    "ExecuteTime": {
     "end_time": "2019-02-26T10:54:17.129760Z",
     "start_time": "2019-02-26T10:54:17.122511Z"
    }
   },
   "outputs": [
    {
     "name": "stdout",
     "output_type": "stream",
     "text": [
      "88.2749445676275 9.74702189271439\n"
     ]
    }
   ],
   "source": [
    "fitted_mu, fitted_sigma = norm.fit(us_wines_points)\n",
    "print(fitted_mu,fitted_sigma**2)"
   ]
  },
  {
   "cell_type": "markdown",
   "metadata": {},
   "source": [
    "The parameters for the fitted normal is $\\hat{\\mu}=88.275$ and $\\hat{\\sigma}^2=9.747$. How close is the fitted distribution to the empirical distribution? The fitted distribution is overlayed on the histogram."
   ]
  },
  {
   "cell_type": "code",
   "execution_count": 7,
   "metadata": {
    "ExecuteTime": {
     "end_time": "2019-02-26T10:54:17.160190Z",
     "start_time": "2019-02-26T10:54:17.136280Z"
    },
    "scrolled": true
   },
   "outputs": [
    {
     "name": "stdout",
     "output_type": "stream",
     "text": [
      "      F_hat     p_hat         x\n",
      "0  0.000499  0.000568  78.00000\n",
      "1  0.000627  0.000702  78.20202\n",
      "2  0.000784  0.000863  78.40404\n"
     ]
    }
   ],
   "source": [
    "# To plot the fitted, use norm.pdf to get the curve.\n",
    "points_min, points_max = us_wines_points.min(), us_wines_points.max()\n",
    "points_x = np.linspace(points_min-2, points_max+2, 100)\n",
    "fitted_pdf = norm.pdf(points_x, fitted_mu, fitted_sigma)\n",
    "fitted_cdf = norm.cdf(points_x, fitted_mu, fitted_sigma)\n",
    "fitted_df = pd.DataFrame({'x' : points_x, \n",
    "                          'p_hat' : fitted_pdf,\n",
    "                          'F_hat' : fitted_cdf})\n",
    "print(fitted_df.head(3))"
   ]
  },
  {
   "cell_type": "code",
   "execution_count": 8,
   "metadata": {
    "ExecuteTime": {
     "end_time": "2019-02-26T10:54:17.567700Z",
     "start_time": "2019-02-26T10:54:17.169259Z"
    },
    "scrolled": false
   },
   "outputs": [
    {
     "name": "stderr",
     "output_type": "stream",
     "text": [
      "/Users/bryanlim/.pyenv/versions/3.4.8/envs/ds-toolkit/lib/python3.4/site-packages/matplotlib/axes/_axes.py:6462: UserWarning: The 'normed' kwarg is deprecated, and has been replaced by the 'density' kwarg.\n",
      "  warnings.warn(\"The 'normed' kwarg is deprecated, and has been \"\n"
     ]
    },
    {
     "data": {
      "image/png": "[encoded data removed]",
      "text/plain": [
       "<Figure size 1080x432 with 1 Axes>"
      ]
     },
     "metadata": {},
     "output_type": "display_data"
    }
   ],
   "source": [
    "fig = plt.figure(figsize=(15, 6))\n",
    "ax = fig.add_subplot(111)\n",
    "\n",
    "# Plot the histogram of the empirical distribution\n",
    "sns.distplot(us_wines_points, bins=20, hist_kws=dict(edgecolor=\"k\", linewidth=2), ax=ax)\n",
    "# Plot the fitted normal distribution\n",
    "fitted_df.plot(kind='line', x='x', y='p_hat', linewidth=3, color='black', ax=ax)\n",
    "\n",
    "ax.set_title(\"Histogram & Fitted (Normal) KDE plot for points for wines from US, n=%d\" % us_wines_points.count(), fontsize=16)\n",
    "ax.legend(['fitted', 'wines',])\n",
    "plt.show()"
   ]
  },
  {
   "cell_type": "markdown",
   "metadata": {},
   "source": [
    "Side note: The kurtosis of the distribution is clearly negative since it has fatter tails and a lower peak."
   ]
  },
  {
   "cell_type": "code",
   "execution_count": 9,
   "metadata": {
    "ExecuteTime": {
     "end_time": "2019-02-26T10:54:17.577550Z",
     "start_time": "2019-02-26T10:54:17.570455Z"
    }
   },
   "outputs": [
    {
     "data": {
      "text/plain": [
       "-0.5696611936314397"
      ]
     },
     "execution_count": 9,
     "metadata": {},
     "output_type": "execute_result"
    }
   ],
   "source": [
    "us_wines_points.kurt()"
   ]
  },
  {
   "cell_type": "markdown",
   "metadata": {},
   "source": [
    "### Model Evaluation - Graphical Methods\n",
    "How well does the normal distribution explain the distribution of the data? Let's look at the CDF plots for both the empirical distribution and fitted distribution first."
   ]
  },
  {
   "cell_type": "code",
   "execution_count": 10,
   "metadata": {
    "ExecuteTime": {
     "end_time": "2019-02-26T10:54:17.606931Z",
     "start_time": "2019-02-26T10:54:17.580989Z"
    }
   },
   "outputs": [
    {
     "name": "stdout",
     "output_type": "stream",
     "text": [
      "empirical_df.count()=451\n",
      "empirical_df['x'].nunique()=17\n",
      "empirical_df['x'].unique()=[80, 81, 82, 83, 84, 85, 86, 87, 88, 89, 90, 91, 92, 93, 94, 95, 96]\n",
      "      x  cum_count  F_empirical\n",
      "0  80.0          1     0.002217\n",
      "0  81.0          1     0.002217\n",
      "1  81.0          5     0.011086\n",
      "1  82.0          5     0.011086\n",
      "2  82.0         15     0.033259\n"
     ]
    }
   ],
   "source": [
    "empirical_df = pd.DataFrame({'x' : sorted_us_wines_points})\n",
    "empirical_df.reset_index(inplace=True, drop=True)\n",
    "empirical_df['i'] = empirical_df.index+1\n",
    "# For each value of x, find p(X<=x), stored as empirical_p\n",
    "print('empirical_df.count()=%d' % empirical_df['x'].count())\n",
    "print('empirical_df[\\'x\\'].nunique()=%d' % empirical_df['x'].nunique())\n",
    "print('empirical_df[\\'x\\'].unique()=%s' % str(empirical_df['x'].unique().tolist()))\n",
    "empirical_groupby_df = empirical_df.groupby('x')['i'].max().reset_index(name='cum_count')\n",
    "empirical_groupby_df['F_empirical'] = empirical_groupby_df['cum_count']/empirical_groupby_df['cum_count'].max()\n",
    "\n",
    "empirical_groupby_df2 = empirical_groupby_df.copy()\n",
    "# empirical_groupby_df2 = empirical_groupby_df2[:-1]\n",
    "empirical_groupby_df2['x'] = empirical_groupby_df2['x'].shift(-1)\n",
    "empirical_groupby_df2 = empirical_groupby_df2[:-1]\n",
    "\n",
    "empirical_groupby_df = empirical_groupby_df.append(empirical_groupby_df2)\n",
    "empirical_groupby_df.sort_values(['x', 'F_empirical'], inplace=True)\n",
    "print(empirical_groupby_df.head())"
   ]
  },
  {
   "cell_type": "code",
   "execution_count": 11,
   "metadata": {
    "ExecuteTime": {
     "end_time": "2019-02-26T10:54:17.987765Z",
     "start_time": "2019-02-26T10:54:17.609790Z"
    },
    "scrolled": false
   },
   "outputs": [
    {
     "data": {
      "image/png": "[encoded data removed]",
      "text/plain": [
       "<Figure size 1152x432 with 1 Axes>"
      ]
     },
     "metadata": {},
     "output_type": "display_data"
    }
   ],
   "source": [
    "fig = plt.figure(figsize=(16, 6))\n",
    "ax = fig.add_subplot(111)\n",
    "# Plot the empirical CDF\n",
    "empirical_groupby_df.plot(kind='line', x='x', y='F_empirical', marker='X', ax=ax, markersize=5, linewidth=1, color='green')\n",
    "# Plot the fitted CDF\n",
    "fitted_df.plot(kind='line', x='x', y='F_hat', marker='x', ax=ax, linewidth=2)\n",
    "ax.set_title(\"CDF of Empirical & Fitted Distribution\", fontsize=16)\n",
    "ax.legend(['empirical', 'fitted'], fontsize=14)\n",
    "ax.set_yticks(np.arange(0, 1.1, 0.1))\n",
    "ax.set_xticks(np.arange(empirical_groupby_df['x'].min()-2,\n",
    "                       empirical_groupby_df['x'].max()+3))\n",
    "plt.show()"
   ]
  },
  {
   "cell_type": "markdown",
   "metadata": {},
   "source": [
    "**Conclusion**: From the CDF plots, the distribution looks like a good fit, but some clear deviations from the fitted can be seen where $86 \\leq x \\leq 90$. Hence, we should use other methods to evaluate the validity of the model."
   ]
  },
  {
   "cell_type": "markdown",
   "metadata": {},
   "source": [
    "### Graphical Methods - *p-p* Plot\n",
    "\n",
    "A *p-p* plot or probability-probability plot is used to see how the closeness between the empirical function $F^*(x)$, and the fitted (normal) function $\\hat{F}(x)$. First find the empirical distribution, $F^*(x)$ or `F_star_x` of the sample. This is slightly different from that of the CDF curve. \n",
    "\n",
    "To find `F_star_x`, find all unique point values of $x$ and sort them such that you get $(x_{(1)} \\leq x_{(2)} \\leq \\cdots x_{(m)})$ for $m$ unique values. Then, for each value of $x_{(j)}$, $j \\in \\{x_{(1)}, \\cdots, x_{(m)}\\}$, approximate the probability of an observation less than or equal to $x_{(j)}$ using the sample proportion $F_j = \\frac{i}{n+1}$, where $n$ is the number of observations.\n",
    "\n",
    "In this exercise, $n=451$, $m=17$."
   ]
  },
  {
   "cell_type": "code",
   "execution_count": 12,
   "metadata": {
    "ExecuteTime": {
     "end_time": "2019-02-26T10:54:18.009354Z",
     "start_time": "2019-02-26T10:54:17.991120Z"
    },
    "scrolled": true
   },
   "outputs": [
    {
     "data": {
      "text/html": [
       "<div>\n",
       "<style scoped>\n",
       "    .dataframe tbody tr th:only-of-type {\n",
       "        vertical-align: middle;\n",
       "    }\n",
       "\n",
       "    .dataframe tbody tr th {\n",
       "        vertical-align: top;\n",
       "    }\n",
       "\n",
       "    .dataframe thead th {\n",
       "        text-align: right;\n",
       "    }\n",
       "</style>\n",
       "<table border=\"1\" class=\"dataframe\">\n",
       "  <thead>\n",
       "    <tr style=\"text-align: right;\">\n",
       "      <th></th>\n",
       "      <th>x</th>\n",
       "      <th>cum_count</th>\n",
       "      <th>F_empirical</th>\n",
       "      <th>F_star_x</th>\n",
       "    </tr>\n",
       "  </thead>\n",
       "  <tbody>\n",
       "    <tr>\n",
       "      <th>0</th>\n",
       "      <td>80.0</td>\n",
       "      <td>1</td>\n",
       "      <td>0.002217</td>\n",
       "      <td>0.002212</td>\n",
       "    </tr>\n",
       "    <tr>\n",
       "      <th>0</th>\n",
       "      <td>81.0</td>\n",
       "      <td>1</td>\n",
       "      <td>0.002217</td>\n",
       "      <td>0.002212</td>\n",
       "    </tr>\n",
       "    <tr>\n",
       "      <th>1</th>\n",
       "      <td>81.0</td>\n",
       "      <td>5</td>\n",
       "      <td>0.011086</td>\n",
       "      <td>0.011062</td>\n",
       "    </tr>\n",
       "    <tr>\n",
       "      <th>1</th>\n",
       "      <td>82.0</td>\n",
       "      <td>5</td>\n",
       "      <td>0.011086</td>\n",
       "      <td>0.011062</td>\n",
       "    </tr>\n",
       "    <tr>\n",
       "      <th>2</th>\n",
       "      <td>82.0</td>\n",
       "      <td>15</td>\n",
       "      <td>0.033259</td>\n",
       "      <td>0.033186</td>\n",
       "    </tr>\n",
       "    <tr>\n",
       "      <th>2</th>\n",
       "      <td>83.0</td>\n",
       "      <td>15</td>\n",
       "      <td>0.033259</td>\n",
       "      <td>0.033186</td>\n",
       "    </tr>\n",
       "    <tr>\n",
       "      <th>3</th>\n",
       "      <td>83.0</td>\n",
       "      <td>25</td>\n",
       "      <td>0.055432</td>\n",
       "      <td>0.055310</td>\n",
       "    </tr>\n",
       "    <tr>\n",
       "      <th>3</th>\n",
       "      <td>84.0</td>\n",
       "      <td>25</td>\n",
       "      <td>0.055432</td>\n",
       "      <td>0.055310</td>\n",
       "    </tr>\n",
       "    <tr>\n",
       "      <th>4</th>\n",
       "      <td>84.0</td>\n",
       "      <td>50</td>\n",
       "      <td>0.110865</td>\n",
       "      <td>0.110619</td>\n",
       "    </tr>\n",
       "    <tr>\n",
       "      <th>4</th>\n",
       "      <td>85.0</td>\n",
       "      <td>50</td>\n",
       "      <td>0.110865</td>\n",
       "      <td>0.110619</td>\n",
       "    </tr>\n",
       "  </tbody>\n",
       "</table>\n",
       "</div>"
      ],
      "text/plain": [
       "      x  cum_count  F_empirical  F_star_x\n",
       "0  80.0          1     0.002217  0.002212\n",
       "0  81.0          1     0.002217  0.002212\n",
       "1  81.0          5     0.011086  0.011062\n",
       "1  82.0          5     0.011086  0.011062\n",
       "2  82.0         15     0.033259  0.033186\n",
       "2  83.0         15     0.033259  0.033186\n",
       "3  83.0         25     0.055432  0.055310\n",
       "3  84.0         25     0.055432  0.055310\n",
       "4  84.0         50     0.110865  0.110619\n",
       "4  85.0         50     0.110865  0.110619"
      ]
     },
     "execution_count": 12,
     "metadata": {},
     "output_type": "execute_result"
    }
   ],
   "source": [
    "empirical_groupby_df['F_star_x'] = empirical_groupby_df['cum_count']/(empirical_groupby_df['cum_count'].max()+1)\n",
    "empirical_groupby_df.head(10)"
   ]
  },
  {
   "cell_type": "markdown",
   "metadata": {},
   "source": [
    "For each value of $m$, we only retain the smallest and largest value of `f_star_i` for every value of $x_{(m)}$."
   ]
  },
  {
   "cell_type": "code",
   "execution_count": 13,
   "metadata": {
    "ExecuteTime": {
     "end_time": "2019-02-26T10:54:18.038393Z",
     "start_time": "2019-02-26T10:54:18.012708Z"
    },
    "scrolled": true
   },
   "outputs": [
    {
     "data": {
      "text/html": [
       "<div>\n",
       "<style scoped>\n",
       "    .dataframe tbody tr th:only-of-type {\n",
       "        vertical-align: middle;\n",
       "    }\n",
       "\n",
       "    .dataframe tbody tr th {\n",
       "        vertical-align: top;\n",
       "    }\n",
       "\n",
       "    .dataframe thead th {\n",
       "        text-align: right;\n",
       "    }\n",
       "</style>\n",
       "<table border=\"1\" class=\"dataframe\">\n",
       "  <thead>\n",
       "    <tr style=\"text-align: right;\">\n",
       "      <th></th>\n",
       "      <th>x</th>\n",
       "      <th>F_star_x</th>\n",
       "    </tr>\n",
       "  </thead>\n",
       "  <tbody>\n",
       "    <tr>\n",
       "      <th>0</th>\n",
       "      <td>80.0</td>\n",
       "      <td>0.002212</td>\n",
       "    </tr>\n",
       "    <tr>\n",
       "      <th>1</th>\n",
       "      <td>81.0</td>\n",
       "      <td>0.002212</td>\n",
       "    </tr>\n",
       "    <tr>\n",
       "      <th>2</th>\n",
       "      <td>81.0</td>\n",
       "      <td>0.011062</td>\n",
       "    </tr>\n",
       "    <tr>\n",
       "      <th>3</th>\n",
       "      <td>82.0</td>\n",
       "      <td>0.011062</td>\n",
       "    </tr>\n",
       "    <tr>\n",
       "      <th>4</th>\n",
       "      <td>82.0</td>\n",
       "      <td>0.033186</td>\n",
       "    </tr>\n",
       "    <tr>\n",
       "      <th>5</th>\n",
       "      <td>83.0</td>\n",
       "      <td>0.033186</td>\n",
       "    </tr>\n",
       "    <tr>\n",
       "      <th>6</th>\n",
       "      <td>83.0</td>\n",
       "      <td>0.055310</td>\n",
       "    </tr>\n",
       "    <tr>\n",
       "      <th>7</th>\n",
       "      <td>84.0</td>\n",
       "      <td>0.055310</td>\n",
       "    </tr>\n",
       "    <tr>\n",
       "      <th>8</th>\n",
       "      <td>84.0</td>\n",
       "      <td>0.110619</td>\n",
       "    </tr>\n",
       "    <tr>\n",
       "      <th>9</th>\n",
       "      <td>85.0</td>\n",
       "      <td>0.110619</td>\n",
       "    </tr>\n",
       "    <tr>\n",
       "      <th>10</th>\n",
       "      <td>85.0</td>\n",
       "      <td>0.210177</td>\n",
       "    </tr>\n",
       "  </tbody>\n",
       "</table>\n",
       "</div>"
      ],
      "text/plain": [
       "       x  F_star_x\n",
       "0   80.0  0.002212\n",
       "1   81.0  0.002212\n",
       "2   81.0  0.011062\n",
       "3   82.0  0.011062\n",
       "4   82.0  0.033186\n",
       "5   83.0  0.033186\n",
       "6   83.0  0.055310\n",
       "7   84.0  0.055310\n",
       "8   84.0  0.110619\n",
       "9   85.0  0.110619\n",
       "10  85.0  0.210177"
      ]
     },
     "execution_count": 13,
     "metadata": {},
     "output_type": "execute_result"
    }
   ],
   "source": [
    "min_prob_in_j_df = empirical_groupby_df.groupby('x')['F_star_x'].min().reset_index(name='F_star_x')\n",
    "max_prob_in_j_df = empirical_groupby_df.groupby('x')['F_star_x'].max().reset_index(name='F_star_x')\n",
    "pp_df = min_prob_in_j_df.append(max_prob_in_j_df).sort_values(['x', 'F_star_x'])\n",
    "pp_df.drop_duplicates(subset=['x', 'F_star_x'], inplace=True)\n",
    "pp_df.reset_index(inplace=True, drop=True)\n",
    "pp_df.head(11)"
   ]
  },
  {
   "cell_type": "markdown",
   "metadata": {},
   "source": [
    "We then add another column for every value of $x$, which represents the CDF of the fitted curve, $\\hat{F}(x)$. This can be easily calculated given we have $\\hat{\\mu}$ and $\\hat{\\sigma}^2$."
   ]
  },
  {
   "cell_type": "code",
   "execution_count": 14,
   "metadata": {
    "ExecuteTime": {
     "end_time": "2019-02-26T10:54:18.059636Z",
     "start_time": "2019-02-26T10:54:18.041524Z"
    }
   },
   "outputs": [
    {
     "name": "stdout",
     "output_type": "stream",
     "text": [
      "      x  F_star_x   F_hat_x\n",
      "0  80.0  0.002212  0.004019\n",
      "1  81.0  0.002212  0.009898\n",
      "2  81.0  0.011062  0.009898\n",
      "3  82.0  0.011062  0.022221\n",
      "4  82.0  0.033186  0.022221\n",
      "\n",
      "       x  F_star_x   F_hat_x\n",
      "28  94.0  0.986726  0.966656\n",
      "29  95.0  0.986726  0.984383\n",
      "30  95.0  0.995575  0.984383\n",
      "31  96.0  0.995575  0.993327\n",
      "32  96.0  0.997788  0.993327\n"
     ]
    }
   ],
   "source": [
    "pp_df['F_hat_x'] = norm.cdf(pp_df['x'], fitted_mu, fitted_sigma)\n",
    "print(pp_df.head())\n",
    "print()\n",
    "print(pp_df.tail())"
   ]
  },
  {
   "cell_type": "code",
   "execution_count": 15,
   "metadata": {
    "ExecuteTime": {
     "end_time": "2019-02-26T10:54:18.073417Z",
     "start_time": "2019-02-26T10:54:18.062898Z"
    },
    "scrolled": true
   },
   "outputs": [
    {
     "name": "stdout",
     "output_type": "stream",
     "text": [
      "   x  y\n",
      "0  0  0\n",
      "1  1  1\n"
     ]
    }
   ],
   "source": [
    "forty_five_line_df = pd.DataFrame({'x' : [0,1], 'y' : [0,1]})\n",
    "print(forty_five_line_df)"
   ]
  },
  {
   "cell_type": "markdown",
   "metadata": {},
   "source": [
    "Now we plot the empirical function $F^*(x)$ on the horizontal axis and the fitted function $\\hat{F}(x)$ on the vertical axis. Each point represents a value of $x$ and its position is determined by the CDF value for the empirical and fitted curves. There is also a 45-degree line stretching from $0$ to $1$. If the estimated curve is a good fit to the data then all points will lie near the 45-degree line."
   ]
  },
  {
   "cell_type": "code",
   "execution_count": 16,
   "metadata": {
    "ExecuteTime": {
     "end_time": "2019-02-26T10:54:18.442984Z",
     "start_time": "2019-02-26T10:54:18.076406Z"
    }
   },
   "outputs": [
    {
     "data": {
      "image/png": "[encoded data removed]",
      "text/plain": [
       "<Figure size 576x576 with 1 Axes>"
      ]
     },
     "metadata": {},
     "output_type": "display_data"
    }
   ],
   "source": [
    "fig = plt.figure(figsize=(8, 8))\n",
    "ax = fig.add_subplot(111)\n",
    "\n",
    "pp_df.plot(kind='scatter', x='F_star_x', y='F_hat_x', ax=ax, marker='X')\n",
    "forty_five_line_df.plot(kind='line', x='x', y='y', ax=ax, color='tomato')\n",
    "ax.set_ylabel(\"Fitted\", fontsize=14)\n",
    "ax.set_xticks(np.arange(0, 1.02, 0.10))\n",
    "ax.set_xticklabels(['%.1f' % f for f in np.arange(0, 1.1, 0.10)], rotation=90)\n",
    "ax.set_yticks(np.arange(0, 1.02, 0.10))\n",
    "ax.set_yticklabels(['%.1f' % f for f in np.arange(0, 1.1, 0.10)])\n",
    "ax.set_xlabel(\"Empirical\", fontsize=14)\n",
    "ax.legend('')\n",
    "ax.set_title(\"p-p plot for points\", fontsize=16)\n",
    "plt.show()"
   ]
  },
  {
   "cell_type": "markdown",
   "metadata": {},
   "source": [
    "**Conclusion**: We can see that the fitted model is a fairly good fit because most of the values lie near the 45-degree line. However, the deviations start to be apparent where $0.4 \\leq F \\leq 0.6$."
   ]
  },
  {
   "cell_type": "markdown",
   "metadata": {},
   "source": [
    "### Diagnostic Tests - Kolmogorov-Smirnov Goodness of Fit Test\n",
    "\n",
    "The null hypothesis is the fitted function $\\hat{F}(x)$ is close to the empirical function $F^*(x)$. We find the test statistic, $D$ using:\n",
    "\n",
    "$$\n",
    "D = \\max_{i \\in \\left\\{ 1, \\cdots, M\\right\\}}\n",
    "\\left\\{ \n",
    "\\max \n",
    "\\begin{pmatrix}\n",
    "\\left|\\hat F (x_{(i-1)})- F^*(x_{(i)})\\right|, \\left|\\hat F (x_{(i)})- F^*(x_{(i)})\\right|\n",
    "\\end{pmatrix}\n",
    "\\right\\}\n",
    "$$\n",
    "\n",
    "Note that $M=14$ and $\\hat F (x_{(0)}) = 0$\n",
    "\n",
    "If the true CDF of the data is not $F^*(x)$, then $D$ is large. Given a level of significance $\\alpha=0.05$, the null hypothesis that the data has CDF $F^*(x)$ is rejected if $D$ is greater than $\\frac{1.36}{\\sqrt{M}}$. "
   ]
  },
  {
   "cell_type": "markdown",
   "metadata": {},
   "source": [
    "We calculate the value of $D$ to be the largest deviation between $F_i$ and "
   ]
  },
  {
   "cell_type": "code",
   "execution_count": 17,
   "metadata": {
    "ExecuteTime": {
     "end_time": "2019-02-26T10:54:18.457043Z",
     "start_time": "2019-02-26T10:54:18.446484Z"
    }
   },
   "outputs": [
    {
     "name": "stdout",
     "output_type": "stream",
     "text": [
      "0.09245560874649605\n"
     ]
    }
   ],
   "source": [
    "pp_df['D'] = (pp_df['F_star_x'] - pp_df['F_hat_x']).abs()\n",
    "d = pp_df['D'].max()\n",
    "print(d)"
   ]
  },
  {
   "cell_type": "markdown",
   "metadata": {},
   "source": [
    "For $\\alpha=0.05$, the critical value is:"
   ]
  },
  {
   "cell_type": "code",
   "execution_count": 18,
   "metadata": {
    "ExecuteTime": {
     "end_time": "2019-02-26T10:54:18.486797Z",
     "start_time": "2019-02-26T10:54:18.461057Z"
    }
   },
   "outputs": [
    {
     "data": {
      "text/plain": [
       "0.06403989887132952"
      ]
     },
     "execution_count": 18,
     "metadata": {},
     "output_type": "execute_result"
    }
   ],
   "source": [
    "1.36/(empirical_groupby_df['cum_count'].max())**0.5"
   ]
  },
  {
   "cell_type": "markdown",
   "metadata": {},
   "source": [
    "And since calculated value of $D=0.0925$ is larger than the critical value, $c=0.0640$, the null hypothesis that the normal distribution is a good fit of the data is rejected in favour of the alternative. \n",
    "\n",
    "This is supported with the test statistic and p-value of the `kstest` result."
   ]
  },
  {
   "cell_type": "code",
   "execution_count": 19,
   "metadata": {
    "ExecuteTime": {
     "end_time": "2019-02-26T10:54:18.502568Z",
     "start_time": "2019-02-26T10:54:18.490771Z"
    }
   },
   "outputs": [
    {
     "name": "stdout",
     "output_type": "stream",
     "text": [
      "D      =0.0911\n",
      "p-value=0.0010\n"
     ]
    }
   ],
   "source": [
    "D_kstest, p_kstest = kstest(us_wines_df['points'], 'norm', args=[fitted_mu, fitted_sigma])\n",
    "print(\"D      =%0.4f\" % D_kstest)\n",
    "print(\"p-value=%0.4f\" % p_kstest)"
   ]
  },
  {
   "cell_type": "markdown",
   "metadata": {},
   "source": [
    "The p-value is less than $0.05$, which means the null is rejected in favour of the alternative. That means that the data is not close to the fitted.\n",
    "<hr>"
   ]
  },
  {
   "cell_type": "markdown",
   "metadata": {},
   "source": [
    "### References\n",
    "\n",
    "- Kaggle (https://www.kaggle.com/zynicide/wine-reviews) for dataset\n",
    "- Yiu (2009). Nonlife Actuarial Models: Theory, Methods and Evaluation, Chap. 13"
   ]
  }
 ],
 "metadata": {
  "kernelspec": {
   "display_name": "Python 3",
   "language": "python",
   "name": "python3"
  },
  "language_info": {
   "codemirror_mode": {
    "name": "ipython",
    "version": 3
   },
   "file_extension": ".py",
   "mimetype": "text/x-python",
   "name": "python",
   "nbconvert_exporter": "python",
   "pygments_lexer": "ipython3",
   "version": "3.6.5"
  }
 },
 "nbformat": 4,
 "nbformat_minor": 2
}
