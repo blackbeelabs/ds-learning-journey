{
 "cells": [
  {
   "cell_type": "markdown",
   "metadata": {
    "ExecuteTime": {
     "end_time": "2019-02-23T06:09:05.057040Z",
     "start_time": "2019-02-23T06:09:05.049250Z"
    }
   },
   "source": [
    "<center><h1>Movie Sentiment Reviews using Different Algorithms</h1></center>\n",
    "<center><h2>A Classification Exercise</h2></center>\n",
    "\n",
    "# Abstract\n",
    "Using tagged movie reviews, I attempted to conduct feature engineering and sentiment prediction of future reviews. The techniques used are different types of vectorizers and ML models."
   ]
  },
  {
   "cell_type": "code",
   "execution_count": 5,
   "metadata": {
    "ExecuteTime": {
     "end_time": "2019-02-23T06:11:28.146764Z",
     "start_time": "2019-02-23T06:11:27.850745Z"
    }
   },
   "outputs": [],
   "source": [
    "import re\n",
    "\n",
    "import pandas as pd\n",
    "import matplotlib.pyplot as plt\n",
    "import seaborn as sns\n",
    "\n",
    "from nltk.corpus import stopwords\n",
    "from nltk.stem import PorterStemmer\n",
    "\n",
    "from sklearn.feature_extraction.text import CountVectorizer\n",
    "from sklearn.feature_extraction.text import TfidfVectorizer\n",
    "from sklearn.naive_bayes import MultinomialNB\n",
    "\n",
    "from sklearn.metrics import confusion_matrix\n",
    "from sklearn.metrics import accuracy_score, precision_score, recall_score, f1_score\n",
    "from sklearn.model_selection import train_test_split\n",
    "\n",
    "from utils import string_utils"
   ]
  },
  {
   "cell_type": "code",
   "execution_count": 12,
   "metadata": {
    "ExecuteTime": {
     "end_time": "2019-02-23T06:12:16.858290Z",
     "start_time": "2019-02-23T06:12:16.611422Z"
    },
    "scrolled": false
   },
   "outputs": [
    {
     "name": "stdout",
     "output_type": "stream",
     "text": [
      "       id                                             review  sentiment\n",
      "0  5196_9  Human Tornado (1976) is in many ways a better ...          1\n",
      "1  2668_9  Chilling, majestic piece of cinematic fright, ...          1\n",
      "2  9565_3  I cant say that Wargames The Dead Code is the ...          0\n",
      "\n",
      "   sentiment     n\n",
      "0          0  2477\n",
      "1          1  2523\n"
     ]
    },
    {
     "data": {
      "image/png": "[encoded data removed]",
      "text/plain": [
       "<Figure size 432x288 with 1 Axes>"
      ]
     },
     "metadata": {},
     "output_type": "display_data"
    }
   ],
   "source": [
    "# Read from CSV file\n",
    "popcorn_df = pd.read_csv('popcorn-reviews-5k.csv', sep=\"#\") \n",
    "print(popcorn_df.head(3))\n",
    "print()\n",
    "sentiment_count = popcorn_df.groupby('sentiment').size().reset_index(name='n')\n",
    "print(sentiment_count)\n",
    "sentiment_count.plot(kind='bar', x='sentiment', y='n', title=\"No. of reviews with different sentiment\")\n",
    "plt.show()"
   ]
  },
  {
   "cell_type": "markdown",
   "metadata": {
    "ExecuteTime": {
     "end_time": "2019-02-23T06:12:03.258789Z",
     "start_time": "2019-02-23T06:12:03.072059Z"
    }
   },
   "source": [
    "The number of reviews in the positive class and negative class are about the same, so we son't face issues of imbalanced class problems."
   ]
  },
  {
   "cell_type": "markdown",
   "metadata": {},
   "source": [
    "## Baseline"
   ]
  },
  {
   "cell_type": "code",
   "execution_count": 3,
   "metadata": {
    "ExecuteTime": {
     "end_time": "2019-02-18T14:05:45.438719Z",
     "start_time": "2019-02-18T14:05:45.428466Z"
    }
   },
   "outputs": [],
   "source": [
    "# Feature Engineering \n",
    "X, y = popcorn_df['review'], popcorn_df['sentiment']\n",
    "# train_test_split\n",
    "X_train, X_test, y_train, y_test = train_test_split(X, y, test_size=0.20, random_state=0)"
   ]
  },
  {
   "cell_type": "code",
   "execution_count": 4,
   "metadata": {
    "ExecuteTime": {
     "end_time": "2019-02-18T14:05:46.156624Z",
     "start_time": "2019-02-18T14:05:45.441738Z"
    }
   },
   "outputs": [],
   "source": [
    "# Using fit_transform, transform the corpus to a matrix.\n",
    "count_vect = CountVectorizer()\n",
    "train_df_counts = count_vect.fit_transform(X_train)\n",
    "# Train a multinomial classifier using the training set using the features and the training set labels\n",
    "clf = MultinomialNB().fit(train_df_counts, y_train)"
   ]
  },
  {
   "cell_type": "code",
   "execution_count": 5,
   "metadata": {
    "ExecuteTime": {
     "end_time": "2019-02-18T14:05:46.322216Z",
     "start_time": "2019-02-18T14:05:46.159225Z"
    }
   },
   "outputs": [
    {
     "name": "stdout",
     "output_type": "stream",
     "text": [
      "[[419  82]\n",
      " [116 383]]\n",
      "0.802\n",
      "0.7675350701402806\n",
      "0.7946058091286308\n"
     ]
    }
   ],
   "source": [
    "# Predict for test set\n",
    "test_review_documents = count_vect.transform(X_test)\n",
    "y_predict = clf.predict(test_review_documents)\n",
    "cm = confusion_matrix(y_test, y_predict)\n",
    "print(confusion_matrix(y_test, y_predict))\n",
    "print(accuracy_score(y_test, y_predict))\n",
    "print(recall_score(y_test, y_predict))\n",
    "print(f1_score(y_test, y_predict))"
   ]
  },
  {
   "cell_type": "markdown",
   "metadata": {},
   "source": [
    "## TF-IDF Vectoriser"
   ]
  },
  {
   "cell_type": "code",
   "execution_count": 6,
   "metadata": {
    "ExecuteTime": {
     "end_time": "2019-02-18T14:05:46.965877Z",
     "start_time": "2019-02-18T14:05:46.325267Z"
    }
   },
   "outputs": [],
   "source": [
    "# Using fit_transform, transform the corpus to a matrix.\n",
    "tfidf_vect = TfidfVectorizer()\n",
    "train_df_counts = tfidf_vect.fit_transform(X_train)\n",
    "# Train a multinomial classifier using the training set using the features and the training set labels\n",
    "clf = MultinomialNB().fit(train_df_counts, y_train)"
   ]
  },
  {
   "cell_type": "code",
   "execution_count": 7,
   "metadata": {
    "ExecuteTime": {
     "end_time": "2019-02-18T14:05:47.118893Z",
     "start_time": "2019-02-18T14:05:46.968687Z"
    }
   },
   "outputs": [],
   "source": [
    "# Predict for test set\n",
    "test_review_documents = count_vect.transform(X_test)\n",
    "y_predict = clf.predict(test_review_documents)"
   ]
  },
  {
   "cell_type": "code",
   "execution_count": 8,
   "metadata": {
    "ExecuteTime": {
     "end_time": "2019-02-18T14:05:47.285269Z",
     "start_time": "2019-02-18T14:05:47.121814Z"
    }
   },
   "outputs": [
    {
     "name": "stdout",
     "output_type": "stream",
     "text": [
      "[[416  85]\n",
      " [124 375]]\n",
      "0.791\n",
      "0.751503006012024\n",
      "0.7820646506777893\n"
     ]
    }
   ],
   "source": [
    "# Train a multinomial classifier using the training set using the features and the training set labels\n",
    "clf = MultinomialNB().fit(train_df_counts, y_train)\n",
    "test_review_documents = count_vect.transform(X_test)\n",
    "y_predict = clf.predict(test_review_documents)\n",
    "print(confusion_matrix(y_test, y_predict))\n",
    "print(accuracy_score(y_test, y_predict))\n",
    "print(recall_score(y_test, y_predict))\n",
    "print(f1_score(y_test, y_predict))"
   ]
  },
  {
   "cell_type": "markdown",
   "metadata": {},
   "source": [
    "## Feature Engineering: Lemmatization"
   ]
  },
  {
   "cell_type": "code",
   "execution_count": 9,
   "metadata": {
    "ExecuteTime": {
     "end_time": "2019-02-18T14:12:23.529886Z",
     "start_time": "2019-02-18T14:05:47.289162Z"
    }
   },
   "outputs": [],
   "source": [
    "popcorn_df['review_cleaned'] = popcorn_df['review'].apply(string_utils.clean_document_workflow)"
   ]
  },
  {
   "cell_type": "markdown",
   "metadata": {},
   "source": [
    "## CountVectorizer after Lemmatization"
   ]
  },
  {
   "cell_type": "code",
   "execution_count": 10,
   "metadata": {
    "ExecuteTime": {
     "end_time": "2019-02-18T14:12:23.541015Z",
     "start_time": "2019-02-18T14:12:23.532936Z"
    }
   },
   "outputs": [],
   "source": [
    "# Feature Engineering \n",
    "X, y = popcorn_df['review_cleaned'], popcorn_df['sentiment']\n",
    "# train_test_split\n",
    "X_train, X_test, y_train, y_test = train_test_split(X, y, test_size=0.20, random_state=0)"
   ]
  },
  {
   "cell_type": "code",
   "execution_count": 11,
   "metadata": {
    "ExecuteTime": {
     "end_time": "2019-02-18T14:12:24.027741Z",
     "start_time": "2019-02-18T14:12:23.543733Z"
    }
   },
   "outputs": [],
   "source": [
    "# Using fit_transform, transform the corpus to a matrix.\n",
    "count_vect = CountVectorizer()\n",
    "train_df_counts = count_vect.fit_transform(X_train)\n",
    "# Train a multinomial classifier using the training set using the features and the training set labels\n",
    "clf = MultinomialNB().fit(train_df_counts, y_train)"
   ]
  },
  {
   "cell_type": "code",
   "execution_count": 12,
   "metadata": {
    "ExecuteTime": {
     "end_time": "2019-02-18T14:12:24.120559Z",
     "start_time": "2019-02-18T14:12:24.030389Z"
    }
   },
   "outputs": [
    {
     "name": "stdout",
     "output_type": "stream",
     "text": [
      "[[418  83]\n",
      " [114 385]]\n",
      "0.803\n",
      "0.7715430861723447\n",
      "0.796277145811789\n"
     ]
    }
   ],
   "source": [
    "# Predict for test set\n",
    "test_review_documents = count_vect.transform(X_test)\n",
    "y_predict = clf.predict(test_review_documents)\n",
    "cm = confusion_matrix(y_test, y_predict)\n",
    "print(confusion_matrix(y_test, y_predict))\n",
    "print(accuracy_score(y_test, y_predict))\n",
    "print(recall_score(y_test, y_predict))\n",
    "print(f1_score(y_test, y_predict))"
   ]
  },
  {
   "cell_type": "markdown",
   "metadata": {},
   "source": [
    "## TfidfVectorizer after Lemmatization"
   ]
  },
  {
   "cell_type": "code",
   "execution_count": 13,
   "metadata": {
    "ExecuteTime": {
     "end_time": "2019-02-18T14:12:24.524015Z",
     "start_time": "2019-02-18T14:12:24.123806Z"
    }
   },
   "outputs": [],
   "source": [
    "# Using fit_transform, transform the corpus to a matrix.\n",
    "tfidf_vect = TfidfVectorizer()\n",
    "train_df_counts = tfidf_vect.fit_transform(X_train)\n",
    "# Train a multinomial classifier using the training set using the features and the training set labels\n",
    "clf = MultinomialNB().fit(train_df_counts, y_train)"
   ]
  },
  {
   "cell_type": "code",
   "execution_count": 14,
   "metadata": {
    "ExecuteTime": {
     "end_time": "2019-02-18T14:12:24.611410Z",
     "start_time": "2019-02-18T14:12:24.526545Z"
    }
   },
   "outputs": [],
   "source": [
    "# Predict for test set\n",
    "test_review_documents = count_vect.transform(X_test)\n",
    "y_predict = clf.predict(test_review_documents)"
   ]
  },
  {
   "cell_type": "code",
   "execution_count": 15,
   "metadata": {
    "ExecuteTime": {
     "end_time": "2019-02-18T14:12:24.738105Z",
     "start_time": "2019-02-18T14:12:24.613751Z"
    },
    "scrolled": true
   },
   "outputs": [
    {
     "name": "stdout",
     "output_type": "stream",
     "text": [
      "[[414  87]\n",
      " [105 394]]\n",
      "0.808\n",
      "0.7895791583166333\n",
      "0.8040816326530613\n"
     ]
    }
   ],
   "source": [
    "# Train a multinomial classifier using the training set using the features and the training set labels\n",
    "clf = MultinomialNB().fit(train_df_counts, y_train)\n",
    "test_review_documents = count_vect.transform(X_test)\n",
    "y_predict = clf.predict(test_review_documents)\n",
    "print(confusion_matrix(y_test, y_predict))\n",
    "print(accuracy_score(y_test, y_predict))\n",
    "print(recall_score(y_test, y_predict))\n",
    "print(f1_score(y_test, y_predict))"
   ]
  },
  {
   "cell_type": "code",
   "execution_count": 16,
   "metadata": {
    "ExecuteTime": {
     "end_time": "2019-02-18T14:12:24.752624Z",
     "start_time": "2019-02-18T14:12:24.743782Z"
    }
   },
   "outputs": [],
   "source": [
    "import pickle"
   ]
  },
  {
   "cell_type": "code",
   "execution_count": 23,
   "metadata": {
    "ExecuteTime": {
     "end_time": "2019-02-18T15:13:55.770256Z",
     "start_time": "2019-02-18T15:13:55.631898Z"
    }
   },
   "outputs": [],
   "source": [
    "# save the vectorizer to disk\n",
    "vec_filename = 'popcorn_vocab.pkl'\n",
    "pickle.dump(tfidf_vect, open(vec_filename,\"wb\"))\n",
    "# save the model to disk\n",
    "model_filename = 'naive_bayes_model.pkl'\n",
    "pickle.dump(clf, open(model_filename, 'wb'))"
   ]
  },
  {
   "cell_type": "code",
   "execution_count": 22,
   "metadata": {
    "ExecuteTime": {
     "end_time": "2019-02-18T15:12:36.593244Z",
     "start_time": "2019-02-18T15:12:36.585691Z"
    }
   },
   "outputs": [
    {
     "name": "stdout",
     "output_type": "stream",
     "text": [
      "TfidfVectorizer(analyzer='word', binary=False, decode_error='strict',\n",
      "        dtype=<class 'numpy.int64'>, encoding='utf-8', input='content',\n",
      "        lowercase=True, max_df=1.0, max_features=None, min_df=1,\n",
      "        ngram_range=(1, 1), norm='l2', preprocessor=None, smooth_idf=True,\n",
      "        stop_words=None, strip_accents=None, sublinear_tf=False,\n",
      "        token_pattern='(?u)\\\\b\\\\w\\\\w+\\\\b', tokenizer=None, use_idf=True,\n",
      "        vocabulary=None)\n",
      "MultinomialNB(alpha=1.0, class_prior=None, fit_prior=True)\n"
     ]
    }
   ],
   "source": [
    "print(tfidf_vect)\n",
    "print(clf)"
   ]
  },
  {
   "cell_type": "code",
   "execution_count": 21,
   "metadata": {
    "ExecuteTime": {
     "end_time": "2019-02-18T15:12:22.289744Z",
     "start_time": "2019-02-18T15:12:22.274813Z"
    }
   },
   "outputs": [
    {
     "data": {
      "text/plain": [
       "1"
      ]
     },
     "execution_count": 21,
     "metadata": {},
     "output_type": "execute_result"
    }
   ],
   "source": [
    "s = 'This is a great film for McCartneys and Beatles fans!'\n",
    "result = clf.predict(count_vect.transform([string_utils.clean_document_workflow(s)]))\n",
    "result[0]"
   ]
  }
 ],
 "metadata": {
  "kernelspec": {
   "display_name": "Python 3",
   "language": "python",
   "name": "python3"
  },
  "language_info": {
   "codemirror_mode": {
    "name": "ipython",
    "version": 3
   },
   "file_extension": ".py",
   "mimetype": "text/x-python",
   "name": "python",
   "nbconvert_exporter": "python",
   "pygments_lexer": "ipython3",
   "version": "3.4.8"
  }
 },
 "nbformat": 4,
 "nbformat_minor": 2
}
